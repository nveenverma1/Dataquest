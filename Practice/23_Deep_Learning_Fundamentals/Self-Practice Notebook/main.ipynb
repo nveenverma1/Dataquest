{
 "cells": [
  {
   "cell_type": "markdown",
   "metadata": {},
   "source": [
    "# *Representing Neural Networks*\n",
    "\n",
    "### Generating Regression Data"
   ]
  },
  {
   "cell_type": "code",
   "execution_count": 1,
   "metadata": {},
   "outputs": [
    {
     "name": "stdout",
     "output_type": "stream",
     "text": [
      "0    -10.378660\n",
      "1     25.512450\n",
      "2     19.677056\n",
      "3    149.502054\n",
      "4   -121.652109\n",
      "dtype: float64\n"
     ]
    },
    {
     "data": {
      "text/html": [
       "<div>\n",
       "<style scoped>\n",
       "    .dataframe tbody tr th:only-of-type {\n",
       "        vertical-align: middle;\n",
       "    }\n",
       "\n",
       "    .dataframe tbody tr th {\n",
       "        vertical-align: top;\n",
       "    }\n",
       "\n",
       "    .dataframe thead th {\n",
       "        text-align: right;\n",
       "    }\n",
       "</style>\n",
       "<table border=\"1\" class=\"dataframe\">\n",
       "  <thead>\n",
       "    <tr style=\"text-align: right;\">\n",
       "      <th></th>\n",
       "      <th>0</th>\n",
       "      <th>1</th>\n",
       "      <th>2</th>\n",
       "    </tr>\n",
       "  </thead>\n",
       "  <tbody>\n",
       "    <tr>\n",
       "      <th>0</th>\n",
       "      <td>1.293226</td>\n",
       "      <td>-0.617362</td>\n",
       "      <td>-0.110447</td>\n",
       "    </tr>\n",
       "    <tr>\n",
       "      <th>1</th>\n",
       "      <td>-2.793085</td>\n",
       "      <td>0.366332</td>\n",
       "      <td>1.937529</td>\n",
       "    </tr>\n",
       "    <tr>\n",
       "      <th>2</th>\n",
       "      <td>0.801861</td>\n",
       "      <td>-0.186570</td>\n",
       "      <td>0.046567</td>\n",
       "    </tr>\n",
       "    <tr>\n",
       "      <th>3</th>\n",
       "      <td>0.129102</td>\n",
       "      <td>0.502741</td>\n",
       "      <td>1.616950</td>\n",
       "    </tr>\n",
       "    <tr>\n",
       "      <th>4</th>\n",
       "      <td>-0.691661</td>\n",
       "      <td>-0.687173</td>\n",
       "      <td>-0.396754</td>\n",
       "    </tr>\n",
       "  </tbody>\n",
       "</table>\n",
       "</div>"
      ],
      "text/plain": [
       "          0         1         2\n",
       "0  1.293226 -0.617362 -0.110447\n",
       "1 -2.793085  0.366332  1.937529\n",
       "2  0.801861 -0.186570  0.046567\n",
       "3  0.129102  0.502741  1.616950\n",
       "4 -0.691661 -0.687173 -0.396754"
      ]
     },
     "execution_count": 1,
     "metadata": {},
     "output_type": "execute_result"
    }
   ],
   "source": [
    "from sklearn.datasets import make_regression\n",
    "import pandas as pd\n",
    "\n",
    "data = make_regression(n_samples=100, n_features=3, random_state=1)\n",
    "\n",
    "features = pd.DataFrame(data[0])\n",
    "labels = pd.Series(data[1])\n",
    "\n",
    "print(labels.head())\n",
    "features.head()"
   ]
  },
  {
   "cell_type": "markdown",
   "metadata": {},
   "source": [
    "### Fitting a Linear Regression Neural Network"
   ]
  },
  {
   "cell_type": "code",
   "execution_count": 2,
   "metadata": {},
   "outputs": [
    {
     "name": "stdout",
     "output_type": "stream",
     "text": [
      "[30.03267023 65.28760995 36.95290861  4.00128016]\n"
     ]
    },
    {
     "name": "stderr",
     "output_type": "stream",
     "text": [
      "/home/naveen/anaconda3/lib/python3.6/site-packages/sklearn/linear_model/stochastic_gradient.py:166: FutureWarning: max_iter and tol parameters have been added in SGDRegressor in 0.19. If both are left unset, they default to max_iter=5 and tol=None. If tol is not None, max_iter defaults to max_iter=1000. From 0.21, default max_iter will be 1000, and default tol will be 1e-3.\n",
      "  FutureWarning)\n"
     ]
    },
    {
     "data": {
      "text/plain": [
       "array([ -1.54712587,  15.6317463 ,  17.62341073, 100.4522867 ,\n",
       "       -76.29619913])"
      ]
     },
     "execution_count": 2,
     "metadata": {},
     "output_type": "execute_result"
    }
   ],
   "source": [
    "from sklearn.linear_model import SGDRegressor\n",
    "import numpy as np\n",
    "\n",
    "features['bias'] = 1\n",
    "\n",
    "def train(X, y):    \n",
    "    lr = SGDRegressor()\n",
    "    lr.fit(X,y)\n",
    "    \n",
    "    return lr.coef_\n",
    "\n",
    "def feedforward(X, w):\n",
    "    return np.dot(X, w)\n",
    "\n",
    "train_weights = train(features, labels)\n",
    "linear_predictions = feedforward(features, train_weights)\n",
    "\n",
    "print(train_weights[:5])\n",
    "linear_predictions[:5]"
   ]
  },
  {
   "cell_type": "markdown",
   "metadata": {},
   "source": [
    "### Generate Classification Data"
   ]
  },
  {
   "cell_type": "code",
   "execution_count": 3,
   "metadata": {},
   "outputs": [
    {
     "name": "stdout",
     "output_type": "stream",
     "text": [
      "0    0\n",
      "1    1\n",
      "2    1\n",
      "3    0\n",
      "4    1\n",
      "dtype: int64\n"
     ]
    },
    {
     "data": {
      "text/html": [
       "<div>\n",
       "<style scoped>\n",
       "    .dataframe tbody tr th:only-of-type {\n",
       "        vertical-align: middle;\n",
       "    }\n",
       "\n",
       "    .dataframe tbody tr th {\n",
       "        vertical-align: top;\n",
       "    }\n",
       "\n",
       "    .dataframe thead th {\n",
       "        text-align: right;\n",
       "    }\n",
       "</style>\n",
       "<table border=\"1\" class=\"dataframe\">\n",
       "  <thead>\n",
       "    <tr style=\"text-align: right;\">\n",
       "      <th></th>\n",
       "      <th>0</th>\n",
       "      <th>1</th>\n",
       "      <th>2</th>\n",
       "      <th>3</th>\n",
       "    </tr>\n",
       "  </thead>\n",
       "  <tbody>\n",
       "    <tr>\n",
       "      <th>0</th>\n",
       "      <td>2.257082</td>\n",
       "      <td>3.174625</td>\n",
       "      <td>2.783862</td>\n",
       "      <td>-0.478191</td>\n",
       "    </tr>\n",
       "    <tr>\n",
       "      <th>1</th>\n",
       "      <td>1.350390</td>\n",
       "      <td>1.949810</td>\n",
       "      <td>1.760475</td>\n",
       "      <td>-0.403942</td>\n",
       "    </tr>\n",
       "    <tr>\n",
       "      <th>2</th>\n",
       "      <td>1.159745</td>\n",
       "      <td>1.119558</td>\n",
       "      <td>0.468043</td>\n",
       "      <td>0.949132</td>\n",
       "    </tr>\n",
       "    <tr>\n",
       "      <th>3</th>\n",
       "      <td>-1.360882</td>\n",
       "      <td>-1.425550</td>\n",
       "      <td>-0.759553</td>\n",
       "      <td>-0.852599</td>\n",
       "    </tr>\n",
       "    <tr>\n",
       "      <th>4</th>\n",
       "      <td>0.033744</td>\n",
       "      <td>-0.675969</td>\n",
       "      <td>-1.319113</td>\n",
       "      <td>1.682271</td>\n",
       "    </tr>\n",
       "  </tbody>\n",
       "</table>\n",
       "</div>"
      ],
      "text/plain": [
       "          0         1         2         3\n",
       "0  2.257082  3.174625  2.783862 -0.478191\n",
       "1  1.350390  1.949810  1.760475 -0.403942\n",
       "2  1.159745  1.119558  0.468043  0.949132\n",
       "3 -1.360882 -1.425550 -0.759553 -0.852599\n",
       "4  0.033744 -0.675969 -1.319113  1.682271"
      ]
     },
     "execution_count": 3,
     "metadata": {},
     "output_type": "execute_result"
    }
   ],
   "source": [
    "from sklearn.datasets import make_classification\n",
    "\n",
    "class_data = make_classification(n_samples=100, n_features=4, random_state=1)\n",
    "\n",
    "class_features = pd.DataFrame(class_data[0])\n",
    "class_labels = pd.Series(class_data[1])\n",
    "\n",
    "print(class_labels.head())\n",
    "class_features.head()"
   ]
  },
  {
   "cell_type": "markdown",
   "metadata": {},
   "source": [
    "### Implementing A Neural Network That Performs Classification"
   ]
  },
  {
   "cell_type": "code",
   "execution_count": 4,
   "metadata": {},
   "outputs": [
    {
     "data": {
      "text/html": [
       "<div>\n",
       "<style scoped>\n",
       "    .dataframe tbody tr th:only-of-type {\n",
       "        vertical-align: middle;\n",
       "    }\n",
       "\n",
       "    .dataframe tbody tr th {\n",
       "        vertical-align: top;\n",
       "    }\n",
       "\n",
       "    .dataframe thead th {\n",
       "        text-align: right;\n",
       "    }\n",
       "</style>\n",
       "<table border=\"1\" class=\"dataframe\">\n",
       "  <thead>\n",
       "    <tr style=\"text-align: right;\">\n",
       "      <th></th>\n",
       "      <th>0</th>\n",
       "      <th>1</th>\n",
       "      <th>2</th>\n",
       "      <th>3</th>\n",
       "    </tr>\n",
       "  </thead>\n",
       "  <tbody>\n",
       "    <tr>\n",
       "      <th>0</th>\n",
       "      <td>2.257082</td>\n",
       "      <td>3.174625</td>\n",
       "      <td>2.783862</td>\n",
       "      <td>-0.478191</td>\n",
       "    </tr>\n",
       "    <tr>\n",
       "      <th>1</th>\n",
       "      <td>1.350390</td>\n",
       "      <td>1.949810</td>\n",
       "      <td>1.760475</td>\n",
       "      <td>-0.403942</td>\n",
       "    </tr>\n",
       "    <tr>\n",
       "      <th>2</th>\n",
       "      <td>1.159745</td>\n",
       "      <td>1.119558</td>\n",
       "      <td>0.468043</td>\n",
       "      <td>0.949132</td>\n",
       "    </tr>\n",
       "    <tr>\n",
       "      <th>3</th>\n",
       "      <td>-1.360882</td>\n",
       "      <td>-1.425550</td>\n",
       "      <td>-0.759553</td>\n",
       "      <td>-0.852599</td>\n",
       "    </tr>\n",
       "    <tr>\n",
       "      <th>4</th>\n",
       "      <td>0.033744</td>\n",
       "      <td>-0.675969</td>\n",
       "      <td>-1.319113</td>\n",
       "      <td>1.682271</td>\n",
       "    </tr>\n",
       "  </tbody>\n",
       "</table>\n",
       "</div>"
      ],
      "text/plain": [
       "          0         1         2         3\n",
       "0  2.257082  3.174625  2.783862 -0.478191\n",
       "1  1.350390  1.949810  1.760475 -0.403942\n",
       "2  1.159745  1.119558  0.468043  0.949132\n",
       "3 -1.360882 -1.425550 -0.759553 -0.852599\n",
       "4  0.033744 -0.675969 -1.319113  1.682271"
      ]
     },
     "execution_count": 4,
     "metadata": {},
     "output_type": "execute_result"
    }
   ],
   "source": [
    "class_features.head()"
   ]
  },
  {
   "cell_type": "code",
   "execution_count": 5,
   "metadata": {},
   "outputs": [
    {
     "name": "stdout",
     "output_type": "stream",
     "text": [
      "(1, 5)\n"
     ]
    },
    {
     "name": "stderr",
     "output_type": "stream",
     "text": [
      "/home/naveen/anaconda3/lib/python3.6/site-packages/sklearn/linear_model/stochastic_gradient.py:166: FutureWarning: max_iter and tol parameters have been added in SGDClassifier in 0.19. If both are left unset, they default to max_iter=5 and tol=None. If tol is not None, max_iter defaults to max_iter=1000. From 0.21, default max_iter will be 1000, and default tol will be 1e-3.\n",
      "  FutureWarning)\n"
     ]
    },
    {
     "data": {
      "text/plain": [
       "array([[0.],\n",
       "       [0.],\n",
       "       [1.],\n",
       "       [0.],\n",
       "       [1.]])"
      ]
     },
     "execution_count": 5,
     "metadata": {},
     "output_type": "execute_result"
    }
   ],
   "source": [
    "from sklearn.linear_model import SGDClassifier\n",
    "\n",
    "class_features['bias'] = 1\n",
    "\n",
    "def log_train(X, y):\n",
    "    clf = SGDClassifier()\n",
    "    clf.fit(X, y)\n",
    "    \n",
    "    return clf.coef_\n",
    "\n",
    "def sigmoid(z):\n",
    "    return 1/(1 + np.exp(-z))\n",
    "\n",
    "def log_feedforward(X, w):\n",
    "    linear_combination = np.dot(X, w.T)\n",
    "    log_predictions = sigmoid(linear_combination)\n",
    "    \n",
    "    log_predictions[log_predictions <= 0.5] = 0\n",
    "    log_predictions[log_predictions > 0.5] = 1\n",
    "    \n",
    "    return log_predictions\n",
    "\n",
    "# Uncomment this code when you're ready to test your functions.\n",
    "log_train_weights = log_train(class_features, class_labels)\n",
    "log_predictions = log_feedforward(class_features, log_train_weights)\n",
    "\n",
    "log_predictions\n",
    "\n",
    "print(log_train_weights.shape)\n",
    "log_predictions[:5]"
   ]
  },
  {
   "cell_type": "markdown",
   "metadata": {},
   "source": [
    "# *Representing Neural Networks*\n",
    "### ReLu Activation Function"
   ]
  },
  {
   "cell_type": "code",
   "execution_count": 6,
   "metadata": {},
   "outputs": [
    {
     "data": {
      "image/png": "[encoded data removed]",
      "text/plain": [
       "<Figure size 432x288 with 1 Axes>"
      ]
     },
     "metadata": {
      "needs_background": "light"
     },
     "output_type": "display_data"
    }
   ],
   "source": [
    "import matplotlib.pyplot as plt\n",
    "%matplotlib inline\n",
    "\n",
    "import numpy as np\n",
    "x = np.linspace(-2, 2, 20)\n",
    "\n",
    "def relu(x):\n",
    "    return np.maximum(x, 0)\n",
    "        \n",
    "relu_y = relu(x)\n",
    "plt.plot(x, relu_y)\n",
    "plt.show()"
   ]
  },
  {
   "cell_type": "markdown",
   "metadata": {},
   "source": [
    "### Trignometric Functions"
   ]
  },
  {
   "cell_type": "code",
   "execution_count": 7,
   "metadata": {},
   "outputs": [
    {
     "name": "stdout",
     "output_type": "stream",
     "text": [
      "[-6.28318531 -6.15625227 -6.02931923 -5.9023862  -5.77545316 -5.64852012\n",
      " -5.52158709 -5.39465405 -5.26772102 -5.14078798 -5.01385494 -4.88692191\n",
      " -4.75998887 -4.63305583 -4.5061228  -4.37918976 -4.25225672 -4.12532369\n",
      " -3.99839065 -3.87145761 -3.74452458 -3.61759154 -3.4906585  -3.36372547\n",
      " -3.23679243 -3.10985939 -2.98292636 -2.85599332 -2.72906028 -2.60212725\n",
      " -2.47519421 -2.34826118 -2.22132814 -2.0943951  -1.96746207 -1.84052903\n",
      " -1.71359599 -1.58666296 -1.45972992 -1.33279688 -1.20586385 -1.07893081\n",
      " -0.95199777 -0.82506474 -0.6981317  -0.57119866 -0.44426563 -0.31733259\n",
      " -0.19039955 -0.06346652  0.06346652  0.19039955  0.31733259  0.44426563\n",
      "  0.57119866  0.6981317   0.82506474  0.95199777  1.07893081  1.20586385\n",
      "  1.33279688  1.45972992  1.58666296  1.71359599  1.84052903  1.96746207\n",
      "  2.0943951   2.22132814  2.34826118  2.47519421  2.60212725  2.72906028\n",
      "  2.85599332  2.98292636  3.10985939  3.23679243  3.36372547  3.4906585\n",
      "  3.61759154  3.74452458  3.87145761  3.99839065  4.12532369  4.25225672\n",
      "  4.37918976  4.5061228   4.63305583  4.75998887  4.88692191  5.01385494\n",
      "  5.14078798  5.26772102  5.39465405  5.52158709  5.64852012  5.77545316\n",
      "  5.9023862   6.02931923  6.15625227  6.28318531]\n",
      "[ 2.44929360e-16  1.27619174e-01  2.59464150e-01  4.00339609e-01\n",
      "  5.56385058e-01  7.36284401e-01  9.53498074e-01  1.23089871e+00\n",
      "  1.61169269e+00  2.18969456e+00  3.21602127e+00  5.67128182e+00\n",
      "  2.09925835e+01 -1.25786160e+01 -4.77915322e+00 -2.88931025e+00\n",
      " -2.01770128e+00 -1.50305055e+00 -1.15406152e+00 -8.94674368e-01\n",
      " -6.88449662e-01 -5.15535831e-01 -3.63970234e-01 -2.25859960e-01\n",
      " -9.54884223e-02  3.17439152e-02  1.60011316e-01  2.93626493e-01\n",
      "  4.37645272e-01  5.98703173e-01  7.86408692e-01  1.01599385e+00\n",
      "  1.31398466e+00  1.73205081e+00  2.38738432e+00  3.61702392e+00\n",
      "  6.95515277e+00  6.30200685e+01 -8.96656988e+00 -4.12205614e+00\n",
      " -2.61749489e+00 -1.86641404e+00 -1.40430351e+00 -1.08265515e+00\n",
      " -8.39099631e-01 -6.42660977e-01 -4.76002082e-01 -3.28431672e-01\n",
      " -1.92734202e-01 -6.35518701e-02  6.35518701e-02  1.92734202e-01\n",
      "  3.28431672e-01  4.76002082e-01  6.42660977e-01  8.39099631e-01\n",
      "  1.08265515e+00  1.40430351e+00  1.86641404e+00  2.61749489e+00\n",
      "  4.12205614e+00  8.96656988e+00 -6.30200685e+01 -6.95515277e+00\n",
      " -3.61702392e+00 -2.38738432e+00 -1.73205081e+00 -1.31398466e+00\n",
      " -1.01599385e+00 -7.86408692e-01 -5.98703173e-01 -4.37645272e-01\n",
      " -2.93626493e-01 -1.60011316e-01 -3.17439152e-02  9.54884223e-02\n",
      "  2.25859960e-01  3.63970234e-01  5.15535831e-01  6.88449662e-01\n",
      "  8.94674368e-01  1.15406152e+00  1.50305055e+00  2.01770128e+00\n",
      "  2.88931025e+00  4.77915322e+00  1.25786160e+01 -2.09925835e+01\n",
      " -5.67128182e+00 -3.21602127e+00 -2.18969456e+00 -1.61169269e+00\n",
      " -1.23089871e+00 -9.53498074e-01 -7.36284401e-01 -5.56385058e-01\n",
      " -4.00339609e-01 -2.59464150e-01 -1.27619174e-01 -2.44929360e-16]\n"
     ]
    },
    {
     "data": {
      "image/png": "[encoded data removed]",
      "text/plain": [
       "<Figure size 432x288 with 1 Axes>"
      ]
     },
     "metadata": {
      "needs_background": "light"
     },
     "output_type": "display_data"
    }
   ],
   "source": [
    "x = np.linspace(-2*np.pi, 2*np.pi, 100)\n",
    "\n",
    "tan_y = np.tan(x)\n",
    "\n",
    "print(x)\n",
    "print(tan_y)\n",
    "\n",
    "plt.plot(x, tan_y)\n",
    "plt.show()"
   ]
  },
  {
   "cell_type": "markdown",
   "metadata": {},
   "source": [
    "### Hyperbolic Tangent Function"
   ]
  },
  {
   "cell_type": "code",
   "execution_count": 8,
   "metadata": {},
   "outputs": [
    {
     "name": "stdout",
     "output_type": "stream",
     "text": [
      "[-40.         -39.19191919 -38.38383838 -37.57575758 -36.76767677\n",
      " -35.95959596 -35.15151515 -34.34343434 -33.53535354 -32.72727273\n",
      " -31.91919192 -31.11111111 -30.3030303  -29.49494949 -28.68686869\n",
      " -27.87878788 -27.07070707 -26.26262626 -25.45454545 -24.64646465\n",
      " -23.83838384 -23.03030303 -22.22222222 -21.41414141 -20.60606061\n",
      " -19.7979798  -18.98989899 -18.18181818 -17.37373737 -16.56565657\n",
      " -15.75757576 -14.94949495 -14.14141414 -13.33333333 -12.52525253\n",
      " -11.71717172 -10.90909091 -10.1010101   -9.29292929  -8.48484848\n",
      "  -7.67676768  -6.86868687  -6.06060606  -5.25252525  -4.44444444\n",
      "  -3.63636364  -2.82828283  -2.02020202  -1.21212121  -0.4040404\n",
      "   0.4040404    1.21212121   2.02020202   2.82828283   3.63636364\n",
      "   4.44444444   5.25252525   6.06060606   6.86868687   7.67676768\n",
      "   8.48484848   9.29292929  10.1010101   10.90909091  11.71717172\n",
      "  12.52525253  13.33333333  14.14141414  14.94949495  15.75757576\n",
      "  16.56565657  17.37373737  18.18181818  18.98989899  19.7979798\n",
      "  20.60606061  21.41414141  22.22222222  23.03030303  23.83838384\n",
      "  24.64646465  25.45454545  26.26262626  27.07070707  27.87878788\n",
      "  28.68686869  29.49494949  30.3030303   31.11111111  31.91919192\n",
      "  32.72727273  33.53535354  34.34343434  35.15151515  35.95959596\n",
      "  36.76767677  37.57575758  38.38383838  39.19191919  40.        ]\n",
      "[-1.         -1.         -1.         -1.         -1.         -1.\n",
      " -1.         -1.         -1.         -1.         -1.         -1.\n",
      " -1.         -1.         -1.         -1.         -1.         -1.\n",
      " -1.         -1.         -1.         -1.         -1.         -1.\n",
      " -1.         -1.         -1.         -1.         -1.         -1.\n",
      " -1.         -1.         -1.         -1.         -1.         -1.\n",
      " -1.         -1.         -0.99999998 -0.99999991 -0.99999957 -0.99999784\n",
      " -0.99998911 -0.99994521 -0.99972421 -0.99861253 -0.99303534 -0.96542742\n",
      " -0.83731466 -0.38340077  0.38340077  0.83731466  0.96542742  0.99303534\n",
      "  0.99861253  0.99972421  0.99994521  0.99998911  0.99999784  0.99999957\n",
      "  0.99999991  0.99999998  1.          1.          1.          1.\n",
      "  1.          1.          1.          1.          1.          1.\n",
      "  1.          1.          1.          1.          1.          1.\n",
      "  1.          1.          1.          1.          1.          1.\n",
      "  1.          1.          1.          1.          1.          1.\n",
      "  1.          1.          1.          1.          1.          1.\n",
      "  1.          1.          1.          1.        ]\n"
     ]
    },
    {
     "data": {
      "image/png": "[encoded data removed]",
      "text/plain": [
       "<Figure size 432x288 with 1 Axes>"
      ]
     },
     "metadata": {
      "needs_background": "light"
     },
     "output_type": "display_data"
    }
   ],
   "source": [
    "x = np.linspace(-40, 40, 100)\n",
    "\n",
    "def tanh_y(x):\n",
    "    return np.tanh(x)\n",
    "\n",
    "tanh_y = tanh_y(x)\n",
    "print(x)\n",
    "print(tanh_y)\n",
    "\n",
    "plt.plot(x, tanh_y)\n",
    "plt.show()"
   ]
  },
  {
   "cell_type": "markdown",
   "metadata": {},
   "source": [
    "# *Hidden Layers*\n",
    "\n",
    "### Generating Data that contains Nonlinearity"
   ]
  },
  {
   "cell_type": "code",
   "execution_count": 10,
   "metadata": {},
   "outputs": [
    {
     "data": {
      "image/png": "[encoded data removed]",
      "text/plain": [
       "<Figure size 576x576 with 1 Axes>"
      ]
     },
     "metadata": {
      "needs_background": "light"
     },
     "output_type": "display_data"
    }
   ],
   "source": [
    "from mpl_toolkits.mplot3d import Axes3D\n",
    "from sklearn.datasets import make_moons\n",
    "\n",
    "data = make_moons(random_state=3, noise=0.04)\n",
    "features = pd.DataFrame(data[0])\n",
    "labels = pd.Series(data[1])\n",
    "\n",
    "fig = plt.figure(figsize=(8, 8))\n",
    "ax = fig.add_subplot(111, projection='3d')\n",
    "ax.scatter(features[0], features[1], labels)\n",
    "ax.set_xlabel('x1')\n",
    "ax.set_ylabel('x2')\n",
    "ax.set_zlabel('y')\n",
    "plt.show()"
   ]
  },
  {
   "cell_type": "markdown",
   "metadata": {},
   "source": [
    "### Training a Neural Network using Scikit-Learn"
   ]
  },
  {
   "cell_type": "code",
   "execution_count": 14,
   "metadata": {},
   "outputs": [
    {
     "name": "stdout",
     "output_type": "stream",
     "text": [
      "0.88 0.48\n"
     ]
    }
   ],
   "source": [
    "from sklearn.neural_network import MLPClassifier\n",
    "from sklearn.linear_model import LogisticRegression\n",
    "from sklearn.metrics import accuracy_score\n",
    "np.random.seed(8)\n",
    "\n",
    "features['bias'] = 1\n",
    "\n",
    "shuffled_index = np.random.permutation(features.index)\n",
    "shuffled_data = features.loc[shuffled_index]\n",
    "shuffled_labels = labels.loc[shuffled_index]\n",
    "mid_length = int(len(shuffled_data)/2)\n",
    "train_features = shuffled_data.iloc[0:mid_length]\n",
    "test_features = shuffled_data.iloc[mid_length:len(shuffled_data)]\n",
    "train_labels = shuffled_labels.iloc[0:mid_length]\n",
    "test_labels = shuffled_labels.iloc[mid_length: len(labels)]\n",
    "\n",
    "## Logistic Regression\n",
    "lr = LogisticRegression(solver='lbfgs')\n",
    "lr.fit(train_features, train_labels)\n",
    "log_predictions = lr.predict(test_features)\n",
    "log_accuracy = accuracy_score(test_labels, log_predictions)\n",
    "\n",
    "## Neural Network\n",
    "nn = MLPClassifier(hidden_layer_sizes=(1,), activation='logistic')\n",
    "nn.fit(train_features, train_labels)\n",
    "nn_predictions = nn.predict(test_features)\n",
    "nn_accuracy = accuracy_score(test_labels, nn_predictions)\n",
    "\n",
    "print(log_accuracy, nn_accuracy)"
   ]
  },
  {
   "cell_type": "markdown",
   "metadata": {},
   "source": [
    "### Hidden Layer with Multiple Neurons"
   ]
  },
  {
   "cell_type": "code",
   "execution_count": 20,
   "metadata": {},
   "outputs": [
    {
     "name": "stderr",
     "output_type": "stream",
     "text": [
      "/home/naveen/anaconda3/lib/python3.6/site-packages/sklearn/neural_network/multilayer_perceptron.py:562: ConvergenceWarning: Stochastic Optimizer: Maximum iterations (200) reached and the optimization hasn't converged yet.\n",
      "  % self.max_iter, ConvergenceWarning)\n",
      "/home/naveen/anaconda3/lib/python3.6/site-packages/sklearn/neural_network/multilayer_perceptron.py:562: ConvergenceWarning: Stochastic Optimizer: Maximum iterations (200) reached and the optimization hasn't converged yet.\n",
      "  % self.max_iter, ConvergenceWarning)\n",
      "/home/naveen/anaconda3/lib/python3.6/site-packages/sklearn/neural_network/multilayer_perceptron.py:562: ConvergenceWarning: Stochastic Optimizer: Maximum iterations (200) reached and the optimization hasn't converged yet.\n",
      "  % self.max_iter, ConvergenceWarning)\n"
     ]
    },
    {
     "name": "stdout",
     "output_type": "stream",
     "text": [
      "[0.48, 0.72, 0.84, 0.86, 0.8, 0.86]\n"
     ]
    },
    {
     "name": "stderr",
     "output_type": "stream",
     "text": [
      "/home/naveen/anaconda3/lib/python3.6/site-packages/sklearn/neural_network/multilayer_perceptron.py:562: ConvergenceWarning: Stochastic Optimizer: Maximum iterations (200) reached and the optimization hasn't converged yet.\n",
      "  % self.max_iter, ConvergenceWarning)\n",
      "/home/naveen/anaconda3/lib/python3.6/site-packages/sklearn/neural_network/multilayer_perceptron.py:562: ConvergenceWarning: Stochastic Optimizer: Maximum iterations (200) reached and the optimization hasn't converged yet.\n",
      "  % self.max_iter, ConvergenceWarning)\n",
      "/home/naveen/anaconda3/lib/python3.6/site-packages/sklearn/neural_network/multilayer_perceptron.py:562: ConvergenceWarning: Stochastic Optimizer: Maximum iterations (200) reached and the optimization hasn't converged yet.\n",
      "  % self.max_iter, ConvergenceWarning)\n"
     ]
    }
   ],
   "source": [
    "neurons = [1, 5, 10, 15, 20, 25]\n",
    "accuracies = []\n",
    "\n",
    "for item in neurons:\n",
    "    nn = MLPClassifier(hidden_layer_sizes=(item,), activation='logistic')\n",
    "    nn.fit(train_features, train_labels)\n",
    "    nn_predictions = nn.predict(test_features)\n",
    "    nn_accuracy = accuracy_score(test_labels, nn_predictions)\n",
    "    accuracies.append(nn_accuracy)\n",
    "    \n",
    "print(accuracies)"
   ]
  },
  {
   "cell_type": "markdown",
   "metadata": {},
   "source": [
    "### Multiple Hidden Layers"
   ]
  },
  {
   "cell_type": "code",
   "execution_count": 24,
   "metadata": {},
   "outputs": [
    {
     "name": "stderr",
     "output_type": "stream",
     "text": [
      "/home/naveen/anaconda3/lib/python3.6/site-packages/sklearn/neural_network/multilayer_perceptron.py:562: ConvergenceWarning: Stochastic Optimizer: Maximum iterations (1000) reached and the optimization hasn't converged yet.\n",
      "  % self.max_iter, ConvergenceWarning)\n"
     ]
    },
    {
     "name": "stdout",
     "output_type": "stream",
     "text": [
      "[0.52, 0.88, 1.0, 1.0, 1.0, 1.0]\n"
     ]
    }
   ],
   "source": [
    "neurons = [1, 5, 10, 15, 20, 25]\n",
    "nn_accuracies = []\n",
    "\n",
    "for item in neurons:\n",
    "    nn = MLPClassifier(hidden_layer_sizes=(item,item),\n",
    "                       activation='relu', max_iter = 1000)\n",
    "    nn.fit(train_features, train_labels)\n",
    "    nn_predictions = nn.predict(test_features)\n",
    "    nn_accuracy = accuracy_score(test_labels, nn_predictions)\n",
    "    nn_accuracies.append(nn_accuracy)\n",
    "    \n",
    "print(nn_accuracies)"
   ]
  },
  {
   "cell_type": "markdown",
   "metadata": {},
   "source": []
  }
 ],
 "metadata": {
  "kernelspec": {
   "display_name": "Python 3",
   "language": "python",
   "name": "python3"
  },
  "language_info": {
   "codemirror_mode": {
    "name": "ipython",
    "version": 3
   },
   "file_extension": ".py",
   "mimetype": "text/x-python",
   "name": "python",
   "nbconvert_exporter": "python",
   "pygments_lexer": "ipython3",
   "version": "3.6.8"
  }
 },
 "nbformat": 4,
 "nbformat_minor": 2
}
