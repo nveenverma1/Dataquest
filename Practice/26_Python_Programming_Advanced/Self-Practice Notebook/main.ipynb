{
 "cells": [
  {
   "cell_type": "markdown",
   "metadata": {},
   "source": [
    "# *Object Oriented Programming*\n",
    "### Defining Custom Classes"
   ]
  },
  {
   "cell_type": "code",
   "execution_count": 11,
   "metadata": {},
   "outputs": [
    {
     "name": "stdout",
     "output_type": "stream",
     "text": [
      "['player', 'pos', 'age', 'team']\n"
     ]
    },
    {
     "data": {
      "text/plain": [
       "'San Antonio Spurs'"
      ]
     },
     "execution_count": 11,
     "metadata": {},
     "output_type": "execute_result"
    }
   ],
   "source": [
    "from csv import reader\n",
    "nba = list(reader(open('nba_players_2013.csv', 'r')))\n",
    "header = nba[0][:4]\n",
    "nba = nba[1:]\n",
    "\n",
    "print(header)\n",
    "\n",
    "class Player():\n",
    "    # The special __init__ function runs whenever a class is instantiated\n",
    "    # The init function can take arguments, but self is always the first one\n",
    "    # Self is just a reference to the instance of the class\n",
    "    # It is automatically passed in when you instantiate an instance of the class\n",
    "    def __init__(self, data_row):\n",
    "        self.player_name = data_row[0]\n",
    "        self.position = data_row[1]\n",
    "        self.age = data_row[2]\n",
    "        self.team = data_row[3]\n",
    "\n",
    "# Initialize a player using the first row of our data set\n",
    "first_player = Player(nba[0])\n",
    "\n",
    "# Implement the Team class\n",
    "class Team():\n",
    "\n",
    "    def __init__(self, team_name):\n",
    "        self.team_name = team_name\n",
    "        \n",
    "spurs = Team('San Antonio Spurs')\n",
    "spurs.team_name"
   ]
  },
  {
   "cell_type": "markdown",
   "metadata": {},
   "source": [
    "### More Interesting Instance Properties"
   ]
  },
  {
   "cell_type": "code",
   "execution_count": 18,
   "metadata": {},
   "outputs": [],
   "source": [
    "class Player():\n",
    "    # The special __init__ function runs whenever a class is instantiated\n",
    "    # The init function can take arguments, but self is always the first one\n",
    "    # Self is just a reference to the instance of the class\n",
    "    # It is automatically passed in when you instantiate an instance of the class\n",
    "    def __init__(self, data_row):\n",
    "        self.player_name = data_row[0]\n",
    "        self.position = data_row[1]\n",
    "        self.age = int(data_row[2])\n",
    "        self.team = data_row[3]\n",
    "\n",
    "# Initialize a player using the first row of our data set\n",
    "first_player = Player(nba[0])\n",
    "\n",
    "class Team():\n",
    "    def __init__(self, team_name):\n",
    "        self.team_name = team_name\n",
    "        # Team roster initially empty\n",
    "        self.roster = []\n",
    "        # Find the players for the roster in the data set\n",
    "        for item in nba:\n",
    "            if team_name == item[3]:\n",
    "                self.roster.append(Player(item))\n",
    "            \n",
    "spurs = Team('San Antonio Spurs')"
   ]
  },
  {
   "cell_type": "code",
   "execution_count": 29,
   "metadata": {},
   "outputs": [
    {
     "data": {
      "text/plain": [
       "('Jeff Ayres', 26, 'PF', 'San Antonio Spurs')"
      ]
     },
     "execution_count": 29,
     "metadata": {},
     "output_type": "execute_result"
    }
   ],
   "source": [
    "spurs.roster[0].player_name, spurs.roster[0].age, spurs.roster[0].position, spurs.roster[0].team"
   ]
  },
  {
   "cell_type": "markdown",
   "metadata": {},
   "source": [
    "### Instance Methods"
   ]
  },
  {
   "cell_type": "code",
   "execution_count": 30,
   "metadata": {},
   "outputs": [
    {
     "name": "stdout",
     "output_type": "stream",
     "text": [
      "14\n",
      "28.428571428571427\n"
     ]
    }
   ],
   "source": [
    "class Player():\n",
    "    # The special __init__ function runs whenever a class is instantiated\n",
    "    # The init function can take arguments, but self is always the first one\n",
    "    # Self is just a reference to the instance of the class\n",
    "    # It is automatically passed in when you instantiate an instance of the class\n",
    "    def __init__(self, data_row):\n",
    "        self.player_name = data_row[0]\n",
    "        self.position = data_row[1]\n",
    "        self.age = int(data_row[2])\n",
    "        self.team = data_row[3]\n",
    "\n",
    "# Initialize a player using the first row of our data set\n",
    "first_player = Player(nba[0])\n",
    "\n",
    "class Team():\n",
    "    def __init__(self, team_name):\n",
    "        self.team_name = team_name\n",
    "        # Team roster initially empty\n",
    "        self.roster = []\n",
    "        # Find the players for the roster in the data set\n",
    "        for item in nba:\n",
    "            if self.team_name == item[3]:\n",
    "                self.roster.append(Player(item))\n",
    "                \n",
    "    def num_players(self):\n",
    "        count = 0\n",
    "        for player in self.roster:\n",
    "            count += 1\n",
    "        return count\n",
    "    \n",
    "    # Implement the average_age() instance method\n",
    "    def average_age(self):\n",
    "        total_age = 0\n",
    "        count = 0\n",
    "        for player in self.roster:\n",
    "            total_age += player.age\n",
    "            count += 1\n",
    "        return total_age/count\n",
    "            \n",
    "spurs = Team('San Antonio Spurs')\n",
    "spurs_num_players = spurs.num_players()\n",
    "print(spurs_num_players)\n",
    "\n",
    "spurs_avg_age = spurs.average_age()\n",
    "print(spurs_avg_age)"
   ]
  },
  {
   "cell_type": "markdown",
   "metadata": {},
   "source": [
    "### Class Methods"
   ]
  },
  {
   "cell_type": "code",
   "execution_count": 33,
   "metadata": {},
   "outputs": [
    {
     "data": {
      "text/plain": [
       "'Miami Heat'"
      ]
     },
     "execution_count": 33,
     "metadata": {},
     "output_type": "execute_result"
    }
   ],
   "source": [
    "import math\n",
    "\n",
    "class Player():\n",
    "    # The special __init__ function runs whenever a class is instantiated\n",
    "    # The init function can take arguments, but self is always the first one\n",
    "    # Self is just a reference to the instance of the class\n",
    "    # It's automatically passed in when you instantiate an instance of the class\n",
    "    def __init__(self, data_row):\n",
    "        self.player_name = data_row[0]\n",
    "        self.position = data_row[1]\n",
    "        self.age = int(data_row[2])\n",
    "        self.team = data_row[3]\n",
    "\n",
    "class Team():\n",
    "    def __init__(self, team_name):\n",
    "        self.team_name = team_name\n",
    "        self.roster = []\n",
    "        for row in nba:\n",
    "            if row[3] == self.team_name:\n",
    "                self.roster.append(Player(row))\n",
    "    \n",
    "    def num_players(self):\n",
    "        count = 0\n",
    "        for player in self.roster:\n",
    "            count += 1\n",
    "        return count\n",
    "   \n",
    "    def average_age(self):\n",
    "        return math.fsum([player.age for player in self.roster]) / self.num_players()\n",
    "    \n",
    "    @classmethod\n",
    "    def older_team(self, team1, team2):\n",
    "        if team1.average_age() > team2.average_age():\n",
    "            return team1\n",
    "        else:\n",
    "            return team2\n",
    "    \n",
    "old_team = Team.older_team(Team(\"New York Knicks\"), Team('Miami Heat'))\n",
    "old_team.team_name"
   ]
  },
  {
   "cell_type": "markdown",
   "metadata": {},
   "source": [
    "### Overloading Inherited Behavior"
   ]
  },
  {
   "cell_type": "code",
   "execution_count": 35,
   "metadata": {},
   "outputs": [
    {
     "data": {
      "text/plain": [
       "True"
      ]
     },
     "execution_count": 35,
     "metadata": {},
     "output_type": "execute_result"
    }
   ],
   "source": [
    "class Player(object):\n",
    "    # The special __init__ function runs whenever a class is instantiated\n",
    "    # The init function can take arguments, but self is always the first one\n",
    "    # Self is just a reference to the instance of the class\n",
    "    # It is automatically passed in when you instantiate an instance of the class\n",
    "    def __init__(self, data_row):\n",
    "        self.player_name = data_row[0]\n",
    "        self.position = data_row[1]\n",
    "        self.age = int(data_row[2])\n",
    "        self.team = data_row[3]\n",
    "    def __lt__(self, other):\n",
    "        return self.age < other.age\n",
    "    # Implement the rest of the comparison operators here\n",
    "    def __gt__(self, other):\n",
    "        return self.age > other.age\n",
    "    def __le__(self, other):\n",
    "        return self.age <= other.age\n",
    "    def __ge__(self, other):\n",
    "        return self.age >= other.age\n",
    "    def __eq__(self, other):\n",
    "        return self.age == other.age\n",
    "    def __ne__(self, other):\n",
    "        return self.age != other.age    \n",
    "\n",
    "carmelo = Player(nba[17])\n",
    "kobe = Player(nba[68])\n",
    "\n",
    "result = carmelo != kobe\n",
    "result"
   ]
  },
  {
   "cell_type": "markdown",
   "metadata": {},
   "source": [
    "### Comparing Average Ages"
   ]
  },
  {
   "cell_type": "code",
   "execution_count": 37,
   "metadata": {},
   "outputs": [
    {
     "data": {
      "text/plain": [
       "'Utah Jazz'"
      ]
     },
     "execution_count": 37,
     "metadata": {},
     "output_type": "execute_result"
    }
   ],
   "source": [
    "import math\n",
    "\n",
    "class Team(object):\n",
    "    def __init__(self, team_name):\n",
    "        self.team_name = team_name\n",
    "        self.roster = []\n",
    "        for row in nba:\n",
    "            if row[3] == self.team_name:\n",
    "                self.roster.append(Player(row))\n",
    "    def num_players(self):\n",
    "        count = 0\n",
    "        for player in self.roster:\n",
    "            count += 1\n",
    "        return count\n",
    "    def average_age(self):\n",
    "        return math.fsum([player.age for player in self.roster]) / self.num_players()\n",
    "    # Define operators here\n",
    "    def __lt__(self, other):\n",
    "        return self.average_age() < other.average_age()\n",
    "    # Implement the rest of the comparison operators here\n",
    "    def __gt__(self, other):\n",
    "        return self.average_age() > other.average_age()\n",
    "    def __le__(self, other):\n",
    "        return self.average_age() <= other.average_age()\n",
    "    def __ge__(self, other):\n",
    "        return self.average_age() >= other.average_age()\n",
    "    def __eq__(self, other):\n",
    "        return self.average_age() == other.average_age()\n",
    "    def __ne__(self, other):\n",
    "        return self.average_age() != other.average_age()\n",
    "    \n",
    "older_team = max([Team(\"Utah Jazz\"), Team(\"Detroit Pistons\")])\n",
    "older_team.team_name"
   ]
  },
  {
   "cell_type": "markdown",
   "metadata": {},
   "source": [
    "### Oldest NBA Team"
   ]
  },
  {
   "cell_type": "code",
   "execution_count": 38,
   "metadata": {},
   "outputs": [
    {
     "name": "stdout",
     "output_type": "stream",
     "text": [
      "Miami Heat\n"
     ]
    }
   ],
   "source": [
    "import math\n",
    "\n",
    "class Team(object):\n",
    "    def __init__(self, team_name):\n",
    "        self.team_name = team_name\n",
    "        self.roster = []\n",
    "        for row in nba:\n",
    "            if row[3] == self.team_name:\n",
    "                self.roster.append(Player(row))\n",
    "    def num_players(self):\n",
    "        count = 0\n",
    "        for player in self.roster:\n",
    "            count += 1\n",
    "        return count\n",
    "    def average_age(self):\n",
    "        return math.fsum([player.age for player in self.roster]) / self.num_players()\n",
    "    def __lt__(self, other):\n",
    "        return self.average_age() < other.average_age()\n",
    "    def __gt__(self, other):\n",
    "        return self.average_age() > other.average_age()\n",
    "    def __le__(self, other):\n",
    "        return self.average_age() <= other.average_age()\n",
    "    def __ge__(self, other):\n",
    "        return self.average_age() >= other.average_age()\n",
    "    def __eq__(self, other):\n",
    "        return self.average_age() == other.average_age()\n",
    "    def __ne__(self, other):\n",
    "        return self.average_age() != other.average_age()\n",
    "\n",
    "team_names = [\"Boston Celtics\", \"Brooklyn Nets\", \"New York Knicks\", \"Philadelphia 76ers\", \"Toronto Raptors\", \n",
    "         \"Chicago Bulls\", \"Cleveland Cavaliers\", \"Detroit Pistons\", \"Indiana Pacers\", \"Milwaukee Bucks\",\n",
    "         \"Atlanta Hawks\", \"Charlotte Hornets\", \"Miami Heat\", \"Orlando Magic\", \"Washington Wizards\",\n",
    "         \"Dallas Mavericks\", \"Houston Rockets\", \"Memphis Grizzlies\", \"New Orleans Pelicans\", \"San Antonio Spurs\",\n",
    "         \"Denver Nuggets\", \"Minnesota Timberwolves\", \"Oklahoma City Thunder\", \"Portland Trail Blazers\", \"Utah Jazz\",\n",
    "         \"Golden State Warriors\", \"Los Angeles Clippers\", \"Los Angeles Lakers\", \"Phoenix Suns\", \"Sacramento Kings\"]\n",
    "\n",
    "# Alter this list comprehension\n",
    "teams = list([Team(name) for name in team_names])\n",
    "\n",
    "oldest_team = max(teams)\n",
    "youngest_team = min(teams)\n",
    "sorted_teams = sorted(teams)\n",
    "print(oldest_team.team_name)"
   ]
  },
  {
   "cell_type": "markdown",
   "metadata": {},
   "source": [
    "# *Exception Handling*\n",
    "### Organizing Our Code"
   ]
  },
  {
   "cell_type": "code",
   "execution_count": 41,
   "metadata": {},
   "outputs": [
    {
     "data": {
      "text/plain": [
       "[['19.55', '1', '180'], ['27.24', '2', '180'], ['28.76', '3', '180']]"
      ]
     },
     "execution_count": 41,
     "metadata": {},
     "output_type": "execute_result"
    }
   ],
   "source": [
    "chopsticks = list(reader(open('chopsticks.csv', 'r')))\n",
    "header = chopsticks[0]\n",
    "chopsticks = chopsticks[1:]\n",
    "chopsticks[:3]"
   ]
  },
  {
   "cell_type": "code",
   "execution_count": 42,
   "metadata": {},
   "outputs": [
    {
     "data": {
      "text/plain": [
       "180"
      ]
     },
     "execution_count": 42,
     "metadata": {},
     "output_type": "execute_result"
    }
   ],
   "source": [
    "# Define the Trial class here\n",
    "class Trial(object):\n",
    "    def __init__(self, datarow):\n",
    "        self.efficiency = float(datarow[0])\n",
    "        self.individual = int(datarow[1])\n",
    "        self.chopstick_length = int(datarow[2])\n",
    "        \n",
    "first_trial = Trial(chopsticks[0])\n",
    "first_trial.chopstick_length"
   ]
  },
  {
   "cell_type": "markdown",
   "metadata": {},
   "source": [
    "### Creating the Chopstick Class"
   ]
  },
  {
   "cell_type": "code",
   "execution_count": 43,
   "metadata": {},
   "outputs": [
    {
     "data": {
      "text/plain": [
       "100"
      ]
     },
     "execution_count": 43,
     "metadata": {},
     "output_type": "execute_result"
    }
   ],
   "source": [
    "class Trial(object):\n",
    "    def __init__(self, datarow):\n",
    "        self.efficiency = float(datarow[0])\n",
    "        self.individual = int(datarow[1])\n",
    "        self.chopstick_length = int(datarow[2])\n",
    "first_trial = Trial(chopsticks[0])\n",
    "\n",
    "# Define the Chopstick class here\n",
    "class Chopstick(object):\n",
    "    def __init__(self, length):\n",
    "        self.length = length\n",
    "        \n",
    "mini_chopstick = Chopstick(100)\n",
    "mini_chopstick.length"
   ]
  },
  {
   "cell_type": "markdown",
   "metadata": {},
   "source": [
    "### Storing the Trials in the Chopstick Class"
   ]
  },
  {
   "cell_type": "code",
   "execution_count": 45,
   "metadata": {},
   "outputs": [
    {
     "data": {
      "text/plain": [
       "240"
      ]
     },
     "execution_count": 45,
     "metadata": {},
     "output_type": "execute_result"
    }
   ],
   "source": [
    "class Trial(object):\n",
    "    def __init__(self, datarow):\n",
    "        self.efficiency = float(datarow[0])\n",
    "        self.individual = int(datarow[1])\n",
    "        self.chopstick_length = int(datarow[2])\n",
    "\n",
    "class Chopstick(object):\n",
    "    def __init__(self, length):\n",
    "        self.length = length\n",
    "        # Start our trial list empty\n",
    "        self.trials = []\n",
    "        # Now, fill our list with relevant trials\n",
    "        for item in chopsticks:\n",
    "            if (int(item[2]) == self.length):\n",
    "                self.trials.append(Trial(item))\n",
    "                \n",
    "medium_chopstick = Chopstick(240)\n",
    "medium_chopstick.length"
   ]
  },
  {
   "cell_type": "markdown",
   "metadata": {},
   "source": [
    "### Calculating Average Efficiency With a Method"
   ]
  },
  {
   "cell_type": "code",
   "execution_count": 48,
   "metadata": {},
   "outputs": [
    {
     "data": {
      "text/plain": [
       "25.483870967741932"
      ]
     },
     "execution_count": 48,
     "metadata": {},
     "output_type": "execute_result"
    }
   ],
   "source": [
    "class Trial(object):\n",
    "    def __init__(self, datarow):\n",
    "        self.efficiency = float(datarow[0])\n",
    "        self.individual = int(datarow[1])\n",
    "        self.chopstick_length = int(datarow[2])\n",
    "\n",
    "class Chopstick(object):\n",
    "    def __init__(self, length):\n",
    "        self.length = length\n",
    "        self.trials = []\n",
    "        for row in chopsticks:\n",
    "            if int(row[2]) == self.length:\n",
    "                self.trials.append(Trial(row))\n",
    "    \n",
    "    def num_trials(self):\n",
    "        return len(self.trials)\n",
    "    \n",
    "    def avg_efficiency(self):\n",
    "        tot_efficiency = 0\n",
    "        \n",
    "        for item in self.trials:\n",
    "            tot_efficiency += item.efficiency\n",
    "        return tot_efficiency / self.num_trials()\n",
    "    \n",
    "avg_eff_210 = Chopstick(210)\n",
    "avg_eff_210.avg_efficiency()"
   ]
  },
  {
   "cell_type": "markdown",
   "metadata": {},
   "source": [
    "### Handling Bad Data in the Trial Class"
   ]
  },
  {
   "cell_type": "code",
   "execution_count": 52,
   "metadata": {},
   "outputs": [
    {
     "data": {
      "text/plain": [
       "330"
      ]
     },
     "execution_count": 52,
     "metadata": {},
     "output_type": "execute_result"
    }
   ],
   "source": [
    "class Trial(object):\n",
    "    def __init__(self, datarow):\n",
    "        try:\n",
    "            self.efficiency = float(datarow[0])\n",
    "        except ValueError:\n",
    "            self.efficiency = -1\n",
    "            \n",
    "        try:\n",
    "            self.individual = int(datarow[1])\n",
    "        except ValueError:\n",
    "            self.individual = -1\n",
    "            \n",
    "        try:\n",
    "            self.chopstick_length = int(datarow[2])\n",
    "        except ValueError:\n",
    "            self.chopstick_length = -1\n",
    "            \n",
    "bad_trial = Trial(chopsticks[-1])\n",
    "bad_trial.chopstick_length"
   ]
  },
  {
   "cell_type": "markdown",
   "metadata": {},
   "source": [
    "### Handling Bad Data in the Chopstick Class"
   ]
  },
  {
   "cell_type": "code",
   "execution_count": 55,
   "metadata": {},
   "outputs": [
    {
     "data": {
      "text/plain": [
       "[]"
      ]
     },
     "execution_count": 55,
     "metadata": {},
     "output_type": "execute_result"
    }
   ],
   "source": [
    "class Trial(object):\n",
    "    def __init__(self, datarow):\n",
    "        try:\n",
    "            self.efficiency = float(datarow[0])\n",
    "            self.individual = int(datarow[1])\n",
    "            self.chopstick_length = int(datarow[2])\n",
    "        except:\n",
    "            self.efficiency = -1\n",
    "            self.individual = -1\n",
    "            self.chopstick_length = -1\n",
    "\n",
    "class Chopstick(object):\n",
    "    def __init__(self, length):\n",
    "        self.length = length\n",
    "        self.trials = []\n",
    "        for row in chopsticks:\n",
    "            if int(row[2]) == self.length:\n",
    "                trial = Trial(row)\n",
    "                # Verify that the data is good\n",
    "                    # Add the trial to trials if it is good\n",
    "                if (trial.efficiency != -1 and trial.individual != -1 and trial.chopstick_length != 1):\n",
    "                    self.trials.append(trial)\n",
    "    def num_trials(self):\n",
    "        return len(self.trials)\n",
    "    def avg_efficiency(self):\n",
    "        efficiency_sum = 0\n",
    "        for trial in self.trials:\n",
    "            efficiency_sum += trial.efficiency\n",
    "        return efficiency_sum / self.num_trials()\n",
    "    \n",
    "bad_chopstick = Chopstick(400)\n",
    "bad_chopstick.trials"
   ]
  },
  {
   "cell_type": "markdown",
   "metadata": {},
   "source": [
    "### Handling Lengths Outside of the Data Set"
   ]
  },
  {
   "cell_type": "code",
   "execution_count": 60,
   "metadata": {},
   "outputs": [
    {
     "data": {
      "text/plain": [
       "-1.0"
      ]
     },
     "execution_count": 60,
     "metadata": {},
     "output_type": "execute_result"
    }
   ],
   "source": [
    "class Trial(object):\n",
    "    def __init__(self, datarow):\n",
    "        try:\n",
    "            self.efficiency = float(datarow[0])\n",
    "            self.individual = int(datarow[1])\n",
    "            self.chopstick_length = int(datarow[2])\n",
    "        except:\n",
    "            self.efficiency = -1\n",
    "            self.individual = -1\n",
    "            self.chopstick_length = -1\n",
    "\n",
    "class Chopstick(object):\n",
    "    def __init__(self, length):\n",
    "        self.length = length\n",
    "        self.trials = []\n",
    "        for row in chopsticks:\n",
    "            if int(row[2]) == self.length:\n",
    "                trial = Trial(row)\n",
    "                if trial.individual >= 0:\n",
    "                    self.trials.append(trial)\n",
    "    def num_trials(self):\n",
    "        return len(self.trials)\n",
    "    def avg_efficiency(self):\n",
    "        efficiency_sum = 0\n",
    "        for trial in self.trials:\n",
    "            efficiency_sum += trial.efficiency\n",
    "        try:\n",
    "            return efficiency_sum / self.num_trials()\n",
    "        except ZeroDivisionError:\n",
    "            return -1.0\n",
    "        \n",
    "bad_average  = Chopstick(400).avg_efficiency()\n",
    "bad_average"
   ]
  },
  {
   "cell_type": "markdown",
   "metadata": {},
   "source": [
    "### Converting Lengths to Chopstick Instances"
   ]
  },
  {
   "cell_type": "code",
   "execution_count": 61,
   "metadata": {},
   "outputs": [],
   "source": [
    "class Trial(object):\n",
    "    def __init__(self, datarow):\n",
    "        try:\n",
    "            self.efficiency = float(datarow[0])\n",
    "            self.individual = int(datarow[1])\n",
    "            self.chopstick_length = int(datarow[2])\n",
    "        except:\n",
    "            self.efficiency = -1\n",
    "            self.individual = -1\n",
    "            self.chopstick_length = -1\n",
    "\n",
    "class Chopstick(object):\n",
    "    def __init__(self, length):\n",
    "        self.length = length\n",
    "        self.trials = []\n",
    "        for row in chopsticks:\n",
    "            if int(row[2]) == self.length:\n",
    "                trial = Trial(row)\n",
    "                if trial.individual >= 0:\n",
    "                    self.trials.append(trial)\n",
    "    def num_trials(self):\n",
    "        return len(self.trials)\n",
    "    def avg_efficiency(self):\n",
    "        efficiency_sum = 0\n",
    "        for trial in self.trials:\n",
    "            efficiency_sum += trial.efficiency\n",
    "        try:\n",
    "            return efficiency_sum / self.num_trials()\n",
    "        except ZeroDivisionError:\n",
    "            return -1.0\n",
    "        \n",
    "        \n",
    "chopstick_lengths = [180, 195, 210, 225, 240, 255, 270, 285, 300, 315, 330]\n",
    "\n",
    "chopstick_list = [Chopstick(item) for item in chopstick_lengths]"
   ]
  },
  {
   "cell_type": "markdown",
   "metadata": {},
   "source": [
    "### Overloading Comparison Operators"
   ]
  },
  {
   "cell_type": "code",
   "execution_count": 64,
   "metadata": {},
   "outputs": [
    {
     "data": {
      "text/plain": [
       "240"
      ]
     },
     "execution_count": 64,
     "metadata": {},
     "output_type": "execute_result"
    }
   ],
   "source": [
    "class Trial(object):\n",
    "    def __init__(self, datarow):\n",
    "        try:\n",
    "            self.efficiency = float(datarow[0])\n",
    "            self.individual = int(datarow[1])\n",
    "            self.chopstick_length = int(datarow[2])\n",
    "        except:\n",
    "            self.efficiency = -1\n",
    "            self.individual = -1\n",
    "            self.chopstick_length = -1\n",
    "\n",
    "class Chopstick(object):\n",
    "    def __init__(self, length):\n",
    "        self.length = length\n",
    "        self.trials = []\n",
    "        for row in chopsticks:\n",
    "            if int(row[2]) == self.length:\n",
    "                trial = Trial(row)\n",
    "                if trial.individual >= 0:\n",
    "                    self.trials.append(trial)\n",
    "    def num_trials(self):\n",
    "        return len(self.trials)\n",
    "    def avg_efficiency(self):\n",
    "        efficiency_sum = 0\n",
    "        for trial in self.trials:\n",
    "            efficiency_sum += trial.efficiency\n",
    "        try:\n",
    "            return efficiency_sum / self.num_trials()\n",
    "        except ZeroDivisionError:\n",
    "            return -1.0\n",
    "        \n",
    "    def __lt__(self, other):\n",
    "        return self.avg_efficiency() < other.avg_efficiency()\n",
    "    def __gt__(self, other):\n",
    "        return self.avg_efficiency() > other.avg_efficiency()\n",
    "    def __le__(self, other):\n",
    "        return self.avg_efficiency() <= other.avg_efficiency()\n",
    "    def __ge__(self, other):\n",
    "        return self.avg_efficiency() >= other.avg_efficiency()\n",
    "    def __eq__(self, other):\n",
    "        return self.avg_efficiency() == other.avg_efficiency()\n",
    "    def __ne__(self, other):\n",
    "        return self.avg_efficiency() != other.avg_efficiency()\n",
    "        \n",
    "chopstick_lengths = [180, 195, 210, 225, 240, 255, 270, 285, 300, 315, 330]\n",
    "\n",
    "chopstick_list = [Chopstick(length) for length in chopstick_lengths]\n",
    "\n",
    "most_efficient = max(chopstick_list)\n",
    "most_efficient.length"
   ]
  },
  {
   "cell_type": "markdown",
   "metadata": {},
   "source": [
    "# *Lambda Functions*\n",
    "### Introduction to String Manipulation"
   ]
  },
  {
   "cell_type": "code",
   "execution_count": 67,
   "metadata": {},
   "outputs": [
    {
     "name": "stdout",
     "output_type": "stream",
     "text": [
      "string\n",
      "word\n"
     ]
    }
   ],
   "source": [
    "hello = \"hello world\"[0:5]\n",
    "foo = \"some string\"\n",
    "password = \"password\"\n",
    "\n",
    "print(foo[5:11])\n",
    "\n",
    "# Your code goes here\n",
    "fifth = password[4]\n",
    "last_four = password[4:8]\n",
    "print(last_four)"
   ]
  },
  {
   "cell_type": "markdown",
   "metadata": {},
   "source": [
    "### Omitting Starting or Ending Indices"
   ]
  },
  {
   "cell_type": "code",
   "execution_count": 68,
   "metadata": {},
   "outputs": [
    {
     "name": "stdout",
     "output_type": "stream",
     "text": [
      "string\n"
     ]
    }
   ],
   "source": [
    "hello = \"hello world\"[:5]\n",
    "foo = \"some string\"\n",
    "print(foo[5:])\n",
    "\n",
    "my_string = \"string slicing is fun!\"\n",
    "# Your code goes here\n",
    "first_nine = my_string[:9]\n",
    "remainder = my_string[9:]"
   ]
  },
  {
   "cell_type": "markdown",
   "metadata": {},
   "source": [
    "### Skipping Indices in a Slice with Steps"
   ]
  },
  {
   "cell_type": "code",
   "execution_count": 71,
   "metadata": {},
   "outputs": [
    {
     "name": "stdout",
     "output_type": "stream",
     "text": [
      "srn lcn sfn\n",
      "scgsu\n"
     ]
    }
   ],
   "source": [
    "hlo = \"hello world\"[:5:2]\n",
    "\n",
    "my_string = \"string slicing is fun!\"\n",
    "# Your code goes here\n",
    "gibberish = my_string[0::2]\n",
    "worse_gibberish = my_string[7::3]\n",
    "\n",
    "print(gibberish)\n",
    "print(worse_gibberish)"
   ]
  },
  {
   "cell_type": "markdown",
   "metadata": {},
   "source": [
    "### Negative Indexing"
   ]
  },
  {
   "cell_type": "code",
   "execution_count": 75,
   "metadata": {},
   "outputs": [
    {
     "name": "stdout",
     "output_type": "stream",
     "text": [
      "True\n"
     ]
    }
   ],
   "source": [
    "olleh = \"hello world\"[4::-1]\n",
    "able_string = \"able was I ere I saw elba\"\n",
    "\n",
    "# Your code goes here\n",
    "def is_palindrome(my_string):\n",
    "    pal = my_string[::1]\n",
    "    return pal == my_string\n",
    "\n",
    "s = \"able was I ere I saw elba\"\n",
    "phrase_palindrome = is_palindrome(s)\n",
    "print(phrase_palindrome)"
   ]
  },
  {
   "cell_type": "markdown",
   "metadata": {},
   "source": [
    "### Searching for Substrings"
   ]
  },
  {
   "cell_type": "code",
   "execution_count": 100,
   "metadata": {},
   "outputs": [
    {
     "data": {
      "text/plain": [
       "22"
      ]
     },
     "execution_count": 100,
     "metadata": {},
     "output_type": "execute_result"
    }
   ],
   "source": [
    "passwords = [line.rstrip('\\n') for line in open('passwords.txt')]\n",
    "\n",
    "def easy_patterns(my_string):\n",
    "    counter = 0\n",
    "    for item in passwords:\n",
    "        if my_string in item:\n",
    "            counter += 1\n",
    "        \n",
    "    return counter\n",
    "\n",
    "countup_passwords = easy_patterns('1234')\n",
    "countup_passwords"
   ]
  },
  {
   "cell_type": "markdown",
   "metadata": {},
   "source": [
    "### First-Class Functions"
   ]
  },
  {
   "cell_type": "code",
   "execution_count": 101,
   "metadata": {},
   "outputs": [
    {
     "name": "stdout",
     "output_type": "stream",
     "text": [
      "[1, 2, 199, 56]\n"
     ]
    },
    {
     "data": {
      "text/plain": [
       "[1.4, 71.833, 0.1, 109.2, 77.7, 618.44, 12.004]"
      ]
     },
     "execution_count": 101,
     "metadata": {},
     "output_type": "execute_result"
    }
   ],
   "source": [
    "ints = list(map(int, [1.5, 2.4, 199.7, 56.0]))\n",
    "print(ints)\n",
    "\n",
    "not_floats = ['1.4', '71.833', '0.1', '109.2', '77.7', '618.44', '12.004']\n",
    "\n",
    "# Your code goes here\n",
    "floats = list(map(float, not_floats))\n",
    "floats"
   ]
  },
  {
   "cell_type": "markdown",
   "metadata": {},
   "source": [
    "### Average Password Length"
   ]
  },
  {
   "cell_type": "code",
   "execution_count": 102,
   "metadata": {},
   "outputs": [
    {
     "name": "stdout",
     "output_type": "stream",
     "text": [
      "8.429333333333334\n"
     ]
    }
   ],
   "source": [
    "# Your code goes here\n",
    "password_lengths = list(map(len, passwords))\n",
    "avg_password_length = sum(password_lengths)/len(password_lengths)\n",
    "\n",
    "# print(password_lengths)\n",
    "print(avg_password_length)"
   ]
  },
  {
   "cell_type": "markdown",
   "metadata": {},
   "source": [
    "### More Uses for First-Class Functions"
   ]
  },
  {
   "cell_type": "code",
   "execution_count": 103,
   "metadata": {},
   "outputs": [
    {
     "data": {
      "text/plain": [
       "['12345@54321',\n",
       " 'ennaanne',\n",
       " '97799779',\n",
       " '029893398920',\n",
       " 'zzzzzzzzzzzzzzzzzzzz',\n",
       " 'axaaxa',\n",
       " 'ddaadd']"
      ]
     },
     "execution_count": 103,
     "metadata": {},
     "output_type": "execute_result"
    }
   ],
   "source": [
    "def is_palindrome(my_string):\n",
    "    return my_string == my_string[::-1]\n",
    "\n",
    "# Your code goes here\n",
    "palindrome_passwords = list(filter(is_palindrome, passwords))\n",
    "palindrome_passwords"
   ]
  },
  {
   "cell_type": "markdown",
   "metadata": {},
   "source": [
    "### Lambda Functions"
   ]
  },
  {
   "cell_type": "code",
   "execution_count": 104,
   "metadata": {},
   "outputs": [
    {
     "name": "stdout",
     "output_type": "stream",
     "text": [
      "[2, 4, 6, 8, 10]\n"
     ]
    },
    {
     "data": {
      "text/plain": [
       "['12345@54321',\n",
       " 'ennaanne',\n",
       " '97799779',\n",
       " '029893398920',\n",
       " 'zzzzzzzzzzzzzzzzzzzz',\n",
       " 'axaaxa',\n",
       " 'ddaadd']"
      ]
     },
     "execution_count": 104,
     "metadata": {},
     "output_type": "execute_result"
    }
   ],
   "source": [
    "numbers = [1, 2, 3, 4, 5, 6, 7, 8, 9, 10]\n",
    "evens = list(filter(lambda x : x % 2 == 0, numbers))\n",
    "print(evens)\n",
    "\n",
    "# Your code goes here\n",
    "palindrome_passwords = list(filter(lambda x: x == x[::-1], passwords))\n",
    "palindrome_passwords"
   ]
  },
  {
   "cell_type": "markdown",
   "metadata": {},
   "source": [
    "### Password Strengths"
   ]
  },
  {
   "cell_type": "code",
   "execution_count": 105,
   "metadata": {},
   "outputs": [],
   "source": [
    "weak_passwords = list(filter(lambda x: len(x) < 6, passwords))\n",
    "medium_passwords = list(filter(lambda x: len(x) <= 10 and len(x) >= 6, passwords))\n",
    "strong_passwords = list(filter(lambda x: len(x) > 10, passwords))"
   ]
  },
  {
   "cell_type": "markdown",
   "metadata": {},
   "source": [
    "# *Parallel Processing*\n",
    "### Using Mutable Values for Changing Information"
   ]
  },
  {
   "cell_type": "code",
   "execution_count": 107,
   "metadata": {},
   "outputs": [
    {
     "name": "stdout",
     "output_type": "stream",
     "text": [
      "0\n",
      "100000\n"
     ]
    }
   ],
   "source": [
    "class Counter():\n",
    "    def __init__(self):\n",
    "        self.count = 0\n",
    "    def increment(self):\n",
    "        self.count += 1\n",
    "    def get_count(self):\n",
    "        return self.count\n",
    "\n",
    "def count_up_100000(counter):\n",
    "    for i in range(100000):\n",
    "        counter.increment()\n",
    "        \n",
    "counter = Counter()\n",
    "initial_count = counter.get_count()\n",
    "\n",
    "count_up_100000(counter)\n",
    "final_count = counter.get_count()\n",
    "\n",
    "print(initial_count)\n",
    "print(final_count)"
   ]
  },
  {
   "cell_type": "markdown",
   "metadata": {},
   "source": [
    "### Multithreading Multiple Processes"
   ]
  },
  {
   "cell_type": "code",
   "execution_count": 108,
   "metadata": {},
   "outputs": [
    {
     "name": "stdout",
     "output_type": "stream",
     "text": [
      "100000\n"
     ]
    }
   ],
   "source": [
    "import threading\n",
    "\n",
    "counter = Counter()\n",
    "count_thread = threading.Thread(target=count_up_100000, args=[counter])\n",
    "count_thread.start()\n",
    "count_thread.join()\n",
    "after_join = counter.get_count()\n",
    "print(after_join)"
   ]
  },
  {
   "cell_type": "markdown",
   "metadata": {},
   "source": [
    "### Determinism of Program Results"
   ]
  },
  {
   "cell_type": "code",
   "execution_count": 109,
   "metadata": {},
   "outputs": [
    {
     "name": "stdout",
     "output_type": "stream",
     "text": [
      "9328\n",
      "20964\n",
      "22120\n"
     ]
    }
   ],
   "source": [
    "import threading\n",
    "\n",
    "def conduct_trial():\n",
    "    counter = Counter()\n",
    "    count_thread = threading.Thread(target=count_up_100000, args=[counter])\n",
    "    count_thread.start()\n",
    "    # Take measurement here\n",
    "    mid_count = counter.get_count()\n",
    "    count_thread.join()\n",
    "    return mid_count\n",
    "\n",
    "trial1 = conduct_trial()\n",
    "print(trial1)\n",
    "\n",
    "trial2 = conduct_trial()\n",
    "print(trial2)\n",
    "\n",
    "trial3 = conduct_trial()\n",
    "print(trial3)"
   ]
  },
  {
   "cell_type": "markdown",
   "metadata": {},
   "source": [
    "### Using Locks to Enforce Determinism in Multithreading"
   ]
  },
  {
   "cell_type": "code",
   "execution_count": 110,
   "metadata": {},
   "outputs": [
    {
     "name": "stdout",
     "output_type": "stream",
     "text": [
      "22170\n",
      "23570\n",
      "20260\n"
     ]
    }
   ],
   "source": [
    "import threading\n",
    "\n",
    "def count_up_100000(counter, lock):\n",
    "    for i in range(10000):\n",
    "        lock.acquire()\n",
    "        for i in range(10):\n",
    "            counter.increment()\n",
    "        lock.release()\n",
    "\n",
    "def conduct_trial():\n",
    "    counter = Counter()\n",
    "    lock = threading.Lock()\n",
    "    count_thread = threading.Thread(target=count_up_100000, args=[counter, lock])\n",
    "    count_thread.start()\n",
    "    lock.acquire()\n",
    "    intermediate_value = counter.get_count()\n",
    "    lock.release()\n",
    "    count_thread.join()\n",
    "    return intermediate_value\n",
    "\n",
    "trial1 = conduct_trial()\n",
    "print(trial1)\n",
    "trial2 = conduct_trial()\n",
    "print(trial2)\n",
    "trial3 = conduct_trial()\n",
    "print(trial3)"
   ]
  },
  {
   "cell_type": "markdown",
   "metadata": {},
   "source": [
    "### Counting Once on Two Different Threads"
   ]
  },
  {
   "cell_type": "code",
   "execution_count": 111,
   "metadata": {},
   "outputs": [
    {
     "name": "stdout",
     "output_type": "stream",
     "text": [
      "190710\n",
      "180663\n",
      "175726\n"
     ]
    }
   ],
   "source": [
    "import threading\n",
    "\n",
    "def count_up_100000(counter):\n",
    "    for i in range(100000):\n",
    "        lock.acqui\n",
    "        counter.increment()\n",
    "\n",
    "def conduct_trial():\n",
    "    counter = Counter()\n",
    "    count_thread1 = threading.Thread(target=count_up_100000, args=[counter])\n",
    "    count_thread2 = threading.Thread(target=count_up_100000, args=[counter])\n",
    "\n",
    "    count_thread1.start()\n",
    "    count_thread2.start()\n",
    "\n",
    "    # Join the threads here\n",
    "    count_thread1.join()\n",
    "    count_thread2.join()\n",
    "    \n",
    "    final_count = counter.get_count()\n",
    "    return final_count\n",
    "\n",
    "trial1 = conduct_trial()\n",
    "print(trial1)\n",
    "trial2 = conduct_trial()\n",
    "print(trial2)\n",
    "trial3 = conduct_trial()\n",
    "print(trial3)"
   ]
  },
  {
   "cell_type": "markdown",
   "metadata": {},
   "source": [
    "### Imitating Atomicity With Locks"
   ]
  },
  {
   "cell_type": "code",
   "execution_count": 113,
   "metadata": {},
   "outputs": [
    {
     "name": "stdout",
     "output_type": "stream",
     "text": [
      "200000\n",
      "200000\n",
      "200000\n"
     ]
    }
   ],
   "source": [
    "import threading\n",
    "\n",
    "class Counter():\n",
    "    def __init__(self):\n",
    "        self.count = 0\n",
    "        self.lock = threading.Lock()\n",
    "    def increment(self):\n",
    "        self.lock.acquire()\n",
    "        old_count = self.count\n",
    "        self.count = old_count + 1\n",
    "        self.lock.release()\n",
    "    def get_count(self):\n",
    "        return self.count\n",
    "\n",
    "def count_up_100000(counter):\n",
    "    for i in range(100000):\n",
    "        counter.increment()\n",
    "\n",
    "def conduct_trial():\n",
    "    counter = Counter()\n",
    "    count_thread1 = threading.Thread(target=count_up_100000, args=[counter])\n",
    "    count_thread2 = threading.Thread(target=count_up_100000, args=[counter])\n",
    "\n",
    "    count_thread1.start()\n",
    "    count_thread2.start()\n",
    "\n",
    "    count_thread1.join()\n",
    "    count_thread2.join()\n",
    "\n",
    "    final_count = counter.get_count()\n",
    "    return final_count\n",
    "\n",
    "trial1 = conduct_trial()\n",
    "print(trial1)\n",
    "trial2 = conduct_trial()\n",
    "print(trial2)\n",
    "trial3 = conduct_trial()\n",
    "print(trial3)"
   ]
  },
  {
   "cell_type": "code",
   "execution_count": null,
   "metadata": {},
   "outputs": [],
   "source": []
  }
 ],
 "metadata": {
  "kernelspec": {
   "display_name": "Python 3",
   "language": "python",
   "name": "python3"
  },
  "language_info": {
   "codemirror_mode": {
    "name": "ipython",
    "version": 3
   },
   "file_extension": ".py",
   "mimetype": "text/x-python",
   "name": "python",
   "nbconvert_exporter": "python",
   "pygments_lexer": "ipython3",
   "version": "3.6.8"
  }
 },
 "nbformat": 4,
 "nbformat_minor": 2
}
