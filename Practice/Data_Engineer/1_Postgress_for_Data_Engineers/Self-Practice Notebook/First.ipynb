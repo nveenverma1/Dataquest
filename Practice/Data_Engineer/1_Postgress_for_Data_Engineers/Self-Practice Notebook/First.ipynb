{
 "cells": [
  {
   "cell_type": "markdown",
   "metadata": {},
   "source": [
    "# *Intro to Postgress*"
   ]
  },
  {
   "cell_type": "markdown",
   "metadata": {},
   "source": [
    "### Connecting to Postgress"
   ]
  },
  {
   "cell_type": "code",
   "execution_count": 1,
   "metadata": {},
   "outputs": [
    {
     "name": "stdout",
     "output_type": "stream",
     "text": [
      "<connection object at 0x7f7fc06273d8; dsn: 'user=dq password=xxx dbname=dq host=localhost', closed: 0>\n"
     ]
    }
   ],
   "source": [
    "# Before running below commandstype following into terminal\n",
    "# psql dq\n",
    "# When prompted with password enter password\n",
    "\n",
    "import psycopg2\n",
    "conn = psycopg2.connect(\"dbname=dq user=dq host=localhost password='dq'\")\n",
    "print(conn)\n",
    "conn.close()"
   ]
  },
  {
   "cell_type": "markdown",
   "metadata": {},
   "source": [
    "### Interacting the Database"
   ]
  },
  {
   "cell_type": "code",
   "execution_count": 2,
   "metadata": {},
   "outputs": [
    {
     "name": "stdout",
     "output_type": "stream",
     "text": [
      "[]\n"
     ]
    }
   ],
   "source": [
    "conn = psycopg2.connect(\"dbname=dq user=dq host=localhost password='dq'\")\n",
    "query = \"SELECT * FROM notes\"\n",
    "cur = conn.cursor()\n",
    "cur.execute(query)\n",
    "\n",
    "notes = cur.fetchall()\n",
    "print(notes)\n",
    "conn.close()"
   ]
  },
  {
   "cell_type": "markdown",
   "metadata": {},
   "source": [
    "### Creating a Table"
   ]
  },
  {
   "cell_type": "code",
   "execution_count": 3,
   "metadata": {},
   "outputs": [
    {
     "name": "stdout",
     "output_type": "stream",
     "text": [
      "[('postgres',), ('naveen',), ('dq',)]\n"
     ]
    },
    {
     "data": {
      "text/plain": [
       "[('public', 'notes', 'naveen', None, False, False, False, False),\n",
       " ('public', 'users', 'dq', None, True, False, False, False)]"
      ]
     },
     "execution_count": 3,
     "metadata": {},
     "output_type": "execute_result"
    }
   ],
   "source": [
    "conn = psycopg2.connect(\"dbname=dq user=dq host=localhost password='dq'\")\n",
    "\n",
    "cur = conn.cursor()\n",
    "cur.execute(\"DROP TABLE IF EXISTS users\") # Dropping table if already exists\n",
    "\n",
    "# Creating table users (id, email, name and address)\n",
    "cur.execute(\"CREATE TABLE users(id INTEGER PRIMARY KEY, email TEXT, name TEXT, address TEXT);\") \n",
    "\n",
    "# Displaying all the Databases\n",
    "cur.execute(\"SELECT datname FROM pg_database WHERE datistemplate = false;\")\n",
    "print(cur.fetchall())\n",
    "\n",
    "# Displaying all the tables created by us\n",
    "cur.execute(\"SELECT * FROM pg_catalog.pg_tables WHERE schemaname != 'pg_catalog' and schemaname != 'information_schema';\")\n",
    "cur.fetchall()"
   ]
  },
  {
   "cell_type": "markdown",
   "metadata": {},
   "source": [
    "### SQL Transactions"
   ]
  },
  {
   "cell_type": "code",
   "execution_count": 4,
   "metadata": {},
   "outputs": [
    {
     "name": "stdout",
     "output_type": "stream",
     "text": [
      "[('public', 'notes', 'naveen', None, False, False, False, False), ('public', 'users', 'dq', None, True, False, False, False)]\n"
     ]
    }
   ],
   "source": [
    "conn = psycopg2.connect(\"dbname=dq user=dq host=localhost password='dq'\")\n",
    "\n",
    "cur = conn.cursor()\n",
    "cur.execute(\"DROP TABLE IF EXISTS users\") # Dropping table if already exists\n",
    "\n",
    "# Creating table users (id, email, name and address)\n",
    "cur.execute(\"CREATE TABLE users(id INTEGER PRIMARY KEY, email TEXT, name TEXT, address TEXT);\") \n",
    "\n",
    "conn.commit()\n",
    "\n",
    "# Displaying all the tables created by us\n",
    "cur.execute(\"SELECT * FROM pg_catalog.pg_tables WHERE schemaname != 'pg_catalog' and schemaname != 'information_schema';\")\n",
    "print(cur.fetchall())\n",
    "\n",
    "conn.close()"
   ]
  },
  {
   "cell_type": "markdown",
   "metadata": {},
   "source": [
    "### Inserting the Data"
   ]
  },
  {
   "cell_type": "code",
   "execution_count": 5,
   "metadata": {},
   "outputs": [
    {
     "data": {
      "text/plain": [
       "[('id',), ('email',), ('name',), ('address',)]"
      ]
     },
     "execution_count": 5,
     "metadata": {},
     "output_type": "execute_result"
    }
   ],
   "source": [
    "conn = psycopg2.connect(\"dbname=dq user=dq host=localhost password='dq'\")\n",
    "\n",
    "cur = conn.cursor()\n",
    "\n",
    "# Getting Information Schema of a Table\n",
    "cur.execute(\"SELECT COLUMN_NAME FROM information_schema.COLUMNS WHERE TABLE_NAME = 'users';\")\n",
    "cur.fetchall()"
   ]
  },
  {
   "cell_type": "code",
   "execution_count": 6,
   "metadata": {},
   "outputs": [
    {
     "data": {
      "text/plain": [
       "[(0,\n",
       "  'cbenjamin@yahoo.com',\n",
       "  'Joseph Kirby',\n",
       "  '3594 Fox Ford Apt. 192 West Kristen GA 22838-8977'),\n",
       " (1,\n",
       "  'morganlopez@matthews-hickman.com',\n",
       "  'Erin Figueroa',\n",
       "  '64763 Li Meadows Apt. 554 New Marcoton MA 99016-6159'),\n",
       " (2,\n",
       "  'ypark@russo.biz',\n",
       "  'Leon Matthews',\n",
       "  '91144 Hamilton Manors Suite 421 Ronaldland WA 98705'),\n",
       " (3,\n",
       "  'lferguson@hotmail.com',\n",
       "  'Nicole Spencer',\n",
       "  '798 Hawkins Mountains Lindseybury MH 53952-7424'),\n",
       " (4,\n",
       "  'brownanna@gmail.com',\n",
       "  'Jacob Webb',\n",
       "  '5388 Whitney Stream Rowlandville AL 35533')]"
      ]
     },
     "execution_count": 6,
     "metadata": {},
     "output_type": "execute_result"
    }
   ],
   "source": [
    "import csv\n",
    "\n",
    "import psycopg2\n",
    "conn = psycopg2.connect(\"user=dq dbname=dq host=localhost password='dq'\")\n",
    "cur = conn.cursor()\n",
    "cur.execute(\"DELETE FROM users;\")\n",
    "\n",
    "with open('user_accounts.csv', 'r') as f:\n",
    "    reader = csv.reader(f)\n",
    "    next(reader)\n",
    "    rows = [x for x in reader]\n",
    "\n",
    "for row in rows:\n",
    "    cur.execute(\"INSERT INTO users VALUES(%s, %s, %s, %s)\", row)\n",
    "    \n",
    "conn.commit()\n",
    "    \n",
    "cur.execute(\"SELECT * FROM users\")\n",
    "users = cur.fetchall()\n",
    "conn.close()\n",
    "\n",
    "users[:5]"
   ]
  },
  {
   "cell_type": "markdown",
   "metadata": {},
   "source": [
    "### Copying the Data"
   ]
  },
  {
   "cell_type": "code",
   "execution_count": 7,
   "metadata": {},
   "outputs": [
    {
     "data": {
      "text/plain": [
       "[(0,\n",
       "  'cbenjamin@yahoo.com',\n",
       "  'Joseph Kirby',\n",
       "  '3594 Fox Ford Apt. 192 West Kristen GA 22838-8977'),\n",
       " (1,\n",
       "  'morganlopez@matthews-hickman.com',\n",
       "  'Erin Figueroa',\n",
       "  '64763 Li Meadows Apt. 554 New Marcoton MA 99016-6159'),\n",
       " (2,\n",
       "  'ypark@russo.biz',\n",
       "  'Leon Matthews',\n",
       "  '91144 Hamilton Manors Suite 421 Ronaldland WA 98705'),\n",
       " (3,\n",
       "  'lferguson@hotmail.com',\n",
       "  'Nicole Spencer',\n",
       "  '798 Hawkins Mountains Lindseybury MH 53952-7424'),\n",
       " (4,\n",
       "  'brownanna@gmail.com',\n",
       "  'Jacob Webb',\n",
       "  '5388 Whitney Stream Rowlandville AL 35533')]"
      ]
     },
     "execution_count": 7,
     "metadata": {},
     "output_type": "execute_result"
    }
   ],
   "source": [
    "conn = psycopg2.connect(\"user=dq dbname=dq host=localhost password='dq'\")\n",
    "cur = conn.cursor()\n",
    "cur.execute(\"DELETE FROM users;\")\n",
    "\n",
    "with open('user_accounts.csv', 'r') as f:\n",
    "    next(f)\n",
    "    cur.copy_from(f, 'users', sep=\",\")\n",
    "conn.commit()\n",
    "    \n",
    "cur.execute(\"SELECT * FROM users\")\n",
    "users = cur.fetchall()\n",
    "conn.close()\n",
    "\n",
    "users[:5]"
   ]
  },
  {
   "cell_type": "markdown",
   "metadata": {},
   "source": [
    "# *Creating Tables*\n",
    "\n",
    "Choosing the correct Data Type will provide benefit of a reduced table size, and guard against corrupted data."
   ]
  },
  {
   "cell_type": "markdown",
   "metadata": {},
   "source": [
    "### Describing a Table"
   ]
  },
  {
   "cell_type": "code",
   "execution_count": 10,
   "metadata": {},
   "outputs": [
    {
     "name": "stdout",
     "output_type": "stream",
     "text": [
      "(Column(name='id', type_code=23, display_size=None, internal_size=4, precision=None, scale=None, null_ok=None), Column(name='email', type_code=25, display_size=None, internal_size=-1, precision=None, scale=None, null_ok=None), Column(name='name', type_code=25, display_size=None, internal_size=-1, precision=None, scale=None, null_ok=None), Column(name='address', type_code=25, display_size=None, internal_size=-1, precision=None, scale=None, null_ok=None))\n"
     ]
    }
   ],
   "source": [
    "conn = psycopg2.connect(\"user=dq dbname=dq host=localhost password='dq'\")\n",
    "cur = conn.cursor()\n",
    "cur.execute(\"SELECT * FROM users LIMIT 0;\")\n",
    "print(cur.description)\n",
    "conn.close()"
   ]
  },
  {
   "cell_type": "markdown",
   "metadata": {},
   "source": [
    "Now we will work with `ign.csv` file."
   ]
  },
  {
   "cell_type": "code",
   "execution_count": 14,
   "metadata": {},
   "outputs": [
    {
     "data": {
      "text/html": [
       "<div>\n",
       "<style scoped>\n",
       "    .dataframe tbody tr th:only-of-type {\n",
       "        vertical-align: middle;\n",
       "    }\n",
       "\n",
       "    .dataframe tbody tr th {\n",
       "        vertical-align: top;\n",
       "    }\n",
       "\n",
       "    .dataframe thead th {\n",
       "        text-align: right;\n",
       "    }\n",
       "</style>\n",
       "<table border=\"1\" class=\"dataframe\">\n",
       "  <thead>\n",
       "    <tr style=\"text-align: right;\">\n",
       "      <th></th>\n",
       "      <th>id</th>\n",
       "      <th>score_phrase</th>\n",
       "      <th>title</th>\n",
       "      <th>url</th>\n",
       "      <th>platform</th>\n",
       "      <th>score</th>\n",
       "      <th>genre</th>\n",
       "      <th>editors_choice</th>\n",
       "      <th>release_year</th>\n",
       "      <th>release_month</th>\n",
       "      <th>release_day</th>\n",
       "    </tr>\n",
       "  </thead>\n",
       "  <tbody>\n",
       "    <tr>\n",
       "      <th>0</th>\n",
       "      <td>5249979066121302517</td>\n",
       "      <td>Amazing</td>\n",
       "      <td>LittleBigPlanet PS Vita</td>\n",
       "      <td>/games/littlebigplanet-vita/vita-98907</td>\n",
       "      <td>PlayStation Vita</td>\n",
       "      <td>9.0</td>\n",
       "      <td>Platformer</td>\n",
       "      <td>Y</td>\n",
       "      <td>2012</td>\n",
       "      <td>9</td>\n",
       "      <td>12</td>\n",
       "    </tr>\n",
       "    <tr>\n",
       "      <th>1</th>\n",
       "      <td>7399589116837456607</td>\n",
       "      <td>Amazing</td>\n",
       "      <td>LittleBigPlanet PS Vita -- Marvel Super Hero E...</td>\n",
       "      <td>/games/littlebigplanet-ps-vita-marvel-super-he...</td>\n",
       "      <td>PlayStation Vita</td>\n",
       "      <td>9.0</td>\n",
       "      <td>Platformer</td>\n",
       "      <td>Y</td>\n",
       "      <td>2012</td>\n",
       "      <td>9</td>\n",
       "      <td>12</td>\n",
       "    </tr>\n",
       "    <tr>\n",
       "      <th>2</th>\n",
       "      <td>582057716445789124</td>\n",
       "      <td>Great</td>\n",
       "      <td>Splice: Tree of Life</td>\n",
       "      <td>/games/splice/ipad-141070</td>\n",
       "      <td>iPad</td>\n",
       "      <td>8.5</td>\n",
       "      <td>Puzzle</td>\n",
       "      <td>N</td>\n",
       "      <td>2012</td>\n",
       "      <td>9</td>\n",
       "      <td>12</td>\n",
       "    </tr>\n",
       "    <tr>\n",
       "      <th>3</th>\n",
       "      <td>1087608058291172412</td>\n",
       "      <td>Great</td>\n",
       "      <td>NHL 13</td>\n",
       "      <td>/games/nhl-13/xbox-360-128182</td>\n",
       "      <td>Xbox 360</td>\n",
       "      <td>8.5</td>\n",
       "      <td>Sports</td>\n",
       "      <td>N</td>\n",
       "      <td>2012</td>\n",
       "      <td>9</td>\n",
       "      <td>11</td>\n",
       "    </tr>\n",
       "    <tr>\n",
       "      <th>4</th>\n",
       "      <td>7018639715332314491</td>\n",
       "      <td>Great</td>\n",
       "      <td>NHL 13</td>\n",
       "      <td>/games/nhl-13/ps3-128181</td>\n",
       "      <td>PlayStation 3</td>\n",
       "      <td>8.5</td>\n",
       "      <td>Sports</td>\n",
       "      <td>N</td>\n",
       "      <td>2012</td>\n",
       "      <td>9</td>\n",
       "      <td>11</td>\n",
       "    </tr>\n",
       "  </tbody>\n",
       "</table>\n",
       "</div>"
      ],
      "text/plain": [
       "                    id score_phrase  \\\n",
       "0  5249979066121302517      Amazing   \n",
       "1  7399589116837456607      Amazing   \n",
       "2   582057716445789124        Great   \n",
       "3  1087608058291172412        Great   \n",
       "4  7018639715332314491        Great   \n",
       "\n",
       "                                               title  \\\n",
       "0                            LittleBigPlanet PS Vita   \n",
       "1  LittleBigPlanet PS Vita -- Marvel Super Hero E...   \n",
       "2                               Splice: Tree of Life   \n",
       "3                                             NHL 13   \n",
       "4                                             NHL 13   \n",
       "\n",
       "                                                 url          platform  score  \\\n",
       "0             /games/littlebigplanet-vita/vita-98907  PlayStation Vita    9.0   \n",
       "1  /games/littlebigplanet-ps-vita-marvel-super-he...  PlayStation Vita    9.0   \n",
       "2                          /games/splice/ipad-141070              iPad    8.5   \n",
       "3                      /games/nhl-13/xbox-360-128182          Xbox 360    8.5   \n",
       "4                           /games/nhl-13/ps3-128181     PlayStation 3    8.5   \n",
       "\n",
       "        genre editors_choice  release_year  release_month  release_day  \n",
       "0  Platformer              Y          2012              9           12  \n",
       "1  Platformer              Y          2012              9           12  \n",
       "2      Puzzle              N          2012              9           12  \n",
       "3      Sports              N          2012              9           11  \n",
       "4      Sports              N          2012              9           11  "
      ]
     },
     "execution_count": 14,
     "metadata": {},
     "output_type": "execute_result"
    }
   ],
   "source": [
    "import pandas as pd\n",
    "df = pd.read_csv('ign.csv')\n",
    "df.head()"
   ]
  },
  {
   "cell_type": "code",
   "execution_count": 28,
   "metadata": {},
   "outputs": [
    {
     "data": {
      "text/plain": [
       "array([ 9. ,  8.5,  7. ,  3. ,  7.5,  6.5,  8. ,  5.5,  8.7,  4.9,  9.6,\n",
       "        7.3,  9.2,  7.9,  6.9,  9.1,  9.5,  6. ,  2.5,  8.2,  8.8,  4. ,\n",
       "        3.9,  7.1,  5.8,  7.2,  8.3,  7.6,  9.3,  6.8,  2.3,  4.5,  5. ,\n",
       "        7.4,  6.6,  6.7,  6.2,  5.3,  9.8,  9.4,  7.8,  8.4,  5.2,  4.7,\n",
       "        6.3,  7.7,  6.4,  4.1,  8.6,  8.1,  5.6,  8.9,  4.2,  3.8,  5.9,\n",
       "        2. ,  1. ,  9.7,  5.4,  4.3,  3.7,  3.5,  2.9,  3.2,  5.7,  0.7,\n",
       "        6.1,  1.8,  4.6,  2.8,  4.8, 10. ,  5.1,  4.4,  3.6,  1.5,  3.4,\n",
       "        2.7,  3.3,  2.2,  2.1,  2.6,  1.9,  3.1,  1.3,  9.9,  2.4,  1.2,\n",
       "        1.1,  0.5,  1.7,  1.4,  0.8])"
      ]
     },
     "execution_count": 28,
     "metadata": {},
     "output_type": "execute_result"
    }
   ],
   "source": [
    "df['score'].unique()"
   ]
  },
  {
   "cell_type": "markdown",
   "metadata": {},
   "source": [
    "### Adding the id Field"
   ]
  },
  {
   "cell_type": "code",
   "execution_count": 12,
   "metadata": {},
   "outputs": [
    {
     "name": "stdout",
     "output_type": "stream",
     "text": [
      "[('id',)]\n"
     ]
    }
   ],
   "source": [
    "conn = psycopg2.connect(\"user=dq dbname=dq host=localhost password=dq\")\n",
    "cur = conn.cursor()\n",
    "\n",
    "# We will use BIGINT data type for id since it takes appx. 63 bits/8 bytes of storage\n",
    "cur.execute(\"DROP TABLE IF EXISTS ign_reviews\")\n",
    "cur.execute(\"CREATE TABLE ign_reviews (id BIGINT PRIMARY KEY);\")\n",
    "cur.execute(\"SELECT COLUMN_NAME FROM information_schema.COLUMNS WHERE TABLE_NAME = 'ign_reviews';\")\n",
    "conn.commit()\n",
    "print(cur.fetchall())\n",
    "conn.close()"
   ]
  },
  {
   "cell_type": "markdown",
   "metadata": {},
   "source": [
    "### Finding the Max Length"
   ]
  },
  {
   "cell_type": "code",
   "execution_count": 1,
   "metadata": {},
   "outputs": [
    {
     "name": "stdout",
     "output_type": "stream",
     "text": [
      "[['5249979066121302517', 'Amazing', 'LittleBigPlanet PS Vita', '/games/littlebigplanet-vita/vita-98907', 'PlayStation Vita', '9.0', 'Platformer', 'Y', '2012', '9', '12'], ['7399589116837456607', 'Amazing', 'LittleBigPlanet PS Vita -- Marvel Super Hero Edition', '/games/littlebigplanet-ps-vita-marvel-super-hero-edition/vita-20027059', 'PlayStation Vita', '9.0', 'Platformer', 'Y', '2012', '9', '12'], ['582057716445789124', 'Great', 'Splice: Tree of Life', '/games/splice/ipad-141070', 'iPad', '8.5', 'Puzzle', 'N', '2012', '9', '12'], ['1087608058291172412', 'Great', 'NHL 13', '/games/nhl-13/xbox-360-128182', 'Xbox 360', '8.5', 'Sports', 'N', '2012', '9', '11'], ['7018639715332314491', 'Great', 'NHL 13', '/games/nhl-13/ps3-128181', 'PlayStation 3', '8.5', 'Sports', 'N', '2012', '9', '11']]\n"
     ]
    }
   ],
   "source": [
    "import csv \n",
    "\n",
    "with open('ign.csv', 'r') as f:\n",
    "    next(f)\n",
    "    reader = csv.reader(f)\n",
    "    print(list(reader)[:5])"
   ]
  },
  {
   "cell_type": "code",
   "execution_count": 13,
   "metadata": {},
   "outputs": [
    {
     "name": "stdout",
     "output_type": "stream",
     "text": [
      "{'Disaster', 'Good', 'Unbearable', 'Great', 'Amazing', 'Masterpiece', 'Bad', 'Mediocre', 'Painful', 'Okay', 'Awful'}\n",
      "11\n"
     ]
    }
   ],
   "source": [
    "import csv \n",
    "\n",
    "with open('ign.csv', 'r') as f:\n",
    "    next(f)\n",
    "    reader = csv.reader(f)\n",
    "    unique_words_in_score = set([row[1] for row in reader])\n",
    "    \n",
    "print(unique_words_in_score)\n",
    "\n",
    "# Getting length of the longest word\n",
    "max_score = max([len(x) for x in unique_words_in_score])\n",
    "max_score"
   ]
  },
  {
   "cell_type": "markdown",
   "metadata": {},
   "source": [
    "### Max String-like Datatypes"
   ]
  },
  {
   "cell_type": "code",
   "execution_count": 21,
   "metadata": {},
   "outputs": [
    {
     "name": "stdout",
     "output_type": "stream",
     "text": [
      "[('id',), ('score_phrase',)]\n"
     ]
    }
   ],
   "source": [
    "conn = psycopg2.connect(\"user=dq dbname=dq host=localhost password=dq\")\n",
    "cur = conn.cursor()\n",
    "\n",
    "# We will use varchar(n) data type for score_phrase since it takes MAX. 11 characters and \n",
    "# it will provide for data validation.\n",
    "\n",
    "cur.execute(\"DROP TABLE IF EXISTS ign_reviews\")\n",
    "cur.execute(\"CREATE TABLE ign_reviews (id BIGINT PRIMARY KEY, score_phrase varchar(11));\")\n",
    "conn.commit()\n",
    "\n",
    "cur.execute(\"SELECT COLUMN_NAME FROM information_schema.COLUMNS WHERE TABLE_NAME = 'ign_reviews';\")\n",
    "print(cur.fetchall())\n",
    "\n",
    "conn.close()"
   ]
  },
  {
   "cell_type": "markdown",
   "metadata": {},
   "source": [
    "### Creating the Other String Fields"
   ]
  },
  {
   "cell_type": "code",
   "execution_count": 22,
   "metadata": {},
   "outputs": [
    {
     "name": "stdout",
     "output_type": "stream",
     "text": [
      "20\n",
      "25\n"
     ]
    }
   ],
   "source": [
    "with open('ign.csv', 'r') as f:\n",
    "    next(f)\n",
    "    reader = csv.reader(f)    \n",
    "    rows = [row for row in reader]\n",
    "    \n",
    "len_characters_for_platform = [len(row[4]) for row in rows]\n",
    "max_platform = max(len_characters_for_platform)\n",
    "\n",
    "len_characters_for_genre = [len(row[6]) for row in rows]\n",
    "max_genre = max(len_characters_for_genre)\n",
    "\n",
    "print(max_platform)\n",
    "print(max_genre)"
   ]
  },
  {
   "cell_type": "code",
   "execution_count": 23,
   "metadata": {},
   "outputs": [
    {
     "name": "stdout",
     "output_type": "stream",
     "text": [
      "[('id',), ('score_phrase',), ('title',), ('url',), ('platform',), ('genre',)]\n"
     ]
    }
   ],
   "source": [
    "conn = psycopg2.connect(\"user=dq dbname=dq host=localhost password=dq\")\n",
    "cur = conn.cursor()\n",
    "\n",
    "# We will use varchar(n) data type for platform and genre since it takes MAX. 20 and 25 characters resp. and \n",
    "# it will provide for data validation.\n",
    "cur.execute(\"DROP TABLE IF EXISTS ign_reviews\")\n",
    "cur.execute(\"\"\"\n",
    "CREATE TABLE ign_reviews (\n",
    "id BIGINT PRIMARY KEY, \n",
    "score_phrase varchar(11),\n",
    "title TEXT,\n",
    "url TEXT,\n",
    "platform VARCHAR(20),\n",
    "genre VARCHAR(25));\"\"\")\n",
    "conn.commit()\n",
    "\n",
    "cur.execute(\"SELECT COLUMN_NAME FROM information_schema.COLUMNS WHERE TABLE_NAME = 'ign_reviews';\")\n",
    "print(cur.fetchall())\n",
    "\n",
    "conn.close()"
   ]
  },
  {
   "cell_type": "markdown",
   "metadata": {},
   "source": [
    "### Float-like types"
   ]
  },
  {
   "cell_type": "code",
   "execution_count": 24,
   "metadata": {},
   "outputs": [
    {
     "name": "stdout",
     "output_type": "stream",
     "text": [
      "[('id',), ('score_phrase',), ('title',), ('url',), ('platform',), ('genre',), ('score',)]\n"
     ]
    }
   ],
   "source": [
    "conn = psycopg2.connect(\"user=dq dbname=dq host=localhost password=dq\")\n",
    "cur = conn.cursor()\n",
    "\n",
    "# We will use DECIMAL(precision, scale) data type for score. Since, it takes 3 digits total & 1 digit after decimal\n",
    "cur.execute(\"DROP TABLE IF EXISTS ign_reviews\")\n",
    "cur.execute(\"\"\"\n",
    "CREATE TABLE ign_reviews (\n",
    "id BIGINT PRIMARY KEY, \n",
    "score_phrase varchar(11),\n",
    "title TEXT,\n",
    "url TEXT,\n",
    "platform VARCHAR(20),\n",
    "genre VARCHAR(25),\n",
    "score DECIMAL(3, 1));\"\"\")\n",
    "conn.commit()\n",
    "\n",
    "cur.execute(\"SELECT COLUMN_NAME FROM information_schema.COLUMNS WHERE TABLE_NAME = 'ign_reviews';\")\n",
    "print(cur.fetchall())\n",
    "\n",
    "conn.close()"
   ]
  },
  {
   "cell_type": "markdown",
   "metadata": {},
   "source": [
    "### Boolean Types"
   ]
  },
  {
   "cell_type": "code",
   "execution_count": 26,
   "metadata": {},
   "outputs": [
    {
     "name": "stdout",
     "output_type": "stream",
     "text": [
      "[('id',), ('score_phrase',), ('title',), ('url',), ('platform',), ('score',), ('genre',), ('editors_choice',)]\n"
     ]
    }
   ],
   "source": [
    "conn = psycopg2.connect(\"user=dq dbname=dq host=localhost password=dq\")\n",
    "cur = conn.cursor()\n",
    "\n",
    "# We will use BOOLEAN data type for editors_choice. Since, it takes boolean value of Y or N only\n",
    "cur.execute(\"DROP TABLE IF EXISTS ign_reviews\")\n",
    "cur.execute(\"\"\"\n",
    "CREATE TABLE ign_reviews (\n",
    "id BIGINT PRIMARY KEY, \n",
    "score_phrase varchar(11),\n",
    "title TEXT,\n",
    "url TEXT,\n",
    "platform VARCHAR(20),\n",
    "score DECIMAL(3, 1),\n",
    "genre VARCHAR(25),\n",
    "editors_choice BOOLEAN);\"\"\")\n",
    "conn.commit()\n",
    "\n",
    "cur.execute(\"SELECT COLUMN_NAME FROM information_schema.COLUMNS WHERE TABLE_NAME = 'ign_reviews';\")\n",
    "print(cur.fetchall())\n",
    "\n",
    "conn.close()"
   ]
  },
  {
   "cell_type": "markdown",
   "metadata": {},
   "source": [
    "### Date Type"
   ]
  },
  {
   "cell_type": "code",
   "execution_count": 29,
   "metadata": {},
   "outputs": [
    {
     "name": "stdout",
     "output_type": "stream",
     "text": [
      "[('id',), ('score_phrase',), ('title',), ('url',), ('platform',), ('score',), ('genre',), ('editors_choice',), ('release_date',)]\n"
     ]
    }
   ],
   "source": [
    "conn = psycopg2.connect(\"user=dq dbname=dq host=localhost password=dq\")\n",
    "cur = conn.cursor()\n",
    "\n",
    "# We will use DATE data type for release_date. And, combine the 3 columns into one using INSERT \n",
    "# with string interpolation\n",
    "cur.execute(\"DROP TABLE IF EXISTS ign_reviews\")\n",
    "cur.execute(\"\"\"\n",
    "CREATE TABLE ign_reviews (\n",
    "id BIGINT PRIMARY KEY, \n",
    "score_phrase varchar(11),\n",
    "title TEXT,\n",
    "url TEXT,\n",
    "platform VARCHAR(20),\n",
    "score DECIMAL(3, 1),\n",
    "genre VARCHAR(25),\n",
    "editors_choice BOOLEAN,\n",
    "release_date DATE);\"\"\")\n",
    "\n",
    "from datetime import date\n",
    "import csv\n",
    "\n",
    "with open('ign.csv', 'r') as f:\n",
    "    next(f)\n",
    "    reader = csv.reader(f)\n",
    "    for row in reader:\n",
    "        updated_row = row[:8]\n",
    "        updated_row.append(date(int(row[8]), int(row[9]), int(row[10])))\n",
    "        cur.execute(\"INSERT INTO ign_reviews VALUES (%s, %s, %s, %s, %s, %s, %s, %s, %s)\", updated_row)\n",
    "\n",
    "conn.commit()\n",
    "\n",
    "cur.execute(\"SELECT COLUMN_NAME FROM information_schema.COLUMNS WHERE TABLE_NAME = 'ign_reviews';\")\n",
    "print(cur.fetchall())\n",
    "\n",
    "conn.close()"
   ]
  },
  {
   "cell_type": "markdown",
   "metadata": {},
   "source": [
    "# Loading and Extracting Data with Tables"
   ]
  },
  {
   "cell_type": "code",
   "execution_count": 25,
   "metadata": {},
   "outputs": [
    {
     "name": "stdout",
     "output_type": "stream",
     "text": [
      "[('id',), ('score_phrase',), ('title',), ('url',), ('platform',), ('score',), ('genre',), ('editors_choice',), ('release_year',), ('release_month',), ('release_day',)]\n",
      "[(5249979066121302517, 'Amazing', 'LittleBigPlanet PS Vita', '/games/littlebigplanet-vita/vita-98907', 'PlayStation Vita', Decimal('9.0'), 'Platformer', True, 2012, 9, 12), (7399589116837456607, 'Amazing', 'LittleBigPlanet PS Vita -- Marvel Super Hero Edition', '/games/littlebigplanet-ps-vita-marvel-super-hero-edition/vita-20027059', 'PlayStation Vita', Decimal('9.0'), 'Platformer', True, 2012, 9, 12)]\n"
     ]
    }
   ],
   "source": [
    "# Getting that old table (old_ign_reviews) with seperate datetime elements.\n",
    "\n",
    "conn = psycopg2.connect(\"user=dq dbname=dq host=localhost password=dq\")\n",
    "cur = conn.cursor()\n",
    "\n",
    "cur.execute(\"DROP TABLE IF EXISTS old_ign_reviews\")\n",
    "cur.execute(\"\"\"\n",
    "CREATE TABLE old_ign_reviews (\n",
    "id BIGINT PRIMARY KEY, \n",
    "score_phrase varchar(11),\n",
    "title TEXT,\n",
    "url TEXT,\n",
    "platform VARCHAR(20),\n",
    "score DECIMAL(3, 1),\n",
    "genre VARCHAR(25),\n",
    "editors_choice BOOLEAN,\n",
    "release_year smallint,\n",
    "release_month smallint,\n",
    "release_day smallint);\"\"\")\n",
    "\n",
    "from datetime import date\n",
    "import csv\n",
    "\n",
    "with open('ign.csv', 'r') as f:\n",
    "    cur.copy_expert('COPY old_ign_reviews FROM STDIN WITH CSV HEADER', f)\n",
    "\n",
    "conn.commit()\n",
    "\n",
    "cur.execute(\"SELECT COLUMN_NAME FROM information_schema.COLUMNS WHERE TABLE_NAME = 'old_ign_reviews';\")\n",
    "print(cur.fetchall())\n",
    "\n",
    "cur.execute(\"SELECT * FROM old_ign_reviews LIMIT 2;\")\n",
    "print(cur.fetchall())\n",
    "conn.close()"
   ]
  },
  {
   "cell_type": "code",
   "execution_count": 3,
   "metadata": {},
   "outputs": [
    {
     "name": "stdout",
     "output_type": "stream",
     "text": [
      "(18625, 9)\n"
     ]
    },
    {
     "data": {
      "text/html": [
       "<div>\n",
       "<style scoped>\n",
       "    .dataframe tbody tr th:only-of-type {\n",
       "        vertical-align: middle;\n",
       "    }\n",
       "\n",
       "    .dataframe tbody tr th {\n",
       "        vertical-align: top;\n",
       "    }\n",
       "\n",
       "    .dataframe thead th {\n",
       "        text-align: right;\n",
       "    }\n",
       "</style>\n",
       "<table border=\"1\" class=\"dataframe\">\n",
       "  <thead>\n",
       "    <tr style=\"text-align: right;\">\n",
       "      <th></th>\n",
       "      <th>id</th>\n",
       "      <th>score_phrase</th>\n",
       "      <th>title</th>\n",
       "      <th>url</th>\n",
       "      <th>platform</th>\n",
       "      <th>score</th>\n",
       "      <th>genre</th>\n",
       "      <th>editors_choice</th>\n",
       "      <th>release_date</th>\n",
       "    </tr>\n",
       "  </thead>\n",
       "  <tbody>\n",
       "    <tr>\n",
       "      <th>0</th>\n",
       "      <td>5249979066121302517</td>\n",
       "      <td>Amazing</td>\n",
       "      <td>LittleBigPlanet PS Vita</td>\n",
       "      <td>/games/littlebigplanet-vita/vita-98907</td>\n",
       "      <td>PlayStation Vita</td>\n",
       "      <td>9.0</td>\n",
       "      <td>Platformer</td>\n",
       "      <td>Y</td>\n",
       "      <td>2012-09-12</td>\n",
       "    </tr>\n",
       "    <tr>\n",
       "      <th>1</th>\n",
       "      <td>7399589116837456607</td>\n",
       "      <td>Amazing</td>\n",
       "      <td>LittleBigPlanet PS Vita -- Marvel Super Hero E...</td>\n",
       "      <td>/games/littlebigplanet-ps-vita-marvel-super-he...</td>\n",
       "      <td>PlayStation Vita</td>\n",
       "      <td>9.0</td>\n",
       "      <td>Platformer</td>\n",
       "      <td>Y</td>\n",
       "      <td>2012-09-12</td>\n",
       "    </tr>\n",
       "    <tr>\n",
       "      <th>2</th>\n",
       "      <td>582057716445789124</td>\n",
       "      <td>Great</td>\n",
       "      <td>Splice: Tree of Life</td>\n",
       "      <td>/games/splice/ipad-141070</td>\n",
       "      <td>iPad</td>\n",
       "      <td>8.5</td>\n",
       "      <td>Puzzle</td>\n",
       "      <td>N</td>\n",
       "      <td>2012-09-12</td>\n",
       "    </tr>\n",
       "    <tr>\n",
       "      <th>3</th>\n",
       "      <td>1087608058291172412</td>\n",
       "      <td>Great</td>\n",
       "      <td>NHL 13</td>\n",
       "      <td>/games/nhl-13/xbox-360-128182</td>\n",
       "      <td>Xbox 360</td>\n",
       "      <td>8.5</td>\n",
       "      <td>Sports</td>\n",
       "      <td>N</td>\n",
       "      <td>2012-09-11</td>\n",
       "    </tr>\n",
       "    <tr>\n",
       "      <th>4</th>\n",
       "      <td>7018639715332314491</td>\n",
       "      <td>Great</td>\n",
       "      <td>NHL 13</td>\n",
       "      <td>/games/nhl-13/ps3-128181</td>\n",
       "      <td>PlayStation 3</td>\n",
       "      <td>8.5</td>\n",
       "      <td>Sports</td>\n",
       "      <td>N</td>\n",
       "      <td>2012-09-11</td>\n",
       "    </tr>\n",
       "  </tbody>\n",
       "</table>\n",
       "</div>"
      ],
      "text/plain": [
       "                    id score_phrase  \\\n",
       "0  5249979066121302517      Amazing   \n",
       "1  7399589116837456607      Amazing   \n",
       "2   582057716445789124        Great   \n",
       "3  1087608058291172412        Great   \n",
       "4  7018639715332314491        Great   \n",
       "\n",
       "                                               title  \\\n",
       "0                            LittleBigPlanet PS Vita   \n",
       "1  LittleBigPlanet PS Vita -- Marvel Super Hero E...   \n",
       "2                               Splice: Tree of Life   \n",
       "3                                             NHL 13   \n",
       "4                                             NHL 13   \n",
       "\n",
       "                                                 url          platform  score  \\\n",
       "0             /games/littlebigplanet-vita/vita-98907  PlayStation Vita    9.0   \n",
       "1  /games/littlebigplanet-ps-vita-marvel-super-he...  PlayStation Vita    9.0   \n",
       "2                          /games/splice/ipad-141070              iPad    8.5   \n",
       "3                      /games/nhl-13/xbox-360-128182          Xbox 360    8.5   \n",
       "4                           /games/nhl-13/ps3-128181     PlayStation 3    8.5   \n",
       "\n",
       "        genre editors_choice release_date  \n",
       "0  Platformer              Y   2012-09-12  \n",
       "1  Platformer              Y   2012-09-12  \n",
       "2      Puzzle              N   2012-09-12  \n",
       "3      Sports              N   2012-09-11  \n",
       "4      Sports              N   2012-09-11  "
      ]
     },
     "execution_count": 3,
     "metadata": {},
     "output_type": "execute_result"
    }
   ],
   "source": [
    "# ign1.csv contains new csv file with single column for Date\n",
    "\n",
    "import pandas as pd\n",
    "df1 = pd.read_csv('ign1.csv')\n",
    "print(df1.shape)\n",
    "df1.head()"
   ]
  },
  {
   "cell_type": "markdown",
   "metadata": {},
   "source": [
    "### Prepared Insert with multiple execute and insert"
   ]
  },
  {
   "cell_type": "code",
   "execution_count": 6,
   "metadata": {},
   "outputs": [
    {
     "name": "stdout",
     "output_type": "stream",
     "text": [
      "[('id',), ('score_phrase',), ('title',), ('url',), ('platform',), ('score',), ('genre',), ('editors_choice',), ('release_date',)]\n",
      "[(5249979066121302517, 'Amazing', 'PlayStation Vita', Decimal('9.0'), 'Platformer', True, datetime.date(2012, 9, 12)), (7399589116837456607, 'Amazing', 'PlayStation Vita', Decimal('9.0'), 'Platformer', True, datetime.date(2012, 9, 12)), (582057716445789124, 'Great', 'iPad', Decimal('8.5'), 'Puzzle', False, datetime.date(2012, 9, 12)), (1087608058291172412, 'Great', 'Xbox 360', Decimal('8.5'), 'Sports', False, datetime.date(2012, 9, 11)), (7018639715332314491, 'Great', 'PlayStation 3', Decimal('8.5'), 'Sports', False, datetime.date(2012, 9, 11))]\n"
     ]
    }
   ],
   "source": [
    "import psycopg2\n",
    "import csv\n",
    "\n",
    "conn = psycopg2.connect(\"user=dq dbname=dq host=localhost password=dq\")\n",
    "cur = conn.cursor()\n",
    "\n",
    "cur.execute(\"DROP TABLE IF EXISTS ign_reviews\")\n",
    "cur.execute(\"\"\"\n",
    "CREATE TABLE ign_reviews (\n",
    "id BIGINT PRIMARY KEY, \n",
    "score_phrase varchar(11),\n",
    "title TEXT,\n",
    "url TEXT,\n",
    "platform VARCHAR(20),\n",
    "score DECIMAL(3, 1),\n",
    "genre VARCHAR(25),\n",
    "editors_choice BOOLEAN,\n",
    "release_date DATE);\"\"\")\n",
    "\n",
    "from datetime import date\n",
    "import csv\n",
    "\n",
    "with open('ign1.csv', 'r') as f:\n",
    "    next(f)\n",
    "    reader = csv.reader(f)\n",
    "    for row in reader:\n",
    "        cur.execute(\"INSERT INTO ign_reviews VALUES (%s, %s, %s, %s, %s, %s, %s, %s, %s)\", row)\n",
    "\n",
    "conn.commit()\n",
    "\n",
    "cur.execute(\"SELECT COLUMN_NAME FROM information_schema.COLUMNS WHERE TABLE_NAME = 'ign_reviews';\")\n",
    "print(cur.fetchall())\n",
    "\n",
    "cur.execute(\"\"\"\n",
    "SELECT id, score_phrase, platform, score, genre, editors_choice, release_date \n",
    "    from ign_reviews \n",
    "    limit 5;\"\"\")\n",
    "print(cur.fetchall())\n",
    "\n",
    "conn.close()"
   ]
  },
  {
   "cell_type": "markdown",
   "metadata": {},
   "source": [
    "### Faster Inserts with mogrify"
   ]
  },
  {
   "cell_type": "code",
   "execution_count": 7,
   "metadata": {},
   "outputs": [
    {
     "name": "stdout",
     "output_type": "stream",
     "text": [
      "[('id',), ('score_phrase',), ('title',), ('url',), ('platform',), ('score',), ('genre',), ('editors_choice',), ('release_date',)]\n",
      "[(7399589116837456607, 'Amazing', 'PlayStation Vita', Decimal('9.0'), 'Platformer', True, datetime.date(2012, 9, 12)), (582057716445789124, 'Great', 'iPad', Decimal('8.5'), 'Puzzle', False, datetime.date(2012, 9, 12)), (1087608058291172412, 'Great', 'Xbox 360', Decimal('8.5'), 'Sports', False, datetime.date(2012, 9, 11)), (7018639715332314491, 'Great', 'PlayStation 3', Decimal('8.5'), 'Sports', False, datetime.date(2012, 9, 11)), (4355693531291048099, 'Good', 'Macintosh', Decimal('7.0'), 'Strategy', False, datetime.date(2012, 9, 11))]\n"
     ]
    }
   ],
   "source": [
    "conn = psycopg2.connect(\"user=dq dbname=dq host=localhost password=dq\")\n",
    "cur = conn.cursor()\n",
    "\n",
    "cur.execute(\"DROP TABLE IF EXISTS ign_reviews\")\n",
    "cur.execute(\"\"\"\n",
    "CREATE TABLE ign_reviews (\n",
    "id BIGINT PRIMARY KEY, \n",
    "score_phrase varchar(11),\n",
    "title TEXT,\n",
    "url TEXT,\n",
    "platform VARCHAR(20),\n",
    "score DECIMAL(3, 1),\n",
    "genre VARCHAR(25),\n",
    "editors_choice BOOLEAN,\n",
    "release_date DATE);\"\"\")\n",
    "\n",
    "import csv\n",
    "\n",
    "with open('ign1.csv', 'r') as f:\n",
    "    next(f)\n",
    "    reader = csv.reader(f)\n",
    "    for row in reader:\n",
    "        mogrified = [cur.mogrify(\"(%s, %s, %s, %s, %s, %s, %s, %s, %s)\", row).decode('utf-8') for row in reader]\n",
    "\n",
    "mogrified_values = \",\".join(mogrified)\n",
    "cur.execute(\"INSERT INTO ign_reviews VALUES \" + mogrified_values)\n",
    "conn.commit()\n",
    "\n",
    "cur.execute(\"SELECT COLUMN_NAME FROM information_schema.COLUMNS WHERE TABLE_NAME = 'ign_reviews';\")\n",
    "print(cur.fetchall())\n",
    "\n",
    "cur.execute(\"\"\"\n",
    "SELECT id, score_phrase, platform, score, genre, editors_choice, release_date \n",
    "    from ign_reviews \n",
    "    limit 5;\"\"\")\n",
    "print(cur.fetchall())\n",
    "\n",
    "conn.close()"
   ]
  },
  {
   "cell_type": "markdown",
   "metadata": {},
   "source": [
    "### Advanced COPY Statement with copy_expert()"
   ]
  },
  {
   "cell_type": "code",
   "execution_count": 10,
   "metadata": {},
   "outputs": [
    {
     "name": "stdout",
     "output_type": "stream",
     "text": [
      "[('id',), ('score_phrase',), ('title',), ('url',), ('platform',), ('score',), ('genre',), ('editors_choice',), ('release_date',)]\n",
      "[(5249979066121302517, 'Amazing', 'PlayStation Vita', Decimal('9.0'), 'Platformer', True, datetime.date(2012, 9, 12)), (7399589116837456607, 'Amazing', 'PlayStation Vita', Decimal('9.0'), 'Platformer', True, datetime.date(2012, 9, 12)), (582057716445789124, 'Great', 'iPad', Decimal('8.5'), 'Puzzle', False, datetime.date(2012, 9, 12)), (1087608058291172412, 'Great', 'Xbox 360', Decimal('8.5'), 'Sports', False, datetime.date(2012, 9, 11)), (7018639715332314491, 'Great', 'PlayStation 3', Decimal('8.5'), 'Sports', False, datetime.date(2012, 9, 11))]\n"
     ]
    }
   ],
   "source": [
    "# The `cur` object is provided for you.\n",
    "conn = psycopg2.connect(\"dbname=dq user=dq host=localhost password=dq\")\n",
    "cur = conn.cursor()\n",
    "cur.execute(\"DROP TABLE IF EXISTS ign_reviews\")\n",
    "cur.execute(\"\"\"\n",
    "CREATE TABLE ign_reviews (\n",
    "id BIGINT PRIMARY KEY, \n",
    "score_phrase varchar(11),\n",
    "title TEXT,\n",
    "url TEXT,\n",
    "platform VARCHAR(20),\n",
    "score DECIMAL(3, 1),\n",
    "genre VARCHAR(25),\n",
    "editors_choice BOOLEAN,\n",
    "release_date DATE);\"\"\")\n",
    "\n",
    "with open('ign1.csv', 'r') as f:\n",
    "    cur.copy_expert(\"COPY ign_reviews FROM STDIN WITH CSV HEADER\", f)\n",
    "    \n",
    "conn.commit()\n",
    "\n",
    "cur.execute(\"SELECT COLUMN_NAME FROM information_schema.COLUMNS WHERE TABLE_NAME = 'ign_reviews';\")\n",
    "print(cur.fetchall())\n",
    "\n",
    "cur.execute(\"\"\"\n",
    "SELECT id, score_phrase, platform, score, genre, editors_choice, release_date \n",
    "    from ign_reviews \n",
    "    limit 5;\"\"\")\n",
    "print(cur.fetchall())\n",
    "\n",
    "conn.close()"
   ]
  },
  {
   "cell_type": "markdown",
   "metadata": {},
   "source": [
    "### Which method is faster? Finding using time.time()"
   ]
  },
  {
   "cell_type": "code",
   "execution_count": 21,
   "metadata": {},
   "outputs": [
    {
     "name": "stdout",
     "output_type": "stream",
     "text": [
      "Single statment insert:  2.2308835983276367\n"
     ]
    }
   ],
   "source": [
    "import time\n",
    "\n",
    "conn = psycopg2.connect(\"dbname=dq user=dq host=localhost password=dq\")\n",
    "cur = conn.cursor()\n",
    "\n",
    "cur.execute(\"DROP TABLE IF EXISTS ign_reviews\")\n",
    "cur.execute(\"\"\"\n",
    "CREATE TABLE ign_reviews (\n",
    "id BIGINT PRIMARY KEY, \n",
    "score_phrase varchar(11),\n",
    "title TEXT,\n",
    "url TEXT,\n",
    "platform VARCHAR(20),\n",
    "score DECIMAL(3, 1),\n",
    "genre VARCHAR(25),\n",
    "editors_choice BOOLEAN,\n",
    "release_date DATE);\"\"\")\n",
    "\n",
    "# Multiple single insert statements.\n",
    "start = time.time()\n",
    "with open('ign1.csv', 'r') as f:\n",
    "    next(f)\n",
    "    reader = csv.reader(f)\n",
    "    for row in reader:\n",
    "        cur.execute(\n",
    "            \"INSERT INTO ign_reviews VALUES (%s, %s, %s, %s, %s, %s, %s, %s, %s)\",\n",
    "            row\n",
    "        )\n",
    "conn.rollback()\n",
    "print(\"Single statment insert: \", time.time() - start)\n",
    "        \n",
    "# Multiple mogrify insert.\n",
    "# start = time.time()\n",
    "# with open('ign1.csv', 'r') as f:\n",
    "#    next(f)\n",
    "#    reader = csv.reader(f)\n",
    "#    mogrified = [ \n",
    "#        cur.mogrify(\"(%s, %s, %s, %s, %s, %s, %s, %s, %s)\", row).decode('utf-8')\n",
    "#        for row in reader\n",
    "#    ] \n",
    "#    mogrified_values = \",\".join(mogrified) \n",
    "#    cur.execute('INSERT INTO ign_reviews VALUES ' + mogrified_values)\n",
    "# conn.rollback()\n",
    "# print(\"Multiple mogrify insert: \", time.time() - start)\n",
    "\n",
    "        \n",
    "# Copy expert method.\n",
    "# start = time.time()\n",
    "# with open('ign1.csv', 'r') as f:\n",
    "#    cur.copy_expert('COPY ign_reviews FROM STDIN WITH CSV HEADER', f)\n",
    "# conn.rollback()\n",
    "# print(\"Copy expert method: \", time.time() - start)\n",
    "\n",
    "conn.close()"
   ]
  },
  {
   "cell_type": "markdown",
   "metadata": {},
   "source": [
    "### Extracting Table to CSV File using copy_expert()"
   ]
  },
  {
   "cell_type": "code",
   "execution_count": 22,
   "metadata": {},
   "outputs": [
    {
     "name": "stdout",
     "output_type": "stream",
     "text": [
      "(18625, 9)\n"
     ]
    },
    {
     "data": {
      "text/html": [
       "<div>\n",
       "<style scoped>\n",
       "    .dataframe tbody tr th:only-of-type {\n",
       "        vertical-align: middle;\n",
       "    }\n",
       "\n",
       "    .dataframe tbody tr th {\n",
       "        vertical-align: top;\n",
       "    }\n",
       "\n",
       "    .dataframe thead th {\n",
       "        text-align: right;\n",
       "    }\n",
       "</style>\n",
       "<table border=\"1\" class=\"dataframe\">\n",
       "  <thead>\n",
       "    <tr style=\"text-align: right;\">\n",
       "      <th></th>\n",
       "      <th>id</th>\n",
       "      <th>score_phrase</th>\n",
       "      <th>title</th>\n",
       "      <th>url</th>\n",
       "      <th>platform</th>\n",
       "      <th>score</th>\n",
       "      <th>genre</th>\n",
       "      <th>editors_choice</th>\n",
       "      <th>release_date</th>\n",
       "    </tr>\n",
       "  </thead>\n",
       "  <tbody>\n",
       "    <tr>\n",
       "      <th>0</th>\n",
       "      <td>5249979066121302517</td>\n",
       "      <td>Amazing</td>\n",
       "      <td>LittleBigPlanet PS Vita</td>\n",
       "      <td>/games/littlebigplanet-vita/vita-98907</td>\n",
       "      <td>PlayStation Vita</td>\n",
       "      <td>9.0</td>\n",
       "      <td>Platformer</td>\n",
       "      <td>t</td>\n",
       "      <td>2012-09-12</td>\n",
       "    </tr>\n",
       "    <tr>\n",
       "      <th>1</th>\n",
       "      <td>7399589116837456607</td>\n",
       "      <td>Amazing</td>\n",
       "      <td>LittleBigPlanet PS Vita -- Marvel Super Hero E...</td>\n",
       "      <td>/games/littlebigplanet-ps-vita-marvel-super-he...</td>\n",
       "      <td>PlayStation Vita</td>\n",
       "      <td>9.0</td>\n",
       "      <td>Platformer</td>\n",
       "      <td>t</td>\n",
       "      <td>2012-09-12</td>\n",
       "    </tr>\n",
       "    <tr>\n",
       "      <th>2</th>\n",
       "      <td>582057716445789124</td>\n",
       "      <td>Great</td>\n",
       "      <td>Splice: Tree of Life</td>\n",
       "      <td>/games/splice/ipad-141070</td>\n",
       "      <td>iPad</td>\n",
       "      <td>8.5</td>\n",
       "      <td>Puzzle</td>\n",
       "      <td>f</td>\n",
       "      <td>2012-09-12</td>\n",
       "    </tr>\n",
       "    <tr>\n",
       "      <th>3</th>\n",
       "      <td>1087608058291172412</td>\n",
       "      <td>Great</td>\n",
       "      <td>NHL 13</td>\n",
       "      <td>/games/nhl-13/xbox-360-128182</td>\n",
       "      <td>Xbox 360</td>\n",
       "      <td>8.5</td>\n",
       "      <td>Sports</td>\n",
       "      <td>f</td>\n",
       "      <td>2012-09-11</td>\n",
       "    </tr>\n",
       "    <tr>\n",
       "      <th>4</th>\n",
       "      <td>7018639715332314491</td>\n",
       "      <td>Great</td>\n",
       "      <td>NHL 13</td>\n",
       "      <td>/games/nhl-13/ps3-128181</td>\n",
       "      <td>PlayStation 3</td>\n",
       "      <td>8.5</td>\n",
       "      <td>Sports</td>\n",
       "      <td>f</td>\n",
       "      <td>2012-09-11</td>\n",
       "    </tr>\n",
       "  </tbody>\n",
       "</table>\n",
       "</div>"
      ],
      "text/plain": [
       "                    id score_phrase  \\\n",
       "0  5249979066121302517      Amazing   \n",
       "1  7399589116837456607      Amazing   \n",
       "2   582057716445789124        Great   \n",
       "3  1087608058291172412        Great   \n",
       "4  7018639715332314491        Great   \n",
       "\n",
       "                                               title  \\\n",
       "0                            LittleBigPlanet PS Vita   \n",
       "1  LittleBigPlanet PS Vita -- Marvel Super Hero E...   \n",
       "2                               Splice: Tree of Life   \n",
       "3                                             NHL 13   \n",
       "4                                             NHL 13   \n",
       "\n",
       "                                                 url          platform  score  \\\n",
       "0             /games/littlebigplanet-vita/vita-98907  PlayStation Vita    9.0   \n",
       "1  /games/littlebigplanet-ps-vita-marvel-super-he...  PlayStation Vita    9.0   \n",
       "2                          /games/splice/ipad-141070              iPad    8.5   \n",
       "3                      /games/nhl-13/xbox-360-128182          Xbox 360    8.5   \n",
       "4                           /games/nhl-13/ps3-128181     PlayStation 3    8.5   \n",
       "\n",
       "        genre editors_choice release_date  \n",
       "0  Platformer              t   2012-09-12  \n",
       "1  Platformer              t   2012-09-12  \n",
       "2      Puzzle              f   2012-09-12  \n",
       "3      Sports              f   2012-09-11  \n",
       "4      Sports              f   2012-09-11  "
      ]
     },
     "execution_count": 22,
     "metadata": {},
     "output_type": "execute_result"
    }
   ],
   "source": [
    "import pandas as pd\n",
    "conn = psycopg2.connect(\"dbname=dq user=dq host=localhost password=dq\")\n",
    "cur = conn.cursor()\n",
    "\n",
    "with open('ign2.csv', 'w') as f:\n",
    "    cur.copy_expert(\"COPY ign_reviews TO STDOUT WITH CSV HEADER\", f)\n",
    "    \n",
    "conn.commit()\n",
    "conn.close()\n",
    "\n",
    "# Now ign1.csv and ign2.csv both are with one column for date\n",
    "df = pd.read_csv('ign2.csv')\n",
    "print(df.shape)\n",
    "df.head(5)"
   ]
  },
  {
   "cell_type": "code",
   "execution_count": 28,
   "metadata": {},
   "outputs": [
    {
     "name": "stdout",
     "output_type": "stream",
     "text": [
      "(18625, 11)\n"
     ]
    },
    {
     "data": {
      "text/html": [
       "<div>\n",
       "<style scoped>\n",
       "    .dataframe tbody tr th:only-of-type {\n",
       "        vertical-align: middle;\n",
       "    }\n",
       "\n",
       "    .dataframe tbody tr th {\n",
       "        vertical-align: top;\n",
       "    }\n",
       "\n",
       "    .dataframe thead th {\n",
       "        text-align: right;\n",
       "    }\n",
       "</style>\n",
       "<table border=\"1\" class=\"dataframe\">\n",
       "  <thead>\n",
       "    <tr style=\"text-align: right;\">\n",
       "      <th></th>\n",
       "      <th>id</th>\n",
       "      <th>score_phrase</th>\n",
       "      <th>title</th>\n",
       "      <th>url</th>\n",
       "      <th>platform</th>\n",
       "      <th>score</th>\n",
       "      <th>genre</th>\n",
       "      <th>editors_choice</th>\n",
       "      <th>release_year</th>\n",
       "      <th>release_month</th>\n",
       "      <th>release_day</th>\n",
       "    </tr>\n",
       "  </thead>\n",
       "  <tbody>\n",
       "    <tr>\n",
       "      <th>0</th>\n",
       "      <td>5249979066121302517</td>\n",
       "      <td>Amazing</td>\n",
       "      <td>LittleBigPlanet PS Vita</td>\n",
       "      <td>/games/littlebigplanet-vita/vita-98907</td>\n",
       "      <td>PlayStation Vita</td>\n",
       "      <td>9.0</td>\n",
       "      <td>Platformer</td>\n",
       "      <td>t</td>\n",
       "      <td>2012</td>\n",
       "      <td>9</td>\n",
       "      <td>12</td>\n",
       "    </tr>\n",
       "    <tr>\n",
       "      <th>1</th>\n",
       "      <td>7399589116837456607</td>\n",
       "      <td>Amazing</td>\n",
       "      <td>LittleBigPlanet PS Vita -- Marvel Super Hero E...</td>\n",
       "      <td>/games/littlebigplanet-ps-vita-marvel-super-he...</td>\n",
       "      <td>PlayStation Vita</td>\n",
       "      <td>9.0</td>\n",
       "      <td>Platformer</td>\n",
       "      <td>t</td>\n",
       "      <td>2012</td>\n",
       "      <td>9</td>\n",
       "      <td>12</td>\n",
       "    </tr>\n",
       "    <tr>\n",
       "      <th>2</th>\n",
       "      <td>582057716445789124</td>\n",
       "      <td>Great</td>\n",
       "      <td>Splice: Tree of Life</td>\n",
       "      <td>/games/splice/ipad-141070</td>\n",
       "      <td>iPad</td>\n",
       "      <td>8.5</td>\n",
       "      <td>Puzzle</td>\n",
       "      <td>f</td>\n",
       "      <td>2012</td>\n",
       "      <td>9</td>\n",
       "      <td>12</td>\n",
       "    </tr>\n",
       "    <tr>\n",
       "      <th>3</th>\n",
       "      <td>1087608058291172412</td>\n",
       "      <td>Great</td>\n",
       "      <td>NHL 13</td>\n",
       "      <td>/games/nhl-13/xbox-360-128182</td>\n",
       "      <td>Xbox 360</td>\n",
       "      <td>8.5</td>\n",
       "      <td>Sports</td>\n",
       "      <td>f</td>\n",
       "      <td>2012</td>\n",
       "      <td>9</td>\n",
       "      <td>11</td>\n",
       "    </tr>\n",
       "    <tr>\n",
       "      <th>4</th>\n",
       "      <td>7018639715332314491</td>\n",
       "      <td>Great</td>\n",
       "      <td>NHL 13</td>\n",
       "      <td>/games/nhl-13/ps3-128181</td>\n",
       "      <td>PlayStation 3</td>\n",
       "      <td>8.5</td>\n",
       "      <td>Sports</td>\n",
       "      <td>f</td>\n",
       "      <td>2012</td>\n",
       "      <td>9</td>\n",
       "      <td>11</td>\n",
       "    </tr>\n",
       "  </tbody>\n",
       "</table>\n",
       "</div>"
      ],
      "text/plain": [
       "                    id score_phrase  \\\n",
       "0  5249979066121302517      Amazing   \n",
       "1  7399589116837456607      Amazing   \n",
       "2   582057716445789124        Great   \n",
       "3  1087608058291172412        Great   \n",
       "4  7018639715332314491        Great   \n",
       "\n",
       "                                               title  \\\n",
       "0                            LittleBigPlanet PS Vita   \n",
       "1  LittleBigPlanet PS Vita -- Marvel Super Hero E...   \n",
       "2                               Splice: Tree of Life   \n",
       "3                                             NHL 13   \n",
       "4                                             NHL 13   \n",
       "\n",
       "                                                 url          platform  score  \\\n",
       "0             /games/littlebigplanet-vita/vita-98907  PlayStation Vita    9.0   \n",
       "1  /games/littlebigplanet-ps-vita-marvel-super-he...  PlayStation Vita    9.0   \n",
       "2                          /games/splice/ipad-141070              iPad    8.5   \n",
       "3                      /games/nhl-13/xbox-360-128182          Xbox 360    8.5   \n",
       "4                           /games/nhl-13/ps3-128181     PlayStation 3    8.5   \n",
       "\n",
       "        genre editors_choice  release_year  release_month  release_day  \n",
       "0  Platformer              t          2012              9           12  \n",
       "1  Platformer              t          2012              9           12  \n",
       "2      Puzzle              f          2012              9           12  \n",
       "3      Sports              f          2012              9           11  \n",
       "4      Sports              f          2012              9           11  "
      ]
     },
     "execution_count": 28,
     "metadata": {},
     "output_type": "execute_result"
    }
   ],
   "source": [
    "conn = psycopg2.connect(\"dbname=dq user=dq host=localhost password=dq\")\n",
    "cur = conn.cursor()\n",
    "\n",
    "with open('old_ign_reviews.csv', 'w') as f:\n",
    "    cur.copy_expert(\"COPY old_ign_reviews TO STDOUT WITH CSV HEADER\", f)\n",
    "    \n",
    "conn.commit()\n",
    "conn.close()\n",
    "\n",
    "# Now old_ign_reviews.csv has seperate datetime elements \n",
    "df = pd.read_csv('old_ign_reviews.csv')\n",
    "print(df.shape)\n",
    "df.head(5)"
   ]
  },
  {
   "cell_type": "markdown",
   "metadata": {},
   "source": [
    "### Transform an old table to a new table using copy_expert"
   ]
  },
  {
   "cell_type": "code",
   "execution_count": 30,
   "metadata": {
    "scrolled": true
   },
   "outputs": [
    {
     "name": "stdout",
     "output_type": "stream",
     "text": [
      "[('id',), ('score_phrase',), ('title',), ('url',), ('platform',), ('score',), ('genre',), ('editors_choice',), ('release_date',)]\n",
      "\n",
      "[(5249979066121302517, 'Amazing', 'LittleBigPlanet PS Vita', '/games/littlebigplanet-vita/vita-98907', 'PlayStation Vita', Decimal('9.0'), 'Platformer', True, datetime.date(2012, 9, 12)), (7399589116837456607, 'Amazing', 'LittleBigPlanet PS Vita -- Marvel Super Hero Edition', '/games/littlebigplanet-ps-vita-marvel-super-hero-edition/vita-20027059', 'PlayStation Vita', Decimal('9.0'), 'Platformer', True, datetime.date(2012, 9, 12))]\n"
     ]
    }
   ],
   "source": [
    "import csv\n",
    "conn = psycopg2.connect(\"user=dq dbname=dq host=localhost password=dq\")\n",
    "cur = conn.cursor()\n",
    "\n",
    "cur.execute(\"DROP TABLE IF EXISTS ign_reviews\")\n",
    "cur.execute(\"\"\"\n",
    "CREATE TABLE ign_reviews (\n",
    "id BIGINT PRIMARY KEY, \n",
    "score_phrase varchar(11),\n",
    "title TEXT,\n",
    "url TEXT,\n",
    "platform VARCHAR(20),\n",
    "score DECIMAL(3, 1),\n",
    "genre VARCHAR(25),\n",
    "editors_choice BOOLEAN,\n",
    "release_date DATE);\"\"\")\n",
    "\n",
    "with open('old_ign_reviews.csv', 'r+') as f:\n",
    "    cur.copy_expert(\"COPY old_ign_reviews TO STDOUT WITH CSV HEADER\", f)\n",
    "    \n",
    "    f.seek(0)\n",
    "    reader = csv.reader(f)\n",
    "    next(reader)\n",
    "    \n",
    "    for row in reader:\n",
    "        updated_row = row[:8]\n",
    "        updated_row.append(date(int(row[8]), int(row[9]), int(row[10])))\n",
    "        cur.execute(\"INSERT INTO ign_reviews VALUES (%s, %s, %s, %s, %s, %s, %s, %s, %s)\", updated_row)\n",
    "    conn.commit()\n",
    "    \n",
    "# Printing Column Names\n",
    "cur.execute(\"SELECT COLUMN_NAME FROM information_schema.COLUMNS WHERE TABLE_NAME = 'ign_reviews';\")\n",
    "print(cur.fetchall())\n",
    "print()\n",
    "\n",
    "# Printing First two rows\n",
    "cur.execute(\"SELECT * FROM ign_reviews LIMIT 2;\")\n",
    "print(cur.fetchall())\n",
    "\n",
    "conn.close()"
   ]
  },
  {
   "cell_type": "markdown",
   "metadata": {},
   "source": [
    "### Insert  Into Table with SELECT"
   ]
  },
  {
   "cell_type": "code",
   "execution_count": 32,
   "metadata": {},
   "outputs": [
    {
     "name": "stdout",
     "output_type": "stream",
     "text": [
      "[('id',), ('score_phrase',), ('title',), ('url',), ('platform',), ('score',), ('genre',), ('editors_choice',), ('release_date',)]\n",
      "\n",
      "[(5249979066121302517, 'Amazing', 'LittleBigPlanet PS Vita', '/games/littlebigplanet-vita/vita-98907', 'PlayStation Vita', Decimal('9.0'), 'Platformer', True, datetime.date(2012, 9, 12)), (7399589116837456607, 'Amazing', 'LittleBigPlanet PS Vita -- Marvel Super Hero Edition', '/games/littlebigplanet-ps-vita-marvel-super-hero-edition/vita-20027059', 'PlayStation Vita', Decimal('9.0'), 'Platformer', True, datetime.date(2012, 9, 12))]\n"
     ]
    }
   ],
   "source": [
    "# The `cur` object is provided for you.\n",
    "conn = psycopg2.connect(\"dbname=dq user=dq host=localhost password=dq\")\n",
    "cur = conn.cursor()\n",
    "\n",
    "cur.execute(\"DROP TABLE IF EXISTS ign_reviews\")\n",
    "cur.execute(\"\"\"\n",
    "CREATE TABLE ign_reviews (\n",
    "id BIGINT PRIMARY KEY, \n",
    "score_phrase varchar(11),\n",
    "title TEXT,\n",
    "url TEXT,\n",
    "platform VARCHAR(20),\n",
    "score DECIMAL(3, 1),\n",
    "genre VARCHAR(25),\n",
    "editors_choice BOOLEAN,\n",
    "release_date DATE);\"\"\")\n",
    "\n",
    "cur.execute(\"\"\"\n",
    "INSERT INTO ign_reviews (\n",
    "    id, score_phrase, title, url, platform,\n",
    "    score, genre, editors_choice, release_date) \n",
    "SELECT \n",
    "id, score_phrase, title, url, \n",
    "platform, score, genre, editors_choice, \n",
    "to_date(release_day || '-' || release_month ||\n",
    "'-' || release_year, 'DD-MM-YYYY') as release_date FROM old_ign_reviews;\n",
    "\"\"\")\n",
    "\n",
    "conn.commit()\n",
    "\n",
    "# Printing Column Names\n",
    "cur.execute(\"SELECT COLUMN_NAME FROM information_schema.COLUMNS WHERE TABLE_NAME = 'ign_reviews';\")\n",
    "print(cur.fetchall())\n",
    "print()\n",
    "\n",
    "# Printing First two rows\n",
    "cur.execute(\"SELECT * FROM ign_reviews LIMIT 2;\")\n",
    "print(cur.fetchall())\n",
    "\n",
    "conn.close()"
   ]
  },
  {
   "cell_type": "code",
   "execution_count": null,
   "metadata": {},
   "outputs": [],
   "source": []
  },
  {
   "cell_type": "code",
   "execution_count": null,
   "metadata": {},
   "outputs": [],
   "source": []
  }
 ],
 "metadata": {
  "kernelspec": {
   "display_name": "Python 3",
   "language": "python",
   "name": "python3"
  },
  "language_info": {
   "codemirror_mode": {
    "name": "ipython",
    "version": 3
   },
   "file_extension": ".py",
   "mimetype": "text/x-python",
   "name": "python",
   "nbconvert_exporter": "python",
   "pygments_lexer": "ipython3",
   "version": "3.6.8"
  }
 },
 "nbformat": 4,
 "nbformat_minor": 2
}
