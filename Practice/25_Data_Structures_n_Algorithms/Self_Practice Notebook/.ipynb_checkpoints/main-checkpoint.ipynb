{
 "cells": [
  {
   "cell_type": "markdown",
   "metadata": {},
   "source": [
    "# *Memory and Unicode*\n",
    "\n",
    "###"
   ]
  },
  {
   "cell_type": "code",
   "execution_count": 7,
   "metadata": {},
   "outputs": [],
   "source": [
    "import pandas as pd\n",
    "import numpy as np\n",
    "from csv import reader\n",
    "\n",
    "f = open('sentences_cia.csv')\n",
    "read_file = reader(f)\n",
    "llist = list(read_file)\n",
    "\n",
    "sentences = pd.DataFrame(llist[1:], columns=llist[0])"
   ]
  },
  {
   "cell_type": "code",
   "execution_count": 17,
   "metadata": {},
   "outputs": [
    {
     "data": {
      "text/plain": [
       "0     1997\n",
       "1     1997\n",
       "2     1997\n",
       "3     1997\n",
       "4     1997\n",
       "5     1997\n",
       "6     1998\n",
       "7     1998\n",
       "8     1998\n",
       "9     1998\n",
       "10    1998\n",
       "Name: year, dtype: object"
      ]
     },
     "execution_count": 17,
     "metadata": {},
     "output_type": "execute_result"
    }
   ],
   "source": [
    "sentences.loc[:10, 'year']"
   ]
  },
  {
   "cell_type": "code",
   "execution_count": 14,
   "metadata": {},
   "outputs": [
    {
     "data": {
      "text/plain": [
       "['1997',\n",
       " '1998',\n",
       " '1999',\n",
       " '2000',\n",
       " '2001',\n",
       " '2002',\n",
       " '2010',\n",
       " '2011',\n",
       " '2012',\n",
       " '2013',\n",
       " '2014']"
      ]
     },
     "execution_count": 14,
     "metadata": {},
     "output_type": "execute_result"
    }
   ],
   "source": [
    "x = list(sentences['year'].unique())\n",
    "x"
   ]
  },
  {
   "cell_type": "code",
   "execution_count": 37,
   "metadata": {},
   "outputs": [
    {
     "data": {
      "text/html": [
       "<div>\n",
       "<style scoped>\n",
       "    .dataframe tbody tr th:only-of-type {\n",
       "        vertical-align: middle;\n",
       "    }\n",
       "\n",
       "    .dataframe tbody tr th {\n",
       "        vertical-align: top;\n",
       "    }\n",
       "\n",
       "    .dataframe thead th {\n",
       "        text-align: right;\n",
       "    }\n",
       "</style>\n",
       "<table border=\"1\" class=\"dataframe\">\n",
       "  <thead>\n",
       "    <tr style=\"text-align: right;\">\n",
       "      <th></th>\n",
       "      <th>year</th>\n",
       "      <th>statement</th>\n",
       "      <th></th>\n",
       "      <th></th>\n",
       "      <th></th>\n",
       "    </tr>\n",
       "  </thead>\n",
       "  <tbody>\n",
       "    <tr>\n",
       "      <th>0</th>\n",
       "      <td>1997</td>\n",
       "      <td>The FBI information included that al-Mairi's b...</td>\n",
       "      <td></td>\n",
       "      <td></td>\n",
       "      <td></td>\n",
       "    </tr>\n",
       "    <tr>\n",
       "      <th>1</th>\n",
       "      <td>1997</td>\n",
       "      <td>The FBI information included that al-Mairi's b...</td>\n",
       "      <td></td>\n",
       "      <td></td>\n",
       "      <td></td>\n",
       "    </tr>\n",
       "    <tr>\n",
       "      <th>2</th>\n",
       "      <td>1997</td>\n",
       "      <td>For example, on October 12, 2004, another CIA ...</td>\n",
       "      <td></td>\n",
       "      <td></td>\n",
       "      <td></td>\n",
       "    </tr>\n",
       "    <tr>\n",
       "      <th>3</th>\n",
       "      <td>1997</td>\n",
       "      <td>On October 16, 2001, an email from a CTC offic...</td>\n",
       "      <td></td>\n",
       "      <td></td>\n",
       "      <td></td>\n",
       "    </tr>\n",
       "    <tr>\n",
       "      <th>4</th>\n",
       "      <td>1997</td>\n",
       "      <td>For example, on October 12, 2004, another CIA ...</td>\n",
       "      <td></td>\n",
       "      <td></td>\n",
       "      <td></td>\n",
       "    </tr>\n",
       "    <tr>\n",
       "      <th>5</th>\n",
       "      <td>1997</td>\n",
       "      <td>On October 16, 2001, an email from a CTC offic...</td>\n",
       "      <td></td>\n",
       "      <td></td>\n",
       "      <td></td>\n",
       "    </tr>\n",
       "  </tbody>\n",
       "</table>\n",
       "</div>"
      ],
      "text/plain": [
       "   year                                          statement      \n",
       "0  1997  The FBI information included that al-Mairi's b...      \n",
       "1  1997  The FBI information included that al-Mairi's b...      \n",
       "2  1997  For example, on October 12, 2004, another CIA ...      \n",
       "3  1997  On October 16, 2001, an email from a CTC offic...      \n",
       "4  1997  For example, on October 12, 2004, another CIA ...      \n",
       "5  1997  On October 16, 2001, an email from a CTC offic...      "
      ]
     },
     "execution_count": 37,
     "metadata": {},
     "output_type": "execute_result"
    }
   ],
   "source": [
    "x97 = sentences[sentences['year'] == x[0]]\n",
    "x97"
   ]
  },
  {
   "cell_type": "code",
   "execution_count": 42,
   "metadata": {},
   "outputs": [
    {
     "name": "stdout",
     "output_type": "stream",
     "text": [
      "[('October', 4), ('information', 2)]\n"
     ]
    },
    {
     "name": "stderr",
     "output_type": "stream",
     "text": [
      "/home/naveen/anaconda3/lib/python3.6/site-packages/ipykernel_launcher.py:15: SettingWithCopyWarning: \n",
      "A value is trying to be set on a copy of a slice from a DataFrame.\n",
      "Try using .loc[row_indexer,col_indexer] = value instead\n",
      "\n",
      "See the caveats in the documentation: http://pandas.pydata.org/pandas-docs/stable/indexing.html#indexing-view-versus-copy\n",
      "  from ipykernel import kernelapp as app\n"
     ]
    }
   ],
   "source": [
    "good_characters = [48, 49, 50, 51, 52, 53, 54, 55, 56, 57, 65, 66, 67, 68, 69, \n",
    "                   70, 71, 72, 73, 74, 75, 76, 77, 78, 79, 80, 81, 82, 83, 84, \n",
    "                   85, 86, 87, 88, 89, 90, 97, 98, 99, 100, 101, 102, 103, 104, \n",
    "                   105, 106, 107, 108, 109, 110, 111, 112, 113, 114, 115, 116, \n",
    "                   117, 118, 119, 120, 121, 122, 32]\n",
    "\n",
    "def clean_statement(df):\n",
    "    statement = df['statement']\n",
    "    cleaned_s_list = [s for s in statement if ord(s) in good_characters]\n",
    "    clean_statement = \"\".join(cleaned_s_list)\n",
    "    return clean_statement\n",
    "\n",
    "def top_two_tokens(year):\n",
    "    df = sentences[sentences['year'] == year]\n",
    "    df['cleaned_statement'] = df.apply(clean_statement, axis=1)\n",
    "    combined_words = \" \".join(df['cleaned_statement'])\n",
    "    tokenized_words = combined_words.split(\" \")\n",
    "    filtered_tokens = [s for s in tokenized_words if len(s) >= 5]\n",
    "\n",
    "    from collections import Counter\n",
    "    tokens = Counter(filtered_tokens)\n",
    "    x = tokens.most_common(2)\n",
    "    return x\n",
    "    \n",
    "print(top_two_tokens('1997'))"
   ]
  },
  {
   "cell_type": "code",
   "execution_count": 40,
   "metadata": {},
   "outputs": [
    {
     "name": "stdout",
     "output_type": "stream",
     "text": [
      "[('October', 4), ('information', 2)]\n"
     ]
    }
   ],
   "source": [
    "combined_words = \" \".join(x97['cleaned_statement'])\n",
    "tokenized_words = combined_words.split(\" \")\n",
    "filtered_tokens = [s for s in tokenized_words if len(s) >= 5]\n",
    "\n",
    "from collections import Counter\n",
    "tokens = Counter(filtered_tokens)\n",
    "x = tokens.most_common(2)\n",
    "print(x)"
   ]
  },
  {
   "cell_type": "code",
   "execution_count": null,
   "metadata": {},
   "outputs": [],
   "source": [
    "# sentences_cia has been loaded in.\n",
    "# It already has the cleaned_statement column.\n",
    "\n",
    "good_characters = [48, 49, 50, 51, 52, 53, 54, 55, 56, 57, 65, 66, 67, 68, 69, \n",
    "                   70, 71, 72, 73, 74, 75, 76, 77, 78, 79, 80, 81, 82, 83, 84, \n",
    "                   85, 86, 87, 88, 89, 90, 97, 98, 99, 100, 101, 102, 103, 104, \n",
    "                   105, 106, 107, 108, 109, 110, 111, 112, 113, 114, 115, 116, \n",
    "                   117, 118, 119, 120, 121, 122, 32]\n",
    "\n",
    "def clean_statement(df):\n",
    "    statement = df['statement']\n",
    "    cleaned_s_list = [s for s in statement if ord(s) in good_characters]\n",
    "    clean_statement = \"\".join(cleaned_s_list)\n",
    "    return clean_statement\n",
    "\n",
    "def top_two_tokens(year):\n",
    "    df = sentences_cia[sentences_cia['year'] == year]\n",
    "    df['cleaned_statement'] = df.apply(clean_statement, axis=1)\n",
    "    combined_words = \" \".join(df['cleaned_statement'])\n",
    "    tokenized_words = combined_words.split(\" \")\n",
    "    filtered_tokens = [s for s in tokenized_words if len(s) >= 5]\n",
    "\n",
    "    from collections import Counter\n",
    "    tokens = Counter(filtered_tokens)\n",
    "    x = tokens.most_common(2)\n",
    "    return x\n",
    "\n",
    "\n",
    "common_2000 = top_two_tokens('2000')\n",
    "common_2002 = top_two_tokens('2002')\n",
    "common_2013 = top_two_tokens('2013')"
   ]
  },
  {
   "cell_type": "code",
   "execution_count": null,
   "metadata": {},
   "outputs": [],
   "source": [
    "from collections import Counter\n",
    "def top_two_tokens(year):\n",
    "    df = sentences_cia[sentences_cia['year'] == year]\n",
    "    df['cleaned_statement'] = df.apply(clean_statement, axis=1)\n",
    "    combined_words = \" \".join(df['cleaned_statement'])\n",
    "    tokenized_words = combined_words.split(\" \")\n",
    "    filtered_tokens = [s for s in tokenized_words if len(s) >= 5]\n",
    "    tokens = Counter(filtered_tokens)\n",
    "    return tokens.most_common(2)\n",
    "\n",
    "common_2000 = top_two_tokens('2000')\n",
    "common_2002 = top_two_tokens('2002')\n",
    "common_2013 = top_two_tokens('2013')"
   ]
  }
 ],
 "metadata": {
  "kernelspec": {
   "display_name": "Python 3",
   "language": "python",
   "name": "python3"
  },
  "language_info": {
   "codemirror_mode": {
    "name": "ipython",
    "version": 3
   },
   "file_extension": ".py",
   "mimetype": "text/x-python",
   "name": "python",
   "nbconvert_exporter": "python",
   "pygments_lexer": "ipython3",
   "version": "3.6.8"
  }
 },
 "nbformat": 4,
 "nbformat_minor": 2
}
