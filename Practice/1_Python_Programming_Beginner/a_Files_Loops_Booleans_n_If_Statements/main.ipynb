{
 "cells": [
  {
   "cell_type": "markdown",
   "metadata": {},
   "source": [
    "# *Files and Loops*"
   ]
  },
  {
   "cell_type": "markdown",
   "metadata": {},
   "source": [
    "### Opening Files\n",
    "1. Use the open() function to create a File object.\n",
    "    - The name of the file to open is \"crime_rates.csv\". Access the file in read mode (\"r\").\n",
    "    - Assign this File object to the variable f."
   ]
  },
  {
   "cell_type": "code",
   "execution_count": 6,
   "metadata": {},
   "outputs": [],
   "source": [
    "f = open(\"crime_rates.csv\", \"r\")"
   ]
  },
  {
   "cell_type": "markdown",
   "metadata": {},
   "source": [
    "### Reading in Files\n",
    "1. Run the read() method on the File object f to return the string representation of crime_rates.csv.\n",
    "    - Assign the resulting string to a new variable named data."
   ]
  },
  {
   "cell_type": "code",
   "execution_count": 8,
   "metadata": {},
   "outputs": [
    {
     "data": {
      "text/plain": [
       "'Albuquerque,749\\nAnaheim,371\\nAnchorage,828\\nArlington,503\\nAtlanta,1379\\nAurora,425\\nAustin,408\\nBakersfield,542\\nBaltimore,1405\\nBoston,835\\nBuffalo,1288\\nCharlotte-Mecklenburg,647\\nCincinnati,974\\nCleveland,1383\\nColorado Springs,455\\nCorpus Christi,658\\nDallas,675\\nDenver,615\\nDetroit,2122\\nEl Paso,423\\nFort Wayne,362\\nFort Worth,587\\nFresno,543\\nGreensboro,563\\nHenderson,168\\nHouston,992\\nIndianapolis,1185\\nJacksonville,617\\nJersey City,734\\nKansas City,1263\\nLas Vegas,784\\nLexington,352\\nLincoln,397\\nLong Beach,575\\nLos Angeles,481\\nLouisville Metro,598\\nMemphis,1750\\nMesa,399\\nMiami,1172\\nMilwaukee,1294\\nMinneapolis,992\\nMobile,522\\nNashville,1216\\nNew Orleans,815\\nNew York,639\\nNewark,1154\\nOakland,1993\\nOklahoma City,919\\nOmaha,594\\nPhiladelphia,1160\\nPhoenix,636\\nPittsburgh,752\\nPlano,130\\nPortland,517\\nRaleigh,423\\nRiverside,443\\nSacramento,738\\nSan Antonio,503\\nSan Diego,413\\nSan Francisco,704\\nSan Jose,363\\nSanta Ana,401\\nSeattle,597\\nSt. Louis,1776\\nSt. Paul,722\\nStockton,1548\\nTampa,616\\nToledo,1171\\nTucson,724\\nTulsa,990\\nVirginia Beach,169\\nWashington,1177\\nWichita,742'"
      ]
     },
     "execution_count": 8,
     "metadata": {},
     "output_type": "execute_result"
    }
   ],
   "source": [
    "f = open(\"crime_rates.csv\", \"r\")\n",
    "data = f.read()\n",
    "data"
   ]
  },
  {
   "cell_type": "markdown",
   "metadata": {},
   "source": [
    "### Splitting \n",
    "1. Split the string object data on the new-line character \"\\n\", and store the result in a variable named rows. - Then, use the print() function to display the first five elements in rows."
   ]
  },
  {
   "cell_type": "code",
   "execution_count": 10,
   "metadata": {},
   "outputs": [
    {
     "name": "stdout",
     "output_type": "stream",
     "text": [
      "['john', 'plastic', 'joe']\n",
      "['How much wood', 'can a woodchuck chuck', 'if a woodchuck', 'could chuck wood?']\n",
      "['Albuquerque,749', 'Anaheim,371', 'Anchorage,828', 'Arlington,503', 'Atlanta,1379']\n"
     ]
    }
   ],
   "source": [
    "# We can split a string into a list.\n",
    "sample = \"john,plastic,joe\"\n",
    "split_list = sample.split(\",\")\n",
    "print(split_list)\n",
    "\n",
    "# Here's another example.\n",
    "string_two = \"How much wood\\ncan a woodchuck chuck\\nif a woodchuck\\ncould chuck wood?\"\n",
    "split_string_two = string_two.split('\\n')\n",
    "print(split_string_two)\n",
    "\n",
    "# Code from previous cells\n",
    "f = open('crime_rates.csv', 'r')\n",
    "data = f.read()\n",
    "rows = data.split('\\n')\n",
    "print(rows[0:5])"
   ]
  },
  {
   "cell_type": "markdown",
   "metadata": {},
   "source": [
    "### Practice: Loops\n",
    "\n",
    "1. The variable ten_rows contains the first 10 elements in rows.\n",
    "2. Write a for loop that:\n",
    "    - iterates over each element in ten_rows\n",
    "    - uses the print() function to display each element"
   ]
  },
  {
   "cell_type": "code",
   "execution_count": 11,
   "metadata": {},
   "outputs": [
    {
     "name": "stdout",
     "output_type": "stream",
     "text": [
      "Albuquerque,749\n",
      "Anaheim,371\n",
      "Anchorage,828\n",
      "Arlington,503\n",
      "Atlanta,1379\n",
      "Aurora,425\n",
      "Austin,408\n",
      "Bakersfield,542\n",
      "Baltimore,1405\n",
      "Boston,835\n"
     ]
    }
   ],
   "source": [
    "ten_rows = rows[0:10]\n",
    "for item in ten_rows:\n",
    "    print(item)"
   ]
  },
  {
   "cell_type": "markdown",
   "metadata": {},
   "source": [
    "### Lists of Lists"
   ]
  },
  {
   "cell_type": "code",
   "execution_count": 12,
   "metadata": {},
   "outputs": [
    {
     "name": "stdout",
     "output_type": "stream",
     "text": [
      "[['Albuquerque', '749'], ['Anaheim', '371'], ['Anchorage', '828']]\n",
      "['Albuquerque', '749']\n",
      "['Anaheim', '371']\n",
      "['Anchorage', '828']\n"
     ]
    }
   ],
   "source": [
    "three_rows = [\"Albuquerque,749\", \"Anaheim,371\", \"Anchorage,828\"]\n",
    "final_list = []\n",
    "for row in three_rows:\n",
    "    split_list = row.split(',')\n",
    "    final_list.append(split_list)\n",
    "print(final_list)\n",
    "print(final_list[0])\n",
    "print(final_list[1])\n",
    "print(final_list[2])"
   ]
  },
  {
   "cell_type": "markdown",
   "metadata": {},
   "source": [
    "### Practice: Splitting Elements in a List\n",
    "1. Write a for loop that splits each element in rows on the comma delimiter, and appends the resulting list to a new list named final_data.\n",
    "2. Then, use the print() function and list slicing to display the first five elements in final_data."
   ]
  },
  {
   "cell_type": "code",
   "execution_count": 13,
   "metadata": {},
   "outputs": [
    {
     "name": "stdout",
     "output_type": "stream",
     "text": [
      "['Albuquerque,749', 'Anaheim,371', 'Anchorage,828', 'Arlington,503', 'Atlanta,1379']\n",
      "[['Albuquerque', '749'], ['Anaheim', '371'], ['Anchorage', '828'], ['Arlington', '503'], ['Atlanta', '1379']]\n"
     ]
    }
   ],
   "source": [
    "f = open('crime_rates.csv', 'r')\n",
    "data = f.read()\n",
    "rows = data.split('\\n')\n",
    "print(rows[0:5])\n",
    "final_data = []\n",
    "for item in rows:\n",
    "    new_list = item.split(',')\n",
    "    final_data.append(new_list)\n",
    "print(final_data[0:5])"
   ]
  },
  {
   "cell_type": "markdown",
   "metadata": {},
   "source": [
    "### Accessing Elements in a List of Lists: The Manual Way\n",
    "\n",
    "1. five_elements contains the first five elements from final_data.\n",
    "2. Create a list of strings named cities_list that contains the city names from each list in five_elements."
   ]
  },
  {
   "cell_type": "code",
   "execution_count": 16,
   "metadata": {},
   "outputs": [
    {
     "name": "stdout",
     "output_type": "stream",
     "text": [
      "[['Albuquerque', '749'], ['Anaheim', '371'], ['Anchorage', '828'], ['Arlington', '503'], ['Atlanta', '1379']]\n"
     ]
    },
    {
     "data": {
      "text/plain": [
       "['Albuquerque', 'Anaheim', 'Anchorage', 'Arlington', 'Atlanta']"
      ]
     },
     "execution_count": 16,
     "metadata": {},
     "output_type": "execute_result"
    }
   ],
   "source": [
    "five_elements = final_data[:5]\n",
    "print(five_elements)\n",
    "cities_list = [five_elements[0][0], \n",
    "               five_elements[1][0], \n",
    "               five_elements[2][0], \n",
    "               five_elements[3][0], \n",
    "               five_elements[4][0]]\n",
    "cities_list"
   ]
  },
  {
   "cell_type": "markdown",
   "metadata": {},
   "source": [
    "### Looping Through a List of Lists\n",
    "1. Create a list of strings named cities_list that contains just the city names from final_data.\n",
    "2. Recall that the city name is located at index 0 for each list in final_data."
   ]
  },
  {
   "cell_type": "code",
   "execution_count": 18,
   "metadata": {},
   "outputs": [
    {
     "name": "stdout",
     "output_type": "stream",
     "text": [
      "['Albuquerque', 'Anaheim', 'Anchorage', 'Arlington', 'Atlanta']\n"
     ]
    }
   ],
   "source": [
    "cities_list = []\n",
    "for city in final_data:\n",
    "    item = city[0]\n",
    "    cities_list.append(item)\n",
    "print(cities_list[0:5])"
   ]
  },
  {
   "cell_type": "markdown",
   "metadata": {},
   "source": [
    "### Challenge\n",
    "\n",
    "**Create a list of integers named int_crime_rates that contains just the crime rates - as integers - from the list rows.**\n",
    "\n",
    "1. First create an empty list and assign it to a new variable int_crime_rates.\n",
    "2. Then, write a for loop that iterates over rows and does the following:\n",
    "    - uses the split() method to convert each string in rows into a list, based on the comma delimiter\n",
    "    - converts the value at index 1 from that list to an integer using the int() function\n",
    "    - uses the append() method to add each integer to int_crime_rates"
   ]
  },
  {
   "cell_type": "code",
   "execution_count": 19,
   "metadata": {},
   "outputs": [
    {
     "name": "stdout",
     "output_type": "stream",
     "text": [
      "['Albuquerque,749', 'Anaheim,371', 'Anchorage,828', 'Arlington,503', 'Atlanta,1379']\n",
      "[749, 371, 828, 503, 1379]\n"
     ]
    }
   ],
   "source": [
    "f = open('crime_rates.csv', 'r')\n",
    "data = f.read()\n",
    "rows = data.split('\\n')\n",
    "print(rows[0:5])\n",
    "\n",
    "int_crime_rates = []\n",
    "for item in rows:\n",
    "    crimes = item.split(',')\n",
    "    crime_in_int = int(crimes[1])\n",
    "    int_crime_rates.append(crime_in_int)\n",
    "print(int_crime_rates[0:5])"
   ]
  },
  {
   "cell_type": "markdown",
   "metadata": {},
   "source": [
    "# *Booleans and If Statements*"
   ]
  },
  {
   "cell_type": "markdown",
   "metadata": {},
   "source": [
    "### Booleans\n",
    "1. Assign the value True to the variable cat, and the value False to the variable dog.\n",
    "2. Then, use the print() function and the type() function to display the type for cat."
   ]
  },
  {
   "cell_type": "code",
   "execution_count": 20,
   "metadata": {},
   "outputs": [
    {
     "name": "stdout",
     "output_type": "stream",
     "text": [
      "<class 'bool'>\n"
     ]
    }
   ],
   "source": [
    "cat = True\n",
    "dog = False\n",
    "\n",
    "print(type(cat))"
   ]
  },
  {
   "cell_type": "markdown",
   "metadata": {},
   "source": [
    "### Boolean Operators\n",
    "1. Use the Boolean operators to determine if the following pairs of values are equivalent:\n",
    "    - The first element in cities and the string \"Albuquerque\". Assign the resulting Boolean value to first_alb.\n",
    "    - The second element in cities and the string \"Albuquerque\". Assign the resulting Boolean value to second_alb.\n",
    "    - The first element in cities and the last element in cities. Assign the resulting Boolean value to first_last."
   ]
  },
  {
   "cell_type": "code",
   "execution_count": 23,
   "metadata": {},
   "outputs": [
    {
     "name": "stdout",
     "output_type": "stream",
     "text": [
      "['Albuquerque', 'Anaheim', 'Anchorage', 'Arlington', 'Atlanta', 'Aurora', 'Austin', 'Bakersfield', 'Baltimore', 'Boston', 'Buffalo', 'Charlotte-Mecklenburg', 'Cincinnati', 'Cleveland', 'Colorado Springs', 'Corpus Christi', 'Dallas', 'Denver', 'Detroit', 'El Paso', 'Fort Wayne', 'Fort Worth', 'Fresno', 'Greensboro', 'Henderson', 'Houston', 'Indianapolis', 'Jacksonville', 'Jersey City', 'Kansas City', 'Las Vegas', 'Lexington', 'Lincoln', 'Long Beach', 'Los Angeles', 'Louisville Metro', 'Memphis', 'Mesa', 'Miami', 'Milwaukee', 'Minneapolis', 'Mobile', 'Nashville', 'New Orleans', 'New York', 'Newark', 'Oakland', 'Oklahoma City', 'Omaha', 'Philadelphia', 'Phoenix', 'Pittsburgh', 'Plano', 'Portland', 'Raleigh', 'Riverside', 'Sacramento', 'San Antonio', 'San Diego', 'San Francisco', 'San Jose', 'Santa Ana', 'Seattle', 'St. Louis', 'St. Paul', 'Stockton', 'Tampa', 'Toledo', 'Tucson', 'Tulsa', 'Virginia Beach', 'Washington', 'Wichita']\n"
     ]
    },
    {
     "data": {
      "text/plain": [
       "False"
      ]
     },
     "execution_count": 23,
     "metadata": {},
     "output_type": "execute_result"
    }
   ],
   "source": [
    "cities = []\n",
    "\n",
    "for n in rows:\n",
    "    item = n.split(',')\n",
    "    city = item[0]\n",
    "    cities.append(city)\n",
    "\n",
    "print(cities)\n",
    "first_alb = (\"Albuquerque\" == cities[0])\n",
    "second_alb = (\"Albuquerque\" == cities[1])\n",
    "first_last = (cities[0] == cities[len(cities)-1])\n",
    "\n",
    "first_last"
   ]
  },
  {
   "cell_type": "markdown",
   "metadata": {},
   "source": [
    "### Booleans with \"Greater Than\"\n",
    "\n",
    "1. The variable crime_rates is a list of integers containing the crime rates from the dataset. Perform the following comparisons:\n",
    "    - Evaluate whether the first element in crime_rates is larger than the integer 500, and assign the Boolean result to first_500.\n",
    "    - Evaluate whether the first element in crime_rates is larger than or equal to 749, and assign the Boolean result to first_749.\n",
    "    - Evaluate whether the first element in crime_rates is greater than or equal to the last element in crime_rates, and assign the Boolean result to first_last."
   ]
  },
  {
   "cell_type": "code",
   "execution_count": 24,
   "metadata": {},
   "outputs": [
    {
     "name": "stdout",
     "output_type": "stream",
     "text": [
      "[749, 371, 828, 503, 1379, 425, 408, 542, 1405, 835, 1288, 647, 974, 1383, 455, 658, 675, 615, 2122, 423, 362, 587, 543, 563, 168, 992, 1185, 617, 734, 1263, 784, 352, 397, 575, 481, 598, 1750, 399, 1172, 1294, 992, 522, 1216, 815, 639, 1154, 1993, 919, 594, 1160, 636, 752, 130, 517, 423, 443, 738, 503, 413, 704, 363, 401, 597, 1776, 722, 1548, 616, 1171, 724, 990, 169, 1177, 742]\n",
      "True\n",
      "True\n",
      "True\n"
     ]
    }
   ],
   "source": [
    "crime_rates = int_crime_rates\n",
    "\n",
    "print(crime_rates)\n",
    "\n",
    "first_500 = (crime_rates[0] >= 500)\n",
    "print(first_500)\n",
    "first_749 = (crime_rates[0] >= 749)\n",
    "print(first_749)\n",
    "first_last = (crime_rates[0] >= crime_rates[len(crime_rates)-1])\n",
    "print(first_last)"
   ]
  },
  {
   "cell_type": "markdown",
   "metadata": {},
   "source": [
    "### Booleans with \"Less Than\"\n",
    "\n",
    "1. The variable crime_rates is a list containing the crime rates from the dataset as integers. Perform the following comparisons:\n",
    "    - Determine whether the second element in crime_rates is smaller than the integer 500, and assign the Boolean result to second_500.\n",
    "    - Determine whether the second element in crime_rates is smaller than or equal to 371, and assign the Boolean result to second_371.\n",
    "    - Determine whether the second element in crime_rates is smaller than or equal to the last element in crime_rates, and assign the Boolean result to second_last."
   ]
  },
  {
   "cell_type": "code",
   "execution_count": 25,
   "metadata": {},
   "outputs": [
    {
     "name": "stdout",
     "output_type": "stream",
     "text": [
      "[749, 371, 828, 503, 1379, 425, 408, 542, 1405, 835, 1288, 647, 974, 1383, 455, 658, 675, 615, 2122, 423, 362, 587, 543, 563, 168, 992, 1185, 617, 734, 1263, 784, 352, 397, 575, 481, 598, 1750, 399, 1172, 1294, 992, 522, 1216, 815, 639, 1154, 1993, 919, 594, 1160, 636, 752, 130, 517, 423, 443, 738, 503, 413, 704, 363, 401, 597, 1776, 722, 1548, 616, 1171, 724, 990, 169, 1177, 742]\n",
      "True\n",
      "True\n",
      "True\n"
     ]
    }
   ],
   "source": [
    "print(crime_rates)\n",
    "second_500 = (crime_rates[1] <= 500)\n",
    "print(second_500)\n",
    "\n",
    "second_371 = (crime_rates[1] <= 371)\n",
    "print(second_371)\n",
    "\n",
    "second_last = (crime_rates[1] <= crime_rates[len(crime_rates)-1])\n",
    "print(second_last)"
   ]
  },
  {
   "cell_type": "markdown",
   "metadata": {},
   "source": [
    "### If Statements\n",
    "\n",
    "1. Determine whether the third element in cities is equivalent to the string \"Anchorage\".\n",
    "    - If it is, change the variable result to 1."
   ]
  },
  {
   "cell_type": "code",
   "execution_count": 26,
   "metadata": {},
   "outputs": [
    {
     "data": {
      "text/plain": [
       "1"
      ]
     },
     "execution_count": 26,
     "metadata": {},
     "output_type": "execute_result"
    }
   ],
   "source": [
    "result = 0\n",
    "if cities[2] == \"Anchorage\":\n",
    "    result = 1\n",
    "    \n",
    "result"
   ]
  },
  {
   "cell_type": "markdown",
   "metadata": {},
   "source": [
    "### Nesting If Statements \n",
    "1. Write a piece of code that nests the following concepts in the order in which they appear:\n",
    "    - An if statement that tests whether the first element in crime_rates is larger than 500\n",
    "    - A second if statement that tests whether the second element in crime_rates is larger than 300\n",
    "    - If both statements evaluate to True, assign the value True to the variable both_conditions"
   ]
  },
  {
   "cell_type": "code",
   "execution_count": 27,
   "metadata": {},
   "outputs": [
    {
     "name": "stdout",
     "output_type": "stream",
     "text": [
      "True\n"
     ]
    }
   ],
   "source": [
    "both_conditions = False\n",
    "if crime_rates[0] > 500:\n",
    "    if crime_rates[1] > 300:\n",
    "        both_conditions = True\n",
    "print(both_conditions)"
   ]
  },
  {
   "cell_type": "markdown",
   "metadata": {},
   "source": [
    "### If Statements and For Loops\n",
    "1. Create a new list, five_hundred_list, that contains only the elements from crime_rates that are greater than 500. To accomplish this, you'll need a for loop and an if statement:\n",
    "    - The for loop specifies which list we want to iterate over and the name of the iterator variable (we use cr in our answer).\n",
    "    - The if statement determines whether the current element (cr) is larger than 500.\n",
    "        - If the current element (cr) is larger than 500, use the append() method to add it to five_hundred_list."
   ]
  },
  {
   "cell_type": "code",
   "execution_count": 28,
   "metadata": {},
   "outputs": [
    {
     "name": "stdout",
     "output_type": "stream",
     "text": [
      "[749, 828, 503, 1379, 542, 1405, 835, 1288, 647, 974, 1383, 658, 675, 615, 2122, 587, 543, 563, 992, 1185, 617, 734, 1263, 784, 575, 598, 1750, 1172, 1294, 992, 522, 1216, 815, 639, 1154, 1993, 919, 594, 1160, 636, 752, 517, 738, 503, 704, 597, 1776, 722, 1548, 616, 1171, 724, 990, 1177, 742]\n",
      "55\n"
     ]
    }
   ],
   "source": [
    "five_hundred_list = []\n",
    "for cr in crime_rates:\n",
    "    if cr > 500:\n",
    "        five_hundred_list.append(cr)\n",
    "print(five_hundred_list)\n",
    "print(len(five_hundred_list))"
   ]
  },
  {
   "cell_type": "markdown",
   "metadata": {},
   "source": [
    "### Find The Highest Crime Rate\n",
    "1. Find the largest integer in crime_rates using the strategy we just outlined, and assign that value to the variable highest."
   ]
  },
  {
   "cell_type": "code",
   "execution_count": 29,
   "metadata": {},
   "outputs": [
    {
     "name": "stdout",
     "output_type": "stream",
     "text": [
      "2122\n"
     ]
    }
   ],
   "source": [
    "#print(crime_rates)\n",
    "highest = crime_rates[0]\n",
    "for cr in crime_rates:\n",
    "    if cr > highest:\n",
    "        highest = cr\n",
    "print(highest)"
   ]
  },
  {
   "cell_type": "code",
   "execution_count": null,
   "metadata": {},
   "outputs": [],
   "source": []
  }
 ],
 "metadata": {
  "kernelspec": {
   "display_name": "Python 3",
   "language": "python",
   "name": "python3"
  },
  "language_info": {
   "codemirror_mode": {
    "name": "ipython",
    "version": 3
   },
   "file_extension": ".py",
   "mimetype": "text/x-python",
   "name": "python",
   "nbconvert_exporter": "python",
   "pygments_lexer": "ipython3",
   "version": "3.6.6"
  }
 },
 "nbformat": 4,
 "nbformat_minor": 2
}
