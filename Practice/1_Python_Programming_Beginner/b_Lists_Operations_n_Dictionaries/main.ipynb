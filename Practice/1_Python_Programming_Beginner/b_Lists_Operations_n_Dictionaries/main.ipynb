{
 "cells": [
  {
   "cell_type": "markdown",
   "metadata": {},
   "source": [
    "# *List Operations*\n",
    "**We will be working with daily weather data for Los Angeles (L.A.) during 2014, in a file named la_weather.csv**"
   ]
  },
  {
   "cell_type": "markdown",
   "metadata": {},
   "source": [
    "### Parsing the File\n",
    "1. Create an empty list and assign to weather_data.\n",
    "2. Open and read in la_weather.csv.\n",
    "3. Split the data on the newline character to convert it to a list of rows.\n",
    "4. Split each row on the comma and append each list to weather_data."
   ]
  },
  {
   "cell_type": "code",
   "execution_count": 1,
   "metadata": {},
   "outputs": [
    {
     "name": "stdout",
     "output_type": "stream",
     "text": [
      "[['Day', 'Type of Weather'], ['1', 'Sunny'], ['2', 'Sunny'], ['3', 'Sunny'], ['4', 'Sunny'], ['5', 'Sunny'], ['6', 'Rain'], ['7', 'Sunny'], ['8', 'Sunny'], ['9', 'Fog']]\n"
     ]
    }
   ],
   "source": [
    "weather_open = open(\"la_weather.csv\", \"r\")\n",
    "weather_read = weather_open.read()\n",
    "#print(weather_read)\n",
    "\n",
    "weather_list = weather_read.split(\"\\n\")\n",
    "#print(weather_list)\n",
    "\n",
    "weather_data = []\n",
    "for item in weather_list:\n",
    "    new_item = item.split(\",\")\n",
    "    weather_data.append(new_item)\n",
    "print(weather_data[0:10])"
   ]
  },
  {
   "cell_type": "markdown",
   "metadata": {},
   "source": [
    "### Getting a Single Column From the Data\n",
    "\n",
    "1. Loop over each row in weather_data.\n",
    "2. Append the second item in each row to the weather list.\n",
    "3. When complete, weather should contain each value from the Type of Weather column."
   ]
  },
  {
   "cell_type": "code",
   "execution_count": 2,
   "metadata": {},
   "outputs": [
    {
     "name": "stdout",
     "output_type": "stream",
     "text": [
      "['Type of Weather', 'Sunny', 'Sunny', 'Sunny', 'Sunny', 'Sunny', 'Rain', 'Sunny', 'Sunny', 'Fog', 'Rain', 'Sunny', 'Sunny', 'Sunny', 'Sunny', 'Sunny', 'Fog', 'Sunny', 'Sunny', 'Sunny', 'Sunny', 'Sunny', 'Sunny', 'Rain', 'Fog-Rain', 'Rain', 'Fog-Rain', 'Rain', 'Sunny', 'Sunny', 'Sunny', 'Sunny', 'Sunny', 'Rain', 'Sunny', 'Fog', 'Fog', 'Sunny', 'Sunny', 'Rain', 'Sunny', 'Sunny', 'Sunny', 'Sunny', 'Sunny', 'Fog', 'Sunny', 'Sunny', 'Fog', 'Sunny', 'Rain', 'Sunny', 'Sunny', 'Sunny', 'Sunny', 'Sunny', 'Sunny', 'Sunny', 'Sunny', 'Sunny', 'Sunny', 'Sunny', 'Rain', 'Fog', 'Fog', 'Sunny', 'Rain', 'Rain', 'Sunny', 'Sunny', 'Sunny', 'Fog', 'Fog', 'Fog', 'Fog', 'Fog', 'Sunny', 'Sunny', 'Sunny', 'Sunny', 'Sunny', 'Fog', 'Sunny', 'Sunny', 'Fog', 'Sunny', 'Fog', 'Fog', 'Fog', 'Fog', 'Rain', 'Sunny', 'Fog', 'Fog', 'Fog', 'Sunny', 'Sunny', 'Sunny', 'Sunny', 'Fog', 'Sunny', 'Sunny', 'Sunny', 'Sunny', 'Sunny', 'Rain', 'Sunny', 'Sunny', 'Sunny', 'Sunny', 'Fog', 'Fog', 'Fog', 'Sunny', 'Rain', 'Sunny', 'Sunny', 'Sunny', 'Fog', 'Fog', 'Sunny', 'Sunny', 'Fog', 'Sunny', 'Sunny', 'Rain', 'Rain', 'Rain', 'Sunny', 'Thunderstorm', 'Fog', 'Sunny', 'Fog', 'Sunny', 'Fog', 'Fog', 'Sunny', 'Sunny', 'Sunny', 'Sunny', 'Fog', 'Fog', 'Sunny', 'Sunny', 'Sunny', 'Sunny', 'Sunny', 'Sunny', 'Sunny', 'Fog', 'Fog', 'Sunny', 'Sunny', 'Sunny', 'Sunny', 'Sunny', 'Sunny', 'Fog', 'Fog', 'Sunny', 'Sunny', 'Sunny', 'Sunny', 'Fog', 'Fog', 'Fog', 'Sunny', 'Sunny', 'Fog', 'Fog', 'Fog', 'Sunny', 'Sunny', 'Sunny', 'Sunny', 'Sunny', 'Fog', 'Fog', 'Fog', 'Fog', 'Fog', 'Sunny', 'Fog', 'Fog', 'Fog', 'Fog', 'Sunny', 'Sunny', 'Sunny', 'Sunny', 'Fog', 'Sunny', 'Fog-Rain', 'Fog', 'Fog', 'Sunny', 'Fog', 'Sunny', 'Fog', 'Fog', 'Fog', 'Sunny', 'Rain', 'Fog', 'Fog', 'Fog', 'Fog', 'Fog-Rain', 'Sunny', 'Sunny', 'Fog', 'Sunny', 'Sunny', 'Fog', 'Fog', 'Sunny', 'Sunny', 'Fog', 'Fog', 'Fog', 'Sunny', 'Sunny', 'Sunny', 'Sunny', 'Fog', 'Fog', 'Fog', 'Fog', 'Fog', 'Fog', 'Fog', 'Fog', 'Fog', 'Fog', 'Sunny', 'Fog', 'Fog', 'Fog', 'Fog', 'Sunny', 'Fog', 'Fog', 'Fog', 'Sunny', 'Sunny', 'Fog', 'Sunny', 'Fog', 'Fog', 'Sunny', 'Sunny', 'Fog', 'Fog', 'Fog', 'Sunny', 'Sunny', 'Fog', 'Fog', 'Sunny', 'Fog', 'Fog', 'Fog', 'Fog', 'Fog', 'Sunny', 'Sunny', 'Sunny', 'Fog', 'Sunny', 'Sunny', 'Sunny', 'Sunny', 'Sunny', 'Sunny', 'Fog', 'Sunny', 'Fog', 'Sunny', 'Sunny', 'Sunny', 'Sunny', 'Fog', 'Rain', 'Sunny', 'Sunny', 'Sunny', 'Sunny', 'Sunny', 'Sunny', 'Sunny', 'Sunny', 'Sunny', 'Fog', 'Fog', 'Fog', 'Fog', 'Sunny', 'Sunny', 'Fog', 'Fog', 'Fog', 'Sunny', 'Sunny', 'Sunny', 'Sunny', 'Sunny', 'Sunny', 'Sunny', 'Sunny', 'Fog', 'Sunny', 'Sunny', 'Fog', 'Fog', 'Sunny', 'Fog', 'Fog', 'Sunny', 'Sunny', 'Fog', 'Sunny', 'Sunny', 'Fog', 'Sunny', 'Rain', 'Rain', 'Rain', 'Sunny', 'Sunny', 'Sunny', 'Sunny', 'Sunny', 'Sunny', 'Rain', 'Sunny', 'Sunny', 'Sunny', 'Sunny', 'Sunny', 'Sunny', 'Sunny', 'Rain', 'Sunny', 'Sunny', 'Sunny', 'Sunny', 'Fog', 'Fog', 'Sunny', 'Sunny', 'Sunny', 'Sunny', 'Sunny', 'Rain', 'Sunny', 'Sunny', 'Sunny', 'Fog', 'Sunny', 'Sunny', 'Sunny', 'Sunny', 'Sunny', 'Fog', 'Fog', 'Fog']\n"
     ]
    }
   ],
   "source": [
    "weather = []\n",
    "for item in weather_data:\n",
    "    weather.append(item[1])\n",
    "print(weather)"
   ]
  },
  {
   "cell_type": "markdown",
   "metadata": {},
   "source": [
    "### Counting the Item in the List\n",
    "\n",
    "1. Count the number of items in weather. You can accomplish this by:\n",
    "    - Looping over each element in weather.\n",
    "    - Adding 1 to count for each element.\n",
    "2. When finished, count should equal the number of items in weather."
   ]
  },
  {
   "cell_type": "code",
   "execution_count": 3,
   "metadata": {},
   "outputs": [
    {
     "name": "stdout",
     "output_type": "stream",
     "text": [
      "366\n"
     ]
    }
   ],
   "source": [
    "count = 0\n",
    "for item in weather:\n",
    "    count += 1\n",
    "print(count)"
   ]
  },
  {
   "cell_type": "markdown",
   "metadata": {},
   "source": [
    "### Removing the Header\n",
    "\n",
    "1. Slice the weather list to remove the header.\n",
    "2. The slice should only remove the first element in the list.\n",
    "3. Assign the slice to new_weather."
   ]
  },
  {
   "cell_type": "code",
   "execution_count": 4,
   "metadata": {},
   "outputs": [
    {
     "name": "stdout",
     "output_type": "stream",
     "text": [
      "365\n"
     ]
    }
   ],
   "source": [
    "new_weather = weather[1:len(weather)]\n",
    "print(len(new_weather))"
   ]
  },
  {
   "cell_type": "markdown",
   "metadata": {},
   "source": [
    "### The in Statement\n",
    "1. Use the in statement to check whether the value cat is in the list animals, and assign the result to cat_found.\n",
    "2. Use the in statement to check whether the value space_monster is in the list animals, and assign the result to space_monster_found."
   ]
  },
  {
   "cell_type": "code",
   "execution_count": 5,
   "metadata": {},
   "outputs": [
    {
     "data": {
      "text/plain": [
       "False"
      ]
     },
     "execution_count": 5,
     "metadata": {},
     "output_type": "execute_result"
    }
   ],
   "source": [
    "animals = [\"cat\", \"dog\", \"rabbit\", \"horse\", \"giant_horrible_monster\"]\n",
    "cat_found = \"cat\" in animals\n",
    "space_monster_found = \"space_monster\" in animals\n",
    "\n",
    "space_monster_found"
   ]
  },
  {
   "cell_type": "markdown",
   "metadata": {},
   "source": [
    "### Weather Types\n",
    "\n",
    "1. Loop through each item in the weather_types list.\n",
    "2. Check whether the item occurs in the new_weather list.\n",
    "3. Append the result of the check to weather_type_found.\n",
    "4. At the end, weather_type_found should be a list of Boolean values."
   ]
  },
  {
   "cell_type": "code",
   "execution_count": 6,
   "metadata": {},
   "outputs": [
    {
     "name": "stdout",
     "output_type": "stream",
     "text": [
      "[True, True, True, True, True, False]\n"
     ]
    }
   ],
   "source": [
    "weather_types = [\"Rain\", \"Sunny\", \"Fog\", \"Fog-Rain\", \"Thunderstorm\", \"Type of Weather\"]\n",
    "weather_type_found = []\n",
    "for item in weather_types:\n",
    "    found = item in new_weather\n",
    "    weather_type_found.append(found)\n",
    "print(weather_type_found)"
   ]
  },
  {
   "cell_type": "markdown",
   "metadata": {},
   "source": [
    "# *Dictionaries*"
   ]
  },
  {
   "cell_type": "markdown",
   "metadata": {},
   "source": [
    "### The Data Set\n",
    "1. Assign the first element of weather to first_element and display it using the print() function.\n",
    "2. Assign the last element of weather to last_element and display it using the print() function."
   ]
  },
  {
   "cell_type": "code",
   "execution_count": 7,
   "metadata": {},
   "outputs": [
    {
     "name": "stdout",
     "output_type": "stream",
     "text": [
      "Type of Weather\n",
      "Fog\n"
     ]
    }
   ],
   "source": [
    "# Weather has been loaded in.\n",
    "first_element = weather[0]\n",
    "print(first_element)\n",
    "\n",
    "last_element = weather[len(weather) - 1]\n",
    "print(last_element)"
   ]
  },
  {
   "cell_type": "markdown",
   "metadata": {},
   "source": [
    "### Practice Populating a Data\n",
    "\n",
    "1. Assign the value 1 to the key Aquaman in a new dictionary named superhero_ranks.\n",
    "2. Assign the value 2 to the key Superman in superhero_ranks."
   ]
  },
  {
   "cell_type": "code",
   "execution_count": 9,
   "metadata": {},
   "outputs": [
    {
     "name": "stdout",
     "output_type": "stream",
     "text": [
      "1\n",
      "2\n"
     ]
    }
   ],
   "source": [
    "superhero_ranks = {}\n",
    "superhero_ranks[\"Aquaman\"] = 1\n",
    "superhero_ranks[\"Superman\"] = 2\n",
    "\n",
    "print(superhero_ranks[\"Aquaman\"])\n",
    "print(superhero_ranks[\"Superman\"])"
   ]
  },
  {
   "cell_type": "markdown",
   "metadata": {},
   "source": [
    "### Practice Indexing a Dictionary\n",
    "\n",
    "1. Look up FDR in president_ranks and assign the result to a new variable fdr_rank.\n",
    "2. Look up Lincoln in president_ranks and assign the result to a new variable lincoln_rank.\n",
    "3. Look up Aquaman in president_ranks and assign the result to a new variable aquaman_rank."
   ]
  },
  {
   "cell_type": "code",
   "execution_count": 11,
   "metadata": {},
   "outputs": [
    {
     "data": {
      "text/plain": [
       "{'FDR': 1, 'Lincoln': 2, 'Aquaman': 3}"
      ]
     },
     "execution_count": 11,
     "metadata": {},
     "output_type": "execute_result"
    }
   ],
   "source": [
    "president_ranks = {}\n",
    "president_ranks[\"FDR\"] = 1\n",
    "president_ranks[\"Lincoln\"] = 2\n",
    "president_ranks[\"Aquaman\"] = 3\n",
    "\n",
    "fdr_rank = president_ranks[\"FDR\"]\n",
    "lincoln_rank = president_ranks[\"Lincoln\"]\n",
    "aquaman_rank = president_ranks[\"Aquaman\"]\n",
    "\n",
    "president_ranks"
   ]
  },
  {
   "cell_type": "markdown",
   "metadata": {},
   "source": [
    "### Defining a Dictionary With Values\n",
    "\n",
    "**Create a dictionary named animals with the following keys and values:**\n",
    "\n",
    "1. The key 7 corresponding to the value raven.\n",
    "2. The key 8 corresponding to the value goose.\n",
    "3. The key 9 corresponding to the value duck.\n",
    "\n",
    "**Create a dictionary named times with the following keys and values:**\n",
    "\n",
    "1. The key morning corresponding to the value 9.\n",
    "2. The key afternoon corresponding to the value 14.\n",
    "3. The key evening corresponding to the value 19.\n",
    "4. The key night corresponding to the value 23."
   ]
  },
  {
   "cell_type": "code",
   "execution_count": 12,
   "metadata": {},
   "outputs": [
    {
     "name": "stdout",
     "output_type": "stream",
     "text": [
      "{'key1': 10, 'key2': 'indubitably', 'key3': 'dataquest', 3: 5.6}\n",
      "{7: 'raven', 8: 'goose', 9: 'duck'}\n"
     ]
    },
    {
     "data": {
      "text/plain": [
       "{'morning': 9, 'afternoon': 14, 'evening': 19, 'night': 23}"
      ]
     },
     "execution_count": 12,
     "metadata": {},
     "output_type": "execute_result"
    }
   ],
   "source": [
    "random_values = {\"key1\": 10, \"key2\": \"indubitably\", \"key3\": \"dataquest\", 3: 5.6}\n",
    "print(random_values)\n",
    "\n",
    "animals = {\n",
    "    7 : \"raven\",\n",
    "    8 : \"goose\",\n",
    "    9 : \"duck\"\n",
    "}\n",
    "\n",
    "times = {\n",
    "    \"morning\" : 9,\n",
    "    \"afternoon\" : 14,\n",
    "    \"evening\" : 19,\n",
    "    \"night\" : 23\n",
    "}\n",
    "\n",
    "print(animals)\n",
    "times"
   ]
  },
  {
   "cell_type": "markdown",
   "metadata": {},
   "source": [
    "### Modifying Dictionary Values\n",
    "\n",
    "1. Add the key Ann and value 85 to the dictionary students.\n",
    "2. Replace the value for the key Tom with 80.\n",
    "3. Add 5 to the value for the key Jim."
   ]
  },
  {
   "cell_type": "code",
   "execution_count": 14,
   "metadata": {},
   "outputs": [
    {
     "data": {
      "text/plain": [
       "{'Tom': 80, 'Jim': 75, 'Ann': 85}"
      ]
     },
     "execution_count": 14,
     "metadata": {},
     "output_type": "execute_result"
    }
   ],
   "source": [
    "students = {\n",
    "    \"Tom\": 60,\n",
    "    \"Jim\": 70\n",
    "}\n",
    "\n",
    "students[\"Ann\"] = 85\n",
    "students[\"Tom\"] = 80\n",
    "students[\"Jim\"] = students[\"Jim\"] + 5\n",
    "\n",
    "students"
   ]
  },
  {
   "cell_type": "markdown",
   "metadata": {},
   "source": [
    "### The in Statement and Dictionaries\n",
    "1. Check whether jupiter is a key in planet_numbers, and assign the resulting Boolean value to jupiter_found.\n",
    "2. Check whether earth is a key in planet_numbers, and assign the resulting Boolean value to earth_found."
   ]
  },
  {
   "cell_type": "code",
   "execution_count": 15,
   "metadata": {},
   "outputs": [
    {
     "name": "stdout",
     "output_type": "stream",
     "text": [
      "False\n",
      "True\n"
     ]
    }
   ],
   "source": [
    "planet_numbers = {\"mercury\": 1, \"venus\": 2, \"earth\": 3, \"mars\": 4}\n",
    "\n",
    "jupiter_found = \"jupiter\" in planet_numbers\n",
    "print(jupiter_found)\n",
    "\n",
    "earth_found = \"earth\" in planet_numbers\n",
    "print(earth_found)"
   ]
  },
  {
   "cell_type": "markdown",
   "metadata": {},
   "source": [
    "### Practicing with the Else Statement\n",
    "**Append any names in planet_names that are longer than 5 characters to long_names. Otherwise, append the names to short_names. To accomplish this:**\n",
    "\n",
    "1. Loop through each item in planet_names.\n",
    "2. Use the len() function to find the length of the item.\n",
    "3. If the length is greater than 5, append the item to long_names.\n",
    "4. Otherwise, append it to short_names.\n",
    "5. When complete, short_names should contain any planet names less than 6 characters long, and long_names should contain any planet names 6 characters or longer."
   ]
  },
  {
   "cell_type": "code",
   "execution_count": 16,
   "metadata": {},
   "outputs": [
    {
     "name": "stdout",
     "output_type": "stream",
     "text": [
      "['Mercury', 'Jupiter', 'Saturn', 'Neptune', 'Uranus']\n",
      "['Venus', 'Earth', 'Mars']\n"
     ]
    }
   ],
   "source": [
    "planet_names = [\"Mercury\", \"Venus\", \"Earth\", \"Mars\", \"Jupiter\", \"Saturn\", \"Neptune\", \"Uranus\"]\n",
    "short_names = []\n",
    "long_names = []\n",
    "\n",
    "for planet in planet_names:\n",
    "    if len(planet) > 5:\n",
    "        long_names.append(planet)\n",
    "    else:\n",
    "        short_names.append(planet)\n",
    "        \n",
    "print(long_names)\n",
    "print(short_names)"
   ]
  },
  {
   "cell_type": "markdown",
   "metadata": {},
   "source": [
    "### Counting With Dictionaries\n",
    "**Count the number of times that each element occurs in the list named pantry that appears in the code block below. You'll need to:**\n",
    "\n",
    "1. Create an empty dictionary named pantry_counts.\n",
    "2. Loop through each item in pantry.\n",
    "3. If the item appears in pantry_counts, add 1 to the value in pantry_counts for the item's key.\n",
    "    - Otherwise, add the item to pantry_counts as a key, with the value 1.\n",
    "4. When finished, each item in pantry will have its own key in pantry_counts, and its value will be the number of times the item appears in pantry."
   ]
  },
  {
   "cell_type": "code",
   "execution_count": 17,
   "metadata": {},
   "outputs": [
    {
     "name": "stdout",
     "output_type": "stream",
     "text": [
      "{'apple': 3, 'orange': 2, 'grape': 2, 'tomato': 1, 'potato': 1}\n"
     ]
    }
   ],
   "source": [
    "pantry = [\"apple\", \"orange\", \"grape\", \"apple\", \"orange\", \"apple\", \"tomato\", \"potato\", \"grape\"]\n",
    "\n",
    "pantry_counts = {}\n",
    "for item in pantry:\n",
    "    if item in pantry_counts:\n",
    "        pantry_counts[item] = pantry_counts[item] + 1\n",
    "    else:\n",
    "        pantry_counts[item] = 1\n",
    "        \n",
    "print(pantry_counts)"
   ]
  },
  {
   "cell_type": "markdown",
   "metadata": {},
   "source": [
    "### Counting the Weather\n",
    "\n",
    "1. Count how many times each type of weather occurs in the weather list, and store the results in a new dictionary called weather_counts.\n",
    "2. When finished, weather_counts should contain a key for each different type of weather in the weather list, along with its associated frequency. Here's a preview of how the result should format the weather_counts dictionary (note that you'll be using real values, rather than the dummy ones below):<br>\n",
    "*{<br>'Fog': 0,<br>\n",
    "    'Fog-Rain': 0,<br>\n",
    "    ....<br>\n",
    "}*"
   ]
  },
  {
   "cell_type": "code",
   "execution_count": 18,
   "metadata": {},
   "outputs": [
    {
     "name": "stdout",
     "output_type": "stream",
     "text": [
      "{'Type of Weather': 1, 'Sunny': 210, 'Rain': 25, 'Fog': 125, 'Fog-Rain': 4, 'Thunderstorm': 1}\n"
     ]
    }
   ],
   "source": [
    "weather_counts = {}\n",
    "for item in weather:\n",
    "    if item in weather_counts:\n",
    "        weather_counts[item] = weather_counts[item] + 1\n",
    "    else:\n",
    "        weather_counts[item] = 1\n",
    "\n",
    "print(weather_counts)"
   ]
  }
 ],
 "metadata": {
  "kernelspec": {
   "display_name": "Python 3",
   "language": "python",
   "name": "python3"
  },
  "language_info": {
   "codemirror_mode": {
    "name": "ipython",
    "version": 3
   },
   "file_extension": ".py",
   "mimetype": "text/x-python",
   "name": "python",
   "nbconvert_exporter": "python",
   "pygments_lexer": "ipython3",
   "version": "3.6.6"
  }
 },
 "nbformat": 4,
 "nbformat_minor": 2
}
