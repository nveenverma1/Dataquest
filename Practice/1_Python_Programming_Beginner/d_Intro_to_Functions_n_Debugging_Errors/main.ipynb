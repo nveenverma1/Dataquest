{
 "cells": [
  {
   "cell_type": "markdown",
   "metadata": {},
   "source": [
    "# *Introduction To Functions*"
   ]
  },
  {
   "cell_type": "markdown",
   "metadata": {},
   "source": [
    "### Overview\n",
    "1. Read movie_metadata.csv into a list of lists and assign to movie_data.\n",
    "    - Open and read the file movie_metadata.csv into a string variable.\n",
    "    - Split the data into rows on the newline character (\"\\n\").\n",
    "    - Create an empty list, movie_data.\n",
    "    - Loop through each row, and split each row into a list on the comma character (\",\"), and append it to movie_data.\n",
    "2. Display the first 5 lists in movie_data using the print() function"
   ]
  },
  {
   "cell_type": "code",
   "execution_count": 1,
   "metadata": {},
   "outputs": [
    {
     "data": {
      "text/plain": [
       "[['movie_title',\n",
       "  'director_name',\n",
       "  'color',\n",
       "  'duration',\n",
       "  'actor_1_name',\n",
       "  'language',\n",
       "  'country',\n",
       "  'title_year'],\n",
       " ['Avatar',\n",
       "  'James Cameron',\n",
       "  'Color',\n",
       "  '178',\n",
       "  'CCH Pounder',\n",
       "  'English',\n",
       "  'USA',\n",
       "  '2009'],\n",
       " [\"Pirates of the Caribbean: At World's End\",\n",
       "  'Gore Verbinski',\n",
       "  'Color',\n",
       "  '169',\n",
       "  'Johnny Depp',\n",
       "  'English',\n",
       "  'USA',\n",
       "  '2007'],\n",
       " ['Spectre',\n",
       "  'Sam Mendes',\n",
       "  'Color',\n",
       "  '148',\n",
       "  'Christoph Waltz',\n",
       "  'English',\n",
       "  'UK',\n",
       "  '2015'],\n",
       " ['The Dark Knight Rises',\n",
       "  'Christopher Nolan',\n",
       "  'Color',\n",
       "  '164',\n",
       "  'Tom Hardy',\n",
       "  'English',\n",
       "  'USA',\n",
       "  '2012']]"
      ]
     },
     "execution_count": 1,
     "metadata": {},
     "output_type": "execute_result"
    }
   ],
   "source": [
    "f = open(\"movie_metadata.csv\", \"r\")\n",
    "data = f.read()\n",
    "\n",
    "movies = data.split(\"\\n\")\n",
    "movie_data = []\n",
    "\n",
    "for item in movies:\n",
    "    new_item = item.split(\",\")\n",
    "    movie_data.append(new_item)\n",
    "    \n",
    "movie_data[0:5]"
   ]
  },
  {
   "cell_type": "markdown",
   "metadata": {},
   "source": [
    "### Writing Own Functions\n",
    "\n",
    "1. Write a function, with a definition, name, argument(s), body and return value, that returns a list containing the names of the movies in movie_data. This function is expected to behave similar to first_elt(), but for multiple lists.\n",
    "    - Give the function a name that describes what it does; first_elts() is a good example, but feel free to be creative.\n",
    "    - Declare an empty list.\n",
    "    - Use a for loop to extract the first element of each list, and append these elements to the empty list.\n",
    "    - Return the list.\n",
    "2. Assign the returned list to movie_names.\n",
    "3. Display the first 5 elements of movie_names using the print() function."
   ]
  },
  {
   "cell_type": "code",
   "execution_count": 2,
   "metadata": {},
   "outputs": [
    {
     "data": {
      "text/plain": [
       "['movie_title',\n",
       " 'Avatar',\n",
       " \"Pirates of the Caribbean: At World's End\",\n",
       " 'Spectre',\n",
       " 'The Dark Knight Rises']"
      ]
     },
     "execution_count": 2,
     "metadata": {},
     "output_type": "execute_result"
    }
   ],
   "source": [
    "#print(movie_data)\n",
    "def getting_movie_names(input_lst):\n",
    "    movie_list = []\n",
    "    for item in input_lst:\n",
    "        new_item = item[0]\n",
    "        movie_list.append(new_item)\n",
    "    return movie_list\n",
    "\n",
    "movie_names = getting_movie_names(movie_data)\n",
    "movie_names[0:5]"
   ]
  },
  {
   "cell_type": "markdown",
   "metadata": {},
   "source": [
    "### Functions with Multiple Return Paths\n",
    "\n",
    "1. Write a function named is_usa() that checks whether or not a movie was made in the United States.\n",
    "    - Check the movie_metadata.csv file to see which column corresponds to the nationality of the movie. Don't forget to subtract one to find the true index of the column in the list.\n",
    "    - Use an if statement to check the right column of the list with the word \"USA\". The equality operation is case sensitive, so make sure to get the capitilization right.\n",
    "    - Return True if the condition is met, and False otherwise.\n",
    "2. Try it with a few movies in movie_data.\n",
    "3. Call it on wonder_woman and store the result in wonder_woman_usa."
   ]
  },
  {
   "cell_type": "code",
   "execution_count": 3,
   "metadata": {},
   "outputs": [
    {
     "name": "stdout",
     "output_type": "stream",
     "text": [
      "True\n"
     ]
    },
    {
     "data": {
      "text/plain": [
       "True"
      ]
     },
     "execution_count": 3,
     "metadata": {},
     "output_type": "execute_result"
    }
   ],
   "source": [
    "wonder_woman = ['Wonder Woman','Patty Jenkins','Color',141,'Gal Gadot','English','USA',2017]\n",
    "\n",
    "def is_usa(input_lst):\n",
    "    if input_lst[6] == \"USA\":\n",
    "        return True\n",
    "    else:\n",
    "        return False\n",
    "\n",
    "first_movie_usa = is_usa(movie_data[1])\n",
    "print(first_movie_usa)\n",
    "\n",
    "wonder_woman_usa = is_usa(wonder_woman)\n",
    "wonder_woman_usa"
   ]
  },
  {
   "cell_type": "markdown",
   "metadata": {},
   "source": [
    "### Functions With Multiple Arguments\n",
    "1. Write a function index_equals_str() that takes in three arguments: a list, an index and a string, and checks whether that index of the list is equal to that string.\n",
    "\n",
    "2. Call the function with a different order of the inputs, using named arguments.\n",
    "\n",
    "3. Call the function on wonder_woman to check whether or not it is a movie in color, store it in wonder_woman_in_color, and print the value."
   ]
  },
  {
   "cell_type": "code",
   "execution_count": 4,
   "metadata": {},
   "outputs": [
    {
     "name": "stdout",
     "output_type": "stream",
     "text": [
      "True\n"
     ]
    }
   ],
   "source": [
    "def index_equals_str(input_lst, index, input_str):\n",
    "    if input_lst[index] == input_str:\n",
    "        return True\n",
    "    else:\n",
    "        return False\n",
    "    \n",
    "wonder_woman_in_color = index_equals_str(wonder_woman, 2, \"Color\")\n",
    "print(wonder_woman_in_color)"
   ]
  },
  {
   "cell_type": "markdown",
   "metadata": {},
   "source": [
    "### Optional Arguments\n",
    "\n",
    "1. Write a function named feature_counter() that combines the logic of the index_equals_str() and counter() functions.\n",
    "2. Use this to find out how many of the movies were made in USA, and store the value in num_of_us_movies."
   ]
  },
  {
   "cell_type": "code",
   "execution_count": 5,
   "metadata": {},
   "outputs": [
    {
     "name": "stdout",
     "output_type": "stream",
     "text": [
      "3732\n"
     ]
    }
   ],
   "source": [
    "def counter(input_lst,header_row = False):\n",
    "    num_elt = 0\n",
    "    if header_row == True:\n",
    "        input_lst = input_lst[1:len(input_lst)]\n",
    "    for each in input_lst:\n",
    "        num_elt = num_elt + 1\n",
    "    return num_elt\n",
    "\n",
    "def feature_counter(input_lst, index, input_str, header_row = False):\n",
    "    num_elt = 0\n",
    "    if header_row == True:\n",
    "        input_lst = input_lst[1:len(input_lst)]\n",
    "        for each in input_lst:\n",
    "            if each[index] == input_str:\n",
    "                num_elt = num_elt + 1\n",
    "        return num_elt\n",
    "    \n",
    "num_of_us_movies = feature_counter(movie_data, 6, \"USA\", header_row = True)\n",
    "print(num_of_us_movies)"
   ]
  },
  {
   "cell_type": "markdown",
   "metadata": {},
   "source": [
    "### Calling a Function Inside Another Function\n",
    "\n",
    "1. Write a summary_statistics() function that will take movie_data as input, and output a dictionary that will give useful numbers from the data.\n",
    "    - Define summary_statistics() with one argument, an input list.\n",
    "    - Use the feature_counter() with the relevant arguments to count the following properties and make them equal to the corresponding variables.\n",
    "        - Assign the number of movies made in Japan to num_japan_films.\n",
    "        - Assign the number of movies in color to num_color_films.\n",
    "        - Assign the number of movies in English to num_films_in_english.\n",
    "    - Create a dictionary that associates the keys (japan_films,color_films,films_in_english) with the corresponding variables.\n",
    "    - Return the dictionary.\n",
    "2. Call the function with movie_data as its input, and store its value in summary."
   ]
  },
  {
   "cell_type": "code",
   "execution_count": 6,
   "metadata": {},
   "outputs": [
    {
     "name": "stdout",
     "output_type": "stream",
     "text": [
      "{'japan_films': 22, 'color_films': 4714, 'films_in_english': 4611}\n"
     ]
    }
   ],
   "source": [
    "def summary_statistics(lst):\n",
    "    num_japan_films = feature_counter(lst, 6, \"Japan\", header_row = True)\n",
    "    num_color_films = feature_counter(lst, 2, \"Color\", header_row = True)\n",
    "    num_films_in_english = feature_counter(lst, 5, \"English\", header_row = True)\n",
    "    summary_dict = {\n",
    "        \"japan_films\" : num_japan_films,\n",
    "        \"color_films\" : num_color_films,\n",
    "        \"films_in_english\" : num_films_in_english\n",
    "    }\n",
    "    return summary_dict\n",
    "\n",
    "summary = summary_statistics(movie_data)\n",
    "print(summary)"
   ]
  },
  {
   "cell_type": "markdown",
   "metadata": {},
   "source": [
    "# *Debugging Errors*"
   ]
  },
  {
   "cell_type": "markdown",
   "metadata": {},
   "source": [
    "### Types of Errors\n",
    "\n",
    "**There are two main types of errors:**\n",
    "\n",
    "1. Syntax errors\n",
    "2. Runtime errors"
   ]
  },
  {
   "cell_type": "markdown",
   "metadata": {},
   "source": [
    "### Syntax Errors\n",
    "\n",
    "1. The function first_elts() contains multiple syntax errors. Scan and edit the code to resolve these errors.\n",
    "\n",
    "2. When you're ready, click Run to see if any errors are returned."
   ]
  },
  {
   "cell_type": "code",
   "execution_count": 7,
   "metadata": {},
   "outputs": [
    {
     "name": "stdout",
     "output_type": "stream",
     "text": [
      "[['dog', 'cat', 'rabbit'], ['turtle', 'snake'], ['sloth', 'penguin', 'bird']]\n"
     ]
    }
   ],
   "source": [
    "def first_elts (input_lst):\n",
    "    elts = []\n",
    "    for each in input_lst:\n",
    "        elts.append(each)\n",
    "    return elts\n",
    "\n",
    "animals = [[\"dog\",\"cat\",\"rabbit\"],[\"turtle\",\"snake\"],[\"sloth\",\"penguin\",\"bird\"]]\n",
    "first_animal = first_elts(animals)\n",
    "print(first_animal)"
   ]
  },
  {
   "cell_type": "markdown",
   "metadata": {},
   "source": [
    "### Runtime Errors"
   ]
  },
  {
   "cell_type": "markdown",
   "metadata": {},
   "source": [
    "### TypeError and ValueError\n",
    "\n",
    "1. Concatenating an integer to a string, instead of the other way around\n",
    "2. Casting \"guardians\" into an integer instead using the int() function"
   ]
  },
  {
   "cell_type": "code",
   "execution_count": 8,
   "metadata": {},
   "outputs": [
    {
     "ename": "ValueError",
     "evalue": "invalid literal for int() with base 10: 'guardians'",
     "output_type": "error",
     "traceback": [
      "\u001b[0;31m---------------------------------------------------------------------------\u001b[0m",
      "\u001b[0;31mValueError\u001b[0m                                Traceback (most recent call last)",
      "\u001b[0;32m<ipython-input-8-c27758be8101>\u001b[0m in \u001b[0;36m<module>\u001b[0;34m\u001b[0m\n\u001b[1;32m      2\u001b[0m \u001b[0;31m# 42 + forty_two\u001b[0m\u001b[0;34m\u001b[0m\u001b[0;34m\u001b[0m\u001b[0m\n\u001b[1;32m      3\u001b[0m \u001b[0;34m\u001b[0m\u001b[0m\n\u001b[0;32m----> 4\u001b[0;31m \u001b[0mint\u001b[0m\u001b[0;34m(\u001b[0m\u001b[0;34m\"guardians\"\u001b[0m\u001b[0;34m)\u001b[0m\u001b[0;34m\u001b[0m\u001b[0m\n\u001b[0m",
      "\u001b[0;31mValueError\u001b[0m: invalid literal for int() with base 10: 'guardians'"
     ]
    }
   ],
   "source": [
    "forty_two = \"forty-two\"\n",
    "# 42 + forty_two\n",
    "\n",
    "int(\"guardians\")"
   ]
  },
  {
   "cell_type": "markdown",
   "metadata": {},
   "source": [
    "### IndexError and AttributeError\n",
    "\n",
    "**Edit the default code and fix the errors:**\n",
    "\n",
    "1. Access the first element in lives (instead of the fifth) and assign it to a new variable first_life.\n",
    "2. Use the read() method to read the file story.txt into a string named story.\n",
    "3. Use the split() method to split the story variable into strings seperated by spaces and assign the result to split_story.\n",
    "4. Display first_life and story."
   ]
  },
  {
   "cell_type": "code",
   "execution_count": 9,
   "metadata": {},
   "outputs": [
    {
     "name": "stdout",
     "output_type": "stream",
     "text": [
      "1\n"
     ]
    },
    {
     "data": {
      "text/plain": [
       "\"There was once a great and noble frmer named Julius.  He was the best farmer in his village, and prabably even the whole world.  One day, he decidid to grw potatoes.\\n\\n Julius knew that potatoes were hard to grow, so he kniw he hd to goe to the magic farmer in the sky to seek his guidance.  Julius set out on his journey aroudn noon one day.  It started raining almosty immediately.\\n\\n Julius wondered if this was a sign that he shouldn't go on, but he perserved.  He became soaked, and stoped in the store to buy an umbrella.  He told the storekeeper, Reggie, about his journey.\\n\\n Reggie told him that he was crzy to seek out the magic farmer; the last 10 people to try to find him had never come back.  Julius was undetered and decided to keep going.\\n\\n He travelled many long days in alternatng searing heat and freezing cold.  At night, he curled into a ball and tried to sleep underneath trees along the roadside.\\n\\n After mich anguish, Julius found the magic farmer, who gave him the secret of growing potatoes.\\n\\n Julius came back to the village, and managed to grow the finest crop the village had ever seen.  Everyone had potatoes to eat for months, and sang Julius's praises.\""
      ]
     },
     "execution_count": 9,
     "metadata": {},
     "output_type": "execute_result"
    }
   ],
   "source": [
    "# Default code containing errors\n",
    "lives = [1,2,3]\n",
    "first_life = lives[0]\n",
    "\n",
    "f = open(\"story.txt\")\n",
    "story = f.read()\n",
    "split_story = story.split(\" \")\n",
    "\n",
    "print(first_life)\n",
    "story"
   ]
  },
  {
   "cell_type": "markdown",
   "metadata": {},
   "source": [
    "### Traceback\n",
    "\n",
    "1. Remove the Error by editing The Default Code"
   ]
  },
  {
   "cell_type": "code",
   "execution_count": 10,
   "metadata": {},
   "outputs": [
    {
     "name": "stdout",
     "output_type": "stream",
     "text": [
      "{'japan_films': 22, 'color_films': 4714, 'films_in_english': 4611}\n"
     ]
    }
   ],
   "source": [
    "# Default Code:\n",
    "\n",
    "# def summary_statistics(input_lst):\n",
    "#     num_japan_films = feature_counter(input_lst,6,\"Japan\",True)\n",
    "#     num_color_films = feature_counter(input_lst,2,\"Color\",True)\n",
    "#     num_films_in_english = feature_counter(input_lst,5,\"English\",True)\n",
    "#     summary_dict = {\"japan_films\" : num_japan_films, \"color_films\" : num_color_films, \"films_in_english\" : num_films_in_english}\n",
    "#     return summary_dict\n",
    "\n",
    "# def feature_counter(input_lst,index, input_str, header_row = False):\n",
    "#     num_elt = 0\n",
    "#     if header_row == Treu:\n",
    "#         input_lst = input_lst[1:len(input_lst)]\n",
    "#     for each in input_lst:\n",
    "#         if each[index] == input_str:\n",
    "#             num_elt = num_elt + 1\n",
    "#     return num_elt\n",
    "\n",
    "# summary = summary_statistics(movie_data)\n",
    "# print(summary)\n",
    "\n",
    "def summary_statistics(input_lst):\n",
    "    num_japan_films = feature_counter(input_lst,6,\"Japan\",True)\n",
    "    num_color_films = feature_counter(input_lst,2,\"Color\",True)\n",
    "    num_films_in_english = feature_counter(input_lst,5,\"English\",True)\n",
    "    summary_dict = {\"japan_films\" : num_japan_films, \"color_films\" : num_color_films, \"films_in_english\" : num_films_in_english}\n",
    "    return summary_dict\n",
    "\n",
    "def feature_counter(input_lst,index, input_str, header_row = False):\n",
    "    num_elt = 0\n",
    "    if header_row == True:\n",
    "        input_lst = input_lst[1:len(input_lst)]\n",
    "    for each in input_lst:\n",
    "        if each[index] == input_str:\n",
    "            num_elt = num_elt + 1\n",
    "    return num_elt\n",
    "\n",
    "summary = summary_statistics(movie_data)\n",
    "print(summary)"
   ]
  }
 ],
 "metadata": {
  "kernelspec": {
   "display_name": "Python 3",
   "language": "python",
   "name": "python3"
  },
  "language_info": {
   "codemirror_mode": {
    "name": "ipython",
    "version": 3
   },
   "file_extension": ".py",
   "mimetype": "text/x-python",
   "name": "python",
   "nbconvert_exporter": "python",
   "pygments_lexer": "ipython3",
   "version": "3.6.6"
  }
 },
 "nbformat": 4,
 "nbformat_minor": 2
}
