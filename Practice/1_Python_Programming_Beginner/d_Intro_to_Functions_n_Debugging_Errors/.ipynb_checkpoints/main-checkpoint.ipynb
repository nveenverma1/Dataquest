{
 "cells": [
  {
   "cell_type": "markdown",
   "metadata": {},
   "source": [
    "# *Introduction To Functions*"
   ]
  },
  {
   "cell_type": "markdown",
   "metadata": {},
   "source": [
    "### Overview\n",
    "1. Read movie_metadata.csv into a list of lists and assign to movie_data.\n",
    "    - Open and read the file movie_metadata.csv into a string variable.\n",
    "    - Split the data into rows on the newline character (\"\\n\").\n",
    "    - Create an empty list, movie_data.\n",
    "    - Loop through each row, and split each row into a list on the comma character (\",\"), and append it to movie_data.\n",
    "2. Display the first 5 lists in movie_data using the print() function"
   ]
  },
  {
   "cell_type": "code",
   "execution_count": 2,
   "metadata": {},
   "outputs": [
    {
     "data": {
      "text/plain": [
       "[['movie_title',\n",
       "  'director_name',\n",
       "  'color',\n",
       "  'duration',\n",
       "  'actor_1_name',\n",
       "  'language',\n",
       "  'country',\n",
       "  'title_year'],\n",
       " ['Avatar',\n",
       "  'James Cameron',\n",
       "  'Color',\n",
       "  '178',\n",
       "  'CCH Pounder',\n",
       "  'English',\n",
       "  'USA',\n",
       "  '2009'],\n",
       " [\"Pirates of the Caribbean: At World's End\",\n",
       "  'Gore Verbinski',\n",
       "  'Color',\n",
       "  '169',\n",
       "  'Johnny Depp',\n",
       "  'English',\n",
       "  'USA',\n",
       "  '2007'],\n",
       " ['Spectre',\n",
       "  'Sam Mendes',\n",
       "  'Color',\n",
       "  '148',\n",
       "  'Christoph Waltz',\n",
       "  'English',\n",
       "  'UK',\n",
       "  '2015'],\n",
       " ['The Dark Knight Rises',\n",
       "  'Christopher Nolan',\n",
       "  'Color',\n",
       "  '164',\n",
       "  'Tom Hardy',\n",
       "  'English',\n",
       "  'USA',\n",
       "  '2012']]"
      ]
     },
     "execution_count": 2,
     "metadata": {},
     "output_type": "execute_result"
    }
   ],
   "source": [
    "f = open(\"movie_metadata.csv\", \"r\")\n",
    "data = f.read()\n",
    "\n",
    "movies = data.split(\"\\n\")\n",
    "movie_data = []\n",
    "\n",
    "for item in movies:\n",
    "    new_item = item.split(\",\")\n",
    "    movie_data.append(new_item)\n",
    "    \n",
    "movie_data[0:5]"
   ]
  },
  {
   "cell_type": "markdown",
   "metadata": {},
   "source": [
    "### Writing Own Functions\n",
    "\n",
    "Write a function, with a definition, name, argument(s), body and return value, that returns a list containing the names of the movies in movie_data. This function is expected to behave similar to first_elt(), but for multiple lists.\n",
    "\n",
    "Give the function a name that describes what it does; first_elts() is a good example, but feel free to be creative.\n",
    "Declare an empty list.\n",
    "Use a for loop to extract the first element of each list, and append these elements to the empty list.\n",
    "Return the list.\n",
    "Assign the returned list to movie_names.\n",
    "\n",
    "Display the first 5 elements of movie_names using the print() function."
   ]
  }
 ],
 "metadata": {
  "kernelspec": {
   "display_name": "Python 3",
   "language": "python",
   "name": "python3"
  },
  "language_info": {
   "codemirror_mode": {
    "name": "ipython",
    "version": 3
   },
   "file_extension": ".py",
   "mimetype": "text/x-python",
   "name": "python",
   "nbconvert_exporter": "python",
   "pygments_lexer": "ipython3",
   "version": "3.6.6"
  }
 },
 "nbformat": 4,
 "nbformat_minor": 2
}
