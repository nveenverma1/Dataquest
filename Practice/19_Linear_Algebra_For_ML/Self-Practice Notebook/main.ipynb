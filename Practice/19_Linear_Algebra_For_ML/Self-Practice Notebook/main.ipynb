{
 "cells": [
  {
   "cell_type": "markdown",
   "metadata": {},
   "source": [
    "# *Linear Systems*"
   ]
  },
  {
   "cell_type": "markdown",
   "metadata": {},
   "source": [
    "### Overview of Linear Algebra"
   ]
  },
  {
   "cell_type": "code",
   "execution_count": 1,
   "metadata": {},
   "outputs": [
    {
     "data": {
      "image/png": "[encoded data removed]",
      "text/plain": [
       "<Figure size 432x288 with 1 Axes>"
      ]
     },
     "metadata": {
      "needs_background": "light"
     },
     "output_type": "display_data"
    }
   ],
   "source": [
    "import numpy as np\n",
    "import matplotlib.pyplot as plt\n",
    "%matplotlib inline\n",
    "\n",
    "x = np.linspace(0, 50, 1000)\n",
    "y1 = 30*x + 1000\n",
    "y2 = 50*x + 100\n",
    "\n",
    "plt.plot(x, y1, c='orange')\n",
    "plt.plot(x, y2, c='blue')\n",
    "plt.show()"
   ]
  },
  {
   "cell_type": "markdown",
   "metadata": {},
   "source": [
    "### Representing An Augmented Matrix In NumPy"
   ]
  },
  {
   "cell_type": "code",
   "execution_count": 9,
   "metadata": {},
   "outputs": [
    {
     "data": {
      "text/plain": [
       "array([[   30.,    -1., -1000.],\n",
       "       [   50.,    -1.,  -100.]], dtype=float32)"
      ]
     },
     "execution_count": 9,
     "metadata": {},
     "output_type": "execute_result"
    }
   ],
   "source": [
    "matrix_one = np.asarray([\n",
    "    [30, -1, -1000],\n",
    "    [50, -1, -100]\n",
    "], dtype=np.float32)\n",
    "\n",
    "matrix_one"
   ]
  },
  {
   "cell_type": "markdown",
   "metadata": {},
   "source": [
    "### Row Operations"
   ]
  },
  {
   "cell_type": "code",
   "execution_count": 10,
   "metadata": {},
   "outputs": [
    {
     "data": {
      "text/plain": [
       "array([[ 1.0000000e+00, -3.3333335e-02, -3.3333332e+01],\n",
       "       [ 5.0000000e+01, -1.0000000e+00, -1.0000000e+02]], dtype=float32)"
      ]
     },
     "execution_count": 10,
     "metadata": {},
     "output_type": "execute_result"
    }
   ],
   "source": [
    "matrix_one[0] = matrix_one[0]/30\n",
    "matrix_one"
   ]
  },
  {
   "cell_type": "markdown",
   "metadata": {},
   "source": [
    "### Row Reduced Echelon Form"
   ]
  },
  {
   "cell_type": "code",
   "execution_count": 12,
   "metadata": {},
   "outputs": [
    {
     "data": {
      "text/plain": [
       "array([[1.0000000e+00, 0.0000000e+00, 4.5000004e+01],\n",
       "       [0.0000000e+00, 1.0000000e+00, 2.3500000e+03]], dtype=float32)"
      ]
     },
     "execution_count": 12,
     "metadata": {},
     "output_type": "execute_result"
    }
   ],
   "source": [
    "matrix_three = np.asarray([\n",
    "    [1, -1/30, -1000/30],\n",
    "    [0, 1, 2350]  \n",
    "], dtype=np.float32)\n",
    "\n",
    "matrix_three[0] = matrix_three[0] + (1/30)*matrix_three[1]\n",
    "matrix_three"
   ]
  },
  {
   "cell_type": "markdown",
   "metadata": {},
   "source": [
    "# *Vectors*"
   ]
  },
  {
   "cell_type": "markdown",
   "metadata": {},
   "source": [
    "### Geometric Intuition Of Vectors"
   ]
  },
  {
   "cell_type": "code",
   "execution_count": 2,
   "metadata": {},
   "outputs": [
    {
     "data": {
      "image/png": "[encoded data removed]",
      "text/plain": [
       "<Figure size 432x288 with 1 Axes>"
      ]
     },
     "metadata": {
      "needs_background": "light"
     },
     "output_type": "display_data"
    }
   ],
   "source": [
    "import matplotlib.pyplot as plt\n",
    "import numpy as np\n",
    "\n",
    "# This code draws the x and y axis as lines.\n",
    "plt.axhline(0, c='black', lw=0.5)\n",
    "plt.axvline(0, c='black', lw=0.5)\n",
    "plt.xlim(-3,3)\n",
    "plt.ylim(-4,4)\n",
    "\n",
    "# Add your code here.\n",
    "plt.quiver(0, 0, 2, 3, angles='xy', scale_units='xy', scale=1, color='blue')\n",
    "plt.quiver(0, 0, -2, -3, angles='xy', scale_units='xy', scale=1, color='blue')\n",
    "plt.quiver(0, 0, 1, 1, angles='xy', scale_units='xy', scale=1, color='gold')\n",
    "plt.quiver(0, 0, 2, 2, angles='xy', scale_units='xy', scale=1, color='gold')\n",
    "\n",
    "plt.show()"
   ]
  },
  {
   "cell_type": "markdown",
   "metadata": {},
   "source": [
    "### Vector Operations"
   ]
  },
  {
   "cell_type": "code",
   "execution_count": 8,
   "metadata": {},
   "outputs": [
    {
     "data": {
      "image/png": "[encoded data removed]",
      "text/plain": [
       "<Figure size 432x288 with 1 Axes>"
      ]
     },
     "metadata": {
      "needs_background": "light"
     },
     "output_type": "display_data"
    }
   ],
   "source": [
    "# This code draws the x and y axis as lines.\n",
    "plt.axhline(0, c='black', lw=0.5)\n",
    "plt.axvline(0, c='black', lw=0.5)\n",
    "plt.xlim(-4,4)\n",
    "plt.ylim(-1,4)\n",
    "\n",
    "# Add your code here.\n",
    "plt.quiver(0, 0, 3, 0, angles='xy', scale_units='xy', scale=1, color='yellow')\n",
    "plt.quiver(3, 0, 0, 3, angles='xy', scale_units='xy', scale=1, color='blue')\n",
    "plt.quiver(0, 0, 3, 3, angles='xy', scale_units='xy', scale=1, color='green')\n",
    "plt.show()"
   ]
  },
  {
   "cell_type": "markdown",
   "metadata": {},
   "source": [
    "### Vectors in NumPy"
   ]
  },
  {
   "cell_type": "code",
   "execution_count": 9,
   "metadata": {},
   "outputs": [
    {
     "data": {
      "text/plain": [
       "array([[17.],\n",
       "       [ 4.],\n",
       "       [ 7.]], dtype=float32)"
      ]
     },
     "execution_count": 9,
     "metadata": {},
     "output_type": "execute_result"
    }
   ],
   "source": [
    "import numpy as np\n",
    "\n",
    "vector_one = np.asarray([\n",
    "    [1],\n",
    "    [2],\n",
    "    [1]\n",
    "], dtype=np.float32)\n",
    "\n",
    "vector_two = np.asarray([\n",
    "    [3],\n",
    "    [0],\n",
    "    [1]\n",
    "], dtype = np.float32)\n",
    "\n",
    "vector_linear_combination = vector_one*2 + vector_two*5\n",
    "vector_linear_combination"
   ]
  },
  {
   "cell_type": "markdown",
   "metadata": {},
   "source": [
    "### Dot Product"
   ]
  },
  {
   "cell_type": "code",
   "execution_count": 3,
   "metadata": {},
   "outputs": [
    {
     "name": "stdout",
     "output_type": "stream",
     "text": [
      "[4.]\n"
     ]
    }
   ],
   "source": [
    "vector_one = np.asarray([\n",
    "    [1],\n",
    "    [2],\n",
    "    [1]\n",
    "], dtype=np.float32)\n",
    "\n",
    "vector_two = np.asarray([\n",
    "    [3],\n",
    "    [0],\n",
    "    [1]\n",
    "], dtype=np.float32)\n",
    "\n",
    "dot_product = np.dot(vector_one[:,0], vector_two)\n",
    "print(dot_product)"
   ]
  },
  {
   "cell_type": "markdown",
   "metadata": {},
   "source": [
    "### Linear Combination"
   ]
  },
  {
   "cell_type": "code",
   "execution_count": 5,
   "metadata": {},
   "outputs": [
    {
     "data": {
      "text/plain": [
       "array([[ 4.],\n",
       "       [-2.]], dtype=float32)"
      ]
     },
     "execution_count": 5,
     "metadata": {},
     "output_type": "execute_result"
    }
   ],
   "source": [
    "w = np.asarray([\n",
    "    [1],\n",
    "    [2]\n",
    "], dtype=np.float32)\n",
    "\n",
    "v = np.asarray([\n",
    "    [3],\n",
    "    [1]\n",
    "], dtype=np.float32)\n",
    "\n",
    "end_point = 2*v - 2*w\n",
    "end_point"
   ]
  },
  {
   "cell_type": "markdown",
   "metadata": {},
   "source": [
    "# *Matrix Algebra*"
   ]
  },
  {
   "cell_type": "markdown",
   "metadata": {},
   "source": [
    "### Matrix Vector Multiplication"
   ]
  },
  {
   "cell_type": "code",
   "execution_count": 6,
   "metadata": {},
   "outputs": [
    {
     "name": "stdout",
     "output_type": "stream",
     "text": [
      "[[ 82.1         2.1        10.       ]\n",
      " [194.1         5.1000004  19.       ]\n",
      " [ 88.1         2.1        16.       ]]\n"
     ]
    },
    {
     "data": {
      "text/plain": [
       "array([[ 91.2, 435. ],\n",
       "       [  1.4,  12. ]], dtype=float32)"
      ]
     },
     "execution_count": 6,
     "metadata": {},
     "output_type": "execute_result"
    }
   ],
   "source": [
    "matrix_a = np.asarray([\n",
    "    [0.7, 3],\n",
    "    [1.7, 2],\n",
    "    [0.7, 9]\n",
    "], dtype=np.float32)\n",
    "\n",
    "matrix_b = np.asarray([\n",
    "    [113, 3, 10],\n",
    "    [1, 0, 1],\n",
    "], dtype=np.float32)\n",
    "\n",
    "product_ab = np.dot(matrix_a, matrix_b)\n",
    "product_ba = np.dot(matrix_b, matrix_a)\n",
    "\n",
    "print(product_ab)\n",
    "product_ba"
   ]
  },
  {
   "cell_type": "markdown",
   "metadata": {},
   "source": [
    "### Matrix Transpose"
   ]
  },
  {
   "cell_type": "code",
   "execution_count": 8,
   "metadata": {},
   "outputs": [
    {
     "name": "stdout",
     "output_type": "stream",
     "text": [
      "transpose_a\n",
      "[[0.7 1.7 0.7]\n",
      " [3.  2.  9. ]]\n",
      "\n",
      "transpose of transpose_a\n",
      "[[0.7 3. ]\n",
      " [1.7 2. ]\n",
      " [0.7 9. ]]\n",
      "\n",
      "trans_ba\n",
      "[[ 82.1       194.1        88.1      ]\n",
      " [  2.1         5.1000004   2.1      ]\n",
      " [ 10.         19.         16.       ]]\n",
      "\n",
      "trans_ab\n",
      "[[ 91.2   1.4]\n",
      " [435.   12. ]]\n",
      "\n",
      "transpose of product_ab\n",
      "[[ 82.1       194.1        88.1      ]\n",
      " [  2.1         5.1000004   2.1      ]\n",
      " [ 10.         19.         16.       ]]\n",
      "\n"
     ]
    }
   ],
   "source": [
    "matrix_a = np.asarray([\n",
    "    [0.7, 3],\n",
    "    [1.7, 2],\n",
    "    [0.7, 9]\n",
    "], dtype=np.float32)\n",
    "\n",
    "matrix_b = np.asarray([\n",
    "    [113, 3, 10],\n",
    "    [1, 0, 1],\n",
    "], dtype=np.float32)\n",
    "\n",
    "transpose_a = np.transpose(matrix_a)\n",
    "print('transpose_a')\n",
    "print(transpose_a)\n",
    "print()\n",
    "\n",
    "transpose_b = np.transpose(matrix_b)\n",
    "\n",
    "print('transpose of transpose_a')\n",
    "print(np.transpose(transpose_a))\n",
    "print()\n",
    "\n",
    "trans_ba = np.dot(transpose_b, transpose_a)\n",
    "print('trans_ba')\n",
    "print(trans_ba)\n",
    "print()\n",
    "\n",
    "trans_ab = np.dot(transpose_a, transpose_b)\n",
    "print('trans_ab')\n",
    "print(trans_ab)\n",
    "print()\n",
    "\n",
    "product_ab = np.dot(matrix_a, matrix_b)\n",
    "print('transpose of product_ab')\n",
    "print(np.transpose(product_ab))"
   ]
  },
  {
   "cell_type": "markdown",
   "metadata": {},
   "source": [
    "### Identity Matrix"
   ]
  },
  {
   "cell_type": "code",
   "execution_count": 16,
   "metadata": {},
   "outputs": [
    {
     "name": "stdout",
     "output_type": "stream",
     "text": [
      "[[1.29999995 1.5        7.        ]\n",
      " [0.89999998 2.         4.        ]]\n"
     ]
    },
    {
     "data": {
      "text/plain": [
       "array([[0.69999999, 3.        , 1.        ],\n",
       "       [1.70000005, 2.        , 1.        ],\n",
       "       [0.69999999, 9.        , 1.        ]])"
      ]
     },
     "execution_count": 16,
     "metadata": {},
     "output_type": "execute_result"
    }
   ],
   "source": [
    "i_2 = np.identity(2)\n",
    "i_3 = np.identity(3)\n",
    "\n",
    "matrix_23 = np.asarray([\n",
    "    [1.3, 1.5, 7],\n",
    "    [0.9, 2, 4]\n",
    "], dtype=np.float32)\n",
    "\n",
    "matrix_33 = np.asarray([\n",
    "    [0.7, 3, 1],\n",
    "    [1.7, 2, 1],\n",
    "    [0.7, 9, 1]\n",
    "], dtype=np.float32)\n",
    "\n",
    "identity_23 = np.dot(i_2, matrix_23)\n",
    "identity_33 = np.dot(i_3, matrix_33)\n",
    "\n",
    "print(identity_23)\n",
    "identity_33"
   ]
  },
  {
   "cell_type": "code",
   "execution_count": 17,
   "metadata": {},
   "outputs": [
    {
     "data": {
      "text/plain": [
       "array([[1., 0.],\n",
       "       [0., 1.]])"
      ]
     },
     "execution_count": 17,
     "metadata": {},
     "output_type": "execute_result"
    }
   ],
   "source": [
    "i_2"
   ]
  },
  {
   "cell_type": "markdown",
   "metadata": {},
   "source": [
    "### Matrix Inverse"
   ]
  },
  {
   "cell_type": "code",
   "execution_count": 13,
   "metadata": {},
   "outputs": [
    {
     "name": "stdout",
     "output_type": "stream",
     "text": [
      "[[1. 0.]\n",
      " [0. 1.]]\n"
     ]
    },
    {
     "data": {
      "text/plain": [
       "array([[ 1.33333333, -1.        ],\n",
       "       [-0.33333333,  0.5       ]])"
      ]
     },
     "execution_count": 13,
     "metadata": {},
     "output_type": "execute_result"
    }
   ],
   "source": [
    "matrix_a = np.asarray([\n",
    "    [1.5, 3],\n",
    "    [1, 4]\n",
    "])\n",
    "\n",
    "def matrix_inverse_two(mat_two):\n",
    "    first = mat_two[0]\n",
    "    second = mat_two[1]\n",
    "    \n",
    "    det = first[0]*second[1] - first[1]*second[0]\n",
    "    if det == 0:\n",
    "        raise ValueError(\"The matrix isn't invertible\")\n",
    "    \n",
    "    right_mat = np.asarray([\n",
    "        [second[1], -first[1]],\n",
    "        [-second[0], first[0]]\n",
    "    ])\n",
    "    \n",
    "    inv_mat = np.dot(1/det, right_mat)\n",
    "    return inv_mat\n",
    "\n",
    "inverse_a = matrix_inverse_two(matrix_a)\n",
    "\n",
    "i_2 = np.dot(matrix_a, inverse_a)\n",
    "print(i_2)\n",
    "\n",
    "inverse_a"
   ]
  },
  {
   "cell_type": "markdown",
   "metadata": {},
   "source": [
    "### Solving the Matrix Equation"
   ]
  },
  {
   "cell_type": "code",
   "execution_count": 15,
   "metadata": {},
   "outputs": [
    {
     "data": {
      "text/plain": [
       "array([[  45.00000067],\n",
       "       [2350.        ]])"
      ]
     },
     "execution_count": 15,
     "metadata": {},
     "output_type": "execute_result"
    }
   ],
   "source": [
    "matrix_a = np.asarray([\n",
    "    [30, -1],\n",
    "    [50, -1]\n",
    "], dtype=np.float32)\n",
    "\n",
    "vector_b = np.asarray([\n",
    "    [-1000],\n",
    "    [-100]\n",
    "])\n",
    "\n",
    "matrix_a_inverse = np.linalg.inv(matrix_a)\n",
    "solution_x = np.dot(matrix_a_inverse, vector_b)\n",
    "\n",
    "solution_x"
   ]
  },
  {
   "cell_type": "markdown",
   "metadata": {},
   "source": [
    "### Determinant for Higher Dimensions"
   ]
  },
  {
   "cell_type": "code",
   "execution_count": 17,
   "metadata": {},
   "outputs": [
    {
     "name": "stdout",
     "output_type": "stream",
     "text": [
      "0.0\n"
     ]
    },
    {
     "data": {
      "text/plain": [
       "-4.999999999999997"
      ]
     },
     "execution_count": 17,
     "metadata": {},
     "output_type": "execute_result"
    }
   ],
   "source": [
    "matrix_22 = np.asarray([\n",
    "    [8, 4],\n",
    "    [4, 2]\n",
    "])\n",
    "\n",
    "matrix_33 = np.asarray([\n",
    "    [1, 1, 1],\n",
    "    [1, 1, 6],\n",
    "    [7, 8, 9]\n",
    "])\n",
    "\n",
    "det_22 = np.linalg.det(matrix_22)\n",
    "det_33 = np.linalg.det(matrix_33)\n",
    "\n",
    "print(det_22)\n",
    "det_33"
   ]
  },
  {
   "cell_type": "markdown",
   "metadata": {},
   "source": [
    "# *Solution Sets*"
   ]
  },
  {
   "cell_type": "code",
   "execution_count": 2,
   "metadata": {},
   "outputs": [
    {
     "data": {
      "image/png": "[encoded data removed]",
      "text/plain": [
       "<Figure size 432x288 with 1 Axes>"
      ]
     },
     "metadata": {
      "needs_background": "light"
     },
     "output_type": "display_data"
    }
   ],
   "source": [
    "import numpy as np\n",
    "import matplotlib.pyplot as plt\n",
    "%matplotlib inline\n",
    "\n",
    "x = np.linspace(0, 20, 1000)\n",
    "y1 = 5/4 - 2*x\n",
    "y2 = 5/2 - 2*x\n",
    "\n",
    "plt.plot(x, y1)\n",
    "plt.plot(x, y2)\n",
    "\n",
    "plt.show()"
   ]
  },
  {
   "cell_type": "code",
   "execution_count": null,
   "metadata": {},
   "outputs": [],
   "source": []
  },
  {
   "cell_type": "code",
   "execution_count": null,
   "metadata": {},
   "outputs": [],
   "source": []
  },
  {
   "cell_type": "code",
   "execution_count": null,
   "metadata": {},
   "outputs": [],
   "source": []
  },
  {
   "cell_type": "code",
   "execution_count": null,
   "metadata": {},
   "outputs": [],
   "source": []
  },
  {
   "cell_type": "code",
   "execution_count": null,
   "metadata": {},
   "outputs": [],
   "source": []
  },
  {
   "cell_type": "code",
   "execution_count": null,
   "metadata": {},
   "outputs": [],
   "source": []
  },
  {
   "cell_type": "code",
   "execution_count": null,
   "metadata": {},
   "outputs": [],
   "source": []
  },
  {
   "cell_type": "code",
   "execution_count": null,
   "metadata": {},
   "outputs": [],
   "source": []
  }
 ],
 "metadata": {
  "kernelspec": {
   "display_name": "Python 3",
   "language": "python",
   "name": "python3"
  },
  "language_info": {
   "codemirror_mode": {
    "name": "ipython",
    "version": 3
   },
   "file_extension": ".py",
   "mimetype": "text/x-python",
   "name": "python",
   "nbconvert_exporter": "python",
   "pygments_lexer": "ipython3",
   "version": "3.6.8"
  }
 },
 "nbformat": 4,
 "nbformat_minor": 2
}
