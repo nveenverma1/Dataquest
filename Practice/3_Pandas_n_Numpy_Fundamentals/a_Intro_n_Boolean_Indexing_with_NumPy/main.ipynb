{
 "cells": [
  {
   "cell_type": "markdown",
   "metadata": {},
   "source": [
    "# *Introduction To NumPy*\n",
    "\n",
    "**Here, we'll be analyzing taxi trip data released by the city of New York. The city releases data on taxis and for-hire vehicles on the <a href=\"http://www.nyc.gov/html/tlc/html/about/trip_record_data.shtml\">Taxi and Limousine Commission (TLC) Website</a>. There is data on over 1.3 trillion individual trips, reaching back as far as 2009 and is regularly updated.**\n",
    "\n",
    "### Data Dictionary\n",
    "\n",
    "> <font color=blue>***pickup_year***</font> - The year of the trip.<br>\n",
    "> <font color=blue>***pickup_month***</font> - The month of the trip (January is 1, December is 12).<br>\n",
    "> <font color=blue>***pickup_day***</font> - The day of the month of the trip.<br>\n",
    "> <font color=blue>***pickup_location_code***</font> - The airport or borough where the the trip started, as one of eight categories:<br>\n",
    "> <font color=blue>***0 - Bronx.***</font><br>\n",
    "> <font color=blue>***1 - Brooklyn.***</font><br>\n",
    "> <font color=blue>***2 - JFK Airport.***</font><br>\n",
    "> <font color=blue>***3 - LaGuardia Airport.***</font><br>\n",
    "> <font color=blue>***4 - Manhattan.***</font><br>\n",
    "> <font color=blue>***5 - Newark Airport.***</font><br>\n",
    "> <font color=blue>***6 - Queens.***</font><br>\n",
    "> <font color=blue>***7 - Staten Island.***</font><br>\n",
    "> <font color=blue>***dropoff_location_code***</font> - The airport or borough where the the trip finished, using the same eight category codes as pickup_location_code.<br>\n",
    "> <font color=blue>***trip_distance***</font> - The distance of the trip in miles.<br>\n",
    "> <font color=blue>***trip_length***</font> - The length of the trip in seconds.<br>\n",
    "> <font color=blue>***fare_amount***</font> - The base fare of the trip, in dollars.<br>\n",
    "> <font color=blue>***total_amount***</font> - The total amount charged to the passenger, including all fees, tolls and tips.<br>\n",
    "\n",
    "**We have randomly sampled approximately 90,000 trips for our analysis, representing one 50th of the trips for the six month period. Our data is stored in a CSV file called nyc_taxis.csv**"
   ]
  },
  {
   "cell_type": "markdown",
   "metadata": {},
   "source": [
    "### NYC Taxi-Airport Data\n",
    "We have imported numpy, and used Python's csv module to import the nyc_taxis.csv file and convert it to a list of lists containing float values.\n",
    "\n",
    "1. Add a line of code using the numpy.array() constructor to convert the converted_taxi_list variable to a NumPy ndarray. Assign the result to the variable name taxi."
   ]
  },
  {
   "cell_type": "code",
   "execution_count": 4,
   "metadata": {},
   "outputs": [
    {
     "name": "stdout",
     "output_type": "stream",
     "text": [
      "[[2016.      1.      1.   ...   11.65   69.99    1.  ]\n",
      " [2016.      1.      1.   ...    8.     54.3     1.  ]\n",
      " [2016.      1.      1.   ...    0.     37.8     2.  ]\n",
      " ...\n",
      " [2016.      6.     30.   ...    5.     63.34    1.  ]\n",
      " [2016.      6.     30.   ...    8.95   44.75    1.  ]\n",
      " [2016.      6.     30.   ...    0.     54.84    2.  ]]\n"
     ]
    }
   ],
   "source": [
    "import csv\n",
    "import numpy as np\n",
    "\n",
    "# import nyc_taxi.csv as a list of lists\n",
    "f = open(\"nyc_taxis.csv\", \"r\")\n",
    "taxi_list = list(csv.reader(f))\n",
    "\n",
    "# remove the header row\n",
    "taxi_list = taxi_list[1:]\n",
    "\n",
    "# convert all values to floats\n",
    "converted_taxi_list = []\n",
    "for row in taxi_list:\n",
    "    converted_row = []\n",
    "    for item in row:\n",
    "        converted_row.append(float(item))\n",
    "    converted_taxi_list.append(converted_row)\n",
    "\n",
    "# start writing your code below this comment\n",
    "taxi = np.array(converted_taxi_list)\n",
    "np.set_printoptions(precision=2, suppress=True)\n",
    "print(taxi)"
   ]
  },
  {
   "cell_type": "markdown",
   "metadata": {},
   "source": [
    "### Understanding NumPy ndarrays\n",
    "1. Select the first ten rows of the taxi ndarray, and assign the result to a new variable taxi_ten.\n",
    "2. Use Python's print() function to display taxi_ten."
   ]
  },
  {
   "cell_type": "code",
   "execution_count": 5,
   "metadata": {},
   "outputs": [
    {
     "name": "stdout",
     "output_type": "stream",
     "text": [
      "[[2016.      1.      1.      5.      0.      2.      4.     21.   2037.\n",
      "    52.      0.8     5.54   11.65   69.99    1.  ]\n",
      " [2016.      1.      1.      5.      0.      2.      1.     16.29 1520.\n",
      "    45.      1.3     0.      8.     54.3     1.  ]\n",
      " [2016.      1.      1.      5.      0.      2.      6.     12.7  1462.\n",
      "    36.5     1.3     0.      0.     37.8     2.  ]\n",
      " [2016.      1.      1.      5.      0.      2.      6.      8.7  1210.\n",
      "    26.      1.3     0.      5.46   32.76    1.  ]\n",
      " [2016.      1.      1.      5.      0.      2.      6.      5.56  759.\n",
      "    17.5     1.3     0.      0.     18.8     2.  ]\n",
      " [2016.      1.      1.      5.      0.      4.      2.     21.45 2004.\n",
      "    52.      0.8     0.     52.8   105.6     1.  ]\n",
      " [2016.      1.      1.      5.      0.      2.      6.      8.45  927.\n",
      "    24.5     1.3     0.      6.45   32.25    1.  ]\n",
      " [2016.      1.      1.      5.      0.      2.      6.      7.3   731.\n",
      "    21.5     1.3     0.      0.     22.8     2.  ]\n",
      " [2016.      1.      1.      5.      0.      2.      5.     36.3  2562.\n",
      "   109.5     0.8    11.08   10.    131.38    1.  ]\n",
      " [2016.      1.      1.      5.      0.      6.      2.     12.46 1351.\n",
      "    36.      1.3     0.      0.     37.3     2.  ]]\n"
     ]
    }
   ],
   "source": [
    "taxi_five = taxi[:5]\n",
    "taxi_ten = taxi[:10]\n",
    "\n",
    "print(taxi_ten)"
   ]
  },
  {
   "cell_type": "markdown",
   "metadata": {},
   "source": [
    "### Selecting and Slicing Rows and Items from ndarrays\n",
    "1. From the taxi ndarray:\n",
    "    - Select the row at index 0 and assign it to row_0.\n",
    "    - Select every column for the rows at indexes 391 to 500 inclusive and assign them to rows_391_to_500.\n",
    "    - Select the item at row index 21 and column index 5 and assign it to row_21_column_5"
   ]
  },
  {
   "cell_type": "code",
   "execution_count": 8,
   "metadata": {},
   "outputs": [
    {
     "name": "stdout",
     "output_type": "stream",
     "text": [
      "[[2016.      1.      2.   ...    0.     26.3     2.  ]\n",
      " [2016.      1.      2.   ...    3.     30.3     1.  ]\n",
      " [2016.      1.      2.   ...    6.67   40.01    1.  ]\n",
      " ...\n",
      " [2016.      1.      2.   ...    4.96   29.76    1.  ]\n",
      " [2016.      1.      2.   ...    0.     32.84    2.  ]\n",
      " [2016.      1.      2.   ...    7.05   42.39    1.  ]]\n"
     ]
    }
   ],
   "source": [
    "row_0 = taxi[0]\n",
    "rows_391_to_500 = taxi[391:501]\n",
    "row_21_column_5 = taxi[21, 5]\n",
    "\n",
    "print(rows_391_to_500)"
   ]
  },
  {
   "cell_type": "markdown",
   "metadata": {},
   "source": [
    "### Selecting Columns and Custom Slicing ndarrays\n",
    "1. From the taxi ndarray:\n",
    "    - Select every row for the columns at indexes 1, 4, and 7 and assign them to columns_1_4_7.\n",
    "    - Select the columns at indexes 5 to 8 inclusive for the row at index 99 and assign them to row_99_columns_5_to_8.\n",
    "    - Select the rows at indexes 100 to 200 inclusive for the column at index 14 and assign them to rows_100_to_200_column_14."
   ]
  },
  {
   "cell_type": "code",
   "execution_count": 10,
   "metadata": {},
   "outputs": [
    {
     "name": "stdout",
     "output_type": "stream",
     "text": [
      "[[ 1.    0.   21.  ]\n",
      " [ 1.    0.   16.29]\n",
      " [ 1.    0.   12.7 ]\n",
      " ...\n",
      " [ 6.    5.   17.48]\n",
      " [ 6.    5.   12.76]\n",
      " [ 6.    5.   17.54]]\n"
     ]
    }
   ],
   "source": [
    "columns_1_4_7 = taxi[:, [1, 4, 7]]\n",
    "row_99_columns_5_to_8 = taxi[99, 5:9]\n",
    "rows_100_to_200_column_14 = taxi[100:201, 14]\n",
    "\n",
    "print(columns_1_4_7)"
   ]
  },
  {
   "cell_type": "markdown",
   "metadata": {},
   "source": [
    "### Vector Math\n",
    "\n",
    "1. Use vector division to divide trip_distance_miles by trip_length_hours, assigning the result to trip_mph.\n",
    "2. After you have run your code, use the variable inspector below the code box to inspect the contents of the new trip_mph variable."
   ]
  },
  {
   "cell_type": "code",
   "execution_count": 11,
   "metadata": {},
   "outputs": [
    {
     "name": "stdout",
     "output_type": "stream",
     "text": [
      "[37.11 38.58 31.27 ... 22.3  42.42 36.9 ]\n"
     ]
    }
   ],
   "source": [
    "trip_distance_miles = taxi[:,7]\n",
    "trip_length_seconds = taxi[:,8]\n",
    "\n",
    "trip_length_hours = trip_length_seconds / 3600 # 3600 seconds is one hour\n",
    "\n",
    "trip_mph = trip_distance_miles/trip_length_hours\n",
    "\n",
    "print(trip_mph)"
   ]
  },
  {
   "cell_type": "markdown",
   "metadata": {},
   "source": [
    "### Calculating Statistics for 1D ndarrays\n",
    "\n",
    "1. Use the ndarray.max() method to calculate the maximum value of trip_mph and assign the result to mph_max.\n",
    "2. Use the ndarray.mean() method to calculate the average value of trip_mph and assign the result to mph_mean."
   ]
  },
  {
   "cell_type": "code",
   "execution_count": 12,
   "metadata": {},
   "outputs": [
    {
     "name": "stdout",
     "output_type": "stream",
     "text": [
      "32.24258580925573\n"
     ]
    }
   ],
   "source": [
    "mph_min = trip_mph.min()\n",
    "mph_max = trip_mph.max()\n",
    "mph_mean = trip_mph.mean()\n",
    "\n",
    "print(mph_mean)"
   ]
  },
  {
   "cell_type": "markdown",
   "metadata": {},
   "source": [
    "### Calculating Statistics for 2D ndarrays\n",
    "\n",
    "1. Using a single method, calculate the mean value for each column of taxi, and assign the result to taxi_column_means."
   ]
  },
  {
   "cell_type": "code",
   "execution_count": 13,
   "metadata": {},
   "outputs": [
    {
     "name": "stdout",
     "output_type": "stream",
     "text": [
      "[2016.      3.61   15.69    3.84    3.08    2.96    3.38   12.67 2235.98\n",
      "   38.4     1.21    3.54    5.81   48.97    1.29]\n"
     ]
    }
   ],
   "source": [
    "taxi_column_means = taxi.mean(axis = 0)\n",
    "print(taxi_column_means)"
   ]
  },
  {
   "cell_type": "markdown",
   "metadata": {},
   "source": [
    "### Adding Rows and Columns to ndarrays\n",
    "1. Expand the dimensions of trip_mph to be a single column in a 2D ndarray, and assign the result to trip_mph_2d.\n",
    "2. Add trip_mph_2d as a new column at the end of taxi, assigning the result back to taxi.\n",
    "3. Use the print() function to display taxi and view the new column."
   ]
  },
  {
   "cell_type": "code",
   "execution_count": 19,
   "metadata": {},
   "outputs": [
    {
     "name": "stdout",
     "output_type": "stream",
     "text": [
      "[[1 1 1 1 1 1]\n",
      " [1 1 1 1 1 1]\n",
      " [1 1 1 1 1 1]]\n",
      "[0 0 0]\n",
      "\n",
      "(3, 6)\n",
      "(3,)\n",
      "\n",
      "[[0]\n",
      " [0]\n",
      " [0]]\n",
      "(3, 1)\n",
      "\n",
      "[[1 1 1 1 1 1 0]\n",
      " [1 1 1 1 1 1 0]\n",
      " [1 1 1 1 1 1 0]]\n",
      "\n",
      "[[2016.      1.      1.   ...    1.     37.11   37.11]\n",
      " [2016.      1.      1.   ...    1.     38.58   38.58]\n",
      " [2016.      1.      1.   ...    2.     31.27   31.27]\n",
      " ...\n",
      " [2016.      6.     30.   ...    1.     22.3    22.3 ]\n",
      " [2016.      6.     30.   ...    1.     42.42   42.42]\n",
      " [2016.      6.     30.   ...    2.     36.9    36.9 ]]\n"
     ]
    }
   ],
   "source": [
    "# These `ones` and `zeros` variables\n",
    "# are different from the ones in the\n",
    "# main lesson \n",
    "\n",
    "ones = np.array([[1, 1, 1, 1, 1, 1], \n",
    "        [1, 1, 1, 1, 1, 1],\n",
    "        [1, 1, 1, 1, 1, 1]])\n",
    "zeros = np.array([0, 0, 0])\n",
    "\n",
    "print(ones)\n",
    "print(zeros)\n",
    "print() # creates a space in our output\n",
    "\n",
    "print(ones.shape)\n",
    "print(zeros.shape)\n",
    "print()\n",
    "\n",
    "zeros_2d = np.expand_dims(zeros,axis=1)\n",
    "print(zeros_2d)\n",
    "print(zeros_2d.shape)\n",
    "print()\n",
    "\n",
    "combined = np.concatenate([ones,zeros_2d],axis=1)\n",
    "print(combined)\n",
    "print()\n",
    "\n",
    "# the `trip_mph` variable is still available from the\n",
    "# previous screen\n",
    "\n",
    "trip_mph_2d = np.expand_dims(trip_mph, axis = 1)\n",
    "taxi = np.concatenate([taxi, trip_mph_2d], axis = 1)\n",
    "print(taxi)"
   ]
  },
  {
   "cell_type": "markdown",
   "metadata": {},
   "source": [
    "### Sorting ndarrasy\n",
    "1. Use numpy.argsort() to get the indices which would sort the trip_mph column from the taxi ndarray. The trip_mph column is at column index 15.\n",
    "2. Use the indices from the previous instruction to sort the taxi ndarray, and assign the result to taxi_sorted.\n",
    "3. Use the print() function to examine the taxi_sorted ndarray."
   ]
  },
  {
   "cell_type": "code",
   "execution_count": 21,
   "metadata": {},
   "outputs": [
    {
     "name": "stdout",
     "output_type": "stream",
     "text": [
      "[[ 2016.     6.    28. ...     1.     0.     0.]\n",
      " [ 2016.     3.     3. ...     1.     0.     0.]\n",
      " [ 2016.     4.     6. ...     4.     0.     0.]\n",
      " ...\n",
      " [ 2016.     3.    28. ...     2. 32040. 32040.]\n",
      " [ 2016.     2.    13. ...     2. 70560. 70560.]\n",
      " [ 2016.     1.    22. ...     2. 82800. 82800.]]\n"
     ]
    }
   ],
   "source": [
    "sorted = np.argsort(taxi[:, 15])\n",
    "taxi_sorted = taxi[sorted]\n",
    "print(taxi_sorted)"
   ]
  },
  {
   "cell_type": "markdown",
   "metadata": {},
   "source": [
    "### Analyzing trips with High Average Speeds\n",
    "1. Below are the last 10 rows of our sorted_taxi ndarray, with trip_mph values ranging between 15,570 and 82,800:"
   ]
  },
  {
   "cell_type": "code",
   "execution_count": 24,
   "metadata": {},
   "outputs": [
    {
     "data": {
      "text/plain": [
       "array([[ 2016.  ,     2.  ,    19.  ,     5.  ,     4.  ,     2.  ,\n",
       "            2.  ,    17.3 ,     4.  ,     2.5 ,     1.8 ,     0.  ,\n",
       "            0.  ,     4.3 ,     2.  , 15570.  , 15570.  ],\n",
       "       [ 2016.  ,     6.  ,     6.  ,     1.  ,     0.  ,     2.  ,\n",
       "            2.  ,    18.7 ,     4.  ,     2.5 ,     1.3 ,     0.  ,\n",
       "            0.  ,     3.8 ,     3.  , 16830.  , 16830.  ],\n",
       "       [ 2016.  ,     4.  ,    12.  ,     2.  ,     4.  ,     2.  ,\n",
       "            2.  ,    19.8 ,     4.  ,     2.5 ,     1.8 ,     0.  ,\n",
       "            0.  ,     4.3 ,     2.  , 17820.  , 17820.  ],\n",
       "       [ 2016.  ,     4.  ,    24.  ,     7.  ,     5.  ,     3.  ,\n",
       "            3.  ,    16.9 ,     3.  ,    52.  ,     0.8 ,     0.  ,\n",
       "            0.  ,    52.8 ,     3.  , 20280.  , 20280.  ],\n",
       "       [ 2016.  ,     6.  ,    30.  ,     4.  ,     3.  ,     2.  ,\n",
       "            2.  ,    27.1 ,     4.  ,    75.  ,     0.8 ,     0.  ,\n",
       "            0.  ,    75.8 ,     2.  , 24390.  , 24390.  ],\n",
       "       [ 2016.  ,     3.  ,    23.  ,     3.  ,     2.  ,     2.  ,\n",
       "            2.  ,    16.7 ,     2.  ,    52.  ,     0.8 ,     0.  ,\n",
       "           10.55,    63.35,     1.  , 30060.  , 30060.  ],\n",
       "       [ 2016.  ,     3.  ,    30.  ,     3.  ,     4.  ,     2.  ,\n",
       "            2.  ,    17.2 ,     2.  ,     2.5 ,     1.8 ,     0.  ,\n",
       "            0.  ,     4.3 ,     2.  , 30960.  , 30960.  ],\n",
       "       [ 2016.  ,     3.  ,    28.  ,     1.  ,     4.  ,     3.  ,\n",
       "            3.  ,    17.8 ,     2.  ,     2.5 ,     1.8 ,     0.  ,\n",
       "            0.  ,     4.3 ,     2.  , 32040.  , 32040.  ],\n",
       "       [ 2016.  ,     2.  ,    13.  ,     6.  ,     3.  ,     2.  ,\n",
       "            2.  ,    19.6 ,     1.  ,     2.5 ,     0.8 ,     0.  ,\n",
       "            0.  ,     3.3 ,     2.  , 70560.  , 70560.  ],\n",
       "       [ 2016.  ,     1.  ,    22.  ,     5.  ,     3.  ,     2.  ,\n",
       "            2.  ,    23.  ,     1.  ,     2.5 ,     0.8 ,     0.  ,\n",
       "            0.  ,     3.3 ,     2.  , 82800.  , 82800.  ]])"
      ]
     },
     "execution_count": 24,
     "metadata": {},
     "output_type": "execute_result"
    }
   ],
   "source": [
    "taxi_sorted[-10:]"
   ]
  },
  {
   "cell_type": "markdown",
   "metadata": {},
   "source": [
    "# Boolean Indexing with NumPy"
   ]
  },
  {
   "cell_type": "markdown",
   "metadata": {},
   "source": [
    "### Reading CSV Files With NumPy\n",
    "1. Import the NumPy library.\n",
    "2. Use the numpy.genfromtxt() function to read the nyc_taxis.csv file into NumPy, skipping the first row, and assign the result to taxi.\n",
    "3. Use the variable inspector under the code box to view the taxi ndarray after you have run your code."
   ]
  },
  {
   "cell_type": "code",
   "execution_count": 27,
   "metadata": {},
   "outputs": [
    {
     "data": {
      "text/plain": [
       "array([[2016.  ,    1.  ,    1.  , ...,   11.65,   69.99,    1.  ],\n",
       "       [2016.  ,    1.  ,    1.  , ...,    8.  ,   54.3 ,    1.  ],\n",
       "       [2016.  ,    1.  ,    1.  , ...,    0.  ,   37.8 ,    2.  ],\n",
       "       ...,\n",
       "       [2016.  ,    6.  ,   30.  , ...,    5.  ,   63.34,    1.  ],\n",
       "       [2016.  ,    6.  ,   30.  , ...,    8.95,   44.75,    1.  ],\n",
       "       [2016.  ,    6.  ,   30.  , ...,    0.  ,   54.84,    2.  ]])"
      ]
     },
     "execution_count": 27,
     "metadata": {},
     "output_type": "execute_result"
    }
   ],
   "source": [
    "import numpy as np\n",
    "taxi = np.genfromtxt(\"nyc_taxis.csv\", delimiter = \",\")\n",
    "taxi = taxi[1:]\n",
    "\n",
    "taxi"
   ]
  },
  {
   "cell_type": "markdown",
   "metadata": {},
   "source": [
    "### Boolean Arrays\n",
    "1. Use vectorized boolean operations to:\n",
    "    - Evaluate whether the elements in array a are less than 3 and assign the result to a_bool.\n",
    "    - Evaluate whether the elements in array b are equal to \"blue\" and assign the result to b_bool.\n",
    "    - Evaluate whether the elements in array c are greater than 100 and assign the result to c_bool.\n",
    "2. Once you have run your code, use the variable inspector below the code box to view each boolean array."
   ]
  },
  {
   "cell_type": "code",
   "execution_count": 29,
   "metadata": {},
   "outputs": [
    {
     "data": {
      "text/plain": [
       "array([ True,  True, False, False, False])"
      ]
     },
     "execution_count": 29,
     "metadata": {},
     "output_type": "execute_result"
    }
   ],
   "source": [
    "a = np.array([1, 2, 3, 4, 5])\n",
    "b = np.array([\"blue\", \"blue\", \"red\", \"blue\"])\n",
    "c = np.array([80.0, 103.4, 96.9, 200.3])\n",
    "\n",
    "a_bool = np.array(a) < 3\n",
    "b_bool = np.array(b) == \"blue\"\n",
    "c_bool = np.array(c) > 100\n",
    "\n",
    "a_bool"
   ]
  },
  {
   "cell_type": "markdown",
   "metadata": {},
   "source": [
    "### Boolean Indexing with 1D ndarrays\n",
    "\n",
    "1. Calculate the number of rides in the taxi ndarray that are from February:\n",
    "    - Create a boolean array, february_bool, that evaluates whether the items in pickup_month are equal to 2.\n",
    "    - Use the february_bool boolean array to index pickup_month, and assign the result to february.\n",
    "    - Use the ndarray.shape attribute to find the number of items in february and assign the result to february_rides.\n",
    "2. Calculate the number of rides in the taxi ndarray that are from March:\n",
    "    - Create a boolean array, march_bool, that evaluates whether the items in pickup_month are equal to 3.\n",
    "    - Use the march_bool boolean array to index pickup_month, and assign the result to march.\n",
    "    - Use the ndarray.shape attribute to find the number of items in march and assign the result to march_rides.\n",
    "3. Once you have run your code, use the variable inspector to view the number of rides for February and March."
   ]
  },
  {
   "cell_type": "code",
   "execution_count": 33,
   "metadata": {},
   "outputs": [
    {
     "data": {
      "text/plain": [
       "15547"
      ]
     },
     "execution_count": 33,
     "metadata": {},
     "output_type": "execute_result"
    }
   ],
   "source": [
    "pickup_month = taxi[:,1]\n",
    "\n",
    "january_bool = pickup_month == 1\n",
    "january = pickup_month[january_bool]\n",
    "january_rides = january.shape[0]\n",
    "\n",
    "february_bool = pickup_month == 2\n",
    "february = pickup_month[february_bool]\n",
    "february_rides = february.shape[0]\n",
    "\n",
    "march_bool = pickup_month == 3\n",
    "march = pickup_month[march_bool]\n",
    "march_rides = march.shape[0]\n",
    "\n",
    "march_rides"
   ]
  },
  {
   "cell_type": "markdown",
   "metadata": {},
   "source": [
    "### Boolean Indexing with 2D ndarrays\n",
    "\n",
    "1. Create a boolean array, tip_bool, that determines which rows have values for the tip_amount column of more than 50.\n",
    "2. Use the tip_bool array to select all rows from taxi with values tip amounts of more than 50, and the columns from indexes 5 to 13 inclusive. Assign the resulting array to top_tips.\n",
    "3. Once you have run your code, use the variable inspector to view the top_tips array.\n",
    "    - To help you understand the data, the columns names are (in order):<br> pickup_location_code,<br> dropoff_location_code,<br> trip_distance,<br> trip_length,<br> fare_amount,<br> fees_amount,<br> tolls_amount,<br> tip_amount,<br> total_amount."
   ]
  },
  {
   "cell_type": "code",
   "execution_count": 35,
   "metadata": {},
   "outputs": [
    {
     "data": {
      "text/plain": [
       "array([[    4.  ,     2.  ,    21.45,  2004.  ,    52.  ,     0.8 ,\n",
       "            0.  ,    52.8 ,   105.6 ],\n",
       "       [    3.  ,     4.  ,     9.2 ,  1041.  ,    27.  ,     1.3 ,\n",
       "            5.54,    60.  ,    93.84],\n",
       "       [    2.  ,     0.  ,    19.8 ,  1671.  ,    52.5 ,     1.3 ,\n",
       "            5.54,    59.34,   118.68],\n",
       "       [    4.  ,     2.  ,    18.42,  2968.  ,    52.  ,     0.8 ,\n",
       "            5.54,    80.  ,   138.34],\n",
       "       [    3.  ,     6.  ,     0.49,   158.  ,     3.5 ,     1.8 ,\n",
       "            0.  ,    70.  ,    75.3 ],\n",
       "       [    2.  ,     2.  ,     2.7 ,   381.  ,     9.5 ,     0.8 ,\n",
       "            0.  ,    60.  ,    70.3 ],\n",
       "       [    3.  ,     4.  ,     9.54,  1210.  ,    27.5 ,     0.8 ,\n",
       "            5.54,    55.  ,    88.84],\n",
       "       [    2.  ,     4.  ,    17.6 ,  3251.  ,    52.  ,     0.8 ,\n",
       "            5.54,    65.  ,   123.34],\n",
       "       [    4.  ,     2.  ,    38.2 ,  9252.  ,    52.  ,     0.8 ,\n",
       "            5.54,    80.  ,   138.34],\n",
       "       [    4.  ,     2.  ,    18.  ,  2276.  ,     0.01,     0.3 ,\n",
       "            5.54,    62.  ,    67.85],\n",
       "       [    2.  ,     0.  ,    26.21, 17029.  ,   180.5 ,     0.8 ,\n",
       "            5.54,   100.  ,   286.84],\n",
       "       [    2.  ,     2.  ,     0.  ,    24.  ,     2.5 ,     0.8 ,\n",
       "            0.  ,    58.  ,    61.3 ],\n",
       "       [    2.  ,     1.  ,    18.21,  3160.  ,    55.5 ,     0.8 ,\n",
       "            0.  ,    62.  ,   118.3 ],\n",
       "       [    2.  ,     2.  ,     0.  ,     3.  ,     2.5 ,     1.8 ,\n",
       "            0.  ,    75.7 ,    80.  ],\n",
       "       [    2.  ,     4.  ,    18.68,  5247.  ,    52.  ,     0.8 ,\n",
       "            5.54,    60.  ,   118.34],\n",
       "       [    4.  ,     2.  ,    18.17,  5860.  ,    52.  ,     0.8 ,\n",
       "            5.54,    70.  ,   128.34]])"
      ]
     },
     "execution_count": 35,
     "metadata": {},
     "output_type": "execute_result"
    }
   ],
   "source": [
    "tip_amount = taxi[:,12]\n",
    "tip_bool = tip_amount > 50\n",
    "top_tips = taxi[tip_bool, 5:14]\n",
    "top_tips"
   ]
  },
  {
   "cell_type": "markdown",
   "metadata": {},
   "source": [
    "### Assigning Values in ndarrays\n",
    "**To help you practice without making changes to our original array, we have used the ndarray.copy() method to make taxi_modified, a copy of our original for these exercises.**\n",
    "\n",
    "1. The value at column index 5 (pickup_location) of row index 28214 is incorrect. Use assignment to change this value to 1 in the taxi_modified ndarray.\n",
    "2. The first column (index 0) contains year values as four digit numbers in the format YYYY (2016, since all trips in our data set are from 2016). Use assignment to change these values to the YY format (16) in the taxi_modified ndarray.\n",
    "3. The values at column index 7 (trip_distance) of rows index 1800 and 1801 are incorrect. Use assignment to change these values in the taxi_modified ndarray to the mean value for that column."
   ]
  },
  {
   "cell_type": "code",
   "execution_count": 37,
   "metadata": {},
   "outputs": [
    {
     "data": {
      "text/plain": [
       "array([[16.  ,  1.  ,  1.  , ..., 11.65, 69.99,  1.  ],\n",
       "       [16.  ,  1.  ,  1.  , ...,  8.  , 54.3 ,  1.  ],\n",
       "       [16.  ,  1.  ,  1.  , ...,  0.  , 37.8 ,  2.  ],\n",
       "       ...,\n",
       "       [16.  ,  6.  , 30.  , ...,  5.  , 63.34,  1.  ],\n",
       "       [16.  ,  6.  , 30.  , ...,  8.95, 44.75,  1.  ],\n",
       "       [16.  ,  6.  , 30.  , ...,  0.  , 54.84,  2.  ]])"
      ]
     },
     "execution_count": 37,
     "metadata": {},
     "output_type": "execute_result"
    }
   ],
   "source": [
    "# this creates a copy of our taxi ndarray\n",
    "taxi_modified = taxi.copy()\n",
    "\n",
    "taxi_modified[28214, 5] = 1\n",
    "\n",
    "taxi_modified[:, 0] = 16\n",
    "\n",
    "taxi_modified[1800:1802, 7] = taxi_modified[:, 7].mean()\n",
    "\n",
    "taxi_modified"
   ]
  },
  {
   "cell_type": "markdown",
   "metadata": {},
   "source": [
    "### Assignment using Boolean Arrays\n",
    "**We have created a new copy of our taxi dataset, taxi_modified with an additional column containing the value 0 for every row.**\n",
    "\n",
    "1. In our new column at index 15, assign the value 1 if the pickup_location_code (column index 5) corresponds to an airport location, leaving the value as 0 otherwise by performing these three operations:\n",
    "    - For rows where the value for the column index 5 is equal to 2 (JFK Airport), assign the value 1 to column index 15.\n",
    "    - For rows where the value for the column index 5 is equal to 3 (LaGuardia Airport), assign the value 1 to column index 15.\n",
    "    - For rows where the value for the column index 5 is equal to 5 (Newark Airport), assign the value 1 to column index 15."
   ]
  },
  {
   "cell_type": "code",
   "execution_count": 39,
   "metadata": {},
   "outputs": [
    {
     "data": {
      "text/plain": [
       "array([[2016.  ,    1.  ,    1.  , ...,   69.99,    1.  ,    1.  ],\n",
       "       [2016.  ,    1.  ,    1.  , ...,   54.3 ,    1.  ,    1.  ],\n",
       "       [2016.  ,    1.  ,    1.  , ...,   37.8 ,    2.  ,    1.  ],\n",
       "       ...,\n",
       "       [2016.  ,    6.  ,   30.  , ...,   63.34,    1.  ,    1.  ],\n",
       "       [2016.  ,    6.  ,   30.  , ...,   44.75,    1.  ,    1.  ],\n",
       "       [2016.  ,    6.  ,   30.  , ...,   54.84,    2.  ,    1.  ]])"
      ]
     },
     "execution_count": 39,
     "metadata": {},
     "output_type": "execute_result"
    }
   ],
   "source": [
    "# this creates a copy of our taxi ndarray\n",
    "taxi_modified = taxi.copy()\n",
    "\n",
    "# create a new column filled with `0`.\n",
    "zeros = np.zeros([taxi_modified.shape[0], 1])\n",
    "taxi_modified = np.concatenate([taxi, zeros], axis=1)\n",
    "\n",
    "taxi_modified[taxi_modified[:, 5] == 2, 15] = 1\n",
    "taxi_modified[taxi_modified[:, 5] == 3, 15] = 1\n",
    "taxi_modified[taxi_modified[:, 5] == 5, 15] = 1\n",
    "\n",
    "taxi_modified"
   ]
  },
  {
   "cell_type": "markdown",
   "metadata": {},
   "source": [
    "### Challenge Which is the Most Popular Airport?\n",
    "1. Using the original taxi ndarray, calculate how many trips had JFK Airport as their destination:\n",
    "    - Select only the rows there the dropoff_location_code column has a value that corresponds to JFK, and assign the result to jfk.\n",
    "    - Calculate how many rows are in the new jfk array and assign the result to jfk_count.\n",
    "2. Calculate how many trips from taxi had Laguardia Airport as their destination:\n",
    "    - Select only the rows there the dropoff_location_code column has a value that corresponds to Laguardia, and assign the result to laguardia.\n",
    "    - Calculate how many rows are in the new laguardia array and assign the result to laguardia_count.\n",
    "3. Calculate how many trips from taxi had Newark Airport as their destination:\n",
    "    - Select only the rows there the dropoff_location_code column has a value that corresponds to Newark, and assign the result to newark.\n",
    "    - Calculate how many rows are in the new newark array and assign the result to newark_count.\n",
    "4. After you have run your code, inspect the values for jfk_count, laguardia_count, and newark_count and see which airport has the most dropoffs."
   ]
  },
  {
   "cell_type": "code",
   "execution_count": 41,
   "metadata": {},
   "outputs": [
    {
     "name": "stdout",
     "output_type": "stream",
     "text": [
      "11832\n",
      "16602\n",
      "63\n"
     ]
    }
   ],
   "source": [
    "jfk = taxi[taxi[:, 6] == 2]\n",
    "jfk_count = jfk.shape[0]\n",
    "\n",
    "laguardia = taxi[taxi[:, 6] == 3]\n",
    "laguardia_count = laguardia.shape[0]\n",
    "\n",
    "newark = taxi[taxi[:, 6] == 5]\n",
    "newark_count = newark.shape[0]\n",
    "\n",
    "print(jfk_count)\n",
    "print(laguardia_count)\n",
    "print(newark_count)"
   ]
  },
  {
   "cell_type": "markdown",
   "metadata": {},
   "source": [
    "### Challenge: Calculating Statistics for Trips on Clean Data\n",
    "\n",
    "**The trip_mph ndarray has been provided for you.**\n",
    "\n",
    "1. Create a new ndarray, cleaned_taxi, containing only rows for which the values of trip_mph are less than 100.\n",
    "2. Calculate the mean of the trip_distance column of cleaned_taxi, and assign the result to mean_distance.\n",
    "3. Calculate the mean of the trip_length column of cleaned_taxi, and assign the result to mean_length.\n",
    "4. Calculate the mean of the total_amount column of cleaned_taxi, and assign the result to mean_total_amount.\n",
    "5. Calculate the mean of the trip_mph, excluding values greater than 100, and assign the result to mean_mph."
   ]
  },
  {
   "cell_type": "code",
   "execution_count": 43,
   "metadata": {},
   "outputs": [
    {
     "data": {
      "text/plain": [
       "array([[2016.  ,    1.  ,    1.  , ...,   11.65,   69.99,    1.  ],\n",
       "       [2016.  ,    1.  ,    1.  , ...,    8.  ,   54.3 ,    1.  ],\n",
       "       [2016.  ,    1.  ,    1.  , ...,    0.  ,   37.8 ,    2.  ],\n",
       "       ...,\n",
       "       [2016.  ,    6.  ,   30.  , ...,    5.  ,   63.34,    1.  ],\n",
       "       [2016.  ,    6.  ,   30.  , ...,    8.95,   44.75,    1.  ],\n",
       "       [2016.  ,    6.  ,   30.  , ...,    0.  ,   54.84,    2.  ]])"
      ]
     },
     "execution_count": 43,
     "metadata": {},
     "output_type": "execute_result"
    }
   ],
   "source": [
    "trip_mph = taxi[:,7] / (taxi[:,8] / 3600)\n",
    "\n",
    "cleaned_taxi = taxi[trip_mph < 100]\n",
    "\n",
    "mean_distance = cleaned_taxi[:, 7].mean()\n",
    "mean_length = cleaned_taxi[:, 8].mean()\n",
    "mean_total_amount = cleaned_taxi[:, 13].mean()\n",
    "new_trip_mph = trip_mph < 100\n",
    "mean_mph = trip_mph[trip_mph[:] < 100].mean()\n",
    "\n",
    "cleaned_taxi"
   ]
  },
  {
   "cell_type": "code",
   "execution_count": null,
   "metadata": {},
   "outputs": [],
   "source": []
  }
 ],
 "metadata": {
  "kernelspec": {
   "display_name": "Python 3",
   "language": "python",
   "name": "python3"
  },
  "language_info": {
   "codemirror_mode": {
    "name": "ipython",
    "version": 3
   },
   "file_extension": ".py",
   "mimetype": "text/x-python",
   "name": "python",
   "nbconvert_exporter": "python",
   "pygments_lexer": "ipython3",
   "version": "3.6.8"
  }
 },
 "nbformat": 4,
 "nbformat_minor": 2
}
