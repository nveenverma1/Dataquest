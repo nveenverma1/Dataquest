{
 "cells": [
  {
   "cell_type": "markdown",
   "metadata": {},
   "source": [
    "# *The Mean*"
   ]
  },
  {
   "cell_type": "code",
   "execution_count": 1,
   "metadata": {},
   "outputs": [
    {
     "name": "stdout",
     "output_type": "stream",
     "text": [
      "False\n",
      "9.0\n",
      "9.0\n"
     ]
    },
    {
     "data": {
      "text/plain": [
       "True"
      ]
     },
     "execution_count": 1,
     "metadata": {},
     "output_type": "execute_result"
    }
   ],
   "source": [
    "distribution = [0,2,3,3,3,4,13]\n",
    "\n",
    "import numpy as np\n",
    "\n",
    "distribution_np = np.array(distribution)\n",
    "mean = distribution_np.mean()\n",
    "\n",
    "center = ((distribution[0] + distribution[6])/2 == mean)\n",
    "print(center)\n",
    "\n",
    "less = [abs(i-mean) for i in distribution if (i < mean)]\n",
    "print(np.sum(less))\n",
    "\n",
    "more = [abs(i-mean) for i in distribution if (i > mean)]\n",
    "print(np.sum(more))\n",
    "\n",
    "equal_distances = (np.sum(less) == np.sum(more))\n",
    "equal_distances"
   ]
  },
  {
   "cell_type": "markdown",
   "metadata": {},
   "source": [
    "### The Mean as a Balance Point"
   ]
  },
  {
   "cell_type": "code",
   "execution_count": 2,
   "metadata": {},
   "outputs": [
    {
     "name": "stdout",
     "output_type": "stream",
     "text": [
      "5000\n"
     ]
    }
   ],
   "source": [
    "import numpy as np\n",
    "from numpy.random import randint, seed\n",
    "equal_distances = 0\n",
    "\n",
    "for i in range(5000):\n",
    "    np.random.seed(i)\n",
    "    distribution = randint(1000, size=10)\n",
    "    mean = distribution.mean()\n",
    "    sum_below = round(np.array([abs(i-mean) for i in distribution if (i < mean)]).sum(), 1)\n",
    "    sum_above = round(np.array([abs(i-mean) for i in distribution if (i > mean)]).sum(), 1)\n",
    "    equal_distances += 1\n",
    "    \n",
    "        \n",
    "print(equal_distances)"
   ]
  },
  {
   "cell_type": "markdown",
   "metadata": {},
   "source": [
    "### An Alternative Definition"
   ]
  },
  {
   "cell_type": "code",
   "execution_count": 3,
   "metadata": {},
   "outputs": [
    {
     "name": "stdout",
     "output_type": "stream",
     "text": [
      "27.25\n",
      "46.857142857142854\n",
      "8.714285714285714\n"
     ]
    }
   ],
   "source": [
    "def calc_mean(arr):\n",
    "    mean = 0\n",
    "    i = 1\n",
    "    for _ in range(len(arr)):\n",
    "        mean += arr[i-1]\n",
    "        i += 1\n",
    "    return mean/len(arr)\n",
    "\n",
    "\n",
    "distribution_1 = [42, 24, 32, 11]\n",
    "distribution_2 = [102, 32, 74, 15, 38, 45, 22]\n",
    "distribution_3 = [3, 12, 7, 2, 15, 1, 21]\n",
    "\n",
    "mean_1 = calc_mean(distribution_1)\n",
    "mean_2 = calc_mean(distribution_2)\n",
    "mean_3 = calc_mean(distribution_3)\n",
    "\n",
    "print(mean_1)\n",
    "print(mean_2)\n",
    "print(mean_3)"
   ]
  },
  {
   "cell_type": "markdown",
   "metadata": {},
   "source": [
    "### Mean House Prices"
   ]
  },
  {
   "cell_type": "code",
   "execution_count": 4,
   "metadata": {},
   "outputs": [
    {
     "name": "stdout",
     "output_type": "stream",
     "text": [
      "True\n"
     ]
    }
   ],
   "source": [
    "import pandas as pd \n",
    "houses = pd.read_csv('AmesHousing_1.txt', sep='\\t')\n",
    "\n",
    "def mean(distribution):\n",
    "    sum_distribution = 0\n",
    "    for value in distribution:\n",
    "        sum_distribution += value\n",
    "        \n",
    "    return sum_distribution / len(distribution)\n",
    "\n",
    "function_mean = mean(houses['SalePrice'])\n",
    "pandas_mean = houses['SalePrice'].mean()\n",
    "\n",
    "means_are_equal = (function_mean == pandas_mean)\n",
    "print(means_are_equal)"
   ]
  },
  {
   "cell_type": "markdown",
   "metadata": {},
   "source": [
    "### Estimating the Population Mean"
   ]
  },
  {
   "cell_type": "code",
   "execution_count": 6,
   "metadata": {},
   "outputs": [
    {
     "name": "stdout",
     "output_type": "stream",
     "text": [
      "180796.0600682594\n"
     ]
    },
    {
     "data": {
      "image/png": "[encoded data removed]",
      "text/plain": [
       "<Figure size 432x288 with 1 Axes>"
      ]
     },
     "metadata": {
      "needs_background": "light"
     },
     "output_type": "display_data"
    }
   ],
   "source": [
    "import matplotlib.pyplot as plt\n",
    "\n",
    "pop_mean = houses['SalePrice'].mean()\n",
    "print(pop_mean)\n",
    "\n",
    "sampling_errors = []\n",
    "size = 5\n",
    "sampling_sizes = [size]\n",
    "\n",
    "for i in range(0, 101):\n",
    "    Sample = houses['SalePrice'].sample(n = size, random_state=i)\n",
    "    size += 29\n",
    "    sample_mean = Sample.mean()\n",
    "    sampling_error = pop_mean - sample_mean\n",
    "    sampling_errors.append(sampling_error)    \n",
    "    sampling_sizes.append(size)\n",
    "    \n",
    "plt.scatter(sampling_sizes[:-1], sampling_errors)\n",
    "plt.axhline()\n",
    "plt.axvline(x=2930)\n",
    "plt.xlabel('Sample size')\n",
    "plt.ylabel('Sampling error')\n",
    "plt.show()"
   ]
  },
  {
   "cell_type": "markdown",
   "metadata": {},
   "source": [
    "### Estimates from Low-Sized Samples"
   ]
  },
  {
   "cell_type": "code",
   "execution_count": 7,
   "metadata": {},
   "outputs": [
    {
     "data": {
      "image/png": "[encoded data removed]",
      "text/plain": [
       "<Figure size 432x288 with 1 Axes>"
      ]
     },
     "metadata": {
      "needs_background": "light"
     },
     "output_type": "display_data"
    }
   ],
   "source": [
    "sampling_errors = []\n",
    "prices = houses['SalePrice']\n",
    "pop_mean = prices.mean()\n",
    "\n",
    "for i in range(10000):\n",
    "    Sample = prices.sample(n=100, random_state=i)\n",
    "    sample_mean = Sample.mean()\n",
    "    sampling_errors.append(sample_mean)\n",
    "    \n",
    "plt.hist(sampling_errors)\n",
    "plt.axvline(pop_mean)\n",
    "plt.xlabel('Sample mean')\n",
    "plt.ylabel('Frequency')\n",
    "plt.xlim(0,500000)\n",
    "plt.show()"
   ]
  },
  {
   "cell_type": "markdown",
   "metadata": {},
   "source": [
    "### The Sample Mean as Unbiased Estimator"
   ]
  },
  {
   "cell_type": "code",
   "execution_count": 8,
   "metadata": {},
   "outputs": [
    {
     "name": "stdout",
     "output_type": "stream",
     "text": [
      "4.0\n",
      "4.0\n",
      "True\n"
     ]
    }
   ],
   "source": [
    "population = [3, 7, 2]\n",
    "pop_mean = mean(population)\n",
    "print(pop_mean)\n",
    "\n",
    "samples = [[3, 7], [3, 2], [7, 2], \n",
    "           [7, 3], [2, 3], [2, 7]]\n",
    "sample_means = []\n",
    "\n",
    "for sample in samples:\n",
    "    sample_means.append(mean(sample))\n",
    "    \n",
    "mean_of_sample_means = mean(sample_means)\n",
    "print(mean_of_sample_means)\n",
    "\n",
    "unbiased = (pop_mean == mean_of_sample_means)\n",
    "print(unbiased)"
   ]
  },
  {
   "cell_type": "markdown",
   "metadata": {},
   "source": [
    "# The Weighted Mean and The Median"
   ]
  },
  {
   "cell_type": "markdown",
   "metadata": {},
   "source": [
    "### Introduction"
   ]
  },
  {
   "cell_type": "code",
   "execution_count": 12,
   "metadata": {},
   "outputs": [
    {
     "name": "stdout",
     "output_type": "stream",
     "text": [
      "180796.0600682594\n",
      "179948.7544876\n",
      "847.3055806593911\n"
     ]
    }
   ],
   "source": [
    "data = [[2006, 181761.648000, 625],\n",
    "        [2007, 185138.207493, 694],\n",
    "        [2008, 178841.750804, 622],\n",
    "        [2009, 181404.567901, 648],\n",
    "        [2010, 172597.598240, 341]]\n",
    "\n",
    "houses_per_year = pd.DataFrame(data, columns=['Year', 'Mean Price', 'Houses Sold'])\n",
    "\n",
    "mean_new = houses_per_year['Mean Price'].mean()\n",
    "mean_original = houses['SalePrice'].mean()\n",
    "difference = mean_original - mean_new\n",
    "\n",
    "print(mean_original)\n",
    "print(mean_new)\n",
    "print(difference)"
   ]
  },
  {
   "cell_type": "markdown",
   "metadata": {},
   "source": [
    "### Different Weights"
   ]
  },
  {
   "cell_type": "code",
   "execution_count": 28,
   "metadata": {},
   "outputs": [
    {
     "name": "stdout",
     "output_type": "stream",
     "text": [
      "[113601029.99999999, 128485916.000142, 111239569.000088, 117550159.99984801, 58855780.99984]\n",
      "2930\n",
      "180796.060068\n",
      "180796.060068\n",
      "0.0\n"
     ]
    }
   ],
   "source": [
    "sum_per_year = [(houses_per_year['Mean Price'][i] * houses_per_year['Houses Sold'][i]) for i in range(5)]\n",
    "print(sum_per_year)\n",
    "\n",
    "houses_sold = houses_per_year['Houses Sold'].sum()\n",
    "print(houses_sold)\n",
    "\n",
    "weighted_mean = round(sum(sum_per_year)/houses_sold, 6)\n",
    "print(weighted_mean)\n",
    "\n",
    "mean_original = round(houses['SalePrice'].mean(), 6)\n",
    "print(mean_original)\n",
    "\n",
    "difference = weighted_mean - mean_original\n",
    "print(difference)"
   ]
  },
  {
   "cell_type": "markdown",
   "metadata": {},
   "source": [
    "### The Weighted Mean"
   ]
  },
  {
   "cell_type": "code",
   "execution_count": 30,
   "metadata": {},
   "outputs": [
    {
     "name": "stdout",
     "output_type": "stream",
     "text": [
      "180796.0600682314\n",
      "180796.0600682314\n",
      "True\n"
     ]
    }
   ],
   "source": [
    "import numpy as np\n",
    "\n",
    "def calc_weighted_mean(items, weights):\n",
    "    weighted_items = [items[i]*weights[i] for i in range(len(items))]\n",
    "    weighted_mean = sum(weighted_items)/sum(weights)\n",
    "    return weighted_mean\n",
    "\n",
    "weighted_mean_function = calc_weighted_mean(houses_per_year['Mean Price'], houses_per_year['Houses Sold'])\n",
    "print(weighted_mean_function)\n",
    "\n",
    "weighted_mean_numpy = np.average(houses_per_year['Mean Price'], weights=houses_per_year['Houses Sold'])\n",
    "print(weighted_mean_numpy)\n",
    "\n",
    "equal = (round(weighted_mean_function, 10) == round(weighted_mean_numpy, 10))\n",
    "print(equal)"
   ]
  },
  {
   "cell_type": "markdown",
   "metadata": {},
   "source": [
    "### The Median for Open-ended Distributions"
   ]
  },
  {
   "cell_type": "code",
   "execution_count": 43,
   "metadata": {},
   "outputs": [
    {
     "name": "stdout",
     "output_type": "stream",
     "text": [
      "23\n",
      "55\n",
      "32\n"
     ]
    }
   ],
   "source": [
    "distribution1 = [23, 24, 22, '20 years or lower,', 23, 42, 35]\n",
    "distribution2 = [55, 38, 123, 40, 71]\n",
    "distribution3 = [45, 22, 7, '5 books or lower', 32, 65, '100 books or more']\n",
    "\n",
    "median1 = 23\n",
    "median2 = 55\n",
    "median3 = 32\n",
    "\n",
    "print(median1)\n",
    "print(median2)\n",
    "print(median3)"
   ]
  },
  {
   "cell_type": "markdown",
   "metadata": {},
   "source": [
    "### Distributions with Even Number of Values"
   ]
  },
  {
   "cell_type": "markdown",
   "metadata": {},
   "source": []
  },
  {
   "cell_type": "code",
   "execution_count": null,
   "metadata": {},
   "outputs": [],
   "source": []
  },
  {
   "cell_type": "code",
   "execution_count": null,
   "metadata": {},
   "outputs": [],
   "source": []
  },
  {
   "cell_type": "code",
   "execution_count": null,
   "metadata": {},
   "outputs": [],
   "source": []
  },
  {
   "cell_type": "code",
   "execution_count": null,
   "metadata": {},
   "outputs": [],
   "source": []
  },
  {
   "cell_type": "code",
   "execution_count": null,
   "metadata": {},
   "outputs": [],
   "source": []
  },
  {
   "cell_type": "code",
   "execution_count": null,
   "metadata": {},
   "outputs": [],
   "source": []
  },
  {
   "cell_type": "code",
   "execution_count": null,
   "metadata": {},
   "outputs": [],
   "source": []
  },
  {
   "cell_type": "code",
   "execution_count": null,
   "metadata": {},
   "outputs": [],
   "source": []
  }
 ],
 "metadata": {
  "kernelspec": {
   "display_name": "Python 3",
   "language": "python",
   "name": "python3"
  },
  "language_info": {
   "codemirror_mode": {
    "name": "ipython",
    "version": 3
   },
   "file_extension": ".py",
   "mimetype": "text/x-python",
   "name": "python",
   "nbconvert_exporter": "python",
   "pygments_lexer": "ipython3",
   "version": "3.6.8"
  }
 },
 "nbformat": 4,
 "nbformat_minor": 2
}
