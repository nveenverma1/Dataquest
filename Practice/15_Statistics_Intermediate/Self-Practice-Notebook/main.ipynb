{
 "cells": [
  {
   "cell_type": "markdown",
   "metadata": {},
   "source": [
    "# *The Mean*"
   ]
  },
  {
   "cell_type": "code",
   "execution_count": 1,
   "metadata": {},
   "outputs": [
    {
     "name": "stdout",
     "output_type": "stream",
     "text": [
      "False\n",
      "9.0\n",
      "9.0\n"
     ]
    },
    {
     "data": {
      "text/plain": [
       "True"
      ]
     },
     "execution_count": 1,
     "metadata": {},
     "output_type": "execute_result"
    }
   ],
   "source": [
    "distribution = [0,2,3,3,3,4,13]\n",
    "\n",
    "import numpy as np\n",
    "\n",
    "distribution_np = np.array(distribution)\n",
    "mean = distribution_np.mean()\n",
    "\n",
    "center = ((distribution[0] + distribution[6])/2 == mean)\n",
    "print(center)\n",
    "\n",
    "less = [abs(i-mean) for i in distribution if (i < mean)]\n",
    "print(np.sum(less))\n",
    "\n",
    "more = [abs(i-mean) for i in distribution if (i > mean)]\n",
    "print(np.sum(more))\n",
    "\n",
    "equal_distances = (np.sum(less) == np.sum(more))\n",
    "equal_distances"
   ]
  },
  {
   "cell_type": "markdown",
   "metadata": {},
   "source": [
    "### The Mean as a Balance Point"
   ]
  },
  {
   "cell_type": "code",
   "execution_count": 2,
   "metadata": {},
   "outputs": [
    {
     "name": "stdout",
     "output_type": "stream",
     "text": [
      "5000\n"
     ]
    }
   ],
   "source": [
    "import numpy as np\n",
    "from numpy.random import randint, seed\n",
    "equal_distances = 0\n",
    "\n",
    "for i in range(5000):\n",
    "    np.random.seed(i)\n",
    "    distribution = randint(1000, size=10)\n",
    "    mean = distribution.mean()\n",
    "    sum_below = round(np.array([abs(i-mean) for i in distribution if (i < mean)]).sum(), 1)\n",
    "    sum_above = round(np.array([abs(i-mean) for i in distribution if (i > mean)]).sum(), 1)\n",
    "    equal_distances += 1\n",
    "    \n",
    "        \n",
    "print(equal_distances)"
   ]
  },
  {
   "cell_type": "markdown",
   "metadata": {},
   "source": [
    "### An Alternative Definition"
   ]
  },
  {
   "cell_type": "code",
   "execution_count": 3,
   "metadata": {},
   "outputs": [
    {
     "name": "stdout",
     "output_type": "stream",
     "text": [
      "27.25\n",
      "46.857142857142854\n",
      "8.714285714285714\n"
     ]
    }
   ],
   "source": [
    "def calc_mean(arr):\n",
    "    mean = 0\n",
    "    i = 1\n",
    "    for _ in range(len(arr)):\n",
    "        mean += arr[i-1]\n",
    "        i += 1\n",
    "    return mean/len(arr)\n",
    "\n",
    "\n",
    "distribution_1 = [42, 24, 32, 11]\n",
    "distribution_2 = [102, 32, 74, 15, 38, 45, 22]\n",
    "distribution_3 = [3, 12, 7, 2, 15, 1, 21]\n",
    "\n",
    "mean_1 = calc_mean(distribution_1)\n",
    "mean_2 = calc_mean(distribution_2)\n",
    "mean_3 = calc_mean(distribution_3)\n",
    "\n",
    "print(mean_1)\n",
    "print(mean_2)\n",
    "print(mean_3)"
   ]
  },
  {
   "cell_type": "markdown",
   "metadata": {},
   "source": [
    "### Mean House Prices"
   ]
  },
  {
   "cell_type": "code",
   "execution_count": 4,
   "metadata": {},
   "outputs": [
    {
     "name": "stdout",
     "output_type": "stream",
     "text": [
      "True\n"
     ]
    }
   ],
   "source": [
    "import pandas as pd\n",
    "pd.set_option('display.max_rows', 500)\n",
    "pd.set_option('display.max_columns', 500)\n",
    "pd.set_option('display.width', 1000)\n",
    "houses = pd.read_csv('AmesHousing_1.txt', sep='\\t')\n",
    "\n",
    "def mean(distribution):\n",
    "    sum_distribution = 0\n",
    "    for value in distribution:\n",
    "        sum_distribution += value\n",
    "        \n",
    "    return sum_distribution / len(distribution)\n",
    "\n",
    "function_mean = mean(houses['SalePrice'])\n",
    "pandas_mean = houses['SalePrice'].mean()\n",
    "\n",
    "means_are_equal = (function_mean == pandas_mean)\n",
    "print(means_are_equal)"
   ]
  },
  {
   "cell_type": "markdown",
   "metadata": {},
   "source": [
    "### Estimating the Population Mean"
   ]
  },
  {
   "cell_type": "code",
   "execution_count": 5,
   "metadata": {},
   "outputs": [
    {
     "name": "stdout",
     "output_type": "stream",
     "text": [
      "180796.0600682594\n"
     ]
    },
    {
     "data": {
      "text/plain": [
       "<Figure size 640x480 with 1 Axes>"
      ]
     },
     "metadata": {},
     "output_type": "display_data"
    }
   ],
   "source": [
    "import matplotlib.pyplot as plt\n",
    "\n",
    "pop_mean = houses['SalePrice'].mean()\n",
    "print(pop_mean)\n",
    "\n",
    "sampling_errors = []\n",
    "size = 5\n",
    "sampling_sizes = [size]\n",
    "\n",
    "for i in range(0, 101):\n",
    "    Sample = houses['SalePrice'].sample(n = size, random_state=i)\n",
    "    size += 29\n",
    "    sample_mean = Sample.mean()\n",
    "    sampling_error = pop_mean - sample_mean\n",
    "    sampling_errors.append(sampling_error)    \n",
    "    sampling_sizes.append(size)\n",
    "    \n",
    "plt.scatter(sampling_sizes[:-1], sampling_errors)\n",
    "plt.axhline()\n",
    "plt.axvline(x=2930)\n",
    "plt.xlabel('Sample size')\n",
    "plt.ylabel('Sampling error')\n",
    "plt.show()"
   ]
  },
  {
   "cell_type": "markdown",
   "metadata": {},
   "source": [
    "### Estimates from Low-Sized Samples"
   ]
  },
  {
   "cell_type": "code",
   "execution_count": 6,
   "metadata": {},
   "outputs": [
    {
     "data": {
      "image/png": "[encoded data removed]",
      "text/plain": [
       "<Figure size 432x288 with 1 Axes>"
      ]
     },
     "metadata": {
      "needs_background": "light"
     },
     "output_type": "display_data"
    }
   ],
   "source": [
    "sampling_errors = []\n",
    "prices = houses['SalePrice']\n",
    "pop_mean = prices.mean()\n",
    "\n",
    "for i in range(10000):\n",
    "    Sample = prices.sample(n=100, random_state=i)\n",
    "    sample_mean = Sample.mean()\n",
    "    sampling_errors.append(sample_mean)\n",
    "    \n",
    "plt.hist(sampling_errors)\n",
    "plt.axvline(pop_mean)\n",
    "plt.xlabel('Sample mean')\n",
    "plt.ylabel('Frequency')\n",
    "plt.xlim(0,500000)\n",
    "plt.show()"
   ]
  },
  {
   "cell_type": "markdown",
   "metadata": {},
   "source": [
    "### The Sample Mean as Unbiased Estimator"
   ]
  },
  {
   "cell_type": "code",
   "execution_count": 7,
   "metadata": {},
   "outputs": [
    {
     "name": "stdout",
     "output_type": "stream",
     "text": [
      "4.0\n",
      "4.0\n",
      "True\n"
     ]
    }
   ],
   "source": [
    "population = [3, 7, 2]\n",
    "pop_mean = mean(population)\n",
    "print(pop_mean)\n",
    "\n",
    "samples = [[3, 7], [3, 2], [7, 2], \n",
    "           [7, 3], [2, 3], [2, 7]]\n",
    "sample_means = []\n",
    "\n",
    "for sample in samples:\n",
    "    sample_means.append(mean(sample))\n",
    "    \n",
    "mean_of_sample_means = mean(sample_means)\n",
    "print(mean_of_sample_means)\n",
    "\n",
    "unbiased = (pop_mean == mean_of_sample_means)\n",
    "print(unbiased)"
   ]
  },
  {
   "cell_type": "markdown",
   "metadata": {},
   "source": [
    "# *The Weighted Mean and The Median*"
   ]
  },
  {
   "cell_type": "markdown",
   "metadata": {},
   "source": [
    "### Introduction"
   ]
  },
  {
   "cell_type": "code",
   "execution_count": 8,
   "metadata": {},
   "outputs": [
    {
     "name": "stdout",
     "output_type": "stream",
     "text": [
      "180796.0600682594\n",
      "179948.7544876\n",
      "847.3055806593911\n"
     ]
    }
   ],
   "source": [
    "data = [[2006, 181761.648000, 625],\n",
    "        [2007, 185138.207493, 694],\n",
    "        [2008, 178841.750804, 622],\n",
    "        [2009, 181404.567901, 648],\n",
    "        [2010, 172597.598240, 341]]\n",
    "\n",
    "houses_per_year = pd.DataFrame(data, columns=['Year', 'Mean Price', 'Houses Sold'])\n",
    "\n",
    "mean_new = houses_per_year['Mean Price'].mean()\n",
    "mean_original = houses['SalePrice'].mean()\n",
    "difference = mean_original - mean_new\n",
    "\n",
    "print(mean_original)\n",
    "print(mean_new)\n",
    "print(difference)"
   ]
  },
  {
   "cell_type": "markdown",
   "metadata": {},
   "source": [
    "### Different Weights"
   ]
  },
  {
   "cell_type": "code",
   "execution_count": 9,
   "metadata": {},
   "outputs": [
    {
     "name": "stdout",
     "output_type": "stream",
     "text": [
      "[113601029.99999999, 128485916.000142, 111239569.000088, 117550159.99984801, 58855780.99984]\n",
      "2930\n",
      "180796.060068\n",
      "180796.060068\n",
      "0.0\n"
     ]
    }
   ],
   "source": [
    "sum_per_year = [(houses_per_year['Mean Price'][i] * houses_per_year['Houses Sold'][i]) for i in range(5)]\n",
    "print(sum_per_year)\n",
    "\n",
    "houses_sold = houses_per_year['Houses Sold'].sum()\n",
    "print(houses_sold)\n",
    "\n",
    "weighted_mean = round(sum(sum_per_year)/houses_sold, 6)\n",
    "print(weighted_mean)\n",
    "\n",
    "mean_original = round(houses['SalePrice'].mean(), 6)\n",
    "print(mean_original)\n",
    "\n",
    "difference = weighted_mean - mean_original\n",
    "print(difference)"
   ]
  },
  {
   "cell_type": "markdown",
   "metadata": {},
   "source": [
    "### The Weighted Mean"
   ]
  },
  {
   "cell_type": "code",
   "execution_count": 10,
   "metadata": {},
   "outputs": [
    {
     "name": "stdout",
     "output_type": "stream",
     "text": [
      "180796.0600682314\n",
      "180796.0600682314\n",
      "True\n"
     ]
    }
   ],
   "source": [
    "import numpy as np\n",
    "\n",
    "def calc_weighted_mean(items, weights):\n",
    "    weighted_items = [items[i]*weights[i] for i in range(len(items))]\n",
    "    weighted_mean = sum(weighted_items)/sum(weights)\n",
    "    return weighted_mean\n",
    "\n",
    "weighted_mean_function = calc_weighted_mean(houses_per_year['Mean Price'], houses_per_year['Houses Sold'])\n",
    "print(weighted_mean_function)\n",
    "\n",
    "weighted_mean_numpy = np.average(houses_per_year['Mean Price'], weights=houses_per_year['Houses Sold'])\n",
    "print(weighted_mean_numpy)\n",
    "\n",
    "equal = (round(weighted_mean_function, 10) == round(weighted_mean_numpy, 10))\n",
    "print(equal)"
   ]
  },
  {
   "cell_type": "markdown",
   "metadata": {},
   "source": [
    "### The Median for Open-ended Distributions"
   ]
  },
  {
   "cell_type": "code",
   "execution_count": 11,
   "metadata": {},
   "outputs": [
    {
     "name": "stdout",
     "output_type": "stream",
     "text": [
      "23\n",
      "55\n",
      "32\n"
     ]
    }
   ],
   "source": [
    "distribution1 = [23, 24, 22, '20 years or lower,', 23, 42, 35]\n",
    "distribution2 = [55, 38, 123, 40, 71]\n",
    "distribution3 = [45, 22, 7, '5 books or lower', 32, 65, '100 books or more']\n",
    "\n",
    "median1 = 23\n",
    "median2 = 55\n",
    "median3 = 32\n",
    "\n",
    "print(median1)\n",
    "print(median2)\n",
    "print(median3)"
   ]
  },
  {
   "cell_type": "markdown",
   "metadata": {},
   "source": [
    "### Distributions with Even Number of Values"
   ]
  },
  {
   "cell_type": "code",
   "execution_count": 12,
   "metadata": {},
   "outputs": [
    {
     "name": "stdout",
     "output_type": "stream",
     "text": [
      "1901    2\n",
      "2679    3\n",
      "975     3\n",
      "269     3\n",
      "1600    3\n",
      "Name: TotRms AbvGrd, dtype: int64 \n",
      "\n",
      "[1465, 1466] \n",
      "\n",
      "953     6\n",
      "2264    6\n",
      "Name: TotRms AbvGrd, dtype: int64 \n",
      "\n",
      "6.0\n"
     ]
    }
   ],
   "source": [
    "rms_abv_grd = houses['TotRms AbvGrd'].copy()\n",
    "rms_abv_grd.replace('10 or more', 10, inplace=True)\n",
    "rms_abv_grd = rms_abv_grd.astype(int)\n",
    "rms_abv_grd.sort_values(inplace=True)\n",
    "print(rms_abv_grd.head(), '\\n')\n",
    "\n",
    "middle_indices = [int(len(rms_abv_grd)/2), int(len(rms_abv_grd)/2 + 1)]\n",
    "print(middle_indices, '\\n')\n",
    "\n",
    "middle_values = rms_abv_grd.iloc[middle_indices]\n",
    "print(middle_values, '\\n')\n",
    "\n",
    "median = middle_values.mean()\n",
    "print(median)"
   ]
  },
  {
   "cell_type": "markdown",
   "metadata": {},
   "source": [
    "### The Median as a Resistant Statistic"
   ]
  },
  {
   "cell_type": "code",
   "execution_count": 13,
   "metadata": {},
   "outputs": [
    {
     "data": {
      "image/png": "[encoded data removed]",
      "text/plain": [
       "<Figure size 432x288 with 1 Axes>"
      ]
     },
     "metadata": {
      "needs_background": "light"
     },
     "output_type": "display_data"
    },
    {
     "data": {
      "image/png": "[encoded data removed]",
      "text/plain": [
       "<Figure size 432x288 with 1 Axes>"
      ]
     },
     "metadata": {
      "needs_background": "light"
     },
     "output_type": "display_data"
    },
    {
     "name": "stdout",
     "output_type": "stream",
     "text": [
      "3680.7051194539254\n",
      "20796.060068259394\n"
     ]
    }
   ],
   "source": [
    "import matplotlib.pyplot as plt\n",
    "\n",
    "houses['Lot Area'].plot.box()\n",
    "plt.show()\n",
    "\n",
    "houses['SalePrice'].plot.box()\n",
    "plt.show()\n",
    "\n",
    "lotarea_mean = houses['Lot Area'].mean()\n",
    "lotarea_median = houses['Lot Area'].median()\n",
    "\n",
    "saleprice_mean = houses['SalePrice'].mean()\n",
    "saleprice_median = houses['SalePrice'].median()\n",
    "\n",
    "lotarea_difference = lotarea_mean - lotarea_median\n",
    "print(lotarea_difference)\n",
    "\n",
    "saleprice_difference = saleprice_mean - saleprice_median\n",
    "print(saleprice_difference)"
   ]
  },
  {
   "cell_type": "markdown",
   "metadata": {},
   "source": [
    "### The Median for Ordinal Scales"
   ]
  },
  {
   "cell_type": "code",
   "execution_count": 14,
   "metadata": {},
   "outputs": [
    {
     "name": "stdout",
     "output_type": "stream",
     "text": [
      "5.563139931740614\n",
      "5.0\n"
     ]
    },
    {
     "data": {
      "image/png": "[encoded data removed]",
      "text/plain": [
       "<Figure size 432x288 with 1 Axes>"
      ]
     },
     "metadata": {
      "needs_background": "light"
     },
     "output_type": "display_data"
    }
   ],
   "source": [
    "mean = houses['Overall Cond'].mean()\n",
    "median = houses['Overall Cond'].median()\n",
    "\n",
    "print(mean)\n",
    "print(median)\n",
    "\n",
    "houses['Overall Cond'].plot.hist()\n",
    "plt.show()\n",
    "\n",
    "more_representative = mean"
   ]
  },
  {
   "cell_type": "markdown",
   "metadata": {},
   "source": [
    "# *The Mode*"
   ]
  },
  {
   "cell_type": "code",
   "execution_count": 15,
   "metadata": {},
   "outputs": [],
   "source": [
    "import pandas as pd\n",
    "houses = pd.read_csv('AmesHousing_1.txt', sep='\\t')\n",
    "\n",
    "scale_land = 'ordinal'\n",
    "scale_roof = 'nominal'\n",
    "kitchen_variable = 'discrete'"
   ]
  },
  {
   "cell_type": "markdown",
   "metadata": {},
   "source": [
    "### The Mode for Ordinal Variables"
   ]
  },
  {
   "cell_type": "code",
   "execution_count": 16,
   "metadata": {},
   "outputs": [
    {
     "name": "stdout",
     "output_type": "stream",
     "text": [
      "Gtl \n",
      "\n",
      "0    Gtl\n",
      "dtype: object \n",
      "\n",
      "True\n"
     ]
    }
   ],
   "source": [
    "def calc_mode(arr):\n",
    "    values_dict = {}\n",
    "    \n",
    "    for item in arr:\n",
    "        if item in values_dict:\n",
    "            values_dict[item] += 1\n",
    "        else:\n",
    "            values_dict[item] = 1\n",
    "            \n",
    "    return max(values_dict, key = values_dict.get)\n",
    "\n",
    "mode_function = calc_mode(houses['Land Slope'])\n",
    "print(mode_function, '\\n')\n",
    "\n",
    "mode_method = houses['Land Slope'].mode()\n",
    "print(mode_method, '\\n')\n",
    "\n",
    "same = (mode_function == mode_method)\n",
    "print(same[0])"
   ]
  },
  {
   "cell_type": "markdown",
   "metadata": {},
   "source": [
    "### The Mode for Nominal Variables "
   ]
  },
  {
   "cell_type": "code",
   "execution_count": 17,
   "metadata": {},
   "outputs": [
    {
     "name": "stdout",
     "output_type": "stream",
     "text": [
      "value counts:  {'Hip': 551, 'Gable': 2321, 'Mansard': 11, 'Gambrel': 22, 'Shed': 5, 'Flat': 20}\n",
      "\n",
      "mode:  Gable\n",
      "\n",
      "Gable      2321\n",
      "Hip         551\n",
      "Gambrel      22\n",
      "Flat         20\n",
      "Mansard      11\n",
      "Shed          5\n",
      "Name: Roof Style, dtype: int64\n"
     ]
    }
   ],
   "source": [
    "def mode(array):\n",
    "    counts = {}\n",
    "    \n",
    "    for value in array:\n",
    "        if value in counts:\n",
    "            counts[value] += 1\n",
    "        else:\n",
    "            counts[value] = 1\n",
    "    \n",
    "    return (counts, max(counts, key = counts.get))\n",
    "\n",
    "value_counts = mode(houses['Roof Style'])[0]\n",
    "mode = mode(houses['Roof Style'])[1]\n",
    "\n",
    "print('value counts: ', value_counts)\n",
    "print('\\nmode: ', mode)\n",
    "print()\n",
    "print(houses['Roof Style'].value_counts())"
   ]
  },
  {
   "cell_type": "markdown",
   "metadata": {},
   "source": [
    "### The Mode for Discrete Variables"
   ]
  },
  {
   "cell_type": "code",
   "execution_count": 18,
   "metadata": {},
   "outputs": [
    {
     "name": "stdout",
     "output_type": "stream",
     "text": [
      "3    1597\n",
      "2     743\n",
      "4     400\n",
      "1     112\n",
      "5      48\n",
      "6      21\n",
      "0       8\n",
      "8       1\n",
      "Name: Bedroom AbvGr, dtype: int64 \n",
      "\n",
      "3 \n",
      "\n",
      "135000    34\n",
      "140000    33\n",
      "130000    29\n",
      "155000    28\n",
      "145000    26\n",
      "Name: SalePrice, dtype: int64\n"
     ]
    }
   ],
   "source": [
    "print(houses['Bedroom AbvGr'].value_counts(), '\\n')\n",
    "bedroom_variable = 'discrete'\n",
    "\n",
    "bedroom_mode = houses['Bedroom AbvGr'].mode()\n",
    "print(bedroom_mode[0], '\\n')\n",
    "\n",
    "print(houses['SalePrice'].value_counts().head())\n",
    "price_variable = 'continuous'"
   ]
  },
  {
   "cell_type": "markdown",
   "metadata": {},
   "source": [
    "### Special Cases"
   ]
  },
  {
   "cell_type": "code",
   "execution_count": 19,
   "metadata": {},
   "outputs": [
    {
     "name": "stdout",
     "output_type": "stream",
     "text": [
      "(0, 100000]          252\n",
      "(100000, 200000]    1821\n",
      "(200000, 300000]     627\n",
      "(300000, 400000]     166\n",
      "(400000, 500000]      47\n",
      "(500000, 600000]      11\n",
      "(600000, 700000]       4\n",
      "(700000, 800000]       2\n",
      "dtype: int64 \n",
      "\n",
      "(100000, 200000] \n",
      "\n",
      "Mode 150000 \n",
      "\n",
      "Mean 180796.0600682594 \n",
      "\n",
      "Median 160000.0\n"
     ]
    }
   ],
   "source": [
    "intervals = pd.interval_range(start = 0, end = 800000, freq = 100000)\n",
    "gr_freq_table = pd.Series([0,0,0,0,0,0,0,0], index = intervals)\n",
    "\n",
    "for value in houses['SalePrice']:\n",
    "    for interval in intervals:\n",
    "        if value in interval:\n",
    "            gr_freq_table.loc[interval] += 1\n",
    "            break\n",
    "\n",
    "print(gr_freq_table, '\\n')\n",
    "\n",
    "interv = gr_freq_table[gr_freq_table == max(gr_freq_table)].index[0]\n",
    "print(interv, '\\n')\n",
    "\n",
    "mode = int((interv.left + interv.right) / 2)\n",
    "print('Mode', mode, '\\n')\n",
    "\n",
    "mean = houses['SalePrice'].mean()\n",
    "print('Mean', mean, '\\n')\n",
    "\n",
    "median = houses['SalePrice'].median()\n",
    "print('Median', median)\n",
    "\n",
    "sentence_1 = True\n",
    "sentence_2 = True"
   ]
  },
  {
   "cell_type": "markdown",
   "metadata": {},
   "source": [
    "### Skewed Distributions"
   ]
  },
  {
   "cell_type": "code",
   "execution_count": 20,
   "metadata": {},
   "outputs": [
    {
     "data": {
      "image/png": "[encoded data removed]",
      "text/plain": [
       "<Figure size 432x288 with 1 Axes>"
      ]
     },
     "metadata": {
      "needs_background": "light"
     },
     "output_type": "display_data"
    }
   ],
   "source": [
    "houses['SalePrice'].plot.kde(xlim = (houses['SalePrice'].min(),\n",
    "                                     houses['SalePrice'].max()\n",
    "                                    )\n",
    "                            )\n",
    "plt.axvline(150000, color = 'Green', label = 'Mode')\n",
    "plt.axvline(houses['SalePrice'].median(), color = 'Black', label = 'Median')\n",
    "plt.axvline(houses['SalePrice'].mean(), color = 'Orange', label = 'Mean')\n",
    "plt.legend()\n",
    "plt.show()"
   ]
  },
  {
   "cell_type": "code",
   "execution_count": 21,
   "metadata": {},
   "outputs": [
    {
     "data": {
      "image/png": "[encoded data removed]",
      "text/plain": [
       "<Figure size 432x288 with 1 Axes>"
      ]
     },
     "metadata": {
      "needs_background": "light"
     },
     "output_type": "display_data"
    }
   ],
   "source": [
    "houses['Year Built'].plot.kde(xlim = (houses['Year Built'].min(),\n",
    "                                     houses['Year Built'].max()\n",
    "                                    )\n",
    "                            )\n",
    "plt.axvline(2005, color = 'Green', label = 'Mode')\n",
    "plt.axvline(houses['Year Built'].median(), color = 'Black', label = 'Median')\n",
    "plt.axvline(houses['Year Built'].mean(), color = 'Orange', label = 'Mean')\n",
    "plt.legend()\n",
    "plt.show()"
   ]
  },
  {
   "cell_type": "markdown",
   "metadata": {},
   "source": [
    "### Symmetrical Distributions"
   ]
  },
  {
   "cell_type": "code",
   "execution_count": 22,
   "metadata": {},
   "outputs": [
    {
     "data": {
      "image/png": "[encoded data removed]",
      "text/plain": [
       "<Figure size 432x288 with 1 Axes>"
      ]
     },
     "metadata": {
      "needs_background": "light"
     },
     "output_type": "display_data"
    }
   ],
   "source": [
    "houses['Mo Sold'].plot.kde(xlim=(1, 12))\n",
    "plt.axvline(6, color = 'Green', label = 'Mode')\n",
    "plt.axvline(houses['Mo Sold'].median(), color = 'Orange', label = 'Median')\n",
    "plt.axvline(houses['Mo Sold'].mean(), color = 'Black', label = 'Mean')\n",
    "plt.legend()\n",
    "plt.show()"
   ]
  },
  {
   "cell_type": "markdown",
   "metadata": {},
   "source": [
    "# *Measures Of Variability*"
   ]
  },
  {
   "cell_type": "markdown",
   "metadata": {},
   "source": [
    "### The Range"
   ]
  },
  {
   "cell_type": "code",
   "execution_count": 23,
   "metadata": {},
   "outputs": [
    {
     "name": "stdout",
     "output_type": "stream",
     "text": [
      "{2010: 598868, 2009: 575100, 2008: 601900, 2007: 715700, 2006: 590000}\n"
     ]
    }
   ],
   "source": [
    "import pandas as pd\n",
    "houses = pd.read_table('AmesHousing_1.txt')\n",
    "\n",
    "def calc_range(arr):\n",
    "    min_arr = min(arr)\n",
    "    max_arr = max(arr)\n",
    "    return max_arr - min_arr\n",
    "\n",
    "range_by_year = {}\n",
    "\n",
    "years = houses['Yr Sold']\n",
    "\n",
    "for year in years:\n",
    "    if year not in range_by_year:\n",
    "        range_by_year[year] = calc_range(houses[houses['Yr Sold'] == year]['SalePrice'])\n",
    "    else:\n",
    "        pass\n",
    "    \n",
    "print(range_by_year)\n",
    "\n",
    "one = False\n",
    "two = True"
   ]
  },
  {
   "cell_type": "markdown",
   "metadata": {},
   "source": [
    "### The Average Distance"
   ]
  },
  {
   "cell_type": "code",
   "execution_count": 24,
   "metadata": {},
   "outputs": [
    {
     "name": "stdout",
     "output_type": "stream",
     "text": [
      "0.0\n"
     ]
    }
   ],
   "source": [
    "C = [1,1,1,1,1,1,1,1,1,21]\n",
    "\n",
    "def calc_avg_distance(arr):\n",
    "    arr_mean = np.array(C).mean()\n",
    "    distances = []\n",
    "    \n",
    "    for i in arr:\n",
    "        distances.append(arr_mean - i)\n",
    "        \n",
    "    dist_mean = np.array(distances).mean()\n",
    "    return dist_mean\n",
    "\n",
    "avg_distance = calc_avg_distance(C)\n",
    "print(avg_distance)"
   ]
  },
  {
   "cell_type": "markdown",
   "metadata": {},
   "source": [
    "### Mean Absolute Deviation"
   ]
  },
  {
   "cell_type": "code",
   "execution_count": 25,
   "metadata": {},
   "outputs": [
    {
     "name": "stdout",
     "output_type": "stream",
     "text": [
      "3.6\n"
     ]
    }
   ],
   "source": [
    "C = [1,1,1,1,1,1,1,1,1,21]\n",
    "\n",
    "def calc_mad(arr):\n",
    "    arr_mean = np.array(C).mean()\n",
    "    distances = []\n",
    "    \n",
    "    for i in arr:\n",
    "        distances.append(abs(arr_mean - i))\n",
    "        \n",
    "    dist_mean = np.array(distances).mean()\n",
    "    return dist_mean\n",
    "\n",
    "mad = calc_mad(C)\n",
    "print(mad)"
   ]
  },
  {
   "cell_type": "markdown",
   "metadata": {},
   "source": [
    "### Variance"
   ]
  },
  {
   "cell_type": "code",
   "execution_count": 26,
   "metadata": {},
   "outputs": [
    {
     "name": "stdout",
     "output_type": "stream",
     "text": [
      "36.0\n"
     ]
    }
   ],
   "source": [
    "C = [1,1,1,1,1,1,1,1,1,21]\n",
    "\n",
    "def calc_variance(arr):\n",
    "    arr_mean = np.array(C).mean()\n",
    "    distances = []\n",
    "    \n",
    "    for i in arr:\n",
    "        distances.append((arr_mean - i)**2)\n",
    "        \n",
    "    dist_mean = np.array(distances).mean()\n",
    "    return dist_mean\n",
    "\n",
    "variance_C = calc_variance(C)\n",
    "print(variance_C)"
   ]
  },
  {
   "cell_type": "markdown",
   "metadata": {},
   "source": [
    "### Standard Deviation"
   ]
  },
  {
   "cell_type": "code",
   "execution_count": 27,
   "metadata": {},
   "outputs": [
    {
     "name": "stdout",
     "output_type": "stream",
     "text": [
      "6.0\n"
     ]
    }
   ],
   "source": [
    "from math import sqrt\n",
    "\n",
    "C = [1,1,1,1,1,1,1,1,1,21]\n",
    "\n",
    "def calc_sd(arr):\n",
    "    arr_mean = np.array(C).mean()\n",
    "    distances = []\n",
    "    \n",
    "    for i in arr:\n",
    "        distances.append((arr_mean - i)**2)\n",
    "        \n",
    "    dist_mean = np.array(distances).mean()\n",
    "    return sqrt(dist_mean)\n",
    "\n",
    "standard_deviation_C = calc_sd(C)\n",
    "print(standard_deviation_C)"
   ]
  },
  {
   "cell_type": "markdown",
   "metadata": {},
   "source": [
    "### Avg Variability Around the Mean"
   ]
  },
  {
   "cell_type": "code",
   "execution_count": 28,
   "metadata": {},
   "outputs": [
    {
     "name": "stdout",
     "output_type": "stream",
     "text": [
      "{2010: 74521.920711871, 2009: 80794.39070298373, 2008: 75531.94622558328, 2007: 82483.28433288915, 2006: 82553.57563561267} \n",
      "\n",
      "2006\n",
      "2010\n"
     ]
    }
   ],
   "source": [
    "def standard_deviation(array):\n",
    "    reference_point = sum(array) / len(array)\n",
    "    \n",
    "    distances = []\n",
    "    for value in array:\n",
    "        squared_distance = (value - reference_point)**2\n",
    "        distances.append(squared_distance)\n",
    "        \n",
    "    variance = sum(distances) / len(distances)\n",
    "    \n",
    "    return sqrt(variance)\n",
    "\n",
    "std_dev = standard_deviation(houses['SalePrice'])\n",
    "\n",
    "std_dev_by_year = {}\n",
    "\n",
    "years = houses['Yr Sold']\n",
    "\n",
    "for year in years:\n",
    "    if year not in std_dev_by_year:\n",
    "        std_dev_by_year[year] = standard_deviation(houses[houses['Yr Sold'] == year]['SalePrice'])\n",
    "    else:\n",
    "        pass\n",
    "\n",
    "print(std_dev_by_year, '\\n')\n",
    "\n",
    "greatest_variability = max(std_dev_by_year, key=std_dev_by_year.get)\n",
    "print(greatest_variability)\n",
    "\n",
    "lowest_variability = min(std_dev_by_year, key=std_dev_by_year.get)\n",
    "print(lowest_variability)"
   ]
  },
  {
   "cell_type": "markdown",
   "metadata": {},
   "source": [
    "### A Measure Of Spread"
   ]
  },
  {
   "cell_type": "code",
   "execution_count": 29,
   "metadata": {},
   "outputs": [
    {
     "data": {
      "image/png": "[encoded data removed]",
      "text/plain": [
       "<Figure size 432x288 with 1 Axes>"
      ]
     },
     "metadata": {
      "needs_background": "light"
     },
     "output_type": "display_data"
    },
    {
     "data": {
      "image/png": "[encoded data removed]",
      "text/plain": [
       "<Figure size 432x288 with 1 Axes>"
      ]
     },
     "metadata": {
      "needs_background": "light"
     },
     "output_type": "display_data"
    },
    {
     "name": "stdout",
     "output_type": "stream",
     "text": [
      "Sample 1 Std. Dev. 29.239589600403075\n",
      "Sample 2 Std. Dev. 32.466234767832255\n"
     ]
    }
   ],
   "source": [
    "sample1 = houses['Year Built'].sample(50, random_state = 1)\n",
    "sample2 = houses['Year Built'].sample(50, random_state = 2)\n",
    "\n",
    "sample1.plot.hist(label = 'Sample 1', xlim = (1872, 2011))\n",
    "plt.xlabel('Year Built')\n",
    "plt.legend()\n",
    "plt.show()\n",
    "\n",
    "sample2.plot.hist(label = 'Sample 2', xlim = (1872, 2011))\n",
    "plt.xlabel('Year Built')\n",
    "plt.legend()\n",
    "plt.show()\n",
    "\n",
    "def standard_deviation(array):\n",
    "    reference_point = sum(array) / len(array)\n",
    "    \n",
    "    distances = []\n",
    "    for value in array:\n",
    "        squared_distance = (value - reference_point)**2\n",
    "        distances.append(squared_distance)\n",
    "    \n",
    "    variance = sum(distances) / len(distances)\n",
    "    \n",
    "    return sqrt(variance)\n",
    "\n",
    "bigger_spread = 'sample 2'\n",
    "\n",
    "st_dev1 = standard_deviation(sample1)\n",
    "print('Sample 1 Std. Dev.', st_dev1)\n",
    "\n",
    "st_dev2 = standard_deviation(sample2)\n",
    "print('Sample 2 Std. Dev.', st_dev2)"
   ]
  },
  {
   "cell_type": "markdown",
   "metadata": {},
   "source": [
    "### The Sample Standard Deviation"
   ]
  },
  {
   "cell_type": "code",
   "execution_count": 30,
   "metadata": {},
   "outputs": [
    {
     "data": {
      "image/png": "[encoded data removed]",
      "text/plain": [
       "<Figure size 432x288 with 1 Axes>"
      ]
     },
     "metadata": {
      "needs_background": "light"
     },
     "output_type": "display_data"
    }
   ],
   "source": [
    "def standard_deviation(array):\n",
    "    reference_point = sum(array) / len(array)\n",
    "    \n",
    "    distances = []\n",
    "    for value in array:\n",
    "        squared_distance = (value - reference_point)**2\n",
    "        distances.append(squared_distance)\n",
    "    \n",
    "    variance = sum(distances) / len(distances)\n",
    "    \n",
    "    return sqrt(variance)\n",
    "\n",
    "prices = houses['SalePrice']\n",
    "st_devs = []\n",
    "\n",
    "for i in range(5000):\n",
    "    Sample = prices.sample(10, random_state = i)\n",
    "    st_dev = standard_deviation(Sample)\n",
    "    st_devs.append(st_dev)\n",
    "    \n",
    "import matplotlib.pyplot as plt\n",
    "\n",
    "plt.hist(st_devs)\n",
    "plt.axvline(standard_deviation(houses['SalePrice']))\n",
    "plt.show()"
   ]
  },
  {
   "cell_type": "markdown",
   "metadata": {},
   "source": [
    "### Bessel's Correction"
   ]
  },
  {
   "cell_type": "code",
   "execution_count": 31,
   "metadata": {},
   "outputs": [
    {
     "data": {
      "image/png": "[encoded data removed]",
      "text/plain": [
       "<Figure size 432x288 with 1 Axes>"
      ]
     },
     "metadata": {
      "needs_background": "light"
     },
     "output_type": "display_data"
    }
   ],
   "source": [
    "def standard_deviation(array):\n",
    "    reference_point = sum(array) / len(array)\n",
    "    \n",
    "    distances = []\n",
    "    for value in array:\n",
    "        squared_distance = (value - reference_point)**2\n",
    "        distances.append(squared_distance)\n",
    "    \n",
    "    variance = sum(distances) / (len(distances)-1)\n",
    "    \n",
    "    return sqrt(variance)\n",
    "\n",
    "import matplotlib.pyplot as plt\n",
    "st_devs = []\n",
    "\n",
    "for i in range(5000):\n",
    "    sample = houses['SalePrice'].sample(10, random_state = i)\n",
    "    st_dev = standard_deviation(sample)\n",
    "    st_devs.append(st_dev)\n",
    "    \n",
    "plt.hist(st_devs)\n",
    "plt.axvline(standard_deviation(houses['SalePrice']))\n",
    "plt.show()"
   ]
  },
  {
   "cell_type": "markdown",
   "metadata": {},
   "source": [
    "### Standard Notation"
   ]
  },
  {
   "cell_type": "code",
   "execution_count": 32,
   "metadata": {},
   "outputs": [
    {
     "name": "stdout",
     "output_type": "stream",
     "text": [
      "76469.14464354338\n",
      "True\n",
      "5847530082.515158\n",
      "True\n"
     ]
    }
   ],
   "source": [
    "sample = houses.sample(100, random_state = 1)\n",
    "from numpy import std, var\n",
    "\n",
    "pandas_stdev = sample['SalePrice'].std()\n",
    "numpy_stdev = std(sample['SalePrice'], ddof=1)\n",
    "print(pandas_stdev)\n",
    "\n",
    "equal_stdevs = (pandas_stdev == numpy_stdev)\n",
    "print(equal_stdevs)\n",
    "\n",
    "pandas_var = sample['SalePrice'].var()\n",
    "numpy_var = var(sample['SalePrice'], ddof=1)\n",
    "print(pandas_var)\n",
    "\n",
    "equal_vars = (pandas_var == numpy_var)\n",
    "print(equal_vars)"
   ]
  },
  {
   "cell_type": "markdown",
   "metadata": {},
   "source": [
    "### Sample Variance - Unbiased Estimator"
   ]
  },
  {
   "cell_type": "markdown",
   "metadata": {},
   "source": [
    "**With Replacement**"
   ]
  },
  {
   "cell_type": "code",
   "execution_count": 33,
   "metadata": {},
   "outputs": [
    {
     "name": "stdout",
     "output_type": "stream",
     "text": [
      "True\n",
      "False\n"
     ]
    }
   ],
   "source": [
    "population = [0, 3, 6]\n",
    "\n",
    "samples = [[0,3], [0,6],\n",
    "           [0,0], [3,0], \n",
    "           [3,6], [3,3],\n",
    "           [6,0], [6,3],\n",
    "           [6,6]\n",
    "          ]\n",
    "\n",
    "# Calculating Population Std dev and Variance\n",
    "from numpy import std, var\n",
    "\n",
    "pop_var = var(population)\n",
    "pop_std = std(population)\n",
    "\n",
    "# Calculating Sample Std dev and Variance\n",
    "def standard_deviation(array):\n",
    "    reference_point = sum(array) / len(array)\n",
    "    \n",
    "    distances = []\n",
    "    for value in array:\n",
    "        squared_distance = (value - reference_point)**2\n",
    "        distances.append(squared_distance)\n",
    "    \n",
    "    variance = sum(distances) / (len(distances)-1)\n",
    "    \n",
    "    return (variance, sqrt(variance))\n",
    "\n",
    "\n",
    "variances = []\n",
    "st_devs = []\n",
    "\n",
    "for i in samples:\n",
    "    st_dev_n_var = standard_deviation(i)\n",
    "    \n",
    "    variances.append(st_dev_n_var[0])\n",
    "    st_devs.append(st_dev_n_var[1])\n",
    "    \n",
    "\n",
    "from statistics import mean\n",
    "\n",
    "equal_var = (pop_var == mean(variances))\n",
    "equal_stdev = (pop_std == mean(st_devs))\n",
    "\n",
    "print(equal_var)\n",
    "print(equal_stdev)"
   ]
  },
  {
   "cell_type": "markdown",
   "metadata": {},
   "source": [
    "**Without Replacement**"
   ]
  },
  {
   "cell_type": "code",
   "execution_count": 34,
   "metadata": {},
   "outputs": [
    {
     "name": "stdout",
     "output_type": "stream",
     "text": [
      "False\n",
      "False\n"
     ]
    }
   ],
   "source": [
    "population = [0, 3, 6]\n",
    "\n",
    "samples = [[0,3], [0,6],\n",
    "           [3,0], [3,6],\n",
    "           [6,0], [6,3]\n",
    "          ]\n",
    "\n",
    "# Calculating Population Std dev and Variance\n",
    "from numpy import std, var\n",
    "\n",
    "pop_var = var(population)\n",
    "pop_std = std(population)\n",
    "\n",
    "# Calculating Sample Std dev and Variance\n",
    "def standard_deviation(array):\n",
    "    reference_point = sum(array) / len(array)\n",
    "    \n",
    "    distances = []\n",
    "    for value in array:\n",
    "        squared_distance = (value - reference_point)**2\n",
    "        distances.append(squared_distance)\n",
    "    \n",
    "    variance = sum(distances) / (len(distances)-1)\n",
    "    \n",
    "    return (variance, sqrt(variance))\n",
    "\n",
    "\n",
    "variances = []\n",
    "st_devs = []\n",
    "\n",
    "for i in samples:\n",
    "    st_dev_n_var = standard_deviation(i)\n",
    "    \n",
    "    variances.append(st_dev_n_var[0])\n",
    "    st_devs.append(st_dev_n_var[1])\n",
    "    \n",
    "\n",
    "from statistics import mean\n",
    "\n",
    "equal_var = (pop_var == mean(variances))\n",
    "equal_stdev = (pop_std == mean(st_devs))\n",
    "\n",
    "print(equal_var)\n",
    "print(equal_stdev)"
   ]
  },
  {
   "cell_type": "markdown",
   "metadata": {},
   "source": [
    "# *Z-Scores*"
   ]
  },
  {
   "cell_type": "markdown",
   "metadata": {},
   "source": [
    "### Individual Values"
   ]
  },
  {
   "cell_type": "code",
   "execution_count": 41,
   "metadata": {},
   "outputs": [
    {
     "data": {
      "image/png": "[encoded data removed]",
      "text/plain": [
       "<Figure size 432x288 with 1 Axes>"
      ]
     },
     "metadata": {
      "needs_background": "light"
     },
     "output_type": "display_data"
    }
   ],
   "source": [
    "# Determining whether $220,000 is expensive or normal for house prices in Ames, Iowa Dataset.\n",
    "\n",
    "import numpy as np\n",
    "std = np.std(houses['SalePrice'], ddof=0)\n",
    "mean = houses['SalePrice'].mean()\n",
    "limits = (houses['SalePrice'].min(), houses['SalePrice'].max())\n",
    "\n",
    "# Plotting KDE for SalePrice Column\n",
    "houses['SalePrice'].plot.kde(xlim=limits)\n",
    "plt.axvline(mean, color='black', label='Mean')\n",
    "plt.axvline(std+mean, color='red', label='Standard deviation')\n",
    "plt.axvline(220000, color= 'orange', label='220000')\n",
    "plt.legend()\n",
    "plt.show()\n",
    "\n",
    "very_expensive = False"
   ]
  },
  {
   "cell_type": "markdown",
   "metadata": {},
   "source": [
    "### Number of Standard Deviations"
   ]
  },
  {
   "cell_type": "code",
   "execution_count": 42,
   "metadata": {},
   "outputs": [
    {
     "name": "stdout",
     "output_type": "stream",
     "text": [
      "39203.939931740606\n",
      "79873.05865192247\n",
      "0.4908280788718362\n"
     ]
    }
   ],
   "source": [
    "distance = 220000 - houses['SalePrice'].mean()\n",
    "print(distance)\n",
    "\n",
    "from numpy import std\n",
    "std_Saleprice = std(houses['SalePrice'], ddof=0)\n",
    "print(std_Saleprice)\n",
    "\n",
    "st_devs_away = distance/std_Saleprice\n",
    "print(st_devs_away)"
   ]
  },
  {
   "cell_type": "markdown",
   "metadata": {},
   "source": [
    "### Z-scores"
   ]
  },
  {
   "cell_type": "code",
   "execution_count": 43,
   "metadata": {},
   "outputs": [
    {
     "name": "stdout",
     "output_type": "stream",
     "text": [
      "-2.1034258973406126\n",
      "0.0\n",
      "7.188956446929806\n"
     ]
    }
   ],
   "source": [
    "def calc_zscore (x, arr, smpl_bool=False):\n",
    "    mean = sum(arr)/len(arr)\n",
    "    \n",
    "    from numpy import std\n",
    "    if smpl_bool:\n",
    "        std_arr = std(arr, ddof=1)\n",
    "    else:\n",
    "        std_arr = std(arr, ddof=0)\n",
    "    \n",
    "    zscore = (x-mean)/std_arr\n",
    "    \n",
    "    return zscore\n",
    "\n",
    "min_val = houses['SalePrice'].min()\n",
    "mean_val = houses['SalePrice'].mean()\n",
    "max_val = houses['SalePrice'].max()\n",
    "\n",
    "min_z = calc_zscore(min_val, houses['SalePrice'])\n",
    "mean_z = calc_zscore(mean_val, houses['SalePrice'])\n",
    "max_z = calc_zscore(max_val, houses['SalePrice'])\n",
    "\n",
    "print(min_z)\n",
    "print(mean_z)\n",
    "print(max_z)"
   ]
  },
  {
   "cell_type": "markdown",
   "metadata": {},
   "source": [
    "### Locating Values in Different Distributions"
   ]
  },
  {
   "cell_type": "code",
   "execution_count": 45,
   "metadata": {},
   "outputs": [
    {
     "name": "stdout",
     "output_type": "stream",
     "text": [
      "1.7239665910370237\n",
      "-0.03334366282705464\n",
      "1.7183080926865524\n",
      "1.443576193848941\n",
      "-0.5186390646965722\n"
     ]
    }
   ],
   "source": [
    "# Finding least z-score for a value in different distributions\n",
    "\n",
    "def z_score(value, array, bessel = 0):\n",
    "    mean = sum(array) / len(array)\n",
    "    \n",
    "    from numpy import std\n",
    "    st_dev = std(array, ddof = bessel)\n",
    "    \n",
    "    distance = value - mean\n",
    "    z = distance / st_dev\n",
    "    \n",
    "    return z\n",
    "\n",
    "na_zsocre = z_score(200000, houses[houses['Neighborhood'] == 'NAmes']['SalePrice'], 0)\n",
    "print(na_zsocre)\n",
    "\n",
    "cc_zscore = z_score(200000, houses[houses['Neighborhood'] == 'CollgCr']['SalePrice'], 0)\n",
    "print(cc_zscore)\n",
    "\n",
    "ot_zscore = z_score(200000, houses[houses['Neighborhood'] == 'OldTown']['SalePrice'], 0)\n",
    "print(ot_zscore)\n",
    "\n",
    "ed_zscore = z_score(200000, houses[houses['Neighborhood'] == 'Edwards']['SalePrice'], 0)\n",
    "print(ed_zscore)\n",
    "\n",
    "st_zscore = z_score(200000, houses[houses['Neighborhood'] == 'Somerst']['SalePrice'], 0)\n",
    "print(st_zscore)\n",
    "\n",
    "best_investment = 'College Creek'"
   ]
  },
  {
   "cell_type": "markdown",
   "metadata": {},
   "source": [
    "### Transforming Distributions"
   ]
  },
  {
   "cell_type": "code",
   "execution_count": 47,
   "metadata": {},
   "outputs": [
    {
     "name": "stdout",
     "output_type": "stream",
     "text": [
      "z_mean_price -1.1429992333726227e-16\n",
      "z_stdev_price 1.0000000000000002\n",
      "z_mean_area 8.771898641662927e-18\n",
      "z_stdev_area 0.9999999999999997\n"
     ]
    }
   ],
   "source": [
    "mean = houses['SalePrice'].mean()\n",
    "st_dev = houses['SalePrice'].std(ddof = 0)\n",
    "houses['z_prices'] = houses['SalePrice'].apply(\n",
    "    lambda x: ((x - mean) / st_dev)\n",
    "    )\n",
    "\n",
    "z_mean_price = houses['z_prices'].mean()\n",
    "print('z_mean_price', z_mean_price)\n",
    "\n",
    "z_stdev_price = houses['z_prices'].std(ddof=0)\n",
    "print('z_stdev_price', z_stdev_price)\n",
    "\n",
    "lot_area_mean = houses['Lot Area'].mean()\n",
    "lot_area_st_dev = houses['Lot Area'].std(ddof = 0)\n",
    "houses['z_lot_area'] = houses['Lot Area'].apply(\n",
    "    lambda x: ((x - lot_area_mean) / lot_area_st_dev)\n",
    "    )\n",
    "\n",
    "z_mean_area = houses['z_lot_area'].mean()\n",
    "print('z_mean_area', z_mean_area)\n",
    "\n",
    "z_stdev_area = houses['z_lot_area'].std(ddof=0)\n",
    "print('z_stdev_area', z_stdev_area)"
   ]
  },
  {
   "cell_type": "markdown",
   "metadata": {},
   "source": [
    "### The Standard Distribution"
   ]
  },
  {
   "cell_type": "code",
   "execution_count": 48,
   "metadata": {},
   "outputs": [
    {
     "name": "stdout",
     "output_type": "stream",
     "text": [
      "[-1.0, 1.0, -1.0, 1.0]\n",
      "0.0\n",
      "1.0\n"
     ]
    }
   ],
   "source": [
    "from numpy import std, mean\n",
    "population = [0,8,0,8]\n",
    "\n",
    "pop_mean = mean(population)\n",
    "pop_std = std(population)\n",
    "\n",
    "pop_z = [(x-pop_mean)/pop_std for x in population]\n",
    "print(pop_z)\n",
    "\n",
    "mean_z = mean(pop_z)\n",
    "stdev_z = std(pop_z)\n",
    "\n",
    "print(mean_z)\n",
    "print(stdev_z)"
   ]
  }
 ],
 "metadata": {
  "kernelspec": {
   "display_name": "Python 3",
   "language": "python",
   "name": "python3"
  },
  "language_info": {
   "codemirror_mode": {
    "name": "ipython",
    "version": 3
   },
   "file_extension": ".py",
   "mimetype": "text/x-python",
   "name": "python",
   "nbconvert_exporter": "python",
   "pygments_lexer": "ipython3",
   "version": "3.6.8"
  }
 },
 "nbformat": 4,
 "nbformat_minor": 2
}
