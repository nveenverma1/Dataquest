{
 "cells": [
  {
   "cell_type": "markdown",
   "metadata": {},
   "source": [
    "# *Introduction to Probability*"
   ]
  },
  {
   "cell_type": "markdown",
   "metadata": {},
   "source": [
    "### Probability Basics"
   ]
  },
  {
   "cell_type": "code",
   "execution_count": 1,
   "metadata": {},
   "outputs": [
    {
     "name": "stdout",
     "output_type": "stream",
     "text": [
      "(194, 30) \n",
      "\n"
     ]
    },
    {
     "data": {
      "text/html": [
       "<div>\n",
       "<style scoped>\n",
       "    .dataframe tbody tr th:only-of-type {\n",
       "        vertical-align: middle;\n",
       "    }\n",
       "\n",
       "    .dataframe tbody tr th {\n",
       "        vertical-align: top;\n",
       "    }\n",
       "\n",
       "    .dataframe thead th {\n",
       "        text-align: right;\n",
       "    }\n",
       "</style>\n",
       "<table border=\"1\" class=\"dataframe\">\n",
       "  <thead>\n",
       "    <tr style=\"text-align: right;\">\n",
       "      <th></th>\n",
       "      <th>name</th>\n",
       "      <th>landmass</th>\n",
       "      <th>zone</th>\n",
       "      <th>area</th>\n",
       "      <th>population</th>\n",
       "      <th>language</th>\n",
       "      <th>religion</th>\n",
       "      <th>bars</th>\n",
       "      <th>stripes</th>\n",
       "      <th>colors</th>\n",
       "      <th>red</th>\n",
       "      <th>green</th>\n",
       "      <th>blue</th>\n",
       "      <th>gold</th>\n",
       "      <th>white</th>\n",
       "      <th>black</th>\n",
       "      <th>orange</th>\n",
       "      <th>mainhue</th>\n",
       "      <th>circles</th>\n",
       "      <th>crosses</th>\n",
       "      <th>saltires</th>\n",
       "      <th>quarters</th>\n",
       "      <th>sunstars</th>\n",
       "      <th>crescent</th>\n",
       "      <th>triangle</th>\n",
       "      <th>icon</th>\n",
       "      <th>animate</th>\n",
       "      <th>text</th>\n",
       "      <th>topleft</th>\n",
       "      <th>botright</th>\n",
       "    </tr>\n",
       "  </thead>\n",
       "  <tbody>\n",
       "    <tr>\n",
       "      <th>0</th>\n",
       "      <td>Afghanistan</td>\n",
       "      <td>5</td>\n",
       "      <td>1</td>\n",
       "      <td>648</td>\n",
       "      <td>16</td>\n",
       "      <td>10</td>\n",
       "      <td>2</td>\n",
       "      <td>0</td>\n",
       "      <td>3</td>\n",
       "      <td>5</td>\n",
       "      <td>1</td>\n",
       "      <td>1</td>\n",
       "      <td>0</td>\n",
       "      <td>1</td>\n",
       "      <td>1</td>\n",
       "      <td>1</td>\n",
       "      <td>0</td>\n",
       "      <td>green</td>\n",
       "      <td>0</td>\n",
       "      <td>0</td>\n",
       "      <td>0</td>\n",
       "      <td>0</td>\n",
       "      <td>1</td>\n",
       "      <td>0</td>\n",
       "      <td>0</td>\n",
       "      <td>1</td>\n",
       "      <td>0</td>\n",
       "      <td>0</td>\n",
       "      <td>black</td>\n",
       "      <td>green</td>\n",
       "    </tr>\n",
       "    <tr>\n",
       "      <th>1</th>\n",
       "      <td>Albania</td>\n",
       "      <td>3</td>\n",
       "      <td>1</td>\n",
       "      <td>29</td>\n",
       "      <td>3</td>\n",
       "      <td>6</td>\n",
       "      <td>6</td>\n",
       "      <td>0</td>\n",
       "      <td>0</td>\n",
       "      <td>3</td>\n",
       "      <td>1</td>\n",
       "      <td>0</td>\n",
       "      <td>0</td>\n",
       "      <td>1</td>\n",
       "      <td>0</td>\n",
       "      <td>1</td>\n",
       "      <td>0</td>\n",
       "      <td>red</td>\n",
       "      <td>0</td>\n",
       "      <td>0</td>\n",
       "      <td>0</td>\n",
       "      <td>0</td>\n",
       "      <td>1</td>\n",
       "      <td>0</td>\n",
       "      <td>0</td>\n",
       "      <td>0</td>\n",
       "      <td>1</td>\n",
       "      <td>0</td>\n",
       "      <td>red</td>\n",
       "      <td>red</td>\n",
       "    </tr>\n",
       "    <tr>\n",
       "      <th>2</th>\n",
       "      <td>Algeria</td>\n",
       "      <td>4</td>\n",
       "      <td>1</td>\n",
       "      <td>2388</td>\n",
       "      <td>20</td>\n",
       "      <td>8</td>\n",
       "      <td>2</td>\n",
       "      <td>2</td>\n",
       "      <td>0</td>\n",
       "      <td>3</td>\n",
       "      <td>1</td>\n",
       "      <td>1</td>\n",
       "      <td>0</td>\n",
       "      <td>0</td>\n",
       "      <td>1</td>\n",
       "      <td>0</td>\n",
       "      <td>0</td>\n",
       "      <td>green</td>\n",
       "      <td>0</td>\n",
       "      <td>0</td>\n",
       "      <td>0</td>\n",
       "      <td>0</td>\n",
       "      <td>1</td>\n",
       "      <td>1</td>\n",
       "      <td>0</td>\n",
       "      <td>0</td>\n",
       "      <td>0</td>\n",
       "      <td>0</td>\n",
       "      <td>green</td>\n",
       "      <td>white</td>\n",
       "    </tr>\n",
       "    <tr>\n",
       "      <th>3</th>\n",
       "      <td>American-Samoa</td>\n",
       "      <td>6</td>\n",
       "      <td>3</td>\n",
       "      <td>0</td>\n",
       "      <td>0</td>\n",
       "      <td>1</td>\n",
       "      <td>1</td>\n",
       "      <td>0</td>\n",
       "      <td>0</td>\n",
       "      <td>5</td>\n",
       "      <td>1</td>\n",
       "      <td>0</td>\n",
       "      <td>1</td>\n",
       "      <td>1</td>\n",
       "      <td>1</td>\n",
       "      <td>0</td>\n",
       "      <td>1</td>\n",
       "      <td>blue</td>\n",
       "      <td>0</td>\n",
       "      <td>0</td>\n",
       "      <td>0</td>\n",
       "      <td>0</td>\n",
       "      <td>0</td>\n",
       "      <td>0</td>\n",
       "      <td>1</td>\n",
       "      <td>1</td>\n",
       "      <td>1</td>\n",
       "      <td>0</td>\n",
       "      <td>blue</td>\n",
       "      <td>red</td>\n",
       "    </tr>\n",
       "    <tr>\n",
       "      <th>4</th>\n",
       "      <td>Andorra</td>\n",
       "      <td>3</td>\n",
       "      <td>1</td>\n",
       "      <td>0</td>\n",
       "      <td>0</td>\n",
       "      <td>6</td>\n",
       "      <td>0</td>\n",
       "      <td>3</td>\n",
       "      <td>0</td>\n",
       "      <td>3</td>\n",
       "      <td>1</td>\n",
       "      <td>0</td>\n",
       "      <td>1</td>\n",
       "      <td>1</td>\n",
       "      <td>0</td>\n",
       "      <td>0</td>\n",
       "      <td>0</td>\n",
       "      <td>gold</td>\n",
       "      <td>0</td>\n",
       "      <td>0</td>\n",
       "      <td>0</td>\n",
       "      <td>0</td>\n",
       "      <td>0</td>\n",
       "      <td>0</td>\n",
       "      <td>0</td>\n",
       "      <td>0</td>\n",
       "      <td>0</td>\n",
       "      <td>0</td>\n",
       "      <td>blue</td>\n",
       "      <td>red</td>\n",
       "    </tr>\n",
       "  </tbody>\n",
       "</table>\n",
       "</div>"
      ],
      "text/plain": [
       "             name  landmass  zone  area  population  language  religion  bars  \\\n",
       "0     Afghanistan         5     1   648          16        10         2     0   \n",
       "1         Albania         3     1    29           3         6         6     0   \n",
       "2         Algeria         4     1  2388          20         8         2     2   \n",
       "3  American-Samoa         6     3     0           0         1         1     0   \n",
       "4         Andorra         3     1     0           0         6         0     3   \n",
       "\n",
       "   stripes  colors  red  green  blue  gold  white  black  orange mainhue  \\\n",
       "0        3       5    1      1     0     1      1      1       0   green   \n",
       "1        0       3    1      0     0     1      0      1       0     red   \n",
       "2        0       3    1      1     0     0      1      0       0   green   \n",
       "3        0       5    1      0     1     1      1      0       1    blue   \n",
       "4        0       3    1      0     1     1      0      0       0    gold   \n",
       "\n",
       "   circles  crosses  saltires  quarters  sunstars  crescent  triangle  icon  \\\n",
       "0        0        0         0         0         1         0         0     1   \n",
       "1        0        0         0         0         1         0         0     0   \n",
       "2        0        0         0         0         1         1         0     0   \n",
       "3        0        0         0         0         0         0         1     1   \n",
       "4        0        0         0         0         0         0         0     0   \n",
       "\n",
       "   animate  text topleft botright  \n",
       "0        0     0   black    green  \n",
       "1        1     0     red      red  \n",
       "2        0     0   green    white  \n",
       "3        1     0    blue      red  \n",
       "4        0     0    blue      red  "
      ]
     },
     "execution_count": 1,
     "metadata": {},
     "output_type": "execute_result"
    }
   ],
   "source": [
    "import pandas as pd\n",
    "\n",
    "pd.set_option('display.max_columns', 100)\n",
    "\n",
    "flags = pd.read_csv(\"https://archive.ics.uci.edu/ml/machine-learning-databases/flags/flag.data\", header=None)\n",
    "flags.columns = ['name', 'landmass', 'zone', 'area', 'population', 'language',\n",
    "       'religion', 'bars', 'stripes', 'colors', 'red', 'green', 'blue', 'gold',\n",
    "       'white', 'black', 'orange', 'mainhue', 'circles', 'crosses', 'saltires',\n",
    "       'quarters', 'sunstars', 'crescent', 'triangle', 'icon', 'animate',\n",
    "       'text', 'topleft', 'botright']\n",
    "print(flags.shape, '\\n')\n",
    "flags.head()"
   ]
  },
  {
   "cell_type": "code",
   "execution_count": 2,
   "metadata": {},
   "outputs": [
    {
     "name": "stdout",
     "output_type": "stream",
     "text": [
      "161    St-Vincent\n",
      "Name: name, dtype: object \n",
      "\n",
      "37    China\n",
      "Name: name, dtype: object\n"
     ]
    }
   ],
   "source": [
    "most_bars = max(flags['bars'])\n",
    "most_bars_country = flags[flags['bars'] == most_bars]['name']\n",
    "print(most_bars_country, '\\n')\n",
    "\n",
    "highest_population = flags['population'].max()\n",
    "highest_population_country = flags[flags['population'] == highest_population]['name']\n",
    "print(highest_population_country)"
   ]
  },
  {
   "cell_type": "markdown",
   "metadata": {},
   "source": [
    "### Calculating Probability"
   ]
  },
  {
   "cell_type": "code",
   "execution_count": 3,
   "metadata": {},
   "outputs": [
    {
     "name": "stdout",
     "output_type": "stream",
     "text": [
      "26\n",
      "0.13402061855670103 \n",
      "\n",
      "80\n",
      "0.41237113402061853\n"
     ]
    }
   ],
   "source": [
    "total_countries = flags.shape[0]\n",
    "\n",
    "orange_flags = flags[flags['orange']==1]\n",
    "print(orange_flags.shape[0])\n",
    "\n",
    "orange_probability = orange_flags.shape[0]/total_countries\n",
    "print(orange_probability, '\\n')\n",
    "\n",
    "stripes_flags = flags[flags['stripes'] > 1]\n",
    "print(stripes_flags.shape[0])\n",
    "\n",
    "stripe_probability = stripes_flags.shape[0]/total_countries\n",
    "print(stripe_probability)"
   ]
  },
  {
   "cell_type": "markdown",
   "metadata": {},
   "source": [
    "### Conjuctive Probabilities"
   ]
  },
  {
   "cell_type": "code",
   "execution_count": 4,
   "metadata": {},
   "outputs": [
    {
     "name": "stdout",
     "output_type": "stream",
     "text": [
      "0.03125\n",
      "0.0009765625\n",
      "7.888609052210118e-31\n"
     ]
    }
   ],
   "source": [
    "five_heads = .5 ** 5\n",
    "print(five_heads)\n",
    "\n",
    "ten_heads = .5 ** 10\n",
    "print(ten_heads)\n",
    "\n",
    "hundred_heads = .5 ** 100\n",
    "print(hundred_heads)"
   ]
  },
  {
   "cell_type": "markdown",
   "metadata": {},
   "source": [
    "### Dependent Probabilities"
   ]
  },
  {
   "cell_type": "code",
   "execution_count": 5,
   "metadata": {},
   "outputs": [
    {
     "name": "stdout",
     "output_type": "stream",
     "text": [
      "153\n",
      "0.48848552427754927\n"
     ]
    }
   ],
   "source": [
    "total_countries\n",
    "\n",
    "red_flags = flags[flags['red'] == 1].shape[0]\n",
    "print(red_flags)\n",
    "\n",
    "three_red = (red_flags/total_countries) * (red_flags-1)/(total_countries-1) * (red_flags-2)/(total_countries-2)\n",
    "print(three_red)"
   ]
  },
  {
   "cell_type": "markdown",
   "metadata": {},
   "source": [
    "### Disjunctive Probability"
   ]
  },
  {
   "cell_type": "code",
   "execution_count": 6,
   "metadata": {},
   "outputs": [
    {
     "name": "stdout",
     "output_type": "stream",
     "text": [
      "0.01\n",
      "0.014277777777777778\n"
     ]
    }
   ],
   "source": [
    "start = 1\n",
    "end = 18000\n",
    "\n",
    "def calc_evenly_divisible(start, end, value):\n",
    "    divisibles = 0\n",
    "    \n",
    "    for i in range(start, end+1):\n",
    "        if (i % value == 0):\n",
    "            divisibles += 1\n",
    "    return divisibles\n",
    "\n",
    "hundred_prob = calc_evenly_divisible(start, end, 100)/end\n",
    "seventy_prob = calc_evenly_divisible(start, end, 70)/end\n",
    "\n",
    "print(hundred_prob)\n",
    "print(seventy_prob)        "
   ]
  },
  {
   "cell_type": "markdown",
   "metadata": {},
   "source": [
    "### Disjunctive Dependent Probabilities"
   ]
  },
  {
   "cell_type": "code",
   "execution_count": 7,
   "metadata": {},
   "outputs": [
    {
     "name": "stdout",
     "output_type": "stream",
     "text": [
      "0.13402061855670103\n",
      "0.788659793814433\n",
      "0.0979381443298969\n",
      "0.8247422680412371 \n",
      "\n",
      "0.4329896907216495\n",
      "0.18041237113402062\n",
      "0.020618556701030927\n",
      "0.5927835051546392\n"
     ]
    }
   ],
   "source": [
    "total_countries = flags.shape[0]\n",
    "\n",
    "orange_prob = flags[flags['orange']==1].shape[0]/total_countries\n",
    "print(orange_prob)\n",
    "\n",
    "red_prob = flags[flags['red']==1].shape[0]/total_countries\n",
    "print(red_prob)\n",
    "\n",
    "red_n_orange_prob = flags[(flags['red'] == 1) & (flags['orange'] == 1)].shape[0]/total_countries\n",
    "print(red_n_orange_prob)\n",
    "\n",
    "red_or_orange = red_prob + orange_prob - red_n_orange_prob\n",
    "print(red_or_orange, '\\n')\n",
    "\n",
    "stripe_prob = flags[flags['stripes'] >= 1].shape[0]/total_countries\n",
    "print(stripe_prob)\n",
    "\n",
    "bars_prob = flags[flags['bars'] >= 1].shape[0]/total_countries\n",
    "print(bars_prob)\n",
    "\n",
    "stripes_n_bars_prob = flags[(flags['stripes'] >= 1) & (flags['bars'] >= 1)].shape[0]/total_countries\n",
    "print(stripes_n_bars_prob)\n",
    "\n",
    "stripes_or_bars = stripe_prob + bars_prob - stripes_n_bars_prob\n",
    "print(stripes_or_bars)"
   ]
  },
  {
   "cell_type": "markdown",
   "metadata": {},
   "source": [
    "### Disjunctive probabilities with multiple conditions"
   ]
  },
  {
   "cell_type": "code",
   "execution_count": 8,
   "metadata": {},
   "outputs": [
    {
     "name": "stdout",
     "output_type": "stream",
     "text": [
      "0.875\n"
     ]
    }
   ],
   "source": [
    "# Find the probability that at least one of the first three flips of a coin comes up heads\n",
    "\n",
    "heads_or = None\n",
    "\n",
    "all_three_tails = 0.5*0.5*0.5\n",
    "\n",
    "heads_or = 1 - all_three_tails\n",
    "print(heads_or)"
   ]
  },
  {
   "cell_type": "markdown",
   "metadata": {},
   "source": [
    "# *Calculating Probabilities*"
   ]
  },
  {
   "cell_type": "markdown",
   "metadata": {},
   "source": [
    "### The Dataset"
   ]
  },
  {
   "cell_type": "code",
   "execution_count": 9,
   "metadata": {},
   "outputs": [
    {
     "data": {
      "text/html": [
       "<div>\n",
       "<style scoped>\n",
       "    .dataframe tbody tr th:only-of-type {\n",
       "        vertical-align: middle;\n",
       "    }\n",
       "\n",
       "    .dataframe tbody tr th {\n",
       "        vertical-align: top;\n",
       "    }\n",
       "\n",
       "    .dataframe thead th {\n",
       "        text-align: right;\n",
       "    }\n",
       "</style>\n",
       "<table border=\"1\" class=\"dataframe\">\n",
       "  <thead>\n",
       "    <tr style=\"text-align: right;\">\n",
       "      <th></th>\n",
       "      <th>instant</th>\n",
       "      <th>dteday</th>\n",
       "      <th>season</th>\n",
       "      <th>yr</th>\n",
       "      <th>mnth</th>\n",
       "      <th>holiday</th>\n",
       "      <th>weekday</th>\n",
       "      <th>workingday</th>\n",
       "      <th>weathersit</th>\n",
       "      <th>temp</th>\n",
       "      <th>atemp</th>\n",
       "      <th>hum</th>\n",
       "      <th>windspeed</th>\n",
       "      <th>casual</th>\n",
       "      <th>registered</th>\n",
       "      <th>cnt</th>\n",
       "    </tr>\n",
       "  </thead>\n",
       "  <tbody>\n",
       "    <tr>\n",
       "      <th>0</th>\n",
       "      <td>1</td>\n",
       "      <td>2011-01-01</td>\n",
       "      <td>1</td>\n",
       "      <td>0</td>\n",
       "      <td>1</td>\n",
       "      <td>0</td>\n",
       "      <td>6</td>\n",
       "      <td>0</td>\n",
       "      <td>2</td>\n",
       "      <td>0.344167</td>\n",
       "      <td>0.363625</td>\n",
       "      <td>0.805833</td>\n",
       "      <td>0.160446</td>\n",
       "      <td>331</td>\n",
       "      <td>654</td>\n",
       "      <td>985</td>\n",
       "    </tr>\n",
       "    <tr>\n",
       "      <th>1</th>\n",
       "      <td>2</td>\n",
       "      <td>2011-01-02</td>\n",
       "      <td>1</td>\n",
       "      <td>0</td>\n",
       "      <td>1</td>\n",
       "      <td>0</td>\n",
       "      <td>0</td>\n",
       "      <td>0</td>\n",
       "      <td>2</td>\n",
       "      <td>0.363478</td>\n",
       "      <td>0.353739</td>\n",
       "      <td>0.696087</td>\n",
       "      <td>0.248539</td>\n",
       "      <td>131</td>\n",
       "      <td>670</td>\n",
       "      <td>801</td>\n",
       "    </tr>\n",
       "    <tr>\n",
       "      <th>2</th>\n",
       "      <td>3</td>\n",
       "      <td>2011-01-03</td>\n",
       "      <td>1</td>\n",
       "      <td>0</td>\n",
       "      <td>1</td>\n",
       "      <td>0</td>\n",
       "      <td>1</td>\n",
       "      <td>1</td>\n",
       "      <td>1</td>\n",
       "      <td>0.196364</td>\n",
       "      <td>0.189405</td>\n",
       "      <td>0.437273</td>\n",
       "      <td>0.248309</td>\n",
       "      <td>120</td>\n",
       "      <td>1229</td>\n",
       "      <td>1349</td>\n",
       "    </tr>\n",
       "    <tr>\n",
       "      <th>3</th>\n",
       "      <td>4</td>\n",
       "      <td>2011-01-04</td>\n",
       "      <td>1</td>\n",
       "      <td>0</td>\n",
       "      <td>1</td>\n",
       "      <td>0</td>\n",
       "      <td>2</td>\n",
       "      <td>1</td>\n",
       "      <td>1</td>\n",
       "      <td>0.200000</td>\n",
       "      <td>0.212122</td>\n",
       "      <td>0.590435</td>\n",
       "      <td>0.160296</td>\n",
       "      <td>108</td>\n",
       "      <td>1454</td>\n",
       "      <td>1562</td>\n",
       "    </tr>\n",
       "    <tr>\n",
       "      <th>4</th>\n",
       "      <td>5</td>\n",
       "      <td>2011-01-05</td>\n",
       "      <td>1</td>\n",
       "      <td>0</td>\n",
       "      <td>1</td>\n",
       "      <td>0</td>\n",
       "      <td>3</td>\n",
       "      <td>1</td>\n",
       "      <td>1</td>\n",
       "      <td>0.226957</td>\n",
       "      <td>0.229270</td>\n",
       "      <td>0.436957</td>\n",
       "      <td>0.186900</td>\n",
       "      <td>82</td>\n",
       "      <td>1518</td>\n",
       "      <td>1600</td>\n",
       "    </tr>\n",
       "  </tbody>\n",
       "</table>\n",
       "</div>"
      ],
      "text/plain": [
       "   instant      dteday  season  yr  mnth  holiday  weekday  workingday  \\\n",
       "0        1  2011-01-01       1   0     1        0        6           0   \n",
       "1        2  2011-01-02       1   0     1        0        0           0   \n",
       "2        3  2011-01-03       1   0     1        0        1           1   \n",
       "3        4  2011-01-04       1   0     1        0        2           1   \n",
       "4        5  2011-01-05       1   0     1        0        3           1   \n",
       "\n",
       "   weathersit      temp     atemp       hum  windspeed  casual  registered  \\\n",
       "0           2  0.344167  0.363625  0.805833   0.160446     331         654   \n",
       "1           2  0.363478  0.353739  0.696087   0.248539     131         670   \n",
       "2           1  0.196364  0.189405  0.437273   0.248309     120        1229   \n",
       "3           1  0.200000  0.212122  0.590435   0.160296     108        1454   \n",
       "4           1  0.226957  0.229270  0.436957   0.186900      82        1518   \n",
       "\n",
       "    cnt  \n",
       "0   985  \n",
       "1   801  \n",
       "2  1349  \n",
       "3  1562  \n",
       "4  1600  "
      ]
     },
     "execution_count": 9,
     "metadata": {},
     "output_type": "execute_result"
    }
   ],
   "source": [
    "bikes = pd.read_csv('bike_sharing_daily.csv')\n",
    "bikes.head()"
   ]
  },
  {
   "cell_type": "markdown",
   "metadata": {},
   "source": [
    "### Probability of renting bikes\n",
    "$p$"
   ]
  },
  {
   "cell_type": "code",
   "execution_count": 10,
   "metadata": {},
   "outputs": [
    {
     "name": "stdout",
     "output_type": "stream",
     "text": [
      "0.86593707250342\n"
     ]
    }
   ],
   "source": [
    "# Find the number of days the bikes rented exceeded the threshold.\n",
    "days_over_threshold = bikes[bikes[\"cnt\"] > 2000].shape[0]\n",
    "\n",
    "# Find the total number of days we have data for.\n",
    "total_days = bikes.shape[0]\n",
    "\n",
    "# Get the probability that more than 2000 bikes were rented for any given day.\n",
    "probability_over_2000 = days_over_threshold / total_days\n",
    "print(probability_over_2000)"
   ]
  },
  {
   "cell_type": "code",
   "execution_count": 11,
   "metadata": {},
   "outputs": [
    {
     "name": "stdout",
     "output_type": "stream",
     "text": [
      "0.6183310533515732\n"
     ]
    }
   ],
   "source": [
    "# Finding probability of renting 4000 bikes in a day\n",
    "days_over_threshold = bikes[bikes['cnt'] > 4000].shape[0]\n",
    "\n",
    "probability_over_4000 = days_over_threshold/total_days\n",
    "print(probability_over_4000)"
   ]
  },
  {
   "cell_type": "markdown",
   "metadata": {},
   "source": [
    "### Finding the Number of Combinations\n",
    "$\\frac{N!}{k!(N-k)!}$"
   ]
  },
  {
   "cell_type": "code",
   "execution_count": 12,
   "metadata": {},
   "outputs": [
    {
     "name": "stdout",
     "output_type": "stream",
     "text": [
      "120.0\n",
      "45.0\n",
      "10.0\n"
     ]
    }
   ],
   "source": [
    "import math\n",
    "\n",
    "# Formula for Binomial Co-efficient\n",
    "def find_outcome_combinations(N, k):\n",
    "    # Calculate numerator\n",
    "    numerator = math.factorial(N)\n",
    "    \n",
    "    # Calculate denominator\n",
    "    denominator = math.factorial(N-k) * math.factorial(k)\n",
    "    \n",
    "    # Divide them to get outcome\n",
    "    return numerator/denominator\n",
    "\n",
    "combinations_7 = find_outcome_combinations(10, 7)\n",
    "combinations_8 = find_outcome_combinations(10, 8)\n",
    "combinations_9 = find_outcome_combinations(10, 9)\n",
    "\n",
    "print(combinations_7)\n",
    "print(combinations_8)\n",
    "print(combinations_9)"
   ]
  },
  {
   "cell_type": "markdown",
   "metadata": {},
   "source": [
    "### Function to calculate the probability of a single combination\n",
    "\n",
    "$p^k . q^{N-k}. \\frac{N!}{k!(N-k)!}$"
   ]
  },
  {
   "cell_type": "code",
   "execution_count": 13,
   "metadata": {},
   "outputs": [
    {
     "name": "stdout",
     "output_type": "stream",
     "text": [
      "0.12093235199999997\n",
      "0.04031078399999999\n",
      "0.006046617599999997\n"
     ]
    }
   ],
   "source": [
    "# Using probability_over_4000 as p. Here we need to find probability of having 4000 riders 8, 9 or 10 days \n",
    "# out of 10 days\n",
    "\n",
    "p = .6\n",
    "q = .4\n",
    "\n",
    "def find_outcome_probability(N, k, p, q):\n",
    "    # Finding first term\n",
    "    term_1 = p**k\n",
    "    \n",
    "    # Finding the second term\n",
    "    term_2 = q**(N-k)\n",
    "    \n",
    "    return term_1 * term_2\n",
    "\n",
    "# Using the formula: (p**k)*(q**(N-k)) * ((N!)/(k!)*((N-k)!))\n",
    "prob_8 = find_outcome_combinations(10, 8) * find_outcome_probability(10, 8, p, q)\n",
    "prob_9 = find_outcome_combinations(10, 9) * find_outcome_probability(10, 9, p, q)\n",
    "prob_10 = find_outcome_combinations(10, 10) * find_outcome_probability(10, 10, p, q)\n",
    "\n",
    "print(prob_8)\n",
    "print(prob_9)\n",
    "print(prob_10)"
   ]
  },
  {
   "cell_type": "markdown",
   "metadata": {},
   "source": [
    "# *Probability Distributions*"
   ]
  },
  {
   "cell_type": "markdown",
   "metadata": {},
   "source": [
    "### BikeSharing Distribution"
   ]
  },
  {
   "cell_type": "code",
   "execution_count": 17,
   "metadata": {},
   "outputs": [
    {
     "data": {
      "text/plain": [
       "0.3912448700410397"
      ]
     },
     "execution_count": 17,
     "metadata": {},
     "output_type": "execute_result"
    }
   ],
   "source": [
    "total_days = bikes.shape[0]\n",
    "days_over_threshold = bikes[bikes['cnt'] > 5000].shape[0]\n",
    "\n",
    "prob_over_5000 = days_over_threshold/total_days\n",
    "print(prob_over_5000)"
   ]
  },
  {
   "cell_type": "markdown",
   "metadata": {},
   "source": [
    "### Computing the Distribution"
   ]
  },
  {
   "cell_type": "code",
   "execution_count": 19,
   "metadata": {},
   "outputs": [
    {
     "name": "stdout",
     "output_type": "stream",
     "text": [
      "[3.6299032553937196e-07, 6.962273457066644e-06, 6.454369901592111e-05, 0.0003851460072425456, 0.0016621260066655757, 0.0055258877729799805, 0.014720602673922079, 0.03226811265290648, 0.0593124939542154, 0.09269602880276286, 0.12445581572043082, 0.1446729303456573, 0.14645169588269408, 0.12964576356828655, 0.10065004829715923, 0.06864003293707908, 0.04114182302068777, 0.021661943461230015, 0.010002372800404023, 0.004038921890068234, 0.0014202438449502238, 0.00043239273968039596, 0.00011309228884338226, 2.5149532515420715e-05, 4.6897693829985355e-06, 7.196105151617426e-07, 8.847670268382081e-08, 8.380306993731663e-09, 5.740608420764663e-10, 2.5311896937232547e-11, 5.394338691541363e-13]\n"
     ]
    }
   ],
   "source": [
    "def calc_prob(p, q, N, k):\n",
    "    import math\n",
    "    \n",
    "    # Calculating number of combinations\n",
    "    numerator = math.factorial(N)\n",
    "    denominator = math.factorial(k) * math.factorial(N-k)\n",
    "    total_comb = numerator/denominator\n",
    "    \n",
    "    # Calculating total probability\n",
    "    term_1 = p**k\n",
    "    term_2 = q**(N-k)\n",
    "    \n",
    "    return term_1 * term_2 * total_comb\n",
    "\n",
    "outcome_counts = list(range(31))\n",
    "outcome_probs = []\n",
    "\n",
    "for i in outcome_counts:\n",
    "    outcome_i = calc_prob(0.39, 0.61, 30, i)\n",
    "    outcome_probs.append(outcome_i)\n",
    "    \n",
    "print(outcome_probs)"
   ]
  },
  {
   "cell_type": "markdown",
   "metadata": {},
   "source": [
    "### Plotting the Distribution"
   ]
  },
  {
   "cell_type": "code",
   "execution_count": 23,
   "metadata": {},
   "outputs": [
    {
     "data": {
      "image/png": "[encoded data removed]",
      "text/plain": [
       "<Figure size 432x288 with 1 Axes>"
      ]
     },
     "metadata": {
      "needs_background": "light"
     },
     "output_type": "display_data"
    }
   ],
   "source": [
    "import matplotlib.pyplot as plt\n",
    "\n",
    "plt.bar(outcome_counts, outcome_probs)\n",
    "plt.show()"
   ]
  },
  {
   "cell_type": "markdown",
   "metadata": {},
   "source": [
    "### Simplifying the Computation"
   ]
  },
  {
   "cell_type": "code",
   "execution_count": 64,
   "metadata": {},
   "outputs": [
    {
     "name": "stdout",
     "output_type": "stream",
     "text": [
      "[ 0.  1.  2.  3.  4.  5.  6.  7.  8.  9. 10. 11. 12. 13. 14. 15. 16. 17.\n",
      " 18. 19. 20. 21. 22. 23. 24. 25. 26. 27. 28. 29. 30.] \n",
      "\n",
      "[3.62990326e-07 6.96227346e-06 6.45436990e-05 3.85146007e-04\n",
      " 1.66212601e-03 5.52588777e-03 1.47206027e-02 3.22681127e-02\n",
      " 5.93124940e-02 9.26960288e-02 1.24455816e-01 1.44672930e-01\n",
      " 1.46451696e-01 1.29645764e-01 1.00650048e-01 6.86400329e-02\n",
      " 4.11418230e-02 2.16619435e-02 1.00023728e-02 4.03892189e-03\n",
      " 1.42024384e-03 4.32392740e-04 1.13092289e-04 2.51495325e-05\n",
      " 4.68976938e-06 7.19610515e-07 8.84767027e-08 8.38030699e-09\n",
      " 5.74060842e-10 2.53118969e-11 5.39433869e-13] \n",
      "\n"
     ]
    },
    {
     "data": {
      "image/png": "[encoded data removed]",
      "text/plain": [
       "<Figure size 432x288 with 1 Axes>"
      ]
     },
     "metadata": {
      "needs_background": "light"
     },
     "output_type": "display_data"
    }
   ],
   "source": [
    "import scipy \n",
    "from scipy import linspace\n",
    "from scipy.stats import binom\n",
    "\n",
    "outcome_counts = linspace(0, 30, 31)\n",
    "print(outcome_counts, '\\n')\n",
    "\n",
    "dist = binom.pmf(outcome_counts, 30, 0.39)\n",
    "print(dist, '\\n')\n",
    "\n",
    "import matplotlib.pyplot as plt\n",
    "\n",
    "plt.bar(outcome_counts, dist)\n",
    "plt.show()"
   ]
  },
  {
   "cell_type": "markdown",
   "metadata": {},
   "source": [
    "### Computing the mean of a Probability Distribution"
   ]
  },
  {
   "cell_type": "code",
   "execution_count": 65,
   "metadata": {},
   "outputs": [
    {
     "data": {
      "text/plain": [
       "11.700000000000001"
      ]
     },
     "execution_count": 65,
     "metadata": {},
     "output_type": "execute_result"
    }
   ],
   "source": [
    "# The mean of a probability distribution is N * p\n",
    "\n",
    "dist_mean = 30*0.39\n",
    "dist_mean"
   ]
  },
  {
   "cell_type": "markdown",
   "metadata": {},
   "source": [
    "### Computing the Standard Deviation"
   ]
  },
  {
   "cell_type": "code",
   "execution_count": 66,
   "metadata": {},
   "outputs": [
    {
     "data": {
      "text/plain": [
       "2.671516423307182"
      ]
     },
     "execution_count": 66,
     "metadata": {},
     "output_type": "execute_result"
    }
   ],
   "source": [
    "# The Standard deviatio of a pmf is sqrt(N * p * q)\n",
    "\n",
    "from math import sqrt\n",
    "dist_stdev = sqrt(30*0.39*0.61)\n",
    "dist_stdev"
   ]
  },
  {
   "cell_type": "markdown",
   "metadata": {},
   "source": [
    "### A Different Plot"
   ]
  },
  {
   "cell_type": "code",
   "execution_count": 67,
   "metadata": {},
   "outputs": [
    {
     "data": {
      "image/png": "[encoded data removed]",
      "text/plain": [
       "<Figure size 432x288 with 1 Axes>"
      ]
     },
     "metadata": {
      "needs_background": "light"
     },
     "output_type": "display_data"
    },
    {
     "data": {
      "image/png": "[encoded data removed]",
      "text/plain": [
       "<Figure size 432x288 with 1 Axes>"
      ]
     },
     "metadata": {
      "needs_background": "light"
     },
     "output_type": "display_data"
    }
   ],
   "source": [
    "# Plotting pmf with 10 outcomes\n",
    "outcome_counts = linspace(0, 10, 11)\n",
    "dist = binom.pmf(outcome_counts, 10, 0.39)\n",
    "plt.bar(outcome_counts, dist)\n",
    "plt.show()\n",
    "\n",
    "# Plotting pmf with 100 outcomes\n",
    "outcome_counts = linspace(0, 100, 101)\n",
    "dist = binom.pmf(outcome_counts, 100, 0.39)\n",
    "plt.bar(outcome_counts, dist)\n",
    "plt.show()"
   ]
  },
  {
   "cell_type": "markdown",
   "metadata": {},
   "source": [
    "### The Normal Distribution"
   ]
  },
  {
   "cell_type": "code",
   "execution_count": 68,
   "metadata": {},
   "outputs": [
    {
     "data": {
      "image/png": "[encoded data removed]",
      "text/plain": [
       "<Figure size 432x288 with 1 Axes>"
      ]
     },
     "metadata": {
      "needs_background": "light"
     },
     "output_type": "display_data"
    }
   ],
   "source": [
    "# Create a range of numbers from 0 to 100, with 101 elements (each number has one entry).\n",
    "outcome_counts = scipy.linspace(0,100,101)\n",
    "\n",
    "# Create a probability mass function along the outcome_counts.\n",
    "outcome_probs = binom.pmf(outcome_counts,100,0.39)\n",
    "\n",
    "# Plot a line, not a bar chart.\n",
    "plt.plot(outcome_counts, outcome_probs)\n",
    "plt.show()"
   ]
  },
  {
   "cell_type": "markdown",
   "metadata": {},
   "source": [
    "### Cumulative Density Function"
   ]
  },
  {
   "cell_type": "code",
   "execution_count": 69,
   "metadata": {},
   "outputs": [
    {
     "name": "stdout",
     "output_type": "stream",
     "text": [
      "[ 0.  1.  2.  3.  4.  5.  6.  7.  8.  9. 10. 11. 12. 13. 14. 15. 16. 17.\n",
      " 18. 19. 20. 21. 22. 23. 24. 25. 26. 27. 28. 29. 30.] \n",
      "\n",
      "[3.62990326e-07 7.32526378e-06 7.18689628e-05 4.57014970e-04\n",
      " 2.11914098e-03 7.64502875e-03 2.23656314e-02 5.46337441e-02\n",
      " 1.13946238e-01 2.06642267e-01 3.31098083e-01 4.75771013e-01\n",
      " 6.22222709e-01 7.51868472e-01 8.52518521e-01 9.21158554e-01\n",
      " 9.62300377e-01 9.83962320e-01 9.93964693e-01 9.98003615e-01\n",
      " 9.99423859e-01 9.99856251e-01 9.99969344e-01 9.99994493e-01\n",
      " 9.99999183e-01 9.99999903e-01 9.99999991e-01 9.99999999e-01\n",
      " 1.00000000e+00 1.00000000e+00 1.00000000e+00] \n",
      "\n"
     ]
    },
    {
     "data": {
      "image/png": "[encoded data removed]",
      "text/plain": [
       "<Figure size 432x288 with 1 Axes>"
      ]
     },
     "metadata": {
      "needs_background": "light"
     },
     "output_type": "display_data"
    }
   ],
   "source": [
    "# Create a range of numbers from 0 to 30, with 31 elements (each number has one entry).\n",
    "outcome_counts = linspace(0,30,31)\n",
    "print(outcome_counts, '\\n')\n",
    "\n",
    "# Create the cumulative binomial probabilities, one for each entry in outcome_counts.\n",
    "dist = binom.cdf(outcome_counts,30,0.39)\n",
    "print(dist, '\\n')\n",
    "\n",
    "# Plotting the CDF\n",
    "plt.plot(outcome_counts, dist)\n",
    "plt.show()"
   ]
  },
  {
   "cell_type": "markdown",
   "metadata": {},
   "source": [
    "### Faster way to Calculate Likelihood"
   ]
  },
  {
   "cell_type": "code",
   "execution_count": 70,
   "metadata": {},
   "outputs": [
    {
     "name": "stdout",
     "output_type": "stream",
     "text": [
      "0.9623003766054883\n",
      "0.037699623394511717\n"
     ]
    }
   ],
   "source": [
    "left_16 = binom.cdf(16, 30, 0.39)\n",
    "print(left_16)\n",
    "\n",
    "right_16 = 1 - left_16\n",
    "print(right_16)"
   ]
  },
  {
   "cell_type": "code",
   "execution_count": null,
   "metadata": {},
   "outputs": [],
   "source": []
  },
  {
   "cell_type": "code",
   "execution_count": null,
   "metadata": {},
   "outputs": [],
   "source": []
  },
  {
   "cell_type": "code",
   "execution_count": null,
   "metadata": {},
   "outputs": [],
   "source": []
  },
  {
   "cell_type": "code",
   "execution_count": null,
   "metadata": {},
   "outputs": [],
   "source": []
  },
  {
   "cell_type": "code",
   "execution_count": null,
   "metadata": {},
   "outputs": [],
   "source": []
  },
  {
   "cell_type": "code",
   "execution_count": null,
   "metadata": {},
   "outputs": [],
   "source": []
  }
 ],
 "metadata": {
  "kernelspec": {
   "display_name": "Python 3",
   "language": "python",
   "name": "python3"
  },
  "language_info": {
   "codemirror_mode": {
    "name": "ipython",
    "version": 3
   },
   "file_extension": ".py",
   "mimetype": "text/x-python",
   "name": "python",
   "nbconvert_exporter": "python",
   "pygments_lexer": "ipython3",
   "version": "3.6.8"
  }
 },
 "nbformat": 4,
 "nbformat_minor": 2
}
