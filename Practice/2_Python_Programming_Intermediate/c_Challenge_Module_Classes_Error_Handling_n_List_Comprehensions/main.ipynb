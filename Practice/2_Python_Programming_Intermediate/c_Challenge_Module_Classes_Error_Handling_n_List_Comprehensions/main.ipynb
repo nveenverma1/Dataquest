{
 "cells": [
  {
   "cell_type": "markdown",
   "metadata": {},
   "source": [
    "# *Challenge: Modules, Classes, Error Handling, and List Comprehensions*"
   ]
  },
  {
   "cell_type": "markdown",
   "metadata": {},
   "source": [
    "### Introduction to The Data\n",
    "\n",
    "1. Read the dataset into a list of lists.\n",
    "    - Import the csv module.\n",
    "    - Create a File handler for nfl_suspensions_data.csv.\n",
    "    - Use the csv.reader() and list() methods to read the file into a list named nfl_suspensions.\n",
    "2. Remove the first list in nfl_suspensions, which contains the header row of the CSV file.\n",
    "    - Select all lists in nfl_suspensions, except the for the one at index 0.\n",
    "    - Assign the resulting list of lists back to the variable nfl_suspensions.\n",
    "3. Count the number of times each value in the year column occurs.\n",
    "    - Create an empty dictionary called years.\n",
    "    - Use a for loop to iterate over the list in nfl_suspensions representing the year column:\n",
    "        - Extract that row's value for the year column and assign it to row_year.\n",
    "        - If row_year is already a key in years, add 1 to the value for that key.\n",
    "        - If row_year isn't already a key in years, set the value for the key to 1.\n",
    "4. Use the print() function to display the dictionary years."
   ]
  },
  {
   "cell_type": "code",
   "execution_count": 1,
   "metadata": {},
   "outputs": [
    {
     "name": "stdout",
     "output_type": "stream",
     "text": [
      "{'2014': 29, '1946': 1, '1947': 1, '2010': 21, '2008': 10, '2007': 17, '1983': 1, '2009': 10, '2005': 8, '2000': 1, '2012': 45, '2001': 3, '2006': 11, '1989': 17, '   ': 1, '1963': 1, '2013': 40, '1990': 3, '2011': 13, '2004': 6, '2002': 7, '2003': 9, '1997': 3, '1999': 5, '1993': 1, '1995': 1, '1998': 2, '1994': 1, '1986': 1}\n"
     ]
    }
   ],
   "source": [
    "import csv\n",
    "\n",
    "nfl_suspensions1 = list(csv.reader(open(\"nfl_suspensions_data.csv\", \"r\")))\n",
    "nfl_suspensions = nfl_suspensions1[1:]\n",
    "\n",
    "years = {}\n",
    "\n",
    "for i in nfl_suspensions:\n",
    "    row_year = i[5]\n",
    "    if row_year in years:\n",
    "        years[row_year] += 1\n",
    "    else:\n",
    "        years[row_year] = 1\n",
    "\n",
    "print(years)"
   ]
  },
  {
   "cell_type": "markdown",
   "metadata": {},
   "source": [
    "### Unique Values\n",
    "1. Retrieve the unique values in the team column and assign the list to unique_teams.\n",
    "    - Use a list comprehension to create a new list containing just the values in the team column.\n",
    "    - Use the set() function to return a list containing only the unique values and assign to unique_teams.\n",
    "2. Retrieve the unique values in the games column and assign the list to unique_games.\n",
    "    - Use a list comprehension to create a new list containing just the values in the games column.\n",
    "    - Use the set() function to return a list containing only the unique values and assign to unique_games.\n",
    "3. Display unique_teams and unique_games."
   ]
  },
  {
   "cell_type": "code",
   "execution_count": 3,
   "metadata": {},
   "outputs": [
    {
     "name": "stdout",
     "output_type": "stream",
     "text": [
      "{'JAX', 'WAS', 'MIA', 'CIN', 'CHI', 'PHI', 'SEA', 'NYJ', 'LA', 'TB', 'KC', 'HOU', 'DEN', 'MIN', 'CLE', 'OAK', 'DET', 'NO', 'CAR', 'STL', 'GB', 'SD', 'FREE', 'IND', 'BUF', 'DAL', 'NE', 'ARI', 'ATL', 'BAL', 'TEN', 'NYG', 'SF', 'PIT'}\n"
     ]
    },
    {
     "data": {
      "text/plain": [
       "{'1',\n",
       " '10',\n",
       " '14',\n",
       " '16',\n",
       " '2',\n",
       " '20',\n",
       " '3',\n",
       " '32',\n",
       " '36',\n",
       " '4',\n",
       " '5',\n",
       " '6',\n",
       " '8',\n",
       " 'Indef.'}"
      ]
     },
     "execution_count": 3,
     "metadata": {},
     "output_type": "execute_result"
    }
   ],
   "source": [
    "unique_teams = [i[1] for i in nfl_suspensions]\n",
    "unique_teams = set(unique_teams)\n",
    "\n",
    "unique_games = [i[2] for i in nfl_suspensions]\n",
    "unique_games = set(unique_games)\n",
    "\n",
    "print(unique_teams)\n",
    "unique_games"
   ]
  },
  {
   "cell_type": "markdown",
   "metadata": {},
   "source": [
    "### Suspension Class\n",
    "\n",
    "1. Create the Suspension class.\n",
    "    - Define the __init__() method with the following criteria:\n",
    "        - The sole required parameter is a list representing a row from the dataset.\n",
    "            - To create a Suspension instance, we want to be able to pass in a list from nfl_suspensions.\n",
    "        - Currently, we're only interested in storing the name, team, games and year columns. Upon instantiation:\n",
    "            - Set the name value for that row to the name property.\n",
    "            - Set the team value for that row to the team property.\n",
    "            - Set the games value for that row to the games property.\n",
    "            - Set the year value for that row to the year property.\n",
    "2. Create a Suspension instance using the third row in nfl_suspensions, and assign it to the variable third_suspension."
   ]
  },
  {
   "cell_type": "code",
   "execution_count": 4,
   "metadata": {},
   "outputs": [
    {
     "name": "stdout",
     "output_type": "stream",
     "text": [
      "L. Brazill\n"
     ]
    }
   ],
   "source": [
    "class Suspension:\n",
    "    def __init__(self, list):\n",
    "        self.name = list[0]\n",
    "        self.team = list[1]\n",
    "        self.games = list[2]\n",
    "        self.year = list[5]\n",
    "        \n",
    "third_suspension = Suspension(nfl_suspensions[2])\n",
    "print(third_suspension.name)"
   ]
  },
  {
   "cell_type": "markdown",
   "metadata": {},
   "source": [
    "### Tweaking The Suspension Class\n",
    "\n",
    "1. Instead of assigning the value at index 5 to the year property directly, use a try except block that:\n",
    "    - Tries to cast the value at index 5 to an integer\n",
    "    - If an exception is thrown, assign the value 0 to the year property instead\n",
    "2. Create a method called get_year() that returns the year value for that Suspension instance.\n",
    "3. Create a Suspension instance using the 23rd row, and assign it to missing_year.\n",
    "4. Use the get_year() method to assign the year of the missing_year suspension instance to twenty_third_year."
   ]
  },
  {
   "cell_type": "code",
   "execution_count": 5,
   "metadata": {},
   "outputs": [
    {
     "data": {
      "text/plain": [
       "0"
      ]
     },
     "execution_count": 5,
     "metadata": {},
     "output_type": "execute_result"
    }
   ],
   "source": [
    "class Suspension():\n",
    "    def __init__(self,row):\n",
    "        self.name = row[0]\n",
    "        self.team = row[1]\n",
    "        self.games = row[2]\n",
    "        try:\n",
    "            self.year = int(row[5])\n",
    "        except Exception:\n",
    "            self.year = 0\n",
    "            \n",
    "    def get_year(self):\n",
    "        return self.year\n",
    "    \n",
    "missing_year = Suspension(nfl_suspensions[22])\n",
    "\n",
    "twenty_third_year = missing_year.get_year()\n",
    "\n",
    "twenty_third_year"
   ]
  }
 ],
 "metadata": {
  "kernelspec": {
   "display_name": "Python 3",
   "language": "python",
   "name": "python3"
  },
  "language_info": {
   "codemirror_mode": {
    "name": "ipython",
    "version": 3
   },
   "file_extension": ".py",
   "mimetype": "text/x-python",
   "name": "python",
   "nbconvert_exporter": "python",
   "pygments_lexer": "ipython3",
   "version": "3.6.6"
  }
 },
 "nbformat": 4,
 "nbformat_minor": 2
}
