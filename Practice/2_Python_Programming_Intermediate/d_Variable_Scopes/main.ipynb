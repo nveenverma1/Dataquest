{
 "cells": [
  {
   "cell_type": "markdown",
   "metadata": {},
   "source": [
    "# *Variable Scopes*"
   ]
  },
  {
   "cell_type": "markdown",
   "metadata": {},
   "source": [
    "### The Data Set\n",
    "\n",
    "**We're using a data set on Student loan defaults in the United States. While the data contains twelve columns, we'll be looking at a few in particular:**\n",
    "\n",
    "- institution -- The name of the university\n",
    "- state -- The state in which the university is located\n",
    "- city -- The city in which the university is located\n",
    "- borrower_default_count_240 -- The total number of students who have defaulted on their loans\n",
    "- principal_outstanding_240 -- The total dollar amount of the loans in default\n",
    "\n",
    "**Each of these columns into its own list. For example, you can access the entire city column by using the variable city.**"
   ]
  },
  {
   "cell_type": "code",
   "execution_count": 1,
   "metadata": {},
   "outputs": [
    {
     "name": "stdout",
     "output_type": "stream",
     "text": [
      "1845\n",
      "[1606, 1567, 269, 184, 93, 75, 52, 88, 12, 5]\n",
      "<class 'int'>\n"
     ]
    },
    {
     "data": {
      "text/plain": [
       "[1606, 1567, 269, 184, 93, 75, 52, 88, 12, 5]"
      ]
     },
     "execution_count": 1,
     "metadata": {},
     "output_type": "execute_result"
    }
   ],
   "source": [
    "import csv\n",
    "data = list(csv.reader(open(\"student_loan_defaults.csv\", 'r')))\n",
    "\n",
    "data_names = data[0]\n",
    "rest_data = data[1:]\n",
    "# data_names\n",
    "\n",
    "data_dictionary = {}\n",
    "\n",
    "for k in data_names:\n",
    "    data_dictionary[k] = []\n",
    "    \n",
    "for k, v in enumerate(data_names):\n",
    "    for item in rest_data:\n",
    "        data_dictionary[str(v)].append(item[k])\n",
    "        \n",
    "for k, v in data_dictionary.items():\n",
    "    exec('{KEY} = {VALUE}'.format(KEY = k, VALUE = v))\n",
    "\n",
    "for i in range(len(principal_outstanding_240)):\n",
    "    principal_outstanding_240[i] = int(principal_outstanding_240[i])\n",
    "    \n",
    "for i in range(len(borrower_default_count_240)):\n",
    "    borrower_default_count_240[i] = int(borrower_default_count_240[i])\n",
    "    \n",
    "print(len(borrower_default_count_240))\n",
    "print(borrower_default_count_240[0:10])\n",
    "\n",
    "print(type(borrower_default_count_240[1]))\n",
    "    \n",
    "borrower_default_count_240[:10]"
   ]
  },
  {
   "cell_type": "markdown",
   "metadata": {},
   "source": [
    "### Built-in Functions\n",
    "\n",
    "1. Use the sum() function to add 6 and 11 and assign the result to total."
   ]
  },
  {
   "cell_type": "code",
   "execution_count": 2,
   "metadata": {},
   "outputs": [
    {
     "data": {
      "text/plain": [
       "17"
      ]
     },
     "execution_count": 2,
     "metadata": {},
     "output_type": "execute_result"
    }
   ],
   "source": [
    "arr = [6, 11]\n",
    "total = sum(arr)\n",
    "total"
   ]
  },
  {
   "cell_type": "markdown",
   "metadata": {},
   "source": [
    "### Overwriting a Built-in Function\n",
    "\n",
    "1. See what happens before and after we overwrite the sum() function."
   ]
  },
  {
   "cell_type": "code",
   "execution_count": 3,
   "metadata": {},
   "outputs": [],
   "source": [
    "# sum = sum(borrower_default_count_240) ## Commented beacuse creating issue with the next cells code\n",
    "# Run the code, and then uncomment the bottom\n",
    "# line to see the result\n",
    "# test = sum(borrower_default_count_240)\n",
    "\n",
    "# Uncommenting Second-last will actually generate an error because \n",
    "# sum no longer points to the built-in Python function but to the expression sum(b) instead. \n",
    "# Once we overwrite the sum variable with a value, we can't access the function anymore. \n",
    "# Calling sum() using test won't make any sense, because sum evalutes to a single integer value \n",
    "# (the result of sum(b)). If we called print(sum), it would print out the value 499833."
   ]
  },
  {
   "cell_type": "markdown",
   "metadata": {},
   "source": [
    "### Scopes\n",
    "\n",
    "1. Use the find_average function to find the average of principal_outstanding_240, and assign the result to the variable average.\n",
    "2. Afterwards, print the variable total to verify that it's unchanged in the global scope."
   ]
  },
  {
   "cell_type": "code",
   "execution_count": 5,
   "metadata": {},
   "outputs": [
    {
     "name": "stdout",
     "output_type": "stream",
     "text": [
      "499833\n",
      "563408.6590785908\n",
      "499833\n"
     ]
    }
   ],
   "source": [
    "def find_average(column):\n",
    "    length = len(column)\n",
    "    total = sum(column)\n",
    "    return total / length\n",
    "\n",
    "total = sum(borrower_default_count_240)\n",
    "print(total)\n",
    "\n",
    "average = find_average(principal_outstanding_240)\n",
    "\n",
    "print(average)\n",
    "print(total)"
   ]
  },
  {
   "cell_type": "markdown",
   "metadata": {},
   "source": [
    "### Scope Isolation\n",
    "\n",
    "1. Calculate the average of principal_outstanding_240 with the find_average() function, and assign the result to the variable average.\n",
    "2. Calculate the length of principal_outstanding_240 with the find_length() function, and assign the result to the variable principal_length.\n",
    "3. Afterwards, verify that the variable length is unchanged in the global scope.\n",
    "4. Also verify that changing the order in which you call find_average and find_length doesn't alter the results."
   ]
  },
  {
   "cell_type": "code",
   "execution_count": 6,
   "metadata": {},
   "outputs": [
    {
     "name": "stdout",
     "output_type": "stream",
     "text": [
      "563408.6590785908\n",
      "1845\n",
      "1845\n"
     ]
    }
   ],
   "source": [
    "def find_length(column):\n",
    "    length = len(column)\n",
    "    return length\n",
    "\n",
    "length = len(borrower_default_count_240)\n",
    "average = find_average(principal_outstanding_240)\n",
    "principal_length = find_length(principal_outstanding_240)\n",
    "\n",
    "print(average)\n",
    "print(principal_length)\n",
    "print(length)"
   ]
  },
  {
   "cell_type": "markdown",
   "metadata": {},
   "source": [
    "### Scope Inheritance\n",
    "\n",
    "1. Find the average of principal_outstanding_240 with the find_average() function, and assign the result to the variable average.\n",
    "2. Verify that the find_average() function used the value length from the global scope, by usinf different values for length"
   ]
  },
  {
   "cell_type": "code",
   "execution_count": 9,
   "metadata": {},
   "outputs": [
    {
     "name": "stdout",
     "output_type": "stream",
     "text": [
      "5197444.88\n",
      "200\n"
     ]
    }
   ],
   "source": [
    "def find_average(column):\n",
    "    total = sum(column)\n",
    "    # In this function, we are going to pretend that we forgot to calculate the length\n",
    "    return total / length\n",
    "\n",
    "length = 200\n",
    "\n",
    "average = find_average(principal_outstanding_240)\n",
    "print(average)\n",
    "print(length)"
   ]
  },
  {
   "cell_type": "markdown",
   "metadata": {},
   "source": [
    "### Inheritance Limits\n",
    "\n",
    "**The function below will cause an error. That's because while we can access the value of a global scope variable inside a local scope, we can't change the value of that variable.**"
   ]
  },
  {
   "cell_type": "code",
   "execution_count": 10,
   "metadata": {},
   "outputs": [
    {
     "ename": "UnboundLocalError",
     "evalue": "local variable 'total' referenced before assignment",
     "output_type": "error",
     "traceback": [
      "\u001b[0;31m---------------------------------------------------------------------------\u001b[0m",
      "\u001b[0;31mUnboundLocalError\u001b[0m                         Traceback (most recent call last)",
      "\u001b[0;32m<ipython-input-10-d0235082592f>\u001b[0m in \u001b[0;36m<module>\u001b[0;34m\u001b[0m\n\u001b[1;32m      5\u001b[0m     \u001b[0;32mreturn\u001b[0m \u001b[0mtotal\u001b[0m\u001b[0;34m\u001b[0m\u001b[0m\n\u001b[1;32m      6\u001b[0m \u001b[0;34m\u001b[0m\u001b[0m\n\u001b[0;32m----> 7\u001b[0;31m \u001b[0mprint\u001b[0m\u001b[0;34m(\u001b[0m\u001b[0mfind_total\u001b[0m\u001b[0;34m(\u001b[0m\u001b[0mprincipal_outstanding_240\u001b[0m\u001b[0;34m)\u001b[0m\u001b[0;34m)\u001b[0m\u001b[0;34m\u001b[0m\u001b[0m\n\u001b[0m",
      "\u001b[0;32m<ipython-input-10-d0235082592f>\u001b[0m in \u001b[0;36mfind_total\u001b[0;34m(column)\u001b[0m\n\u001b[1;32m      2\u001b[0m \u001b[0;34m\u001b[0m\u001b[0m\n\u001b[1;32m      3\u001b[0m \u001b[0;32mdef\u001b[0m \u001b[0mfind_total\u001b[0m\u001b[0;34m(\u001b[0m\u001b[0mcolumn\u001b[0m\u001b[0;34m)\u001b[0m\u001b[0;34m:\u001b[0m\u001b[0;34m\u001b[0m\u001b[0m\n\u001b[0;32m----> 4\u001b[0;31m     \u001b[0mtotal\u001b[0m \u001b[0;34m=\u001b[0m \u001b[0mtotal\u001b[0m \u001b[0;34m+\u001b[0m \u001b[0msum\u001b[0m\u001b[0;34m(\u001b[0m\u001b[0mcolumn\u001b[0m\u001b[0;34m)\u001b[0m\u001b[0;34m\u001b[0m\u001b[0m\n\u001b[0m\u001b[1;32m      5\u001b[0m     \u001b[0;32mreturn\u001b[0m \u001b[0mtotal\u001b[0m\u001b[0;34m\u001b[0m\u001b[0m\n\u001b[1;32m      6\u001b[0m \u001b[0;34m\u001b[0m\u001b[0m\n",
      "\u001b[0;31mUnboundLocalError\u001b[0m: local variable 'total' referenced before assignment"
     ]
    }
   ],
   "source": [
    "total = 10\n",
    "\n",
    "def find_total(column):\n",
    "    total = total + sum(column)\n",
    "    return total\n",
    "\n",
    "print(find_total(principal_outstanding_240))"
   ]
  },
  {
   "cell_type": "markdown",
   "metadata": {},
   "source": [
    "### Global Variables\n",
    "\n",
    "1. Create a new function:\n",
    "    - Make a global variable b inside the function.\n",
    "    - Assign the value 20 to b inside the function.\n",
    "2. Call the function.\n",
    "3. Print out b."
   ]
  },
  {
   "cell_type": "code",
   "execution_count": 11,
   "metadata": {},
   "outputs": [
    {
     "name": "stdout",
     "output_type": "stream",
     "text": [
      "20\n"
     ]
    }
   ],
   "source": [
    "def fun():\n",
    "    global b\n",
    "    b = 20\n",
    "    \n",
    "fun()\n",
    "print(b)"
   ]
  }
 ],
 "metadata": {
  "kernelspec": {
   "display_name": "Python 3",
   "language": "python",
   "name": "python3"
  },
  "language_info": {
   "codemirror_mode": {
    "name": "ipython",
    "version": 3
   },
   "file_extension": ".py",
   "mimetype": "text/x-python",
   "name": "python",
   "nbconvert_exporter": "python",
   "pygments_lexer": "ipython3",
   "version": "3.6.6"
  }
 },
 "nbformat": 4,
 "nbformat_minor": 2
}
