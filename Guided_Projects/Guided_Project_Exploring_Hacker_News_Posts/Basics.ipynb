{
 "cells": [
  {
   "cell_type": "markdown",
   "metadata": {
    "collapsed": true
   },
   "source": [
    "# Guided Project: Exploring Hacker News Posts\n",
    "\n",
    "In this project, we'll compare two different types of posts from [Hacker News](news.ycombinator.com), a popular site where technology related stories (or 'posts') are voted and commented upon. The two types of posts we'll explore begin with either Ask HN or Show HN.\n",
    "\n",
    "Users submit Ask HN posts to ask the Hacker News community a specific question, such as \"What is the best online course you've ever taken?\" Likewise, users submit Show HN posts to show the Hacker News community a project, product, or just generally something interesting.\n",
    "\n",
    "We'll specifically compare these two types of posts to determine the following:\n",
    "\n",
    "Do Ask HN or Show HN receive more comments on average?\n",
    "Do posts created at a certain time receive more comments on average?\n",
    "It should be noted that the [data set](https://www.kaggle.com/hacker-news/hacker-news-posts) we're working with was reduced from almost 300,000 rows to approximately 20,000 rows by removing all submissions that did not receive any comments, and then randomly sampling from the remaining submissions."
   ]
  },
  {
   "cell_type": "markdown",
   "metadata": {},
   "source": [
    "### Introduction and Getting Data Ready\n",
    "\n",
    "Here, we will make use of csv module and convert hackernews.csv file into a lists of lists.\n",
    "\n",
    "- _**headers**_ list will contain the column names\n",
    "- _**hn**_ list will cover the whole remaining data"
   ]
  },
  {
   "cell_type": "code",
   "execution_count": 1,
   "metadata": {},
   "outputs": [
    {
     "data": {
      "text/plain": [
       "[['12224879',\n",
       "  'Interactive Dynamic Video',\n",
       "  'http://www.interactivedynamicvideo.com/',\n",
       "  '386',\n",
       "  '52',\n",
       "  'ne0phyte',\n",
       "  '8/4/2016 11:52'],\n",
       " ['10975351',\n",
       "  'How to Use Open Source and Shut the Fuck Up at the Same Time',\n",
       "  'http://hueniverse.com/2016/01/26/how-to-use-open-source-and-shut-the-fuck-up-at-the-same-time/',\n",
       "  '39',\n",
       "  '10',\n",
       "  'josep2',\n",
       "  '1/26/2016 19:30'],\n",
       " ['11964716',\n",
       "  \"Florida DJs May Face Felony for April Fools' Water Joke\",\n",
       "  'http://www.thewire.com/entertainment/2013/04/florida-djs-april-fools-water-joke/63798/',\n",
       "  '2',\n",
       "  '1',\n",
       "  'vezycash',\n",
       "  '6/23/2016 22:20'],\n",
       " ['11919867',\n",
       "  'Technology ventures: From Idea to Enterprise',\n",
       "  'https://www.amazon.com/Technology-Ventures-Enterprise-Thomas-Byers/dp/0073523429',\n",
       "  '3',\n",
       "  '1',\n",
       "  'hswarna',\n",
       "  '6/17/2016 0:01'],\n",
       " ['10301696',\n",
       "  'Note by Note: The Making of Steinway L1037 (2007)',\n",
       "  'http://www.nytimes.com/2007/11/07/movies/07stein.html?_r=0',\n",
       "  '8',\n",
       "  '2',\n",
       "  'walterbell',\n",
       "  '9/30/2015 4:12']]"
      ]
     },
     "execution_count": 1,
     "metadata": {},
     "output_type": "execute_result"
    }
   ],
   "source": [
    "f = open('hacker_news.csv')\n",
    "from csv import reader\n",
    "read_file = reader(f)\n",
    "data = list(read_file)\n",
    "headers = data[0]\n",
    "hn = data[1:]\n",
    "hn[:5]"
   ]
  },
  {
   "cell_type": "code",
   "execution_count": 2,
   "metadata": {},
   "outputs": [
    {
     "data": {
      "text/plain": [
       "['id', 'title', 'url', 'num_points', 'num_comments', 'author', 'created_at']"
      ]
     },
     "execution_count": 2,
     "metadata": {},
     "output_type": "execute_result"
    }
   ],
   "source": [
    "headers"
   ]
  },
  {
   "cell_type": "markdown",
   "metadata": {},
   "source": [
    "### Extracting Ask HN and Show HN Posts\n",
    "\n",
    "Using regex, we will search posts that beign with either Ask HN or Show HN posts.<br>And divide data into three lists:\n",
    "\n",
    "- show_posts\n",
    "- ask_posts\n",
    "- other_posts"
   ]
  },
  {
   "cell_type": "code",
   "execution_count": 3,
   "metadata": {},
   "outputs": [
    {
     "name": "stdout",
     "output_type": "stream",
     "text": [
      "1744\n",
      "1162\n",
      "17194\n"
     ]
    },
    {
     "data": {
      "text/plain": [
       "[['12296411',\n",
       "  'Ask HN: How to improve my personal website?',\n",
       "  '',\n",
       "  '2',\n",
       "  '6',\n",
       "  'ahmedbaracat',\n",
       "  '8/16/2016 9:55'],\n",
       " ['10610020',\n",
       "  'Ask HN: Am I the only one outraged by Twitter shutting down share counts?',\n",
       "  '',\n",
       "  '28',\n",
       "  '29',\n",
       "  'tkfx',\n",
       "  '11/22/2015 13:43'],\n",
       " ['11610310',\n",
       "  'Ask HN: Aby recent changes to CSS that broke mobile?',\n",
       "  '',\n",
       "  '1',\n",
       "  '1',\n",
       "  'polskibus',\n",
       "  '5/2/2016 10:14']]"
      ]
     },
     "execution_count": 3,
     "metadata": {},
     "output_type": "execute_result"
    }
   ],
   "source": [
    "import re\n",
    "patterna = r\"^Ask HN\"\n",
    "patterns = r\"^Show HN\"\n",
    "\n",
    "ask_posts = []\n",
    "show_posts = []\n",
    "other_posts = []\n",
    "\n",
    "for row in hn:\n",
    "    title = row[1]\n",
    "    match1 = re.search(patterna, title, re.I)\n",
    "    match2 = re.search(patterns, title, re.I)\n",
    "    if match1:\n",
    "        ask_posts.append(row)\n",
    "    elif match2:\n",
    "        show_posts.append(row)\n",
    "    else:\n",
    "        other_posts.append(row)\n",
    "        \n",
    "print(len(ask_posts))\n",
    "print(len(show_posts))\n",
    "print(len(other_posts))\n",
    "ask_posts[:3]"
   ]
  },
  {
   "cell_type": "markdown",
   "metadata": {
    "collapsed": true
   },
   "source": [
    "### Calculating the Average Number of Comments for Ask HN and Show HN Posts\n",
    "Now that we separated Ask HN and Show HN posts into different lists, we'll calculate the average number of comments each type of post receives."
   ]
  },
  {
   "cell_type": "code",
   "execution_count": 6,
   "metadata": {},
   "outputs": [
    {
     "name": "stdout",
     "output_type": "stream",
     "text": [
      "14.038417431192661\n"
     ]
    },
    {
     "data": {
      "text/plain": [
       "10.31669535283993"
      ]
     },
     "execution_count": 6,
     "metadata": {},
     "output_type": "execute_result"
    }
   ],
   "source": [
    "ask_comments = [int(i[4]) for i in ask_posts]\n",
    "show_comments = [int(i[4]) for i in show_posts]\n",
    "\n",
    "avg_ask_comments = sum(ask_comments)/len(ask_comments)\n",
    "avg_show_comments = sum(show_comments)/len(show_comments)\n",
    "\n",
    "print(avg_ask_comments)\n",
    "avg_show_comments"
   ]
  },
  {
   "cell_type": "markdown",
   "metadata": {},
   "source": [
    "On Average, the Ask HN posts received 40% comments more then the Show HN posts.<br>\n",
    "We will continue our further analysis, using the Ask HN posts only."
   ]
  },
  {
   "cell_type": "markdown",
   "metadata": {},
   "source": [
    "### Finding the Amount of Ask HN Posts and Comments by Hour Created\n",
    "Next, we'll determine if we can maximize the amount of comments an Ask HN post receives by creating it at a certain time. First, we'll find the amount of Ask HN posts created during each hour of day, along with the number of comments those posts received. Then, we'll calculate the average amount of comments Ask HN posts created at each hour of the day receive."
   ]
  },
  {
   "cell_type": "code",
   "execution_count": 11,
   "metadata": {},
   "outputs": [
    {
     "data": {
      "text/plain": [
       "[(6, '8/16/2016 9:55'),\n",
       " (29, '11/22/2015 13:43'),\n",
       " (1, '5/2/2016 10:14'),\n",
       " (3, '8/2/2016 14:20'),\n",
       " (17, '10/15/2015 16:38'),\n",
       " (1, '9/26/2015 23:23'),\n",
       " (4, '4/22/2016 12:24'),\n",
       " (1, '11/16/2015 9:22'),\n",
       " (1, '2/24/2016 17:57'),\n",
       " (2, '6/4/2016 17:17')]"
      ]
     },
     "execution_count": 11,
     "metadata": {},
     "output_type": "execute_result"
    }
   ],
   "source": [
    "import datetime as dt\n",
    "\n",
    "created_at = []\n",
    "for row in ask_posts:\n",
    "    created_at.append(row[6])\n",
    "\n",
    "counts_by_hour = {}\n",
    "comments_by_hour = {}\n",
    "\n",
    "result_list = list(zip(ask_comments, created_at))\n",
    "\n",
    "result_list[:10]"
   ]
  },
  {
   "cell_type": "code",
   "execution_count": 35,
   "metadata": {},
   "outputs": [
    {
     "data": {
      "text/plain": [
       "{'00': 894,\n",
       " '01': 1366,\n",
       " '02': 2762,\n",
       " '03': 842,\n",
       " '04': 674,\n",
       " '05': 928,\n",
       " '06': 794,\n",
       " '07': 534,\n",
       " '08': 984,\n",
       " '09': 509,\n",
       " '10': 1587,\n",
       " '11': 1282,\n",
       " '12': 1378,\n",
       " '13': 2535,\n",
       " '14': 2835,\n",
       " '15': 8954,\n",
       " '16': 3645,\n",
       " '17': 2295,\n",
       " '18': 2878,\n",
       " '19': 2376,\n",
       " '20': 3444,\n",
       " '21': 3490,\n",
       " '22': 958,\n",
       " '23': 1087}"
      ]
     },
     "execution_count": 35,
     "metadata": {},
     "output_type": "execute_result"
    }
   ],
   "source": [
    "for row in result_list:\n",
    "    date = dt.datetime.strptime(row[1], '%m/%d/%Y %H:%M')\n",
    "    hour = date.strftime(\"%H\")\n",
    "    \n",
    "    if hour in counts_by_hour:\n",
    "        counts_by_hour[hour] += 1\n",
    "        comments_by_hour[hour] += row[0]\n",
    "    else:\n",
    "        counts_by_hour[hour] = 1\n",
    "        comments_by_hour[hour] = row[0]    \n",
    "        \n",
    "comments_by_hour"
   ]
  },
  {
   "cell_type": "markdown",
   "metadata": {
    "collapsed": true
   },
   "source": [
    "### Calculating the Average Number of Comments for Ask HN Posts by Hour"
   ]
  },
  {
   "cell_type": "code",
   "execution_count": 43,
   "metadata": {},
   "outputs": [
    {
     "data": {
      "text/plain": [
       "[['04', 7.170212765957447],\n",
       " ['09', 5.532608695652174],\n",
       " ['19', 10.8],\n",
       " ['12', 9.374149659863946],\n",
       " ['13', 14.824561403508772],\n",
       " ['14', 13.186046511627907],\n",
       " ['01', 11.383333333333333],\n",
       " ['00', 8.127272727272727],\n",
       " ['10', 13.336134453781513],\n",
       " ['15', 38.5948275862069],\n",
       " ['05', 10.08695652173913],\n",
       " ['03', 7.796296296296297],\n",
       " ['06', 9.022727272727273],\n",
       " ['18', 13.20183486238532],\n",
       " ['08', 10.25],\n",
       " ['20', 21.525],\n",
       " ['17', 11.361386138613861],\n",
       " ['07', 7.852941176470588],\n",
       " ['23', 7.934306569343065],\n",
       " ['16', 16.797235023041473],\n",
       " ['22', 6.746478873239437],\n",
       " ['11', 11.051724137931034],\n",
       " ['02', 23.810344827586206],\n",
       " ['21', 16.009174311926607]]"
      ]
     },
     "execution_count": 43,
     "metadata": {},
     "output_type": "execute_result"
    }
   ],
   "source": [
    "avg_by_hour = [[i, comments_by_hour[i]/counts_by_hour[i]] for i in counts_by_hour] \n",
    "avg_by_hour"
   ]
  },
  {
   "cell_type": "markdown",
   "metadata": {},
   "source": [
    "### Sorting and Printing Values from a List of Lists"
   ]
  },
  {
   "cell_type": "code",
   "execution_count": 56,
   "metadata": {},
   "outputs": [
    {
     "name": "stdout",
     "output_type": "stream",
     "text": [
      "Top 5 Hours for 'Ask HN' Comments\n",
      "15:00: 38.59 average comments per post\n",
      "02:00: 23.81 average comments per post\n",
      "20:00: 21.52 average comments per post\n",
      "16:00: 16.80 average comments per post\n",
      "21:00: 16.01 average comments per post\n"
     ]
    }
   ],
   "source": [
    "avg_by_hour = sorted(avg_by_hour, key=lambda x: x[1], reverse=True)\n",
    "print(\"Top 5 Hours for 'Ask HN' Comments\")\n",
    "\n",
    "for row in avg_by_hour[:5]:\n",
    "    time = dt.datetime.strptime(row[0], \"%H\")\n",
    "    print(\"{}: {:.2f} average comments per post\".format(time.strftime(\"%H:%M\"), row[1]))"
   ]
  },
  {
   "cell_type": "markdown",
   "metadata": {},
   "source": [
    "The hour that receives the most comments per post on average is 15:00, with an average of 38.59 comments per post. There's about a 60% increase in the number of comments between the hours with the highest and second highest average number of comments.<br>\n",
    "\n",
    "According to the data set [documentation](https://www.kaggle.com/hacker-news/hacker-news-posts/home), the timezone used is Eastern Time in the US.<br>So, we (in UAE) should post at 00:00 AM GST."
   ]
  },
  {
   "cell_type": "markdown",
   "metadata": {},
   "source": [
    "### Conclusion\n",
    "In this project, we analyzed Ask HN and Show HN posts to determine which type of post and time receive the most comments on average. Based on our analysis, to maximize the amount of comments a post receives, we'd recommend the post be categorized as Ask HN and created between 00:00 and 01:00 GST (3:00 pm EST - 4:00 pm EST).\n",
    "\n",
    "However, it should be noted that the data set we analyzed excluded posts without any comments. Given that, it's more accurate to say that of the posts that received comments, Ask HN posts received more comments on average and Ask HN posts created between 00:00 and 01:00 GST received the most comments on average."
   ]
  }
 ],
 "metadata": {
  "kernelspec": {
   "display_name": "Python 3",
   "language": "python",
   "name": "python3"
  },
  "language_info": {
   "codemirror_mode": {
    "name": "ipython",
    "version": 3
   },
   "file_extension": ".py",
   "mimetype": "text/x-python",
   "name": "python",
   "nbconvert_exporter": "python",
   "pygments_lexer": "ipython3",
   "version": "3.6.8"
  }
 },
 "nbformat": 4,
 "nbformat_minor": 2
}
