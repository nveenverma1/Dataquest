{
 "cells": [
  {
   "cell_type": "markdown",
   "metadata": {},
   "source": [
    "# *Guided Project: Designing and Creating Database*\n",
    "\n",
    "We will be working with a file of Major League Baseball games from Retrosheet. Retrosheet compiles detailed statistics on baseball games from the 1800s through to today. The main file we will be working from game_log.csv, has been produced by combining 127 separate CSV files from retrosheet, and has been pre-cleaned to remove some inconsistencies. The game log has hundreds of data points on each game which we will normalize into several separate tables using SQL, providing a robust database of game-level statistics.\n",
    "\n",
    "In addition to the main file, we have also included three 'helper' files, also sourced from Retrosheet:\n",
    "\n",
    ">park_codes.csv<br>\n",
    "person_codes.csv<br>\n",
    "team_codes.csv\n",
    "\n",
    "These three helper files in some cases contain extra data, but will also make things easier as they will form the basis for three of our normalized tables."
   ]
  },
  {
   "cell_type": "code",
   "execution_count": 1,
   "metadata": {},
   "outputs": [
    {
     "name": "stdout",
     "output_type": "stream",
     "text": [
      "Field(s)  Meaning\r\n",
      "    1     Date in the form \"yyyymmdd\"\r\n",
      "    2     Number of game:\r\n",
      "             \"0\" -- a single game\r\n",
      "             \"1\" -- the first game of a double (or triple) header\r\n",
      "                    including seperate admission doubleheaders\r\n",
      "             \"2\" -- the second game of a double (or triple) header\r\n",
      "                    including seperate admission doubleheaders\r\n",
      "             \"3\" -- the third game of a triple-header\r\n",
      "             \"A\" -- the first game of a double-header involving 3 teams\r\n",
      "             \"B\" -- the second game of a double-header involving 3 teams\r\n",
      "    3     Day of week  (\"Sun\",\"Mon\",\"Tue\",\"Wed\",\"Thu\",\"Fri\",\"Sat\")\r\n",
      "  4-5     Visiting team and league\r\n",
      "    6     Visiting team game number\r\n",
      "          For this and the home team game number, ties are counted as\r\n",
      "          games and suspended games are counted from the starting\r\n",
      "          rather than the ending date.\r\n",
      "  7-8     Home team and league\r\n",
      "    9     Home team game number\r\n",
      "10-11     Visiting and home team score (unquoted)\r\n",
      "   12     Length of game in outs (unquoted).  A full 9-inning game would\r\n",
      "          have a 54 in this field.  If the home team won without batting\r\n",
      "          in the bottom of the ninth, this field would contain a 51.\r\n",
      "   13     Day/night indicator (\"D\" or \"N\")\r\n",
      "   14     Completion information.  If the game was completed at a\r\n",
      "          later date (either due to a suspension or an upheld protest)\r\n",
      "          this field will include:\r\n",
      "             \"yyyymmdd,park,vs,hs,len\" Where\r\n",
      "          yyyymmdd -- the date the game was completed\r\n",
      "          park -- the park ID where the game was completed\r\n",
      "          vs -- the visitor score at the time of interruption\r\n",
      "          hs -- the home score at the time of interruption\r\n",
      "          len -- the length of the game in outs at time of interruption\r\n",
      "          All the rest of the information in the record refers to the\r\n",
      "          entire game.\r\n",
      "   15     Forfeit information:\r\n",
      "             \"V\" -- the game was forfeited to the visiting team\r\n",
      "             \"H\" -- the game was forfeited to the home team\r\n",
      "             \"T\" -- the game was ruled a no-decision\r\n",
      "   16     Protest information:\r\n",
      "             \"P\" -- the game was protested by an unidentified team\r\n",
      "             \"V\" -- a disallowed protest was made by the visiting team\r\n",
      "             \"H\" -- a disallowed protest was made by the home team\r\n",
      "             \"X\" -- an upheld protest was made by the visiting team\r\n",
      "             \"Y\" -- an upheld protest was made by the home team\r\n",
      "          Note: two of these last four codes can appear in the field\r\n",
      "          (if both teams protested the game).\r\n",
      "   17     Park ID\r\n",
      "   18     Attendance (unquoted)\r\n",
      "   19     Time of game in minutes (unquoted)\r\n",
      "20-21     Visiting and home line scores.  For example:\r\n",
      "             \"010000(10)0x\"\r\n",
      "          Would indicate a game where the home team scored a run in\r\n",
      "          the second inning, ten in the seventh and didn't bat in the\r\n",
      "          bottom of the ninth.\r\n",
      "22-38     Visiting team offensive statistics (unquoted) (in order):\r\n",
      "             at-bats\r\n",
      "             hits\r\n",
      "             doubles\r\n",
      "             triples\r\n",
      "             homeruns\r\n",
      "             RBI\r\n",
      "             sacrifice hits.  This may include sacrifice flies for years\r\n",
      "                prior to 1954 when sacrifice flies were allowed.\r\n",
      "             sacrifice flies (since 1954)\r\n",
      "             hit-by-pitch\r\n",
      "             walks\r\n",
      "             intentional walks\r\n",
      "             strikeouts\r\n",
      "             stolen bases\r\n",
      "             caught stealing\r\n",
      "             grounded into double plays\r\n",
      "             awarded first on catcher's interference\r\n",
      "             left on base\r\n",
      "39-43     Visiting team pitching statistics (unquoted)(in order):\r\n",
      "             pitchers used ( 1 means it was a complete game )\r\n",
      "             individual earned runs\r\n",
      "             team earned runs\r\n",
      "             wild pitches\r\n",
      "             balks\r\n",
      "44-49     Visiting team defensive statistics (unquoted) (in order):\r\n",
      "             putouts.  Note: prior to 1931, this may not equal 3 times\r\n",
      "                the number of innings pitched.  Prior to that, no\r\n",
      "                putout was awarded when a runner was declared out for\r\n",
      "                being hit by a batted ball.\r\n",
      "             assists\r\n",
      "             errors\r\n",
      "             passed balls\r\n",
      "             double plays\r\n",
      "             triple plays\r\n",
      "50-66     Home team offensive statistics\r\n",
      "67-71     Home team pitching statistics\r\n",
      "72-77     Home team defensive statistics\r\n",
      "78-79     Home plate umpire ID and name\r\n",
      "80-81     1B umpire ID and name\r\n",
      "82-83     2B umpire ID and name\r\n",
      "84-85     3B umpire ID and name\r\n",
      "86-87     LF umpire ID and name\r\n",
      "88-89     RF umpire ID and name\r\n",
      "          If any umpire positions were not filled for a particular game\r\n",
      "          the fields will be \"\",\"(none)\".\r\n",
      "90-91     Visiting team manager ID and name\r\n",
      "92-93     Home team manager ID and name\r\n",
      "94-95     Winning pitcher ID and name\r\n",
      "96-97     Losing pitcher ID and name\r\n",
      "98-99     Saving pitcher ID and name--\"\",\"(none)\" if none awarded\r\n",
      "100-101   Game Winning RBI batter ID and name--\"\",\"(none)\" if none\r\n",
      "          awarded\r\n",
      "102-103   Visiting starting pitcher ID and name\r\n",
      "104-105   Home starting pitcher ID and name\r\n",
      "106-132   Visiting starting players ID, name and defensive position,\r\n",
      "          listed in the order (1-9) they appeared in the batting order.\r\n",
      "133-159   Home starting players ID, name and defensive position\r\n",
      "          listed in the order (1-9) they appeared in the batting order.\r\n",
      "  160     Additional information.  This is a grab-bag of informational\r\n",
      "          items that might not warrant a field on their own.  The field \r\n",
      "          is alpha-numeric. Some items are represented by tokens such as:\r\n",
      "             \"HTBF\" -- home team batted first.\r\n",
      "             Note: if \"HTBF\" is specified it would be possible to see\r\n",
      "             something like \"01002000x\" in the visitor's line score.\r\n",
      "          Changes in umpire positions during a game will also appear in \r\n",
      "          this field.  These will be in the form:\r\n",
      "             umpchange,inning,umpPosition,umpid with the latter three\r\n",
      "             repeated for each umpire.\r\n",
      "          These changes occur with umpire injuries, late arrival of \r\n",
      "          umpires or changes from completion of suspended games. Details\r\n",
      "          of suspended games are in field 14.\r\n",
      "  161     Acquisition information:\r\n",
      "             \"Y\" -- we have the complete game\r\n",
      "             \"N\" -- we don't have any portion of the game\r\n",
      "             \"D\" -- the game was derived from box score and game story\r\n",
      "             \"P\" -- we have some portion of the game.  We may be missing\r\n",
      "                    innings at the beginning, middle and end of the game.\r\n",
      " \r\n",
      "Missing fields will be NULL.\r\n",
      "\u001a"
     ]
    }
   ],
   "source": [
    "!cat game_log_fields.txt"
   ]
  },
  {
   "cell_type": "markdown",
   "metadata": {},
   "source": [
    "### Getting to know Data\n",
    "\n",
    "1. Using pandas, read in each of the four CSV files: game_log.csv, park_codes.csv, person_codes.csv, team_codes.csv. For each:\n",
    "    - Use methods and attributes like DataFrame.shape, DataFrame.head(), and DataFrame.tail() to explore the data.\n",
    "    - Write a brief paragraph to describe each file, including for the helper files how the data intersects with the main log file.\n",
    "2. Research any fields you are not familiar with, using both the text file and Google as needed. In particular, you should explore and write a short paragraph on:\n",
    "    - What each defensive position number represents.\n",
    "    - The values in the various league fields, and which leagues they represent."
   ]
  },
  {
   "cell_type": "code",
   "execution_count": null,
   "metadata": {},
   "outputs": [],
   "source": [
    "import pandas as pd\n",
    "pd.set_option('max_columns', 180)\n",
    "pd.set_option('max_rows', 200000)\n",
    "pd.set_option('max_colwidth', 5000)\n",
    "\n",
    "game_log = pd.read_csv('game_log.csv',low_memory=False)\n",
    "park_codes = pd.read_csv('park_codes.csv')\n",
    "person_codes = pd.read_csv('person_codes.csv')\n",
    "team_codes = pd.read_csv('team_codes.csv')"
   ]
  },
  {
   "cell_type": "code",
   "execution_count": null,
   "metadata": {},
   "outputs": [],
   "source": [
    "print(game_log.shape)\n",
    "game_log.head()"
   ]
  },
  {
   "cell_type": "code",
   "execution_count": null,
   "metadata": {},
   "outputs": [],
   "source": [
    "game_log.tail()"
   ]
  },
  {
   "cell_type": "markdown",
   "metadata": {},
   "source": [
    "It looks like the game log has a record of over 170,000 games. It looks like these games are chronologically ordered and occur between 1871 and 2016.\n",
    "\n",
    "For each game we have:\n",
    "\n",
    "- general information on the game\n",
    "- team level stats for each team\n",
    "- a list of players from each team, numbered, with their defensive positions\n",
    "- the umpires that officiated the game\n",
    "- some 'awards', like winning and losing pitcher\n",
    "\n",
    "We have a \"game_log_fields.txt\" file that tell us that the player number corresponds with the order in which they batted.\n",
    "\n",
    "It's worth noting that there is no natural primary key column for this table."
   ]
  },
  {
   "cell_type": "code",
   "execution_count": null,
   "metadata": {},
   "outputs": [],
   "source": [
    "print(park_codes.shape)\n",
    "park_codes.head()"
   ]
  },
  {
   "cell_type": "markdown",
   "metadata": {},
   "source": [
    "This seems to be a list of all baseball parks. There are IDs which seem to match with the game log, as well as names, nicknames, city and league."
   ]
  },
  {
   "cell_type": "code",
   "execution_count": null,
   "metadata": {},
   "outputs": [],
   "source": [
    "print(person_codes.shape)\n",
    "person_codes.head()"
   ]
  },
  {
   "cell_type": "markdown",
   "metadata": {},
   "source": [
    "This seems to be a list of people with IDs. The IDs look like they match up with those used in the game log. There are debut dates, for players, managers, coaches and umpires. We can see that some people might have been one or more of these roles.\n",
    "\n",
    "It also looks like coaches and managers are two different things in baseball. After some research, managers are what would be called a 'coach' or 'head coach' in other sports, and coaches are more specialized, like base coaches. It also seems like coaches aren't recorded in the game log."
   ]
  },
  {
   "cell_type": "code",
   "execution_count": null,
   "metadata": {},
   "outputs": [],
   "source": [
    "print(team_codes.shape)\n",
    "team_codes.head()"
   ]
  },
  {
   "cell_type": "markdown",
   "metadata": {},
   "source": [
    "\n",
    "This seems to be a list of all teams, with team_ids which seem to match the game log. Interestingly, there is a franch_id, let's take a look at this:"
   ]
  },
  {
   "cell_type": "code",
   "execution_count": null,
   "metadata": {},
   "outputs": [],
   "source": [
    "team_codes['franch_id'].value_counts()"
   ]
  },
  {
   "cell_type": "markdown",
   "metadata": {},
   "source": [
    "We might have franch_id occurring a few times for some teams, let's look at the first one in more detail."
   ]
  },
  {
   "cell_type": "code",
   "execution_count": null,
   "metadata": {},
   "outputs": [],
   "source": [
    "team_codes[team_codes['franch_id'] == 'BS1']"
   ]
  },
  {
   "cell_type": "markdown",
   "metadata": {},
   "source": [
    "It appears that teams move between leagues and cities. The team_id changes when this happens, franch_id (which is probably 'Franchise') helps us tie all of this together."
   ]
  },
  {
   "cell_type": "markdown",
   "metadata": {},
   "source": [
    "**Defensive Positions**\n",
    "\n",
    "In the game log, each player has a defensive position listed, which seems to be a number between 1-10. Doing some research around this, I found [this article](http://probaseballinsider.com/baseball-instruction/baseball-basics/baseball-basics-positions/) which gives us a list of names for each numbered position:\n",
    "\n",
    "> 1. Pitcher\n",
    "2. Catcher\n",
    "3. 1st Base\n",
    "4. 2nd Base\n",
    "5. 3rd Base\n",
    "6. Shortstop\n",
    "7. Left Field\n",
    "8. Center Field\n",
    "9. Right Field\n",
    "\n",
    "The 10th position isn't included, it may be a way of describing a designated hitter that does not field. I can find a retrosheet page that indicates that position 0 is used for this, but we don't have any position 0 in our data. I have chosen to make this an 'Unknown Position' so I'm not including data based on a hunch."
   ]
  },
  {
   "cell_type": "markdown",
   "metadata": {},
   "source": [
    "**Leagues**\n",
    "\n",
    "Wikipedia tells us there are currently two leagues - the American (AL) and National (NL). Let's start by finding out what leagues are listed in the main game log:"
   ]
  },
  {
   "cell_type": "code",
   "execution_count": null,
   "metadata": {},
   "outputs": [],
   "source": [
    "game_log['h_league'].value_counts(dropna=False)"
   ]
  },
  {
   "cell_type": "markdown",
   "metadata": {},
   "source": [
    "It looks like most of our games fall into the two current leagues, but that there are four other leagues. Let's write a quick function to get some info on the years of these leagues:"
   ]
  },
  {
   "cell_type": "code",
   "execution_count": null,
   "metadata": {},
   "outputs": [],
   "source": [
    "def league_info(l):\n",
    "    league_games = game_log[game_log['h_league'] == l]\n",
    "    first_appr = league_games['date'].min()\n",
    "    last_appr = league_games['date'].max()\n",
    "    print(\"{} appered from {} to {}\".format(l, first_appr, last_appr))\n",
    "    \n",
    "for i in game_log['h_league'].unique():\n",
    "    league_info(i)"
   ]
  },
  {
   "cell_type": "markdown",
   "metadata": {},
   "source": [
    "\n",
    "Now we have some years which will help us do some research. After some googling we come up with:\n",
    "\n",
    "- NL: [National League](https://en.wikipedia.org/wiki/National_League)\n",
    "- AL: [American League](https://en.wikipedia.org/wiki/American_League)\n",
    "- AA: [American Association](https://en.wikipedia.org/wiki/American_Association_%2819th_century%29)\n",
    "- FL: [Federal League](https://en.wikipedia.org/wiki/Federal_League)\n",
    "- PL: [Players League](https://en.wikipedia.org/wiki/Players%27_League)\n",
    "- UA: [Union Association](https://en.wikipedia.org/wiki/Union_Association)\n",
    "\n",
    "It also looks like we have about 1000 games where the home team doesn't have a value for league."
   ]
  },
  {
   "cell_type": "markdown",
   "metadata": {},
   "source": [
    "### importing Data into SQLite\n",
    "\n",
    "1. Recreate the run_command() and run_query() functions from the previous guided project, which you can use\n",
    "2. Use DataFrame.to_sql() to create tables for each of our dataframes in a new SQLite database, mlb.db:\n",
    "    - The table name should be the same as each of the CSV filename without the extension, eg game_log.csv should be imported to a table called game_log.\n",
    "3. Using run_command(), create a new column in the game_log table called game_id:\n",
    "    - Use SQL string concatenation to update the new columns with a unique ID using the Retrosheet format outlined above"
   ]
  },
  {
   "cell_type": "code",
   "execution_count": null,
   "metadata": {},
   "outputs": [],
   "source": [
    "db = 'mlb.db'\n",
    "\n",
    "def run_query(q):\n",
    "    with sqlite3.connect(db) as conn:\n",
    "        return pd.read_sql(q, conn)\n",
    "    \n",
    "def run_command(c):\n",
    "    with sqlite3.connect(db) as conn:\n",
    "        conn.isolation_level = None\n",
    "        conn.execute(c)\n",
    "        \n",
    "def show_tables():\n",
    "    q = '''\n",
    "    SELECT \n",
    "        table,\n",
    "        type \n",
    "    FROM sqlite_master\n",
    "    WHERE type IN ('table', 'view')    \n",
    "    '''\n",
    "    return run_query(q)        "
   ]
  },
  {
   "cell_type": "code",
   "execution_count": null,
   "metadata": {},
   "outputs": [],
   "source": []
  }
 ],
 "metadata": {
  "kernelspec": {
   "display_name": "Python 3",
   "language": "python",
   "name": "python3"
  },
  "language_info": {
   "codemirror_mode": {
    "name": "ipython",
    "version": 3
   },
   "file_extension": ".py",
   "mimetype": "text/x-python",
   "name": "python",
   "nbconvert_exporter": "python",
   "pygments_lexer": "ipython3",
   "version": "3.6.6"
  }
 },
 "nbformat": 4,
 "nbformat_minor": 2
}
